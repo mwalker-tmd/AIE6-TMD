{
  "cells": [
    {
      "cell_type": "markdown",
      "metadata": {
        "id": "e-IqJAMkwnCF"
      },
      "source": [
        "# Advanced Retrieval with LangChain\n",
        "\n",
        "In the following notebook, we'll explore various methods of advanced retrieval using LangChain!\n",
        "\n",
        "We'll touch on:\n",
        "\n",
        "- Naive Retrieval\n",
        "- Best-Matching 25 (BM25)\n",
        "- Multi-Query Retrieval\n",
        "- Parent-Document Retrieval\n",
        "- Contextual Compression (a.k.a. Rerank)\n",
        "- Ensemble Retrieval\n",
        "- Semantic chunking\n",
        "\n",
        "We'll also discuss how these methods impact performance on our set of documents with a simple RAG chain.\n",
        "\n",
        "There will be two breakout rooms:\n",
        "\n",
        "- 🤝 Breakout Room Part #1\n",
        "  - Task 1: Getting Dependencies!\n",
        "  - Task 2: Data Collection and Preparation\n",
        "  - Task 3: Setting Up QDrant!\n",
        "  - Task 4-10: Retrieval Strategies\n",
        "- 🤝 Breakout Room Part #2\n",
        "  - Activity: Evaluate with Ragas"
      ]
    },
    {
      "cell_type": "markdown",
      "metadata": {
        "id": "4rKP3hgHivpe"
      },
      "source": [
        "# 🤝 Breakout Room Part #1"
      ]
    },
    {
      "cell_type": "markdown",
      "metadata": {
        "id": "3xes8oT-xHN7"
      },
      "source": [
        "## Task 1: Getting Dependencies!\n",
        "\n",
        "We're going to need a few specific LangChain community packages, like OpenAI (for our [LLM](https://platform.openai.com/docs/models) and [Embedding Model](https://platform.openai.com/docs/guides/embeddings)) and Cohere (for our [Reranker](https://cohere.com/rerank)).\n",
        "\n",
        "> You do not need to run the following cells if you are running this notebook locally. "
      ]
    },
    {
      "cell_type": "code",
      "execution_count": 10,
      "metadata": {
        "colab": {
          "base_uri": "https://localhost:8080/"
        },
        "id": "MkgFAXWVW3wm",
        "outputId": "636db35c-f05a-4038-ec7a-02360bef2dae"
      },
      "outputs": [],
      "source": [
        "#!pip install -qU langchain langchain-openai langchain-cohere rank_bm25"
      ]
    },
    {
      "cell_type": "markdown",
      "metadata": {
        "id": "dKqYM4Eoxcov"
      },
      "source": [
        "We're also going to be leveraging [Qdrant's](https://qdrant.tech/documentation/frameworks/langchain/) (pronounced \"Quadrant\") VectorDB in \"memory\" mode (so we can leverage it locally in our colab environment)."
      ]
    },
    {
      "cell_type": "code",
      "execution_count": 11,
      "metadata": {
        "id": "s6xav5CxYnML"
      },
      "outputs": [],
      "source": [
        "#!pip install -qU qdrant-client"
      ]
    },
    {
      "cell_type": "markdown",
      "metadata": {
        "id": "Z7OHJXzfyJyA"
      },
      "source": [
        "We'll also provide our OpenAI key, as well as our Cohere API key."
      ]
    },
    {
      "cell_type": "code",
      "execution_count": 12,
      "metadata": {
        "colab": {
          "base_uri": "https://localhost:8080/"
        },
        "id": "7LttlDQUYgSI",
        "outputId": "9dca95ab-4d02-4adf-ec3f-cb831326dc54"
      },
      "outputs": [],
      "source": [
        "import os\n",
        "import getpass\n",
        "\n",
        "os.environ[\"OPENAI_API_KEY\"] = getpass.getpass(\"Enter your OpenAI API Key:\")"
      ]
    },
    {
      "cell_type": "code",
      "execution_count": 13,
      "metadata": {
        "colab": {
          "base_uri": "https://localhost:8080/"
        },
        "id": "3iUahNiJyQbv",
        "outputId": "78bf06ef-2ee8-46c3-f73d-27958b4dd79b"
      },
      "outputs": [],
      "source": [
        "os.environ[\"COHERE_API_KEY\"] = getpass.getpass(\"Cohere API Key:\")"
      ]
    },
    {
      "cell_type": "markdown",
      "metadata": {
        "id": "B0pDRFEWSXvh"
      },
      "source": []
    },
    {
      "cell_type": "markdown",
      "metadata": {
        "id": "mw304iAFyRtl"
      },
      "source": [
        "## Task 2: Data Collection and Preparation\n",
        "\n",
        "We'll be using some reviews from the 4 movies in the John Wick franchise today to explore the different retrieval strategies.\n",
        "\n",
        "These were obtained from IMDB, and are available in the [AIM Data Repository](https://github.com/AI-Maker-Space/DataRepository)."
      ]
    },
    {
      "cell_type": "markdown",
      "metadata": {
        "id": "xXKHcZmKzDwT"
      },
      "source": [
        "### Data Collection\n",
        "\n",
        "We can simply `wget` these from GitHub.\n",
        "\n",
        "You could use any review data you wanted in this step - just be careful to make sure your metadata is aligned with your choice."
      ]
    },
    {
      "cell_type": "code",
      "execution_count": 14,
      "metadata": {
        "colab": {
          "base_uri": "https://localhost:8080/"
        },
        "id": "vbbSIGtzX3dS",
        "outputId": "0ce6514e-2479-4001-af24-824f987ce599"
      },
      "outputs": [
        {
          "name": "stdout",
          "output_type": "stream",
          "text": [
            "--2025-05-17 17:00:05--  https://raw.githubusercontent.com/AI-Maker-Space/DataRepository/main/jw1.csv\n",
            "Resolving raw.githubusercontent.com (raw.githubusercontent.com)... 2606:50c0:8002::154, 2606:50c0:8000::154, 2606:50c0:8003::154, ...\n",
            "Connecting to raw.githubusercontent.com (raw.githubusercontent.com)|2606:50c0:8002::154|:443... connected.\n",
            "HTTP request sent, awaiting response... 200 OK\n",
            "Length: 19628 (19K) [text/plain]\n",
            "Saving to: ‘john_wick_1.csv’\n",
            "\n",
            "john_wick_1.csv     100%[===================>]  19.17K  --.-KB/s    in 0.003s  \n",
            "\n",
            "2025-05-17 17:00:06 (7.18 MB/s) - ‘john_wick_1.csv’ saved [19628/19628]\n",
            "\n",
            "--2025-05-17 17:00:06--  https://raw.githubusercontent.com/AI-Maker-Space/DataRepository/main/jw2.csv\n",
            "Resolving raw.githubusercontent.com (raw.githubusercontent.com)... 2606:50c0:8000::154, 2606:50c0:8003::154, 2606:50c0:8001::154, ...\n",
            "Connecting to raw.githubusercontent.com (raw.githubusercontent.com)|2606:50c0:8000::154|:443... connected.\n",
            "HTTP request sent, awaiting response... 200 OK\n",
            "Length: 14747 (14K) [text/plain]\n",
            "Saving to: ‘john_wick_2.csv’\n",
            "\n",
            "john_wick_2.csv     100%[===================>]  14.40K  --.-KB/s    in 0.004s  \n",
            "\n",
            "2025-05-17 17:00:07 (3.81 MB/s) - ‘john_wick_2.csv’ saved [14747/14747]\n",
            "\n",
            "--2025-05-17 17:00:07--  https://raw.githubusercontent.com/AI-Maker-Space/DataRepository/main/jw3.csv\n",
            "Resolving raw.githubusercontent.com (raw.githubusercontent.com)... 2606:50c0:8003::154, 2606:50c0:8001::154, 2606:50c0:8002::154, ...\n",
            "Connecting to raw.githubusercontent.com (raw.githubusercontent.com)|2606:50c0:8003::154|:443... connected.\n",
            "HTTP request sent, awaiting response... 200 OK\n",
            "Length: 13888 (14K) [text/plain]\n",
            "Saving to: ‘john_wick_3.csv’\n",
            "\n",
            "john_wick_3.csv     100%[===================>]  13.56K  --.-KB/s    in 0.002s  \n",
            "\n",
            "2025-05-17 17:00:08 (6.73 MB/s) - ‘john_wick_3.csv’ saved [13888/13888]\n",
            "\n",
            "--2025-05-17 17:00:09--  https://raw.githubusercontent.com/AI-Maker-Space/DataRepository/main/jw4.csv\n",
            "Resolving raw.githubusercontent.com (raw.githubusercontent.com)... 2606:50c0:8001::154, 2606:50c0:8002::154, 2606:50c0:8003::154, ...\n",
            "Connecting to raw.githubusercontent.com (raw.githubusercontent.com)|2606:50c0:8001::154|:443... connected.\n",
            "HTTP request sent, awaiting response... 200 OK\n",
            "Length: 15109 (15K) [text/plain]\n",
            "Saving to: ‘john_wick_4.csv’\n",
            "\n",
            "john_wick_4.csv     100%[===================>]  14.75K  --.-KB/s    in 0s      \n",
            "\n",
            "2025-05-17 17:00:09 (50.0 MB/s) - ‘john_wick_4.csv’ saved [15109/15109]\n",
            "\n"
          ]
        }
      ],
      "source": [
        "!wget https://raw.githubusercontent.com/AI-Maker-Space/DataRepository/main/jw1.csv -O john_wick_1.csv\n",
        "!wget https://raw.githubusercontent.com/AI-Maker-Space/DataRepository/main/jw2.csv -O john_wick_2.csv\n",
        "!wget https://raw.githubusercontent.com/AI-Maker-Space/DataRepository/main/jw3.csv -O john_wick_3.csv\n",
        "!wget https://raw.githubusercontent.com/AI-Maker-Space/DataRepository/main/jw4.csv -O john_wick_4.csv"
      ]
    },
    {
      "cell_type": "markdown",
      "metadata": {
        "id": "A92NC2QZzCsi"
      },
      "source": [
        "### Data Preparation\n",
        "\n",
        "We want to make sure all our documents have the relevant metadata for the various retrieval strategies we're going to be applying today.\n",
        "\n",
        "- Self-Query: Wants as much metadata as we can provide\n",
        "- Time-weighted: Wants temporal data\n",
        "\n",
        "> NOTE: While we're creating a temporal relationship based on when these movies came out for illustrative purposes, it needs to be clear that the \"time-weighting\" in the Time-weighted Retriever is based on when the document was *accessed* last - not when it was created."
      ]
    },
    {
      "cell_type": "code",
      "execution_count": 15,
      "metadata": {
        "id": "GshBjVRJZ6p8"
      },
      "outputs": [],
      "source": [
        "from langchain_community.document_loaders.csv_loader import CSVLoader\n",
        "from datetime import datetime, timedelta\n",
        "\n",
        "documents = []\n",
        "\n",
        "for i in range(1, 5):\n",
        "  loader = CSVLoader(\n",
        "      file_path=f\"john_wick_{i}.csv\",\n",
        "      metadata_columns=[\"Review_Date\", \"Review_Title\", \"Review_Url\", \"Author\", \"Rating\"]\n",
        "  )\n",
        "\n",
        "  movie_docs = loader.load()\n",
        "  for doc in movie_docs:\n",
        "\n",
        "    # Add the \"Movie Title\" (John Wick 1, 2, ...)\n",
        "    doc.metadata[\"Movie_Title\"] = f\"John Wick {i}\"\n",
        "\n",
        "    # convert \"Rating\" to an `int`, if no rating is provided - assume 0 rating\n",
        "    doc.metadata[\"Rating\"] = int(doc.metadata[\"Rating\"]) if doc.metadata[\"Rating\"] else 0\n",
        "\n",
        "    # newer movies have a more recent \"last_accessed_at\"\n",
        "    doc.metadata[\"last_accessed_at\"] = datetime.now() - timedelta(days=4-i)\n",
        "\n",
        "  documents.extend(movie_docs)"
      ]
    },
    {
      "cell_type": "code",
      "execution_count": 16,
      "metadata": {},
      "outputs": [
        {
          "data": {
            "text/plain": [
              "100"
            ]
          },
          "execution_count": 16,
          "metadata": {},
          "output_type": "execute_result"
        }
      ],
      "source": [
        "len(documents)\n",
        "\n"
      ]
    },
    {
      "cell_type": "code",
      "execution_count": 17,
      "metadata": {},
      "outputs": [],
      "source": [
        "chunkSizes = []\n",
        "for doc in documents:\n",
        "    chunkSizes.append(len(doc.page_content))\n"
      ]
    },
    {
      "cell_type": "code",
      "execution_count": 18,
      "metadata": {},
      "outputs": [
        {
          "data": {
            "image/png": "[encoded data removed]",
            "text/plain": [
              "<Figure size 640x480 with 1 Axes>"
            ]
          },
          "metadata": {},
          "output_type": "display_data"
        }
      ],
      "source": [
        "import matplotlib.pyplot as plt\n",
        "\n",
        "# Example list of integers\n",
        "data = chunkSizes\n",
        "\n",
        "# Create x-axis values (indices of the list)\n",
        "x = range(len(data))\n",
        "\n",
        "# Plot vertical lines for each integer\n",
        "for i, value in enumerate(data):\n",
        "    plt.plot([i, i], [0, value], 'b-')  # 'b-' means blue line\n",
        "\n",
        "# Customize the plot\n",
        "plt.xlabel('Index')\n",
        "plt.ylabel('Value')\n",
        "plt.title('Vertical Lines for List Values')\n",
        "plt.grid(True)\n",
        "\n",
        "# Show the plot\n",
        "plt.show()"
      ]
    },
    {
      "cell_type": "markdown",
      "metadata": {
        "id": "9gQphb6y0C0S"
      },
      "source": [
        "Let's look at an example document to see if everything worked as expected!"
      ]
    },
    {
      "cell_type": "code",
      "execution_count": 19,
      "metadata": {
        "colab": {
          "base_uri": "https://localhost:8080/"
        },
        "id": "PkUkCf7DaMiq",
        "outputId": "e90bd5da-1d87-423b-838a-cb6efc16b199"
      },
      "outputs": [
        {
          "data": {
            "text/plain": [
              "Document(metadata={'source': 'john_wick_1.csv', 'row': 0, 'Review_Date': '6 May 2015', 'Review_Title': ' Kinetic, concise, and stylish; John Wick kicks ass.\\n', 'Review_Url': '/review/rw3233896/?ref_=tt_urv', 'Author': 'lnvicta', 'Rating': 8, 'Movie_Title': 'John Wick 1', 'last_accessed_at': datetime.datetime(2025, 5, 14, 17, 0, 9, 504314)}, page_content=\": 0\\nReview: The best way I can describe John Wick is to picture Taken but instead of Liam Neeson it's Keanu Reeves and instead of his daughter it's his dog. That's essentially the plot of the movie. John Wick (Reeves) is out to seek revenge on the people who took something he loved from him. It's a beautifully simple premise for an action movie - when action movies get convoluted, they get bad i.e. A Good Day to Die Hard. John Wick gives the viewers what they want: Awesome action, stylish stunts, kinetic chaos, and a relatable hero to tie it all together. John Wick succeeds in its simplicity.\")"
            ]
          },
          "execution_count": 19,
          "metadata": {},
          "output_type": "execute_result"
        }
      ],
      "source": [
        "documents[0]"
      ]
    },
    {
      "cell_type": "markdown",
      "metadata": {
        "id": "lWaQpdHl0Gzc"
      },
      "source": [
        "## Task 3: Setting up QDrant!\n",
        "\n",
        "Now that we have our documents, let's create a QDrant VectorStore with the collection name \"JohnWick\".\n",
        "\n",
        "We'll leverage OpenAI's [`text-embedding-3-small`](https://openai.com/blog/new-embedding-models-and-api-updates) because it's a very powerful (and low-cost) embedding model.\n",
        "\n",
        "> NOTE: We'll be creating additional vectorstores where necessary, but this pattern is still extremely useful."
      ]
    },
    {
      "cell_type": "code",
      "execution_count": 20,
      "metadata": {
        "id": "NT8ihRJbYmMT"
      },
      "outputs": [
        {
          "name": "stderr",
          "output_type": "stream",
          "text": [
            "/Users/mwalker/development/TAMARKDesigns/AI-Maker-Space/cohort-6/AIE6-TMD/13_Advanced_Retrieval/.venv/lib/python3.12/site-packages/qdrant_client/http/models/models.py:758: SyntaxWarning: invalid escape sequence '\\&'\n",
            "  description=\"Check that the field is empty, alternative syntax for `is_empty: \\&quot;field_name\\&quot;`\",\n",
            "/Users/mwalker/development/TAMARKDesigns/AI-Maker-Space/cohort-6/AIE6-TMD/13_Advanced_Retrieval/.venv/lib/python3.12/site-packages/qdrant_client/http/models/models.py:762: SyntaxWarning: invalid escape sequence '\\&'\n",
            "  description=\"Check that the field is null, alternative syntax for `is_null: \\&quot;field_name\\&quot;`\",\n"
          ]
        }
      ],
      "source": [
        "from langchain_community.vectorstores import Qdrant\n",
        "from langchain_openai import OpenAIEmbeddings\n",
        "\n",
        "embeddings = OpenAIEmbeddings(model=\"text-embedding-3-small\")\n",
        "\n",
        "vectorstore = Qdrant.from_documents(\n",
        "    documents,\n",
        "    embeddings,\n",
        "    location=\":memory:\",\n",
        "    collection_name=\"JohnWick\"\n",
        ")"
      ]
    },
    {
      "cell_type": "markdown",
      "metadata": {
        "id": "-x2SS4Rh0hiN"
      },
      "source": [
        "## Task 4: Naive RAG Chain\n",
        "\n",
        "Since we're focusing on the \"R\" in RAG today - we'll create our Retriever first."
      ]
    },
    {
      "cell_type": "markdown",
      "metadata": {
        "id": "NEH7X5Ai08FH"
      },
      "source": [
        "### R - Retrieval\n",
        "\n",
        "This naive retriever will simply look at each review as a document, and use cosine-similarity to fetch the 10 most relevant documents.\n",
        "\n",
        "> NOTE: We're choosing `10` as our `k` here to provide enough documents for our reranking process later"
      ]
    },
    {
      "cell_type": "code",
      "execution_count": 21,
      "metadata": {
        "id": "GFDPrNBtb72o"
      },
      "outputs": [],
      "source": [
        "naive_retriever = vectorstore.as_retriever(search_kwargs={\"k\" : 10})"
      ]
    },
    {
      "cell_type": "markdown",
      "metadata": {
        "id": "MbBhyQjz06dx"
      },
      "source": [
        "### A - Augmented\n",
        "\n",
        "We're going to go with a standard prompt for our simple RAG chain today! Nothing fancy here, we want this to mostly be about the Retrieval process."
      ]
    },
    {
      "cell_type": "code",
      "execution_count": 22,
      "metadata": {
        "id": "7uSz-Dbqcoki"
      },
      "outputs": [],
      "source": [
        "from langchain_core.prompts import ChatPromptTemplate\n",
        "\n",
        "RAG_TEMPLATE = \"\"\"\\\n",
        "You are a helpful and kind assistant. Use the context provided below to answer the question.\n",
        "\n",
        "If you do not know the answer, or are unsure, say you don't know.\n",
        "\n",
        "Query:\n",
        "{question}\n",
        "\n",
        "Context:\n",
        "{context}\n",
        "\"\"\"\n",
        "\n",
        "rag_prompt = ChatPromptTemplate.from_template(RAG_TEMPLATE)"
      ]
    },
    {
      "cell_type": "markdown",
      "metadata": {
        "id": "BlRzpb231GGJ"
      },
      "source": [
        "### G - Generation\n",
        "\n",
        "We're going to leverage `gpt-4.1-nano` as our LLM today, as - again - we want this to largely be about the Retrieval process."
      ]
    },
    {
      "cell_type": "code",
      "execution_count": 96,
      "metadata": {
        "id": "c-1t9H60dJLg"
      },
      "outputs": [],
      "source": [
        "from langchain_openai import ChatOpenAI\n",
        "\n",
        "#chat_model = ChatOpenAI(model_name=\"gpt-4.1-nano\")\n",
        "\n",
        "# Had to change the creation so we could synthesize the golden dataset via RAGAS later.\n",
        "chat_model = ChatOpenAI(model=\"gpt-4o\")\n",
        "\n"
      ]
    },
    {
      "cell_type": "markdown",
      "metadata": {
        "id": "mg3QRGzA1M2x"
      },
      "source": [
        "### LCEL RAG Chain\n",
        "\n",
        "We're going to use LCEL to construct our chain.\n",
        "\n",
        "> NOTE: This chain will be exactly the same across the various examples with the exception of our Retriever!"
      ]
    },
    {
      "cell_type": "code",
      "execution_count": 24,
      "metadata": {
        "id": "0bvstS7mdOW3"
      },
      "outputs": [],
      "source": [
        "from langchain_core.runnables import RunnablePassthrough\n",
        "from operator import itemgetter\n",
        "from langchain_core.output_parsers import StrOutputParser\n",
        "\n",
        "naive_retrieval_chain = (\n",
        "    # INVOKE CHAIN WITH: {\"question\" : \"<<SOME USER QUESTION>>\"}\n",
        "    # \"question\" : populated by getting the value of the \"question\" key\n",
        "    # \"context\"  : populated by getting the value of the \"question\" key and chaining it into the base_retriever\n",
        "    {\"context\": itemgetter(\"question\") | naive_retriever, \"question\": itemgetter(\"question\")}\n",
        "    # \"context\"  : is assigned to a RunnablePassthrough object (will not be called or considered in the next step)\n",
        "    #              by getting the value of the \"context\" key from the previous step\n",
        "    | RunnablePassthrough.assign(context=itemgetter(\"context\"))\n",
        "    # \"response\" : the \"context\" and \"question\" values are used to format our prompt object and then piped\n",
        "    #              into the LLM and stored in a key called \"response\"\n",
        "    # \"context\"  : populated by getting the value of the \"context\" key from the previous step\n",
        "    | {\"response\": rag_prompt | chat_model, \"context\": itemgetter(\"context\")}\n",
        ")"
      ]
    },
    {
      "cell_type": "markdown",
      "metadata": {
        "id": "izKujhNb1ZG8"
      },
      "source": [
        "Let's see how this simple chain does on a few different prompts.\n",
        "\n",
        "> NOTE: You might think that we've cherry picked prompts that showcase the individual skill of each of the retrieval strategies - you'd be correct!"
      ]
    },
    {
      "cell_type": "code",
      "execution_count": 25,
      "metadata": {
        "colab": {
          "base_uri": "https://localhost:8080/",
          "height": 36
        },
        "id": "LI-5ueEddku9",
        "outputId": "7f3cec18-5f4e-41bb-cf71-51ba0be5388e"
      },
      "outputs": [
        {
          "data": {
            "text/plain": [
              "\"Based on the reviews provided, people generally liked John Wick. Many reviewers gave it high ratings, praised its action sequences, style, and Keanu Reeves' performance. For example, reviews with ratings of 9 or 10 praised the film as the best action movie of the year or a slick, violent, fun film. Even those with more moderate ratings acknowledged its stylish action and choreography. However, there were a few mixed or lower-rated opinions, but overall, the sentiment suggests that most people enjoyed the film.\""
            ]
          },
          "execution_count": 25,
          "metadata": {},
          "output_type": "execute_result"
        }
      ],
      "source": [
        "naive_retrieval_chain.invoke({\"question\" : \"Did people generally like John Wick?\"})[\"response\"].content"
      ]
    },
    {
      "cell_type": "code",
      "execution_count": 26,
      "metadata": {
        "colab": {
          "base_uri": "https://localhost:8080/",
          "height": 36
        },
        "id": "43zdcdUydtXh",
        "outputId": "db874e67-f568-4ed1-b863-b7c17b387052"
      },
      "outputs": [
        {
          "data": {
            "text/plain": [
              "'Yes, there is a review with a rating of 10. The URL to that review is: /review/rw4854296/?ref_=tt_urv'"
            ]
          },
          "execution_count": 26,
          "metadata": {},
          "output_type": "execute_result"
        }
      ],
      "source": [
        "naive_retrieval_chain.invoke({\"question\" : \"Do any reviews have a rating of 10? If so - can I have the URLs to those reviews?\"})[\"response\"].content"
      ]
    },
    {
      "cell_type": "code",
      "execution_count": 27,
      "metadata": {
        "colab": {
          "base_uri": "https://localhost:8080/",
          "height": 70
        },
        "id": "lpG6rlvvvKFq",
        "outputId": "a1b330b0-628e-41be-d829-9c1d55e781f5"
      },
      "outputs": [
        {
          "data": {
            "text/plain": [
              "\"In the John Wick film series, the story primarily revolves around John Wick, a retired hitman who is drawn back into a violent underworld of assassins and crime. The series begins with a simple yet intense plot: John Wick's beloved dog is killed and his car stolen by a young Russian punk, which leads him to seek revenge against those who wronged him. As the story progresses across subsequent films, Wick becomes entangled in complex criminal conflicts, adhering to a strict code of honor and facing off against formidable enemies, including mobsters and professional killers. The series is known for its stylish action sequences, gritty atmosphere, and exploration of a criminal underworld where John Wick navigates revenge, honor, and survival.\""
            ]
          },
          "execution_count": 27,
          "metadata": {},
          "output_type": "execute_result"
        }
      ],
      "source": [
        "naive_retrieval_chain.invoke({\"question\" : \"What happened in John Wick?\"})[\"response\"].content"
      ]
    },
    {
      "cell_type": "markdown",
      "metadata": {
        "id": "jsbfQmbr1leg"
      },
      "source": [
        "Overall, this is not bad! Let's see if we can make it better!"
      ]
    },
    {
      "cell_type": "markdown",
      "metadata": {
        "id": "Ft1vt8HPR16w"
      },
      "source": [
        "## Task 5: Best-Matching 25 (BM25) Retriever\n",
        "\n",
        "Taking a step back in time - [BM25](https://www.nowpublishers.com/article/Details/INR-019) is based on [Bag-Of-Words](https://en.wikipedia.org/wiki/Bag-of-words_model) which is a sparse representation of text.\n",
        "\n",
        "In essence, it's a way to compare how similar two pieces of text are based on the words they both contain.\n",
        "\n",
        "This retriever is very straightforward to set-up! Let's see it happen down below!\n"
      ]
    },
    {
      "cell_type": "code",
      "execution_count": 28,
      "metadata": {
        "id": "qdF4wuj5R-cG"
      },
      "outputs": [],
      "source": [
        "from langchain_community.retrievers import BM25Retriever\n",
        "\n",
        "bm25_retriever = BM25Retriever.from_documents(documents)"
      ]
    },
    {
      "cell_type": "markdown",
      "metadata": {
        "id": "KIjJlBQ8drKH"
      },
      "source": [
        "We'll construct the same chain - only changing the retriever."
      ]
    },
    {
      "cell_type": "code",
      "execution_count": 29,
      "metadata": {
        "id": "WR15EQG7SLuw"
      },
      "outputs": [],
      "source": [
        "bm25_retrieval_chain = (\n",
        "    {\"context\": itemgetter(\"question\") | bm25_retriever, \"question\": itemgetter(\"question\")}\n",
        "    | RunnablePassthrough.assign(context=itemgetter(\"context\"))\n",
        "    | {\"response\": rag_prompt | chat_model, \"context\": itemgetter(\"context\")}\n",
        ")"
      ]
    },
    {
      "cell_type": "markdown",
      "metadata": {
        "id": "0Gi-yXCDdvJk"
      },
      "source": [
        "Let's look at the responses!"
      ]
    },
    {
      "cell_type": "code",
      "execution_count": 30,
      "metadata": {
        "colab": {
          "base_uri": "https://localhost:8080/",
          "height": 53
        },
        "id": "oY9qzmm3SOrF",
        "outputId": "4d4f450f-5978-460f-f242-b32407868353"
      },
      "outputs": [
        {
          "data": {
            "text/plain": [
              "\"Based on the reviews provided, people's opinions on John Wick vary. The first and second reviews are highly positive, praising the films for their action, style, and entertainment value, with ratings of 8 and 10 respectively. However, subsequent reviews are very negative, criticizing the third film for being dull, stereotypical, and overly violent, with a rating of only 1. \\n\\nOverall, it seems that many people liked the earlier John Wick movies, but opinions become more divided or negative with the later installments. Therefore, people did generally like John Wick, especially in the earlier films, but there are notable negative opinions as well.\""
            ]
          },
          "execution_count": 30,
          "metadata": {},
          "output_type": "execute_result"
        }
      ],
      "source": [
        "bm25_retrieval_chain.invoke({\"question\" : \"Did people generally like John Wick?\"})[\"response\"].content"
      ]
    },
    {
      "cell_type": "code",
      "execution_count": 31,
      "metadata": {
        "colab": {
          "base_uri": "https://localhost:8080/",
          "height": 36
        },
        "id": "igfinyneSQkh",
        "outputId": "9752d4a9-dd16-45b1-f63f-a76e93a05eb3"
      },
      "outputs": [
        {
          "data": {
            "text/plain": [
              "'Based on the provided reviews, there are no reviews with a rating of 10.'"
            ]
          },
          "execution_count": 31,
          "metadata": {},
          "output_type": "execute_result"
        }
      ],
      "source": [
        "bm25_retrieval_chain.invoke({\"question\" : \"Do any reviews have a rating of 10? If so - can I have the URLs to those reviews?\"})[\"response\"].content"
      ]
    },
    {
      "cell_type": "code",
      "execution_count": 32,
      "metadata": {
        "colab": {
          "base_uri": "https://localhost:8080/",
          "height": 53
        },
        "id": "w0H7pV_USSMQ",
        "outputId": "bdead654-3109-4143-9a30-e1d6ca8dc534"
      },
      "outputs": [
        {
          "data": {
            "text/plain": [
              "\"In the John Wick movies, the story generally revolves around a retired hitman named John Wick who is drawn back into a violent world of assassins and criminal organizations. The first film, John Wick 1, depicts how Wick, mourning the loss of his wife and trying to leave his violent past behind, is compelled to return to violence after a group of criminals steal his car and kill his dog, a gift from his deceased wife. This sets off a relentless chain of revenge and action as Wick seeks to exact justice and confront his enemies.\\n\\nSubsequent movies, such as John Wick 2, continue to follow Wick's struggles with larger assassin communities and elaborate assassin rules, showcasing intense action, detailed choreography, and the saga of his ongoing battles with various foes. The storyline involves Wick's conflicts with powerful crime factions, personal vendettas, and his attempts to find peace while constantly being pulled back into violence.\\n\\nOverall, the series highlights Wick’s skills as a deadly assassin, the criminal underworld's complex hierarchy, and his fight for survival amid relentless enemies.\""
            ]
          },
          "execution_count": 32,
          "metadata": {},
          "output_type": "execute_result"
        }
      ],
      "source": [
        "bm25_retrieval_chain.invoke({\"question\" : \"What happened in John Wick?\"})[\"response\"].content"
      ]
    },
    {
      "cell_type": "markdown",
      "metadata": {
        "id": "zvg5xHaUdxCl"
      },
      "source": [
        "It's not clear that this is better or worse - but the `I don't know` isn't great!"
      ]
    },
    {
      "cell_type": "markdown",
      "metadata": {
        "id": "Q-dcbFn2vpZF"
      },
      "source": [
        "## Task 6: Contextual Compression (Using Reranking)\n",
        "\n",
        "Contextual Compression is a fairly straightforward idea: We want to \"compress\" our retrieved context into just the most useful bits.\n",
        "\n",
        "There are a few ways we can achieve this - but we're going to look at a specific example called reranking.\n",
        "\n",
        "The basic idea here is this:\n",
        "\n",
        "- We retrieve lots of documents that are very likely related to our query vector\n",
        "- We \"compress\" those documents into a smaller set of *more* related documents using a reranking algorithm.\n",
        "\n",
        "We'll be leveraging Cohere's Rerank model for our reranker today!\n",
        "\n",
        "All we need to do is the following:\n",
        "\n",
        "- Create a basic retriever\n",
        "- Create a compressor (reranker, in this case)\n",
        "\n",
        "That's it!\n",
        "\n",
        "Let's see it in the code below!"
      ]
    },
    {
      "cell_type": "code",
      "execution_count": 33,
      "metadata": {
        "id": "psHvO2K1v_ZQ"
      },
      "outputs": [],
      "source": [
        "from langchain.retrievers.contextual_compression import ContextualCompressionRetriever\n",
        "from langchain_cohere import CohereRerank\n",
        "\n",
        "compressor = CohereRerank(model=\"rerank-english-v3.0\")\n",
        "compression_retriever = ContextualCompressionRetriever(\n",
        "    base_compressor=compressor, base_retriever=naive_retriever\n",
        ")"
      ]
    },
    {
      "cell_type": "markdown",
      "metadata": {
        "id": "_TA9RB2x-j7P"
      },
      "source": [
        "Let's create our chain again, and see how this does!"
      ]
    },
    {
      "cell_type": "code",
      "execution_count": 34,
      "metadata": {
        "id": "1BXqmxvHwX6T"
      },
      "outputs": [],
      "source": [
        "contextual_compression_retrieval_chain = (\n",
        "    {\"context\": itemgetter(\"question\") | compression_retriever, \"question\": itemgetter(\"question\")}\n",
        "    | RunnablePassthrough.assign(context=itemgetter(\"context\"))\n",
        "    | {\"response\": rag_prompt | chat_model, \"context\": itemgetter(\"context\")}\n",
        ")"
      ]
    },
    {
      "cell_type": "code",
      "execution_count": 35,
      "metadata": {
        "colab": {
          "base_uri": "https://localhost:8080/",
          "height": 36
        },
        "id": "V3iGpokswcBb",
        "outputId": "f15d2aa1-5e8b-417d-f623-eb835d072e59"
      },
      "outputs": [
        {
          "data": {
            "text/plain": [
              "\"Based on the reviews provided, people generally liked John Wick. The reviews are highly positive, with ratings of 9 and 10 out of 10, and praise for its action sequences, style, and Keanu Reeves' performance. Only one review was somewhat negative with a rating of 5, but the majority of reviews indicate that viewers liked the film.\""
            ]
          },
          "execution_count": 35,
          "metadata": {},
          "output_type": "execute_result"
        }
      ],
      "source": [
        "contextual_compression_retrieval_chain.invoke({\"question\" : \"Did people generally like John Wick?\"})[\"response\"].content"
      ]
    },
    {
      "cell_type": "code",
      "execution_count": 36,
      "metadata": {
        "colab": {
          "base_uri": "https://localhost:8080/",
          "height": 53
        },
        "id": "7u_k0i4OweUd",
        "outputId": "be5fccc8-2352-4189-c524-bbeaa28cf799"
      },
      "outputs": [
        {
          "data": {
            "text/plain": [
              "'Yes, there are reviews with a rating of 10. Here are the URLs to those reviews:\\n\\n1. [https://.../review/rw4854296/?ref_=tt_urv](https://.../review/rw4854296/?ref_=tt_urv)  \\n2. [https://.../review/rw4860412/?ref_=tt_urv](https://.../review/rw4860412/?ref_=tt_urv)  \\n\\n(Note: The full URLs are provided in the context as relative links, but these are the identifiers for the reviews with a rating of 10.)'"
            ]
          },
          "execution_count": 36,
          "metadata": {},
          "output_type": "execute_result"
        }
      ],
      "source": [
        "contextual_compression_retrieval_chain.invoke({\"question\" : \"Do any reviews have a rating of 10? If so - can I have the URLs to those reviews?\"})[\"response\"].content"
      ]
    },
    {
      "cell_type": "code",
      "execution_count": 37,
      "metadata": {
        "colab": {
          "base_uri": "https://localhost:8080/",
          "height": 70
        },
        "id": "zn1EqaGqweXN",
        "outputId": "42bc5972-4164-46eb-f49d-4272f39bb89b"
      },
      "outputs": [
        {
          "data": {
            "text/plain": [
              "\"In the John Wick movies, John Wick, played by Keanu Reeves, is a retired hitman who seeks vengeance after a series of violent events. In the first film, he comes out of retirement after Russian gangsters kill his dog, a gift from his deceased wife, which triggers a relentless quest for retribution. The story involves him taking on various criminals and mobsters, leading to intense action and combat. \\n\\nIn the second film, John Wick returns home after resolving issues with the Russian mafia, but is soon approached by Santino D'Antonio, who shows him a marker and asks for his help. Wick refuses, leading to his house being blown up. Santino then asks him to kill his sister in Rome so he can take a seat at the High Table of the criminal organization. After completing the assassination, Wick is betrayed, and a contract is placed on him, making him a target for bounty hunters. He then fights to survive while seeking to confront Santino and resolve the threats against him.\\n\\nOverall, the films depict Wick's journey through a violent underworld, driven by personal loss, honor, and a desire for peace, but entangled in a life of continuous combat and criminal intrigue.\""
            ]
          },
          "execution_count": 37,
          "metadata": {},
          "output_type": "execute_result"
        }
      ],
      "source": [
        "contextual_compression_retrieval_chain.invoke({\"question\" : \"What happened in John Wick?\"})[\"response\"].content"
      ]
    },
    {
      "cell_type": "markdown",
      "metadata": {
        "id": "OEbT0g2S-mZ4"
      },
      "source": [
        "We'll need to rely on something like Ragas to help us get a better sense of how this is performing overall - but it \"feels\" better!"
      ]
    },
    {
      "cell_type": "markdown",
      "metadata": {
        "id": "qqbghrBEQNn5"
      },
      "source": [
        "## Task 7: Multi-Query Retriever\n",
        "\n",
        "Typically in RAG we have a single query - the one provided by the user.\n",
        "\n",
        "What if we had....more than one query!\n",
        "\n",
        "In essence, a Multi-Query Retriever works by:\n",
        "\n",
        "1. Taking the original user query and creating `n` number of new user queries using an LLM.\n",
        "2. Retrieving documents for each query.\n",
        "3. Using all unique retrieved documents as context\n",
        "\n",
        "So, how is it to set-up? Not bad! Let's see it down below!\n",
        "\n"
      ]
    },
    {
      "cell_type": "code",
      "execution_count": 38,
      "metadata": {
        "id": "pfM26ReXQjzU"
      },
      "outputs": [],
      "source": [
        "from langchain.retrievers.multi_query import MultiQueryRetriever\n",
        "\n",
        "multi_query_retriever = MultiQueryRetriever.from_llm(\n",
        "    retriever=naive_retriever, llm=chat_model\n",
        ")"
      ]
    },
    {
      "cell_type": "code",
      "execution_count": 39,
      "metadata": {
        "id": "1vRc129jQ5WW"
      },
      "outputs": [],
      "source": [
        "multi_query_retrieval_chain = (\n",
        "    {\"context\": itemgetter(\"question\") | multi_query_retriever, \"question\": itemgetter(\"question\")}\n",
        "    | RunnablePassthrough.assign(context=itemgetter(\"context\"))\n",
        "    | {\"response\": rag_prompt | chat_model, \"context\": itemgetter(\"context\")}\n",
        ")"
      ]
    },
    {
      "cell_type": "code",
      "execution_count": 40,
      "metadata": {
        "colab": {
          "base_uri": "https://localhost:8080/",
          "height": 53
        },
        "id": "CGgNuOb3Q3M9",
        "outputId": "c5273ecf-da35-40b8-fbdb-0f8beab425f7"
      },
      "outputs": [
        {
          "data": {
            "text/plain": [
              "'Based on the provided reviews, people generally liked John Wick. Many reviews gave high ratings and positive comments about the action sequences, style, and entertainment value of the films. While some individuals expressed less enthusiasm or found the plot lacking, the overall sentiment suggests that John Wick was well-received and appreciated by most viewers.'"
            ]
          },
          "execution_count": 40,
          "metadata": {},
          "output_type": "execute_result"
        }
      ],
      "source": [
        "multi_query_retrieval_chain.invoke({\"question\" : \"Did people generally like John Wick?\"})[\"response\"].content"
      ]
    },
    {
      "cell_type": "code",
      "execution_count": 41,
      "metadata": {
        "colab": {
          "base_uri": "https://localhost:8080/",
          "height": 36
        },
        "id": "aAlSthxrRDBC",
        "outputId": "230ff807-23ae-4d25-8d11-cfdbed0b77cb"
      },
      "outputs": [
        {
          "data": {
            "text/plain": [
              "'Yes, there are reviews with a rating of 10. The URLs to those reviews are:\\n- /review/rw4854296/?ref_=tt_urv\\n- /review/rw4860412/?ref_=tt_urv'"
            ]
          },
          "execution_count": 41,
          "metadata": {},
          "output_type": "execute_result"
        }
      ],
      "source": [
        "multi_query_retrieval_chain.invoke({\"question\" : \"Do any reviews have a rating of 10? If so - can I have the URLs to those reviews?\"})[\"response\"].content"
      ]
    },
    {
      "cell_type": "code",
      "execution_count": 42,
      "metadata": {
        "colab": {
          "base_uri": "https://localhost:8080/",
          "height": 88
        },
        "id": "Uv1mpCK8REs4",
        "outputId": "00fbc22a-ed9b-4613-9695-0b179e3f8369"
      },
      "outputs": [
        {
          "data": {
            "text/plain": [
              "'In the John Wick film series, the story centers around John Wick, a retired hitman who is drawn back into a violent world of assassins after personal tragedy strikes him. The first film begins with John seeking vengeance after a gangsters kills his dog and steals his car, which leads him to unleash a relentless and carefully orchestrated wave of destruction against those who have wronged him. Throughout the series, he confronts various criminal organizations, debts, and rules of the assassin underworld, often fighting to protect his own life and maintain his reputation as a deadly and skilled assassin. The films depict his journey of revenge, survival, and navigating a complex, dangerous world filled with violence and high-stakes conflicts.'"
            ]
          },
          "execution_count": 42,
          "metadata": {},
          "output_type": "execute_result"
        }
      ],
      "source": [
        "multi_query_retrieval_chain.invoke({\"question\" : \"What happened in John Wick?\"})[\"response\"].content"
      ]
    },
    {
      "cell_type": "markdown",
      "metadata": {
        "id": "EDEawBf_d_3G"
      },
      "source": [
        "## Task 8: Parent Document Retriever\n",
        "\n",
        "A \"small-to-big\" strategy - the Parent Document Retriever works based on a simple strategy:\n",
        "\n",
        "1. Each un-split \"document\" will be designated as a \"parent document\" (You could use larger chunks of document as well, but our data format allows us to consider the overall document as the parent chunk)\n",
        "2. Store those \"parent documents\" in a memory store (not a VectorStore)\n",
        "3. We will chunk each of those documents into smaller documents, and associate them with their respective parents, and store those in a VectorStore. We'll call those \"child chunks\".\n",
        "4. When we query our Retriever, we will do a similarity search comparing our query vector to the \"child chunks\".\n",
        "5. Instead of returning the \"child chunks\", we'll return their associated \"parent chunks\".\n",
        "\n",
        "Okay, maybe that was a few steps - but the basic idea is this:\n",
        "\n",
        "- Search for small documents\n",
        "- Return big documents\n",
        "\n",
        "The intuition is that we're likely to find the most relevant information by limiting the amount of semantic information that is encoded in each embedding vector - but we're likely to miss relevant surrounding context if we only use that information.\n",
        "\n",
        "Let's start by creating our \"parent documents\" and defining a `RecursiveCharacterTextSplitter`."
      ]
    },
    {
      "cell_type": "code",
      "execution_count": 43,
      "metadata": {
        "id": "qJ53JJuMd_ZH"
      },
      "outputs": [],
      "source": [
        "from langchain.retrievers import ParentDocumentRetriever\n",
        "from langchain.storage import InMemoryStore\n",
        "from langchain_text_splitters import RecursiveCharacterTextSplitter\n",
        "from qdrant_client import QdrantClient, models\n",
        "\n",
        "parent_docs = documents\n",
        "child_splitter = RecursiveCharacterTextSplitter(chunk_size=200)"
      ]
    },
    {
      "cell_type": "markdown",
      "metadata": {
        "id": "oOpXfVUH3gL3"
      },
      "source": [
        "We'll need to set up a new QDrant vectorstore - and we'll use another useful pattern to do so!\n",
        "\n",
        "> NOTE: We are manually defining our embedding dimension, you'll need to change this if you're using a different embedding model."
      ]
    },
    {
      "cell_type": "code",
      "execution_count": 44,
      "metadata": {
        "colab": {
          "base_uri": "https://localhost:8080/"
        },
        "id": "rzFc-_9HlGQ-",
        "outputId": "223662dd-c36f-42f7-d1b0-b086e571484e"
      },
      "outputs": [
        {
          "name": "stderr",
          "output_type": "stream",
          "text": [
            "/var/folders/5p/gq47dsys3k5663k1r5z8s3c40000gn/T/ipykernel_4997/3574430551.py:8: LangChainDeprecationWarning: The class `Qdrant` was deprecated in LangChain 0.0.37 and will be removed in 1.0. An updated version of the class exists in the :class:`~langchain-qdrant package and should be used instead. To use it run `pip install -U :class:`~langchain-qdrant` and import as `from :class:`~langchain_qdrant import Qdrant``.\n",
            "  parent_document_vectorstore = Qdrant(\n"
          ]
        }
      ],
      "source": [
        "client = QdrantClient(location=\":memory:\")\n",
        "\n",
        "client.create_collection(\n",
        "    collection_name=\"full_documents\",\n",
        "    vectors_config=models.VectorParams(size=1536, distance=models.Distance.COSINE)\n",
        ")\n",
        "\n",
        "parent_document_vectorstore = Qdrant(\n",
        "    collection_name=\"full_documents\", embeddings=OpenAIEmbeddings(model=\"text-embedding-3-small\"), client=client\n",
        ")"
      ]
    },
    {
      "cell_type": "markdown",
      "metadata": {
        "id": "sf_g95FA3s6w"
      },
      "source": [
        "Now we can create our `InMemoryStore` that will hold our \"parent documents\" - and build our retriever!"
      ]
    },
    {
      "cell_type": "code",
      "execution_count": 45,
      "metadata": {
        "id": "BpWVjPf4fLUp"
      },
      "outputs": [],
      "source": [
        "store = InMemoryStore()\n",
        "\n",
        "parent_document_retriever = ParentDocumentRetriever(\n",
        "    vectorstore = parent_document_vectorstore,\n",
        "    docstore=store,\n",
        "    child_splitter=child_splitter,\n",
        ")"
      ]
    },
    {
      "cell_type": "markdown",
      "metadata": {
        "id": "KoYmSWfE32Zo"
      },
      "source": [
        "By default, this is empty as we haven't added any documents - let's add some now!"
      ]
    },
    {
      "cell_type": "code",
      "execution_count": 46,
      "metadata": {
        "id": "iQ2ZzfKigMZc"
      },
      "outputs": [],
      "source": [
        "parent_document_retriever.add_documents(parent_docs, ids=None)"
      ]
    },
    {
      "cell_type": "markdown",
      "metadata": {
        "id": "bI7Tip1335rE"
      },
      "source": [
        "We'll create the same chain we did before - but substitute our new `parent_document_retriever`."
      ]
    },
    {
      "cell_type": "code",
      "execution_count": 47,
      "metadata": {
        "id": "Qq_adt2KlSqp"
      },
      "outputs": [],
      "source": [
        "parent_document_retrieval_chain = (\n",
        "    {\"context\": itemgetter(\"question\") | parent_document_retriever, \"question\": itemgetter(\"question\")}\n",
        "    | RunnablePassthrough.assign(context=itemgetter(\"context\"))\n",
        "    | {\"response\": rag_prompt | chat_model, \"context\": itemgetter(\"context\")}\n",
        ")"
      ]
    },
    {
      "cell_type": "markdown",
      "metadata": {
        "id": "jNolUVQb4Apt"
      },
      "source": [
        "Let's give it a whirl!"
      ]
    },
    {
      "cell_type": "code",
      "execution_count": 48,
      "metadata": {
        "colab": {
          "base_uri": "https://localhost:8080/",
          "height": 70
        },
        "id": "TXB5i89Zly5W",
        "outputId": "94c240be-7c5b-4c58-9eee-56d93285a054"
      },
      "outputs": [
        {
          "data": {
            "text/plain": [
              "'Based on the reviews provided, people\\'s opinions on John Wick vary. Some reviewers, like MrHeraclius, highly recommend the series and praise it positively. However, others, such as solidabs, gave a very negative review of John Wick 4, describing it as a \"horrible movie\" and expressing disappointment with the plot and fight scenes. \\n\\nTherefore, people did not generally have a uniform opinion; some liked the series, while others did not.'"
            ]
          },
          "execution_count": 48,
          "metadata": {},
          "output_type": "execute_result"
        }
      ],
      "source": [
        "parent_document_retrieval_chain.invoke({\"question\" : \"Did people generally like John Wick?\"})[\"response\"].content"
      ]
    },
    {
      "cell_type": "code",
      "execution_count": 49,
      "metadata": {
        "colab": {
          "base_uri": "https://localhost:8080/",
          "height": 36
        },
        "id": "V5F1T-wNl3cg",
        "outputId": "9b81e72e-5db7-4b8a-b25b-400ea0df5335"
      },
      "outputs": [
        {
          "data": {
            "text/plain": [
              "'Yes, there is a review with a rating of 10. The URL to that review is: /review/rw4854296/?ref_=tt_urv'"
            ]
          },
          "execution_count": 49,
          "metadata": {},
          "output_type": "execute_result"
        }
      ],
      "source": [
        "parent_document_retrieval_chain.invoke({\"question\" : \"Do any reviews have a rating of 10? If so - can I have the URLs to those reviews?\"})[\"response\"].content"
      ]
    },
    {
      "cell_type": "code",
      "execution_count": 50,
      "metadata": {
        "colab": {
          "base_uri": "https://localhost:8080/",
          "height": 70
        },
        "id": "ZqARszGzvGcG",
        "outputId": "8867f83c-db13-4db4-d57f-9bd51d32cd8a"
      },
      "outputs": [
        {
          "data": {
            "text/plain": [
              "\"In the John Wick movies, John Wick is a retired assassin who comes out of retirement due to personal losses and circumstances that compel him to re-engage in violence. The first film centers on his quest for vengeance after his dog is killed and his car is stolen, leading him to confront gangsters and assassins to settle old scores. The second movie continues his stories of action and revenge, involving helping a former associate take over the Assassin's Guild, which takes him on dangerous missions across Italy, Canada, and Manhattan, resulting in a lot of carnage and confrontations with numerous assassins.\""
            ]
          },
          "execution_count": 50,
          "metadata": {},
          "output_type": "execute_result"
        }
      ],
      "source": [
        "parent_document_retrieval_chain.invoke({\"question\" : \"What happened in John Wick?\"})[\"response\"].content"
      ]
    },
    {
      "cell_type": "markdown",
      "metadata": {
        "id": "B41cj42s4DPM"
      },
      "source": [
        "Overall, the performance *seems* largely the same. We can leverage a tool like [Ragas]() to more effectively answer the question about the performance."
      ]
    },
    {
      "cell_type": "markdown",
      "metadata": {
        "id": "VUrIBKl_TwS9"
      },
      "source": [
        "## Task 9: Ensemble Retriever\n",
        "\n",
        "In brief, an Ensemble Retriever simply takes 2, or more, retrievers and combines their retrieved documents based on a rank-fusion algorithm.\n",
        "\n",
        "In this case - we're using the [Reciprocal Rank Fusion](https://plg.uwaterloo.ca/~gvcormac/cormacksigir09-rrf.pdf) algorithm.\n",
        "\n",
        "Setting it up is as easy as providing a list of our desired retrievers - and the weights for each retriever."
      ]
    },
    {
      "cell_type": "code",
      "execution_count": 51,
      "metadata": {
        "id": "8j7jpZsKTxic"
      },
      "outputs": [],
      "source": [
        "from langchain.retrievers import EnsembleRetriever\n",
        "\n",
        "retriever_list = [bm25_retriever, naive_retriever, parent_document_retriever, compression_retriever, multi_query_retriever]\n",
        "equal_weighting = [1/len(retriever_list)] * len(retriever_list)\n",
        "\n",
        "ensemble_retriever = EnsembleRetriever(\n",
        "    retrievers=retriever_list, weights=equal_weighting\n",
        ")"
      ]
    },
    {
      "cell_type": "markdown",
      "metadata": {
        "id": "kpo9Psl5hhJ-"
      },
      "source": [
        "We'll pack *all* of these retrievers together in an ensemble."
      ]
    },
    {
      "cell_type": "code",
      "execution_count": 52,
      "metadata": {
        "id": "KZ__EZwpUKkd"
      },
      "outputs": [],
      "source": [
        "ensemble_retrieval_chain = (\n",
        "    {\"context\": itemgetter(\"question\") | ensemble_retriever, \"question\": itemgetter(\"question\")}\n",
        "    | RunnablePassthrough.assign(context=itemgetter(\"context\"))\n",
        "    | {\"response\": rag_prompt | chat_model, \"context\": itemgetter(\"context\")}\n",
        ")"
      ]
    },
    {
      "cell_type": "markdown",
      "metadata": {
        "id": "SSsvHpRMj24L"
      },
      "source": [
        "Let's look at our results!"
      ]
    },
    {
      "cell_type": "code",
      "execution_count": 53,
      "metadata": {
        "colab": {
          "base_uri": "https://localhost:8080/",
          "height": 70
        },
        "id": "0lMvqL88UQI-",
        "outputId": "d86dd5f7-0a13-4836-c0ce-cc4c431fd889"
      },
      "outputs": [
        {
          "data": {
            "text/plain": [
              "\"Based on the reviews provided in the context, people generally liked John Wick. Many reviews are highly positive, praising its stylish action sequences, choreography, and Keanu Reeves' performance. Some reviews rated it as high as 10/10, indicating strong approval. However, there are also some mixed and negative opinions, particularly about later installments, criticizing their plot and violence. Overall, the general perception among reviewers seems to be that people enjoyed John Wick, especially the first film and its high-quality action.\""
            ]
          },
          "execution_count": 53,
          "metadata": {},
          "output_type": "execute_result"
        }
      ],
      "source": [
        "ensemble_retrieval_chain.invoke({\"question\" : \"Did people generally like John Wick?\"})[\"response\"].content"
      ]
    },
    {
      "cell_type": "code",
      "execution_count": 54,
      "metadata": {
        "colab": {
          "base_uri": "https://localhost:8080/",
          "height": 53
        },
        "id": "MNFWLYECURI1",
        "outputId": "b17973b5-66a9-4481-97d5-880b5754b5c5"
      },
      "outputs": [
        {
          "data": {
            "text/plain": [
              "'Yes, there is a review with a rating of 10. The URL to that review is: /review/rw4854296/?ref_=tt_urv'"
            ]
          },
          "execution_count": 54,
          "metadata": {},
          "output_type": "execute_result"
        }
      ],
      "source": [
        "ensemble_retrieval_chain.invoke({\"question\" : \"Do any reviews have a rating of 10? If so - can I have the URLs to those reviews?\"})[\"response\"].content"
      ]
    },
    {
      "cell_type": "code",
      "execution_count": 55,
      "metadata": {
        "colab": {
          "base_uri": "https://localhost:8080/",
          "height": 88
        },
        "id": "A7qbHfWgUR4c",
        "outputId": "f7373144-59ef-4fc7-b75d-ca00e7df881e"
      },
      "outputs": [
        {
          "data": {
            "text/plain": [
              "\"In the John Wick movies, the story revolves around John Wick, a retired hitman who is pulled back into a violent world of assassins. The first film shows how Wick seeks revenge after gangsters kill his dog and steal his car, leading him to unleash a deadly and meticulously choreographed assault against those responsible. Subsequent films continue to explore themes of revenge, consequences, and loyalty within the criminal underworld, with Wick confronting old enemies, helping or fighting powerful crime figures, and dealing with the rules and rivalries of the assassin society. The series is known for its intense action sequences, stylish violence, and the character's quest for peace and retribution amid a vast and deadly underground universe.\""
            ]
          },
          "execution_count": 55,
          "metadata": {},
          "output_type": "execute_result"
        }
      ],
      "source": [
        "ensemble_retrieval_chain.invoke({\"question\" : \"What happened in John Wick?\"})[\"response\"].content"
      ]
    },
    {
      "cell_type": "markdown",
      "metadata": {
        "id": "MopbkNJAXVaN"
      },
      "source": [
        "## Task 10: Semantic Chunking\n",
        "\n",
        "While this is not a retrieval method - it *is* an effective way of increasing retrieval performance on corpora that have clean semantic breaks in them.\n",
        "\n",
        "Essentially, Semantic Chunking is implemented by:\n",
        "\n",
        "1. Embedding all sentences in the corpus.\n",
        "2. Combining or splitting sequences of sentences based on their semantic similarity based on a number of [possible thresholding methods](https://python.langchain.com/docs/how_to/semantic-chunker/):\n",
        "  - `percentile`\n",
        "  - `standard_deviation`\n",
        "  - `interquartile`\n",
        "  - `gradient`\n",
        "3. Each sequence of related sentences is kept as a document!\n",
        "\n",
        "Let's see how to implement this!\n",
        "\n",
        "> NOTE: You do not need to run this cell if you're running this locally"
      ]
    },
    {
      "cell_type": "code",
      "execution_count": 56,
      "metadata": {
        "colab": {
          "base_uri": "https://localhost:8080/"
        },
        "id": "1dHeB-yGXneL",
        "outputId": "efc59105-518a-4134-9228-d98b8a97e08e"
      },
      "outputs": [],
      "source": [
        "#!pip install -qU langchain_experimental"
      ]
    },
    {
      "cell_type": "markdown",
      "metadata": {
        "id": "U9ciZbFEldv_"
      },
      "source": [
        "We'll use the `percentile` thresholding method for this example which will:\n",
        "\n",
        "Calculate all distances between sentences, and then break apart sequences of setences that exceed a given percentile among all distances."
      ]
    },
    {
      "cell_type": "code",
      "execution_count": 57,
      "metadata": {
        "id": "66EIEWiEYl5y"
      },
      "outputs": [],
      "source": [
        "from langchain_experimental.text_splitter import SemanticChunker\n",
        "\n",
        "semantic_chunker = SemanticChunker(\n",
        "    embeddings,\n",
        "    breakpoint_threshold_type=\"percentile\"\n",
        ")"
      ]
    },
    {
      "cell_type": "markdown",
      "metadata": {
        "id": "YqoKmz12mhRW"
      },
      "source": [
        "Now we can split our documents."
      ]
    },
    {
      "cell_type": "code",
      "execution_count": 58,
      "metadata": {
        "id": "ROcV7o68ZIq7"
      },
      "outputs": [],
      "source": [
        "semantic_documents = semantic_chunker.split_documents(documents)"
      ]
    },
    {
      "cell_type": "markdown",
      "metadata": {
        "id": "L8-LNC-Xmjex"
      },
      "source": [
        "Let's create a new vector store."
      ]
    },
    {
      "cell_type": "code",
      "execution_count": 59,
      "metadata": {
        "id": "h3sl9QjyZhIe"
      },
      "outputs": [],
      "source": [
        "semantic_vectorstore = Qdrant.from_documents(\n",
        "    semantic_documents,\n",
        "    embeddings,\n",
        "    location=\":memory:\",\n",
        "    collection_name=\"JohnWickSemantic\"\n",
        ")"
      ]
    },
    {
      "cell_type": "markdown",
      "metadata": {
        "id": "Eh_r_-LHmmKn"
      },
      "source": [
        "We'll use naive retrieval for this example."
      ]
    },
    {
      "cell_type": "code",
      "execution_count": 60,
      "metadata": {
        "id": "odVyDUHwZftc"
      },
      "outputs": [],
      "source": [
        "semantic_retriever = semantic_vectorstore.as_retriever(search_kwargs={\"k\" : 10})"
      ]
    },
    {
      "cell_type": "markdown",
      "metadata": {
        "id": "Mkeiv_ojmp6G"
      },
      "source": [
        "Finally we can create our classic chain!"
      ]
    },
    {
      "cell_type": "code",
      "execution_count": 61,
      "metadata": {
        "id": "xWE_0J0mZveG"
      },
      "outputs": [],
      "source": [
        "semantic_retrieval_chain = (\n",
        "    {\"context\": itemgetter(\"question\") | semantic_retriever, \"question\": itemgetter(\"question\")}\n",
        "    | RunnablePassthrough.assign(context=itemgetter(\"context\"))\n",
        "    | {\"response\": rag_prompt | chat_model, \"context\": itemgetter(\"context\")}\n",
        ")"
      ]
    },
    {
      "cell_type": "markdown",
      "metadata": {
        "id": "R5pfjLQ3ms9_"
      },
      "source": [
        "And view the results!"
      ]
    },
    {
      "cell_type": "code",
      "execution_count": 62,
      "metadata": {
        "colab": {
          "base_uri": "https://localhost:8080/",
          "height": 70
        },
        "id": "0lN2j-e4Z0SD",
        "outputId": "ef483e21-7200-4dfc-b8bf-aed4f23587b2"
      },
      "outputs": [
        {
          "data": {
            "text/plain": [
              "'Based on the reviews provided, people generally liked John Wick. The reviews are mostly positive, with high ratings and praise for its action, style, and entertainment value.'"
            ]
          },
          "execution_count": 62,
          "metadata": {},
          "output_type": "execute_result"
        }
      ],
      "source": [
        "semantic_retrieval_chain.invoke({\"question\" : \"Did people generally like John Wick?\"})[\"response\"].content"
      ]
    },
    {
      "cell_type": "code",
      "execution_count": 63,
      "metadata": {
        "colab": {
          "base_uri": "https://localhost:8080/",
          "height": 53
        },
        "id": "xdqfBH1SZ3f9",
        "outputId": "ed62b2d1-7586-46cc-aaf4-c54192a56155"
      },
      "outputs": [
        {
          "data": {
            "text/plain": [
              "'Yes, there is a review that has a rating of 10. The URL to that review is: /review/rw4854296/?ref_=tt_urv'"
            ]
          },
          "execution_count": 63,
          "metadata": {},
          "output_type": "execute_result"
        }
      ],
      "source": [
        "semantic_retrieval_chain.invoke({\"question\" : \"Do any reviews have a rating of 10? If so - can I have the URLs to those reviews?\"})[\"response\"].content"
      ]
    },
    {
      "cell_type": "code",
      "execution_count": 64,
      "metadata": {
        "colab": {
          "base_uri": "https://localhost:8080/",
          "height": 70
        },
        "id": "rAcAObZnZ4o6",
        "outputId": "3f1cade3-41e4-4e42-ef71-048dd18e5e3a"
      },
      "outputs": [
        {
          "data": {
            "text/plain": [
              "'In the movie John Wick, the story centers around a retired assassin named John Wick (played by Keanu Reeves) who seeks revenge after a violent assault on his home. The assault is carried out by a group of thugs led by the son of a Russian gangster John used to work for. They break into his house, beat him up, kill his dog, and steal his car, not knowing who he really is. The loss of his beloved dog and his stolen car ignite his desire for vengeance. As the story unfolds, John Wick unleashes a relentless and highly skilled pursuit of those who wronged him, becoming embroiled in a violent conflict with the Russian mafia and other enemies, leading to numerous action-packed confrontations.'"
            ]
          },
          "execution_count": 64,
          "metadata": {},
          "output_type": "execute_result"
        }
      ],
      "source": [
        "semantic_retrieval_chain.invoke({\"question\" : \"What happened in John Wick?\"})[\"response\"].content"
      ]
    },
    {
      "cell_type": "markdown",
      "metadata": {
        "id": "xk2n3-pnVWDJ"
      },
      "source": [
        "# 🤝 Breakout Room Part #2"
      ]
    },
    {
      "cell_type": "markdown",
      "metadata": {
        "id": "2SkJLYwMVZkj"
      },
      "source": [
        "#### 🏗️ Activity #1\n",
        "\n",
        "Your task is to evaluate the various Retriever methods against eachother.\n",
        "\n",
        "You are expected to:\n",
        "\n",
        "1. Create a \"golden dataset\"\n",
        " - Use Synthetic Data Generation (powered by Ragas, or otherwise) to create this dataset\n",
        "2. Evaluate each retriever with *retriever specific* Ragas metrics\n",
        " - Semantic Chunking is not considered a retriever method and will not be required for marks, but you may find it useful to do a \"semantic chunking on\" vs. \"semantic chunking off\" comparision between them\n",
        "3. Compile these in a list and write a small paragraph about which is best for this particular data and why.\n",
        "\n",
        "Your analysis should factor in:\n",
        "  - Cost\n",
        "  - Latency\n",
        "  - Performance\n",
        "\n",
        "> NOTE: This is **NOT** required to be completed in class. Please spend time in your breakout rooms creating a plan before moving on to writing code."
      ]
    },
    {
      "cell_type": "markdown",
      "metadata": {
        "id": "TWAr16a5XMub"
      },
      "source": [
        "##### HINTS:\n",
        "\n",
        "- LangSmith provides detailed information about latency and cost."
      ]
    },
    {
      "cell_type": "markdown",
      "metadata": {},
      "source": [
        "## Retriever Evaluation\n",
        "\n",
        "### Generating the Golden Dataset\n",
        "The following code will use RAGAS to generate 10 questions from the base knowledge (loaded earlier in this notebook). "
      ]
    },
    {
      "cell_type": "code",
      "execution_count": 98,
      "metadata": {},
      "outputs": [],
      "source": [
        "\n",
        "# Retrieve the LangChain API key, which will be used to collect latency and cost information.\n",
        "\n",
        "import getpass\n",
        "import os\n",
        "\n",
        "os.environ[\"LANGCHAIN_API_KEY\"] = getpass.getpass(\"Enter your LangChain API key: \")\n",
        "os.environ[\"LANGCHAIN_TRACING_V2\"] = \"true\"\n",
        "os.environ[\"LANGCHAIN_PROJECT\"] = \"RAGAS-Eval-Session13\"\n"
      ]
    },
    {
      "cell_type": "code",
      "execution_count": 102,
      "metadata": {},
      "outputs": [
        {
          "data": {
            "application/vnd.jupyter.widget-view+json": {
              "model_id": "b8ee4ef49df64633a03f1ee9dad13728",
              "version_major": 2,
              "version_minor": 0
            },
            "text/plain": [
              "Applying SummaryExtractor:   0%|          | 0/44 [00:00<?, ?it/s]"
            ]
          },
          "metadata": {},
          "output_type": "display_data"
        },
        {
          "data": {
            "application/vnd.jupyter.widget-view+json": {
              "model_id": "e56f18aa79d842c7afd2746890b01585",
              "version_major": 2,
              "version_minor": 0
            },
            "text/plain": [
              "Applying CustomNodeFilter:   0%|          | 0/100 [00:00<?, ?it/s]"
            ]
          },
          "metadata": {},
          "output_type": "display_data"
        },
        {
          "name": "stderr",
          "output_type": "stream",
          "text": [
            "Node d28c503c-6512-4743-88b5-76603a67def8 does not have a summary. Skipping filtering.\n",
            "Node 9cfdec6a-ea94-456d-aad0-7f2a5d25283b does not have a summary. Skipping filtering.\n",
            "Node 7fe4d611-be52-408b-8770-68f36c8ef899 does not have a summary. Skipping filtering.\n",
            "Node c78a29c2-1f09-4c96-b2b0-ab3752803719 does not have a summary. Skipping filtering.\n",
            "Node 25daad1c-0402-4d70-8f1b-3cc4fa72e155 does not have a summary. Skipping filtering.\n",
            "Node a8a795bf-5c2d-4554-bc93-fda920869ea2 does not have a summary. Skipping filtering.\n",
            "Node 2cfc8625-0790-414e-acd2-c9a74917f66f does not have a summary. Skipping filtering.\n",
            "Node c6c75ce4-e585-4a62-9a67-7f8bfe085854 does not have a summary. Skipping filtering.\n",
            "Node 838ea9e8-cabf-4b2f-aa2b-317b48eec30d does not have a summary. Skipping filtering.\n",
            "Node d4394d51-2ccf-4254-ad78-9490b4b4528a does not have a summary. Skipping filtering.\n",
            "Node be79b17c-7c08-4598-9836-aa2b9db8d94b does not have a summary. Skipping filtering.\n",
            "Node 7a279329-96d2-4b3e-ac22-a194c0e3cb08 does not have a summary. Skipping filtering.\n",
            "Node ef27af4a-0418-408e-a12a-b538966ff427 does not have a summary. Skipping filtering.\n",
            "Node b96a52d8-c18e-4114-b5ef-9d02c35a6155 does not have a summary. Skipping filtering.\n",
            "Node 24a3b1fe-e9a6-4663-914d-d153ae475a33 does not have a summary. Skipping filtering.\n",
            "Node d4e3e53a-f13c-4dfb-afa0-378a7dfdd6f2 does not have a summary. Skipping filtering.\n",
            "Node ae6e3c59-3304-4359-9b66-fe29e40cfa89 does not have a summary. Skipping filtering.\n",
            "Node 90a03945-2137-4945-a807-b9bcf0af96a5 does not have a summary. Skipping filtering.\n",
            "Node 15e46e47-e73f-4b91-90b8-d8d8508e503e does not have a summary. Skipping filtering.\n",
            "Node 833d2ee5-87d1-4218-967d-f9f06ddd7df4 does not have a summary. Skipping filtering.\n",
            "Node 75c5bb3a-4432-4e06-ab88-6928dedcc76b does not have a summary. Skipping filtering.\n",
            "Node 74daf23b-c1e9-42e7-bbc9-69b2853e2c43 does not have a summary. Skipping filtering.\n",
            "Node 7afa9283-808a-4ec9-9d8c-bba2c3204746 does not have a summary. Skipping filtering.\n",
            "Node 6cd8df50-e24d-48eb-b02c-59f87870df0f does not have a summary. Skipping filtering.\n",
            "Node ae517b53-5ba3-450c-8e6d-712f6aeff555 does not have a summary. Skipping filtering.\n",
            "Node 1ccb0a92-fa39-4515-93f6-c2ec8ad09ba9 does not have a summary. Skipping filtering.\n",
            "Node ccd81538-63f5-42cf-93ff-6f1ea4ca06a9 does not have a summary. Skipping filtering.\n",
            "Node f3bc400c-491d-4682-b663-348fb129f4ba does not have a summary. Skipping filtering.\n",
            "Node f9a8b17f-ca52-4009-8016-0621ecf935b2 does not have a summary. Skipping filtering.\n",
            "Node 85e6f67a-2cc1-408b-82fc-9a2f4e4cbac7 does not have a summary. Skipping filtering.\n",
            "Node 397b6c89-b6bc-4f17-9c42-36be81a0918e does not have a summary. Skipping filtering.\n",
            "Node 826fe6c8-fa3b-4b6d-8913-b7900452ea36 does not have a summary. Skipping filtering.\n",
            "Node 8c663e3d-d1c2-4f26-b8c7-474b9160b6e5 does not have a summary. Skipping filtering.\n",
            "Node 354b3fe3-6836-4e74-bf60-677d8e9ea3d7 does not have a summary. Skipping filtering.\n",
            "Node dd0ae08c-9f1e-4267-a9b2-26d9e4205660 does not have a summary. Skipping filtering.\n",
            "Node b1f8046f-c5b2-47a0-aa76-33caa1a598f6 does not have a summary. Skipping filtering.\n",
            "Node a5e641d8-35e7-4c1d-b5a8-7d65c1015eb4 does not have a summary. Skipping filtering.\n",
            "Node b98c1e1d-4a26-44d4-b0a7-9a0468cf1985 does not have a summary. Skipping filtering.\n",
            "Node 1bbdab62-a1e8-4f1b-a459-31153bb5b7e1 does not have a summary. Skipping filtering.\n",
            "Node daec0c8a-527a-46b8-8223-ceab84740556 does not have a summary. Skipping filtering.\n",
            "Node 8cadf880-3ded-4317-a828-eca9b54c3b8d does not have a summary. Skipping filtering.\n",
            "Node 9ad70acf-ce0c-4f06-8b89-0f356d63f00d does not have a summary. Skipping filtering.\n",
            "Node b01fefe6-c5f4-447d-aea5-9eca2716010c does not have a summary. Skipping filtering.\n",
            "Node 37f4ece6-e85d-4529-b9b2-befdbe4ec51e does not have a summary. Skipping filtering.\n",
            "Node 76135a9f-5fdc-4d6f-b4a3-a94d42a4ff1d does not have a summary. Skipping filtering.\n",
            "Node ec5edcab-b4ef-4a96-829a-f768f2442898 does not have a summary. Skipping filtering.\n",
            "Node e3b6c877-4e4d-435f-8419-f9fd2b6caff6 does not have a summary. Skipping filtering.\n",
            "Node 4a207051-5e83-4c69-b2ad-a742a2e76561 does not have a summary. Skipping filtering.\n",
            "Node 5758eb6c-a478-4562-816e-6e982079d309 does not have a summary. Skipping filtering.\n",
            "Node 6e406a8c-94b3-4b6b-b5d1-4102cce69cc6 does not have a summary. Skipping filtering.\n",
            "Node 6eb3a0e2-ee13-4272-a8cf-975f94a2dbfd does not have a summary. Skipping filtering.\n",
            "Node 282631b2-aa49-4412-b208-144aad9fda27 does not have a summary. Skipping filtering.\n",
            "Node 6680fe22-8545-447f-b2c8-76872299e281 does not have a summary. Skipping filtering.\n",
            "Node ec592dcd-4800-4877-9643-5572fd82df85 does not have a summary. Skipping filtering.\n",
            "Node 2c5cd113-36ea-4d80-853e-51f5dc63632d does not have a summary. Skipping filtering.\n",
            "Node a9d457d8-9892-48cf-8efb-cd742bf535c7 does not have a summary. Skipping filtering.\n"
          ]
        },
        {
          "data": {
            "application/vnd.jupyter.widget-view+json": {
              "model_id": "3756d8aff14746dc90e347b7a1841494",
              "version_major": 2,
              "version_minor": 0
            },
            "text/plain": [
              "Applying [EmbeddingExtractor, ThemesExtractor, NERExtractor]:   0%|          | 0/244 [00:00<?, ?it/s]"
            ]
          },
          "metadata": {},
          "output_type": "display_data"
        },
        {
          "name": "stderr",
          "output_type": "stream",
          "text": [
            "unable to apply transformation: Error code: 429 - {'error': {'message': 'Rate limit reached for gpt-4o in organization org-R7FhOpnBh8AV6HY4M573NtwE on tokens per min (TPM): Limit 30000, Used 29653, Requested 775. Please try again in 856ms. Visit https://platform.openai.com/account/rate-limits to learn more.', 'type': 'tokens', 'param': None, 'code': 'rate_limit_exceeded'}}\n",
            "unable to apply transformation: Error code: 429 - {'error': {'message': 'Rate limit reached for gpt-4o in organization org-R7FhOpnBh8AV6HY4M573NtwE on tokens per min (TPM): Limit 30000, Used 29829, Requested 472. Please try again in 602ms. Visit https://platform.openai.com/account/rate-limits to learn more.', 'type': 'tokens', 'param': None, 'code': 'rate_limit_exceeded'}}\n"
          ]
        },
        {
          "data": {
            "application/vnd.jupyter.widget-view+json": {
              "model_id": "050041bd49fe46eab139de0e652eb53a",
              "version_major": 2,
              "version_minor": 0
            },
            "text/plain": [
              "Applying [CosineSimilarityBuilder, OverlapScoreBuilder]:   0%|          | 0/2 [00:00<?, ?it/s]"
            ]
          },
          "metadata": {},
          "output_type": "display_data"
        },
        {
          "data": {
            "application/vnd.jupyter.widget-view+json": {
              "model_id": "ec64e972393b44eda98826c1705e891c",
              "version_major": 2,
              "version_minor": 0
            },
            "text/plain": [
              "Generating personas:   0%|          | 0/3 [00:00<?, ?it/s]"
            ]
          },
          "metadata": {},
          "output_type": "display_data"
        },
        {
          "data": {
            "application/vnd.jupyter.widget-view+json": {
              "model_id": "6475273c769e438d91e0b0e802de8c98",
              "version_major": 2,
              "version_minor": 0
            },
            "text/plain": [
              "Generating Scenarios:   0%|          | 0/3 [00:00<?, ?it/s]"
            ]
          },
          "metadata": {},
          "output_type": "display_data"
        },
        {
          "data": {
            "application/vnd.jupyter.widget-view+json": {
              "model_id": "27d6c4218bda48eba90c30e5b16e03ee",
              "version_major": 2,
              "version_minor": 0
            },
            "text/plain": [
              "Generating Samples:   0%|          | 0/12 [00:00<?, ?it/s]"
            ]
          },
          "metadata": {},
          "output_type": "display_data"
        },
        {
          "name": "stdout",
          "output_type": "stream",
          "text": [
            "Q: What role does Keanu Reeves play in John Wick?\n",
            "GT: Keanu Reeves plays the role of John Wick, a character who seeks revenge on the people who took something he loved from him, with the plot revolving around his quest for vengeance.\n",
            "————————————————————————————————————————————————————————————\n",
            "Q: Wht is yur opinon on the John Wick series?\n",
            "GT: The reviewer notes that the fourth installment of the John Wick series is scoring immensely at the cinemas and acknowledges that the previous three films are apparently loved by everyone else in the world. This suggests a recognition of the series' popularity and success.\n",
            "————————————————————————————————————————————————————————————\n",
            "Q: What make John Wick movie special?\n",
            "GT: John Wick is special because it features real virtuoso action sequences and well-made choreographies, directed by Chad Stahelski, a stunt specialist. Unlike today's action movies, it doesn't use quick-cuts or shaky cameras, allowing viewers to actually see what's going on.\n",
            "————————————————————————————————————————————————————————————\n",
            "Q: How does the involvement of Russian mobsters contribute to the narrative of John Wick, and what impact does it have on the film's storytelling?\n",
            "GT: The involvement of Russian mobsters in John Wick serves as the catalyst for the protagonist's return to his former life as an assassin. After suffering a personal tragedy and losing the last meaningful thing in his life, his dog, to a group of Russian mobsters, John Wick is driven by vengeance. This sets the stage for the film's narrative, which, while slow and ambiguous at first, eventually reveals more and rarely lets up once it kicks into gear. The Russian mobsters' actions propel the story forward, leading to stylized, visceral action scenes and contributing to the film's overall feel of a violent music video. However, despite the fun and action, the story itself is noted to be lacking, with the over-the-top bloodletting and mayhem becoming redundant.\n",
            "————————————————————————————————————————————————————————————\n",
            "Q: How does the theme of revenge manifest in the action sequences of 'John Wick: Chapter 2'?\n",
            "GT: In 'John Wick: Chapter 2', the theme of revenge is intricately woven into the action sequences. The film opens with a high-octane car vs. bike chase, setting the tone for the relentless violence that follows. John Wick, portrayed by Keanu Reeves, is forced back into the world of hitmen when an Italian antagonist calls in a favor, compelling him to seek vengeance. The action sequences are marked by intense choreography, with Wick dispatching his enemies with precision, often finishing them with a shot to the head. Despite the film's relentless violence, some reviewers feel that it does not break new ground in action cinema, as the director Chad Stahelski offers more of the same without introducing novel elements to the genre.\n",
            "————————————————————————————————————————————————————————————\n",
            "Q: How do the martial arts sequences in John Wick 3 compare to typical action movies, and what makes them stand out according to reviews?\n",
            "GT: The martial arts sequences in John Wick 3 are praised for their clarity and extraordinary stunts, which stand out compared to typical action movies that often rely on shaky-cam and fast edits. According to reviews, John Wick 3 offers a refreshing take on action films by allowing viewers to see all the action clearly, with stunts that are described as extraordinary and a joy to watch. This contrasts with the criticism of other action movies, which are often seen as over-the-top and less engaging.\n",
            "————————————————————————————————————————————————————————————\n",
            "Q: Why John Wick Chapter 2 good but new one not?\n",
            "GT: John Wick Chapter 2 is praised for its over-the-top action, set design, and camera work, providing pure escapist entertainment. In contrast, the new film, despite anticipation, was a disappointment due to its lengthy runtime and troubled release history.\n",
            "————————————————————————————————————————————————————————————\n",
            "Q: Why people think John Wick 4 lost its identity but still set new standards in action cinema?\n",
            "GT: Some viewers feel that John Wick 4 lost its identity because the protagonist, John Wick, seems to have become a superhero, surviving unrealistic scenarios, which makes the stunts less credible compared to the first two movies. However, others believe it set new standards in action cinema due to its intense action sequences and impressive set pieces, such as the Tokyo scene with illuminated cherry blossoms, despite some illogical moments like the nightclub fight. The film is seen as more intense than previous entries, maintaining audience engagement even with its long runtime.\n",
            "————————————————————————————————————————————————————————————\n",
            "Q: Why did some fans feel that the John Wick series, especially by Parabellum, became too much and lost its true identity?\n",
            "GT: Some fans felt that the John Wick series, particularly by the time of Parabellum, became too much because the action sequences were perceived as too frenetic and over-the-top. By the third chapter, the attempt to top the previous films in terms of wild set pieces led to a sense of excess. Additionally, the fourth chapter was criticized for losing the franchise's true identity, with John Wick portrayed as a superhero who could withstand any hit and fall from any height without consequence. This shift in tone and credibility, along with forced comedic moments, contributed to the feeling that the series had become a parody of itself, losing the grounded and credible stunts that characterized the first two movies.\n",
            "————————————————————————————————————————————————————————————\n",
            "Q: How do the reviews of 'John Wick: Chapter 3 - Parabellum' differ in terms of its visual style and plot execution?\n",
            "GT: The reviews of 'John Wick: Chapter 3 - Parabellum' differ significantly in their assessment of the film's visual style and plot execution. One review praises the film for its 'insane' style, highlighting it as one of the best-looking action films, particularly impressed by a scene featuring Keanu Reeves on horseback. In contrast, another review criticizes the film as overrated, describing it as akin to a boring video game with a repetitive plot focused solely on John Wick running and killing assassins for a bounty, ultimately finding it tiresome and boring.\n",
            "————————————————————————————————————————————————————————————\n",
            "Q: How does 'John Wick: Chapter 3 - Parabellum' combine stunning visuals with its theme of consequences?\n",
            "GT: 'John Wick: Chapter 3 - Parabellum' combines stunning visuals with its theme of consequences by featuring breathtaking action sequences, such as Keanu Reeves on horseback shooting at motorcyclists, which are visually impressive and contribute to the film's exploration of the fallout from John's previous actions. This combination results in a film that is both visually striking and thematically rich, as it delves into the consequences of John's odyssey of violence in the world of assassination.\n",
            "————————————————————————————————————————————————————————————\n",
            "Q: How does John Wick: Chapter 4 improve upon the action sequences compared to John Wick Chapter 2?\n",
            "GT: John Wick: Chapter 4 improves upon the action sequences compared to John Wick Chapter 2 by enhancing the martial arts action and solidifying Keanu Reeves as the greatest martial arts action star of all time. While Chapter 2 is noted for its relentless violence and Keanu Reeves' hitman character's efficiency, Chapter 4 is praised for its continuous high-octane action from start to finish and the exceptional pairing of Reeves and Director Chad Stahelski, which elevates the film's action to new heights.\n",
            "————————————————————————————————————————————————————————————\n"
          ]
        }
      ],
      "source": [
        "from ragas.testset import TestsetGenerator\n",
        "\n",
        "generator = TestsetGenerator.from_langchain(\n",
        "    llm=chat_model,\n",
        "    embedding_model=embeddings\n",
        ")\n",
        "\n",
        "testset = generator.generate_with_langchain_docs(\n",
        "    documents=documents,\n",
        "    testset_size=12,\n",
        "    with_debugging_logs=False\n",
        ")\n",
        "\n",
        "# Eliminate samples that do not have a valid ground truth. This is being caused by rate limit errors, so I also increased the testset size above.\n",
        "testset.samples = [s for s in testset.samples if s.eval_sample.reference is not None]\n",
        "\n",
        "# print the testset (Question and Grounded Truth)\n",
        "for sample in testset.samples:\n",
        "    print(\"Q:\", sample.eval_sample.user_input)\n",
        "    print(\"GT:\", sample.eval_sample.reference)\n",
        "    print(\"—\" * 60)\n"
      ]
    },
    {
      "cell_type": "code",
      "execution_count": 103,
      "metadata": {},
      "outputs": [],
      "source": [
        "# Save the testset for potential reuse\n",
        "import json\n",
        "\n",
        "with open(\"testset.json\", \"w\") as f:\n",
        "    json.dump([s.model_dump() for s in testset.samples], f, indent=2)\n"
      ]
    },
    {
      "cell_type": "markdown",
      "metadata": {},
      "source": [
        "### Generate answers and metrrics using each of the 7 retrievers"
      ]
    },
    {
      "cell_type": "code",
      "execution_count": 108,
      "metadata": {},
      "outputs": [],
      "source": [
        "# Common method for generating answers per retriever.\n",
        "\n",
        "from datasets import Dataset\n",
        "from ragas import evaluate\n",
        "from ragas.metrics import (\n",
        "    answer_correctness,\n",
        "    answer_relevancy,\n",
        "    faithfulness,\n",
        "    context_recall,\n",
        "    context_precision,\n",
        ")\n",
        "\n",
        "def run_ragas_eval(samples, retriever, llm, embeddings, retriever_name=\"unnamed\"):\n",
        "    questions = []\n",
        "    contexts = []\n",
        "    answers = []\n",
        "    ground_truths = []\n",
        "\n",
        "    # Facilitate collection of latency and cost information by retriever type.\n",
        "    os.environ[\"LANGCHAIN_PROJECT\"] = f\"ragas-eval-test-{retriever_name}\"\n",
        "\n",
        "    for i, sample in enumerate(samples):\n",
        "        question = sample.eval_sample.user_input\n",
        "        ground_truth = sample.eval_sample.reference\n",
        "\n",
        "        # Step 1: Retrieve\n",
        "        docs = retriever.get_relevant_documents(question)\n",
        "        doc_texts = [doc.page_content for doc in docs]\n",
        "\n",
        "        # Step 2: Generate Answer\n",
        "        answer = llm.invoke(question).content\n",
        "\n",
        "        # Step 3: Append\n",
        "        questions.append(question)\n",
        "        contexts.append(doc_texts)\n",
        "        answers.append(answer)\n",
        "        ground_truths.append(ground_truth)\n",
        "\n",
        "        print(f\"[{retriever_name}] ✅ Sample {i+1}/{len(samples)} complete\")\n",
        "\n",
        "    # Step 4: Create dataset\n",
        "    ds = Dataset.from_dict({\n",
        "        \"question\": questions,\n",
        "        \"contexts\": contexts,\n",
        "        \"answer\": answers,\n",
        "        \"ground_truth\": ground_truths,\n",
        "    })\n",
        "\n",
        "    # Step 5: Evaluate\n",
        "    results = evaluate(\n",
        "        dataset=ds,\n",
        "        metrics=[\n",
        "            answer_correctness,\n",
        "            answer_relevancy,\n",
        "            faithfulness,\n",
        "            context_recall,\n",
        "            context_precision,\n",
        "        ],\n",
        "        llm=llm,\n",
        "        embeddings=embeddings\n",
        "    )\n",
        "\n",
        "    return results\n",
        "\n"
      ]
    },
    {
      "cell_type": "markdown",
      "metadata": {},
      "source": [
        "#### Run answer generation for every retriever"
      ]
    },
    {
      "cell_type": "code",
      "execution_count": 109,
      "metadata": {},
      "outputs": [
        {
          "name": "stdout",
          "output_type": "stream",
          "text": [
            "[Naive] ✅ Sample 1/12 complete\n",
            "[Naive] ✅ Sample 2/12 complete\n",
            "[Naive] ✅ Sample 3/12 complete\n",
            "[Naive] ✅ Sample 4/12 complete\n",
            "[Naive] ✅ Sample 5/12 complete\n",
            "[Naive] ✅ Sample 6/12 complete\n",
            "[Naive] ✅ Sample 7/12 complete\n",
            "[Naive] ✅ Sample 8/12 complete\n",
            "[Naive] ✅ Sample 9/12 complete\n",
            "[Naive] ✅ Sample 10/12 complete\n",
            "[Naive] ✅ Sample 11/12 complete\n",
            "[Naive] ✅ Sample 12/12 complete\n"
          ]
        },
        {
          "data": {
            "application/vnd.jupyter.widget-view+json": {
              "model_id": "1f4e06286d114b9f9d8f155b8da725f0",
              "version_major": 2,
              "version_minor": 0
            },
            "text/plain": [
              "Evaluating:   0%|          | 0/60 [00:00<?, ?it/s]"
            ]
          },
          "metadata": {},
          "output_type": "display_data"
        },
        {
          "name": "stderr",
          "output_type": "stream",
          "text": [
            "Exception raised in Job[4]: TimeoutError()\n",
            "Exception raised in Job[7]: TimeoutError()\n",
            "Exception raised in Job[9]: TimeoutError()\n",
            "Exception raised in Job[10]: TimeoutError()\n",
            "Exception raised in Job[12]: TimeoutError()\n",
            "Exception raised in Job[15]: TimeoutError()\n",
            "Exception raised in Job[17]: TimeoutError()\n",
            "Exception raised in Job[18]: TimeoutError()\n",
            "Exception raised in Job[20]: TimeoutError()\n",
            "Exception raised in Job[22]: TimeoutError()\n",
            "Exception raised in Job[25]: TimeoutError()\n",
            "Exception raised in Job[27]: TimeoutError()\n",
            "Exception raised in Job[28]: TimeoutError()\n",
            "Exception raised in Job[40]: RateLimitError(Error code: 429 - {'error': {'message': 'Rate limit reached for gpt-4o in organization org-R7FhOpnBh8AV6HY4M573NtwE on tokens per min (TPM): Limit 30000, Used 28979, Requested 2165. Please try again in 2.288s. Visit https://platform.openai.com/account/rate-limits to learn more.', 'type': 'tokens', 'param': None, 'code': 'rate_limit_exceeded'}})\n",
            "Exception raised in Job[32]: TimeoutError()\n",
            "Exception raised in Job[33]: TimeoutError()\n",
            "Exception raised in Job[37]: TimeoutError()\n",
            "Exception raised in Job[38]: TimeoutError()\n",
            "Exception raised in Job[39]: TimeoutError()\n",
            "Exception raised in Job[42]: TimeoutError()\n",
            "Exception raised in Job[43]: TimeoutError()\n",
            "Exception raised in Job[44]: TimeoutError()\n",
            "Exception raised in Job[45]: TimeoutError()\n",
            "Exception raised in Job[47]: RateLimitError(Error code: 429 - {'error': {'message': 'Rate limit reached for gpt-4o in organization org-R7FhOpnBh8AV6HY4M573NtwE on tokens per min (TPM): Limit 30000, Used 29412, Requested 2771. Please try again in 4.366s. Visit https://platform.openai.com/account/rate-limits to learn more.', 'type': 'tokens', 'param': None, 'code': 'rate_limit_exceeded'}})\n"
          ]
        }
      ],
      "source": [
        "naive_scores = run_ragas_eval(\n",
        "    samples=testset.samples,\n",
        "    retriever=naive_retriever,\n",
        "    llm=chat_model,\n",
        "    embeddings=embeddings,\n",
        "    retriever_name=\"Naive\"\n",
        ")"
      ]
    },
    {
      "cell_type": "code",
      "execution_count": 110,
      "metadata": {
        "id": "tgDICngKXLGK"
      },
      "outputs": [
        {
          "name": "stdout",
          "output_type": "stream",
          "text": [
            "{'answer_correctness': 0.3691, 'answer_relevancy': 0.8765, 'faithfulness': 0.4213, 'context_recall': 0.7238, 'context_precision': 0.5925}\n"
          ]
        }
      ],
      "source": [
        "print(naive_scores)\n"
      ]
    }
  ],
  "metadata": {
    "colab": {
      "provenance": [],
      "toc_visible": true
    },
    "kernelspec": {
      "display_name": ".venv",
      "language": "python",
      "name": "python3"
    },
    "language_info": {
      "codemirror_mode": {
        "name": "ipython",
        "version": 3
      },
      "file_extension": ".py",
      "mimetype": "text/x-python",
      "name": "python",
      "nbconvert_exporter": "python",
      "pygments_lexer": "ipython3",
      "version": "3.12.10"
    }
  },
  "nbformat": 4,
  "nbformat_minor": 0
}
