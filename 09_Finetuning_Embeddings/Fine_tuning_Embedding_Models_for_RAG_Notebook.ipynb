{
  "cells": [
    {
      "cell_type": "markdown",
      "metadata": {
        "id": "ckbbj5diaHkg"
      },
      "source": [
        "# Fine-tuning Embeddings for RAG on Specific Data\n",
        "\n",
        "As we start our \"fine-tuning\" week, we'll start with the lowest hanging improvement one can do for RAG - which is:\n",
        "\n",
        "Fine-tuning embeddings!\n",
        "\n",
        "- 🤝 Breakout Room #1:\n",
        "  - Task 1: Dependencies and Boilerplate\n",
        "  - Task 2: Loading Data\n",
        "  - Task 3: Constructing a Fine-tuning Dataset\n",
        "  - Task 4: Fine-tuning `snowflake-arctic-embed-l`\n",
        "  - Task 5: Evaluating our Retriever\n",
        "\n"
      ]
    },
    {
      "cell_type": "markdown",
      "metadata": {
        "id": "2xwor_3X6ODX"
      },
      "source": [
        "#### Basic Overview of Fine-tuning Embeddings\n",
        "\n",
        "In essence, what we want to do when we fine-tune our embedding models is very simple:\n",
        "\n",
        "```\n",
        "Move the embeddings for questions relating to a document\n",
        "closer together with that document\n",
        "```\n",
        "\n",
        "We can think of fine-tuning our embedding models as follows:\n",
        "\n",
        "1) We have some pair of text items that *should* be closer together\n",
        "  - `Question`, `Document` pairs\n",
        "  - EX: `Who drives the bus?`, `The bus was driven by Kyle, the Bus Driver`.\n",
        "\n",
        "2) We use these pairs as labeled data to fine-tune our embedding model.\n",
        "\n",
        "The process of training helps the model more accurately associate our questions with the correct documents."
      ]
    },
    {
      "cell_type": "markdown",
      "metadata": {
        "id": "DX5R3HVz6FOQ"
      },
      "source": [
        "##### ❓ Question #1:\n",
        "\n",
        "Describe the nuance between using Q&D pairs to train the embedding model vs. inter-document pairs/related sentences.\n",
        "\n",
        "What caveats does this approach have? Are there any special considerations for what kind of Q's we should use?\n",
        "\n",
        "##### ✅ Answer:\n",
        "+ The Q and D pairs pattern helps train for retrieval given a query\n",
        "+ inter-document pairs/related sentences help train the model for classification or general similarity use cases (exploratory; semantic).\n",
        "\n",
        "My initial guesses about the second part of the question were:\n",
        "+ Caveat: You do not want to use only one of these two patterns. Doing so limits the model's performance when responding to queries of the other pattern's type.\n",
        "\n",
        "+ Considerations:\n",
        "  + You need to ensure there is a strong correlation (or strong negative correlation) between the question and the document\n",
        "  + The questions need to be concise; answerable in one retrieval; cover specific topics in the domain we are tuning for; Informative (for example include the phrase an acronym stands for to reenforce it's meaning)\n",
        "\n",
        "The following table that ChatGPT offered is a good reference:\n",
        "\n",
        "| Criterion                   | Description                                                                       | Goal / Example                                               | Rating Scale                          |\n",
        "| --------------------------- | --------------------------------------------------------------------------------- | ------------------------------------------------------------ | ------------------------------------- |\n",
        "| **1. Relevance**            | Does the question clearly align with the document’s content?                      | The doc contains a clear answer to the question              | ❌ Off-topic → ✅ Direct match          |\n",
        "| **2. Specificity**          | Is the question focused on a specific detail or idea?                             | \"What does GPU stand for?\" vs. \"What is computing?\"          | ❌ Too vague → ✅ Targeted              |\n",
        "| **3. Retrievability**       | Could the correct doc be selected by a retriever using only this question?        | Works with embeddings alone — no external reasoning required | ❌ Too broad → ✅ Locatable             |\n",
        "| **4. Variety**              | Does the dataset include a mix of question types?                                 | Definitions, how-tos, comparisons, etc.                      | ❌ Repetitive → ✅ Diverse              |\n",
        "| **5. Terminology Coverage** | Are acronyms, synonyms, and alternate phrasings used across the dataset?          | Improves robustness to real-world language                   | ❌ Homogeneous → ✅ Linguistically rich |\n",
        "| **6. Domain Alignment**     | Does the question make sense in the target domain?                                | A \"checkout error\" question for an e-commerce product doc    | ❌ Generic → ✅ Domain-aware            |\n",
        "| **7. Context Granularity**  | Is the document chunk the smallest self-contained unit that answers the question? | Avoids overly large or noisy chunks                          | ❌ Overly broad → ✅ Focused            |\n",
        "| **8. Ambiguity Avoidance**  | Is the question free from double meanings or unclear references?                  | Avoids confusion during embedding training                   | ❌ Ambiguous → ✅ Clear                 |\n",
        "\n"
      ]
    },
    {
      "cell_type": "markdown",
      "metadata": {
        "id": "-NkSaurzbpyS"
      },
      "source": [
        "## Task 1: Dependencies and Boilerplate\n",
        "\n",
        "We'll set up our `nest_asyncio` so we can leverage async loops in our Notebook.\n",
        "\n",
        "We'll also install the required libraries we'll be using today, and set up our OpenAI API key!"
      ]
    },
    {
      "cell_type": "markdown",
      "metadata": {
        "id": "9c_EUibmcDU3"
      },
      "source": [
        "### Nest Asyncio"
      ]
    },
    {
      "cell_type": "code",
      "execution_count": 1,
      "metadata": {
        "id": "zq-6s7LbPnKH"
      },
      "outputs": [],
      "source": [
        "import nest_asyncio\n",
        "\n",
        "nest_asyncio.apply()"
      ]
    },
    {
      "cell_type": "markdown",
      "metadata": {
        "id": "R8uFz8RVcFFu"
      },
      "source": [
        "### Install Dependencies\n",
        "\n",
        "> NOTE: You do not need to do these steps if you are running this notebook locally with `uv`."
      ]
    },
    {
      "cell_type": "code",
      "execution_count": 2,
      "metadata": {
        "colab": {
          "base_uri": "https://localhost:8080/"
        },
        "id": "ulZIBA1ZoSsV",
        "outputId": "57ce59a9-f044-4304-bc3d-cb8067e5a65a"
      },
      "outputs": [
        {
          "name": "stdout",
          "output_type": "stream",
          "text": [
            "\u001b[?25l   \u001b[90m━━━━━━━━━━━━━━━━━━━━━━━━━━━━━━━━━━━━━━━━\u001b[0m \u001b[32m0.0/62.8 kB\u001b[0m \u001b[31m?\u001b[0m eta \u001b[36m-:--:--\u001b[0m\r\u001b[2K   \u001b[90m━━━━━━━━━━━━━━━━━━━━━━━━━━━━━━━━━━━━━━━━\u001b[0m \u001b[32m62.8/62.8 kB\u001b[0m \u001b[31m2.7 MB/s\u001b[0m eta \u001b[36m0:00:00\u001b[0m\n",
            "\u001b[?25h\u001b[?25l   \u001b[90m━━━━━━━━━━━━━━━━━━━━━━━━━━━━━━━━━━━━━━━━\u001b[0m \u001b[32m0.0/437.6 kB\u001b[0m \u001b[31m?\u001b[0m eta \u001b[36m-:--:--\u001b[0m\r\u001b[2K   \u001b[90m━━━━━━━━━━━━━━━━━━━━━━━━━━━━━━━━━━━━━━━━\u001b[0m \u001b[32m437.6/437.6 kB\u001b[0m \u001b[31m13.0 MB/s\u001b[0m eta \u001b[36m0:00:00\u001b[0m\n",
            "\u001b[?25h\u001b[?25l   \u001b[90m━━━━━━━━━━━━━━━━━━━━━━━━━━━━━━━━━━━━━━━━\u001b[0m \u001b[32m0.0/1.0 MB\u001b[0m \u001b[31m?\u001b[0m eta \u001b[36m-:--:--\u001b[0m\r\u001b[2K   \u001b[90m━━━━━━━━━━━━━━━━━━━━━━━━━━━━━━━━━━━━━━━━\u001b[0m \u001b[32m1.0/1.0 MB\u001b[0m \u001b[31m41.6 MB/s\u001b[0m eta \u001b[36m0:00:00\u001b[0m\n",
            "\u001b[2K   \u001b[90m━━━━━━━━━━━━━━━━━━━━━━━━━━━━━━━━━━━━━━━━\u001b[0m \u001b[32m2.5/2.5 MB\u001b[0m \u001b[31m89.3 MB/s\u001b[0m eta \u001b[36m0:00:00\u001b[0m\n",
            "\u001b[2K   \u001b[90m━━━━━━━━━━━━━━━━━━━━━━━━━━━━━━━━━━━━━━━━\u001b[0m \u001b[32m491.4/491.4 kB\u001b[0m \u001b[31m44.1 MB/s\u001b[0m eta \u001b[36m0:00:00\u001b[0m\n",
            "\u001b[2K   \u001b[90m━━━━━━━━━━━━━━━━━━━━━━━━━━━━━━━━━━━━━━━━\u001b[0m \u001b[32m116.3/116.3 kB\u001b[0m \u001b[31m14.5 MB/s\u001b[0m eta \u001b[36m0:00:00\u001b[0m\n",
            "\u001b[2K   \u001b[90m━━━━━━━━━━━━━━━━━━━━━━━━━━━━━━━━━━━━━━━━\u001b[0m \u001b[32m193.6/193.6 kB\u001b[0m \u001b[31m21.2 MB/s\u001b[0m eta \u001b[36m0:00:00\u001b[0m\n",
            "\u001b[2K   \u001b[90m━━━━━━━━━━━━━━━━━━━━━━━━━━━━━━━━━━━━━━━━\u001b[0m \u001b[32m143.5/143.5 kB\u001b[0m \u001b[31m17.3 MB/s\u001b[0m eta \u001b[36m0:00:00\u001b[0m\n",
            "\u001b[2K   \u001b[90m━━━━━━━━━━━━━━━━━━━━━━━━━━━━━━━━━━━━━━━━\u001b[0m \u001b[32m44.4/44.4 kB\u001b[0m \u001b[31m4.6 MB/s\u001b[0m eta \u001b[36m0:00:00\u001b[0m\n",
            "\u001b[2K   \u001b[90m━━━━━━━━━━━━━━━━━━━━━━━━━━━━━━━━━━━━━━━━\u001b[0m \u001b[32m1.2/1.2 MB\u001b[0m \u001b[31m74.8 MB/s\u001b[0m eta \u001b[36m0:00:00\u001b[0m\n",
            "\u001b[2K   \u001b[90m━━━━━━━━━━━━━━━━━━━━━━━━━━━━━━━━━━━━━━━━\u001b[0m \u001b[32m194.8/194.8 kB\u001b[0m \u001b[31m22.0 MB/s\u001b[0m eta \u001b[36m0:00:00\u001b[0m\n",
            "\u001b[2K   \u001b[90m━━━━━━━━━━━━━━━━━━━━━━━━━━━━━━━━━━━━━━━━\u001b[0m \u001b[32m50.9/50.9 kB\u001b[0m \u001b[31m5.8 MB/s\u001b[0m eta \u001b[36m0:00:00\u001b[0m\n",
            "\u001b[2K   \u001b[90m━━━━━━━━━━━━━━━━━━━━━━━━━━━━━━━━━━━━━━━━\u001b[0m \u001b[32m363.4/363.4 MB\u001b[0m \u001b[31m3.5 MB/s\u001b[0m eta \u001b[36m0:00:00\u001b[0m\n",
            "\u001b[2K   \u001b[90m━━━━━━━━━━━━━━━━━━━━━━━━━━━━━━━━━━━━━━━━\u001b[0m \u001b[32m13.8/13.8 MB\u001b[0m \u001b[31m119.5 MB/s\u001b[0m eta \u001b[36m0:00:00\u001b[0m\n",
            "\u001b[2K   \u001b[90m━━━━━━━━━━━━━━━━━━━━━━━━━━━━━━━━━━━━━━━━\u001b[0m \u001b[32m24.6/24.6 MB\u001b[0m \u001b[31m92.9 MB/s\u001b[0m eta \u001b[36m0:00:00\u001b[0m\n",
            "\u001b[2K   \u001b[90m━━━━━━━━━━━━━━━━━━━━━━━━━━━━━━━━━━━━━━━━\u001b[0m \u001b[32m883.7/883.7 kB\u001b[0m \u001b[31m58.2 MB/s\u001b[0m eta \u001b[36m0:00:00\u001b[0m\n",
            "\u001b[2K   \u001b[90m━━━━━━━━━━━━━━━━━━━━━━━━━━━━━━━━━━━━━━━━\u001b[0m \u001b[32m664.8/664.8 MB\u001b[0m \u001b[31m2.2 MB/s\u001b[0m eta \u001b[36m0:00:00\u001b[0m\n",
            "\u001b[2K   \u001b[90m━━━━━━━━━━━━━━━━━━━━━━━━━━━━━━━━━━━━━━━━\u001b[0m \u001b[32m211.5/211.5 MB\u001b[0m \u001b[31m4.9 MB/s\u001b[0m eta \u001b[36m0:00:00\u001b[0m\n",
            "\u001b[2K   \u001b[90m━━━━━━━━━━━━━━━━━━━━━━━━━━━━━━━━━━━━━━━━\u001b[0m \u001b[32m56.3/56.3 MB\u001b[0m \u001b[31m45.3 MB/s\u001b[0m eta \u001b[36m0:00:00\u001b[0m\n",
            "\u001b[2K   \u001b[90m━━━━━━━━━━━━━━━━━━━━━━━━━━━━━━━━━━━━━━━━\u001b[0m \u001b[32m127.9/127.9 MB\u001b[0m \u001b[31m20.7 MB/s\u001b[0m eta \u001b[36m0:00:00\u001b[0m\n",
            "\u001b[2K   \u001b[90m━━━━━━━━━━━━━━━━━━━━━━━━━━━━━━━━━━━━━━━━\u001b[0m \u001b[32m207.5/207.5 MB\u001b[0m \u001b[31m4.2 MB/s\u001b[0m eta \u001b[36m0:00:00\u001b[0m\n",
            "\u001b[2K   \u001b[90m━━━━━━━━━━━━━━━━━━━━━━━━━━━━━━━━━━━━━━━━\u001b[0m \u001b[32m21.1/21.1 MB\u001b[0m \u001b[31m99.9 MB/s\u001b[0m eta \u001b[36m0:00:00\u001b[0m\n",
            "\u001b[?25h\u001b[31mERROR: pip's dependency resolver does not currently take into account all the packages that are installed. This behaviour is the source of the following dependency conflicts.\n",
            "gcsfs 2025.3.2 requires fsspec==2025.3.2, but you have fsspec 2025.3.0 which is incompatible.\u001b[0m\u001b[31m\n",
            "\u001b[0m"
          ]
        }
      ],
      "source": [
        "!pip install -qU \"langchain_openai>=0.3.4\" \"langchain_huggingface\" \"langchain_core>=0.3.34\" \"langchain>=0.3.18\" \"langchain_community>=0.3.17\" \"langchain-text-splitters>=0.3.6\" \"datasets>=3.2.0\""
      ]
    },
    {
      "cell_type": "code",
      "execution_count": 3,
      "metadata": {
        "colab": {
          "base_uri": "https://localhost:8080/"
        },
        "id": "3GFD7B-tOCrx",
        "outputId": "a4fd3341-48d4-4527-c2d4-65117183d4e9"
      },
      "outputs": [
        {
          "name": "stdout",
          "output_type": "stream",
          "text": [
            "\u001b[2K   \u001b[90m━━━━━━━━━━━━━━━━━━━━━━━━━━━━━━━━━━━━━━━━\u001b[0m \u001b[32m472.8/472.8 kB\u001b[0m \u001b[31m8.1 MB/s\u001b[0m eta \u001b[36m0:00:00\u001b[0m\n",
            "\u001b[2K   \u001b[90m━━━━━━━━━━━━━━━━━━━━━━━━━━━━━━━━━━━━━━━━\u001b[0m \u001b[32m31.3/31.3 MB\u001b[0m \u001b[31m77.3 MB/s\u001b[0m eta \u001b[36m0:00:00\u001b[0m\n",
            "\u001b[2K   \u001b[90m━━━━━━━━━━━━━━━━━━━━━━━━━━━━━━━━━━━━━━━━\u001b[0m \u001b[32m20.0/20.0 MB\u001b[0m \u001b[31m98.1 MB/s\u001b[0m eta \u001b[36m0:00:00\u001b[0m\n",
            "\u001b[2K   \u001b[90m━━━━━━━━━━━━━━━━━━━━━━━━━━━━━━━━━━━━━━━━\u001b[0m \u001b[32m169.4/169.4 kB\u001b[0m \u001b[31m19.1 MB/s\u001b[0m eta \u001b[36m0:00:00\u001b[0m\n",
            "\u001b[?25h"
          ]
        }
      ],
      "source": [
        "!pip install -qU faiss-cpu python-pptx==1.0.2 nltk==3.9.1 pymupdf beautifulsoup4 lxml"
      ]
    },
    {
      "cell_type": "markdown",
      "metadata": {
        "id": "0FM-eUlrcI8a"
      },
      "source": [
        "### Provide OpenAI API Key"
      ]
    },
    {
      "cell_type": "code",
      "execution_count": 4,
      "metadata": {
        "colab": {
          "base_uri": "https://localhost:8080/"
        },
        "id": "wA_mlurVqtrp",
        "outputId": "c94579ae-ef2d-480b-8534-a20fe1dce2c5"
      },
      "outputs": [
        {
          "name": "stdout",
          "output_type": "stream",
          "text": [
            "Enter Your OpenAI API Key: ··········\n"
          ]
        }
      ],
      "source": [
        "import os\n",
        "import getpass\n",
        "\n",
        "os.environ[\"OPENAI_API_KEY\"] = getpass.getpass(\"Enter Your OpenAI API Key: \")"
      ]
    },
    {
      "cell_type": "markdown",
      "metadata": {
        "id": "TFZ217gCDVTr"
      },
      "source": [
        "## Task 2: Loading Data\n",
        "\n",
        "We'll prepare our data - and download our webpages which we'll be using for our data today.\n",
        "\n",
        "These webpages are from [Simon Willison's](https://simonwillison.net/) yearly \"AI learnings\".\n",
        "\n",
        "- [2023 Blog](https://simonwillison.net/2023/Dec/31/ai-in-2023/)\n",
        "- [2024 Blog](https://simonwillison.net/2024/Dec/31/llms-in-2024/)\n",
        "\n",
        "Let's start by collecting our data into a useful pile!"
      ]
    },
    {
      "cell_type": "code",
      "execution_count": 5,
      "metadata": {
        "id": "jjcwqjwJjq1l"
      },
      "outputs": [],
      "source": [
        "!mkdir data"
      ]
    },
    {
      "cell_type": "code",
      "execution_count": 6,
      "metadata": {
        "colab": {
          "base_uri": "https://localhost:8080/"
        },
        "id": "fa58FJr1jq1l",
        "outputId": "6877b801-bcdb-44fc-eb0d-fc599a3a9bba"
      },
      "outputs": [
        {
          "name": "stdout",
          "output_type": "stream",
          "text": [
            "  % Total    % Received % Xferd  Average Speed   Time    Time     Time  Current\n",
            "                                 Dload  Upload   Total   Spent    Left  Speed\n",
            "100 31554    0 31554    0     0  33290      0 --:--:-- --:--:-- --:--:-- 33284\n"
          ]
        }
      ],
      "source": [
        "!curl https://simonwillison.net/2023/Dec/31/ai-in-2023/ -o data/2023_llms.html"
      ]
    },
    {
      "cell_type": "code",
      "execution_count": 7,
      "metadata": {
        "colab": {
          "base_uri": "https://localhost:8080/"
        },
        "id": "cXKo46m8jq1l",
        "outputId": "50e0e3ec-e26e-4871-973a-8eb4459f71e2"
      },
      "outputs": [
        {
          "name": "stdout",
          "output_type": "stream",
          "text": [
            "  % Total    % Received % Xferd  Average Speed   Time    Time     Time  Current\n",
            "                                 Dload  Upload   Total   Spent    Left  Speed\n",
            "100 70721    0 70721    0     0  72254      0 --:--:-- --:--:-- --:--:-- 72237\n"
          ]
        }
      ],
      "source": [
        "!curl https://simonwillison.net/2024/Dec/31/llms-in-2024/ -o data/2024_llms.html"
      ]
    },
    {
      "cell_type": "code",
      "execution_count": 8,
      "metadata": {
        "id": "DHJhTzsvN75t"
      },
      "outputs": [],
      "source": [
        "from langchain_community.document_loaders import DirectoryLoader\n",
        "from langchain_community.document_loaders import BSHTMLLoader\n",
        "\n",
        "path = \"data/\"\n",
        "text_loader = DirectoryLoader(path, glob=\"*.html\", loader_cls=BSHTMLLoader)"
      ]
    },
    {
      "cell_type": "markdown",
      "metadata": {
        "id": "-UbKa6-V0nvp"
      },
      "source": [
        "Next, we'll set up a classic naive chunking strategy as we only care that the documents get parsed into chunks that we can generate synthetic questions about."
      ]
    },
    {
      "cell_type": "code",
      "execution_count": 9,
      "metadata": {
        "id": "NsPrOOqXOsNX"
      },
      "outputs": [],
      "source": [
        "from langchain_text_splitters import RecursiveCharacterTextSplitter\n",
        "\n",
        "text_splitter = RecursiveCharacterTextSplitter(\n",
        "    chunk_size = 750,\n",
        "    chunk_overlap  = 20,\n",
        "    length_function = len\n",
        ")"
      ]
    },
    {
      "cell_type": "markdown",
      "metadata": {
        "id": "lf_PoX7l09Rg"
      },
      "source": [
        "Next we can load/split these documents as follows.\n",
        "\n",
        "> NOTE: You may need to run this cell twice to get it to work."
      ]
    },
    {
      "cell_type": "code",
      "execution_count": 10,
      "metadata": {
        "id": "OMYPX6N6Os8M"
      },
      "outputs": [],
      "source": [
        "training_documents = text_splitter.split_documents(text_loader.load())"
      ]
    },
    {
      "cell_type": "code",
      "execution_count": 11,
      "metadata": {
        "colab": {
          "base_uri": "https://localhost:8080/"
        },
        "id": "PAozuMoNOvnp",
        "outputId": "cfc6e4cd-9218-45db-e482-cc1a961c8712"
      },
      "outputs": [
        {
          "data": {
            "text/plain": [
              "102"
            ]
          },
          "execution_count": 11,
          "metadata": {},
          "output_type": "execute_result"
        }
      ],
      "source": [
        "len(training_documents)"
      ]
    },
    {
      "cell_type": "markdown",
      "metadata": {
        "id": "0yE2TFIq1BuJ"
      },
      "source": [
        "Next, we're going to associate each of our chunks with a unique identifier."
      ]
    },
    {
      "cell_type": "code",
      "execution_count": 12,
      "metadata": {
        "id": "AwyIForybIpo"
      },
      "outputs": [],
      "source": [
        "import uuid\n",
        "\n",
        "id_set = set()\n",
        "\n",
        "for document in training_documents:\n",
        "  id = str(uuid.uuid4())\n",
        "  while id in id_set:\n",
        "    id = uuid.uuid4()\n",
        "  id_set.add(id)\n",
        "  document.metadata[\"id\"] = id"
      ]
    },
    {
      "cell_type": "markdown",
      "metadata": {
        "id": "PJnL4oNg341U"
      },
      "source": [
        "Next, we'll simply use naive Python slicing to create a training, test, and validation set to prepare our data for the next step."
      ]
    },
    {
      "cell_type": "code",
      "execution_count": 13,
      "metadata": {
        "id": "MTS4GTSEcnG4"
      },
      "outputs": [],
      "source": [
        "training_split_documents = training_documents[:len(training_documents) - 24]\n",
        "val_split_documents = training_documents[len(training_documents) - 24:102-12]\n",
        "test_split_documents = training_documents[102-12:]"
      ]
    },
    {
      "cell_type": "markdown",
      "metadata": {
        "id": "tzlvKbONDWvQ"
      },
      "source": [
        "## Task 3: Constructing a Fine-tuning Dataset\n",
        "\n",
        "Using the nodes we created above, we can finally start constructing a fine-tuning dataset utilizing OpenAI's `gpt-4.1-mini`\n",
        "\n",
        "The basic idea here is straightforward enough:\n",
        "\n",
        "1. We look at a document\n",
        "2. We generate questions that could be answered by that node\n",
        "\n",
        "This gives us a number of question/context pairs that we can use to fine-tune our Embeddings model."
      ]
    },
    {
      "cell_type": "code",
      "execution_count": 14,
      "metadata": {
        "id": "_EWfmIscMrvg"
      },
      "outputs": [],
      "source": [
        "from langchain_openai import ChatOpenAI\n",
        "\n",
        "qa_chat_model = ChatOpenAI(\n",
        "    model=\"gpt-4.1-mini\",\n",
        "    temperature=0\n",
        ")"
      ]
    },
    {
      "cell_type": "markdown",
      "metadata": {
        "id": "8-hLnsSB6Y-S"
      },
      "source": [
        "We'll create a simple Question Generation prompt to query `gpt-4o-mini` to generate Questions for each retrieved context."
      ]
    },
    {
      "cell_type": "code",
      "execution_count": 15,
      "metadata": {
        "id": "diEWcw00NMSj"
      },
      "outputs": [],
      "source": [
        "from langchain_core.prompts import ChatPromptTemplate\n",
        "\n",
        "qa_prompt = \"\"\"\\\n",
        "Given the following context, you must generate questions based on only the provided context.\n",
        "\n",
        "You are to generate {n_questions} questions which should be provided in the following format:\n",
        "\n",
        "1. QUESTION #1\n",
        "2. QUESTION #2\n",
        "...\n",
        "\n",
        "Context:\n",
        "{context}\n",
        "\"\"\"\n",
        "\n",
        "qa_prompt_template = ChatPromptTemplate.from_template(qa_prompt)"
      ]
    },
    {
      "cell_type": "markdown",
      "metadata": {
        "id": "u87Izpgm6_fk"
      },
      "source": [
        "We'll create a simple chain to query the LLM!"
      ]
    },
    {
      "cell_type": "code",
      "execution_count": 16,
      "metadata": {
        "id": "ggl9SSjiNbpG"
      },
      "outputs": [],
      "source": [
        "question_generation_chain = qa_prompt_template | qa_chat_model"
      ]
    },
    {
      "cell_type": "markdown",
      "metadata": {
        "id": "4duvHirh7DQv"
      },
      "source": [
        "There's a lot going on in this function - let's take a deeper look:\n",
        "\n",
        "1. First, we provide a list of documents and a number of questions\n",
        "2. We, for each document in our list, generate `n_questions` of questions.\n",
        "3. We then associate those questions and contexts via a `UUID`.\n",
        "\n",
        "> NOTE: The reason we're doing this `UUID` association is for ease of use later in the notebook."
      ]
    },
    {
      "cell_type": "markdown",
      "metadata": {
        "id": "1Lm2JvgC9X37"
      },
      "source": [
        "##### 🏗️ Activity #1:\n",
        "\n",
        "We have:\n",
        "\n",
        "- Lists of `Documents` with the `metadata` field `id`.\n",
        "\n",
        "We need:\n",
        "\n",
        "- An object with key `id`, which have values `str` questions.\n",
        "- An object with key `question_id`, which have values `List(str)` which will be a list of associated `context_id`.\n",
        "\n",
        "An Example:\n",
        "\n",
        "question_object:\n",
        "```python\n",
        "{\n",
        "'b4b95fb6-f827-4454-aa5b-20e62733f172': 'What types of accessible formats are available for persons with disabilities?',\n",
        "'df58ee4f-714c-419e-8324-94e5870574e2': 'How do accessible formats benefit persons with disabilities?',\n",
        "'505fce8b-0e56-48de-a251-61027e396918': 'What are some of the risks associated with the increasing capabilities of AI systems that generate synthetic content?',\n",
        "'8ff0ab33-60dc-4fee-8958-91bfb686aca8': 'Why is it important for providers of AI systems to embed technical solutions for marking and detecting synthetic content?'\n",
        "}\n",
        " ```\n",
        "\n",
        " context_object:\n",
        " ```python\n",
        "{\n",
        "'b4b95fb6-f827-4454-aa5b-20e62733f172': ['dd75bf94-75f3-4603-8e4b-5522f6925638'],\n",
        "'df58ee4f-714c-419e-8324-94e5870574e2': ['dd75bf94-75f3-4603-8e4b-5522f6925638'],\n",
        "'505fce8b-0e56-48de-a251-61027e396918': ['ffe3893f-688c-48e8-90bd-7a9feb953d90'],\n",
        "'8ff0ab33-60dc-4fee-8958-91bfb686aca8': ['ffe3893f-688c-48e8-90bd-7a9feb953d90'],\n",
        "}\n",
        " ```\n",
        "\n",
        " As you can see, a piece of context can be associated with more than 1 question.\n",
        "\n",
        " The task is to write the Python function(s) to accomplish this task.\n",
        "\n",
        " Your function signature is provided below, along with the desired return values.\n",
        "\n",
        " > NOTE: You can make any modifications that you desire - assuming that you have the correct input and outputs."
      ]
    },
    {
      "cell_type": "code",
      "execution_count": 17,
      "metadata": {
        "id": "U4yi4NfTCnLc"
      },
      "outputs": [],
      "source": [
        "import tqdm\n",
        "import asyncio\n",
        "\n",
        "\"\"\"\n",
        "Sample Usage of TQDM:\n",
        "\n",
        "for i in tqdm.tqdm(range(10)):\n",
        "  time.sleep(1)\n",
        "\"\"\"\n",
        "\n",
        "async def process_document(document, n_questions):\n",
        "    questions_generated = await question_generation_chain.ainvoke({\"context\": document.page_content, \"n_questions\": n_questions})\n",
        "\n",
        "    doc_questions = {}\n",
        "    doc_relevant_docs = {}\n",
        "\n",
        "    for question in questions_generated.content.split(\"\\n\"):\n",
        "        question_id = str(uuid.uuid4())\n",
        "        doc_questions[question_id] = \"\".join(question.split(\".\")[1:]).strip()\n",
        "        doc_relevant_docs[question_id] = [document.metadata[\"id\"]]\n",
        "\n",
        "    return doc_questions, doc_relevant_docs\n",
        "\n",
        "async def create_questions(documents, n_questions):\n",
        "    tasks = [process_document(doc, n_questions) for doc in documents]\n",
        "\n",
        "    questions = {}\n",
        "    relevant_docs = {}\n",
        "\n",
        "    for task in tqdm.tqdm(asyncio.as_completed(tasks), total=len(documents), desc=\"Processing documents\"):\n",
        "        doc_questions, doc_relevant_docs = await task\n",
        "        questions.update(doc_questions)\n",
        "        relevant_docs.update(doc_relevant_docs)\n",
        "\n",
        "    return questions, relevant_docs"
      ]
    },
    {
      "cell_type": "markdown",
      "metadata": {
        "id": "5W0eWOUo4QGL"
      },
      "source": [
        "### REMOVE `await` IF NOT USING ASYNC (HINT: Use `async`)"
      ]
    },
    {
      "cell_type": "code",
      "execution_count": 18,
      "metadata": {
        "colab": {
          "base_uri": "https://localhost:8080/"
        },
        "id": "85Dq6KRqEs0F",
        "outputId": "4b72eafd-fa30-44fd-c73c-0d7f364cefef"
      },
      "outputs": [
        {
          "name": "stderr",
          "output_type": "stream",
          "text": [
            "Processing documents: 100%|██████████| 78/78 [00:06<00:00, 12.49it/s]\n"
          ]
        }
      ],
      "source": [
        "training_questions, training_relevant_contexts = await create_questions(training_split_documents, 2)"
      ]
    },
    {
      "cell_type": "markdown",
      "metadata": {
        "id": "_FSTG0bb7w73"
      },
      "source": [
        "We'll use the function to generate training, validation, and test data."
      ]
    },
    {
      "cell_type": "code",
      "execution_count": 19,
      "metadata": {
        "colab": {
          "base_uri": "https://localhost:8080/"
        },
        "id": "eIZm4CqGVzBx",
        "outputId": "15e91313-b6e6-4477-fc3e-18861e08b5dd"
      },
      "outputs": [
        {
          "name": "stderr",
          "output_type": "stream",
          "text": [
            "Processing documents: 100%|██████████| 12/12 [00:06<00:00,  1.88it/s]\n"
          ]
        }
      ],
      "source": [
        "val_questions, val_relevant_contexts = await create_questions(val_split_documents, 2)"
      ]
    },
    {
      "cell_type": "code",
      "execution_count": 20,
      "metadata": {
        "colab": {
          "base_uri": "https://localhost:8080/"
        },
        "id": "o6qUHg9sV2_y",
        "outputId": "b9823d62-9b9e-4a87-87c0-5c6a7b4224ce"
      },
      "outputs": [
        {
          "name": "stderr",
          "output_type": "stream",
          "text": [
            "Processing documents: 100%|██████████| 12/12 [00:02<00:00,  5.23it/s]\n"
          ]
        }
      ],
      "source": [
        "test_questions, test_relevant_contexts = await create_questions(test_split_documents, 2)"
      ]
    },
    {
      "cell_type": "markdown",
      "metadata": {
        "id": "K_jYOnAI43zK"
      },
      "source": [
        "### Reformating and Saving Datasets\n",
        "\n",
        "Now, we can save our datasets for later use!"
      ]
    },
    {
      "cell_type": "code",
      "execution_count": 21,
      "metadata": {
        "id": "iF6IFFq9VsNu"
      },
      "outputs": [],
      "source": [
        "import json\n",
        "\n",
        "training_corpus = {train_item.metadata[\"id\"] : train_item.page_content for train_item in training_split_documents}\n",
        "\n",
        "train_dataset = {\n",
        "    \"questions\" : training_questions,\n",
        "    \"relevant_contexts\" : training_relevant_contexts,\n",
        "    \"corpus\" : training_corpus\n",
        "}\n",
        "\n",
        "with open(\"training_dataset.jsonl\", \"w\") as f:\n",
        "  json.dump(train_dataset, f)"
      ]
    },
    {
      "cell_type": "code",
      "execution_count": 22,
      "metadata": {
        "id": "PqF9WaueV-V8"
      },
      "outputs": [],
      "source": [
        "val_corpus = {val_item.metadata[\"id\"] : val_item.page_content for val_item in val_split_documents}\n",
        "\n",
        "val_dataset = {\n",
        "    \"questions\" : val_questions,\n",
        "    \"relevant_contexts\" : val_relevant_contexts,\n",
        "    \"corpus\" : val_corpus\n",
        "}\n",
        "\n",
        "with open(\"val_dataset.jsonl\", \"w\") as f:\n",
        "  json.dump(val_dataset, f)"
      ]
    },
    {
      "cell_type": "code",
      "execution_count": 23,
      "metadata": {
        "id": "0DSQ7WMnWAu6"
      },
      "outputs": [],
      "source": [
        "train_corpus = {test_item.metadata[\"id\"] : test_item.page_content for test_item in test_split_documents}\n",
        "\n",
        "test_dataset = {\n",
        "    \"questions\" : test_questions,\n",
        "    \"relevant_contexts\" : test_relevant_contexts,\n",
        "    \"corpus\" : train_corpus\n",
        "}\n",
        "\n",
        "with open(\"test_dataset.jsonl\", \"w\") as f:\n",
        "  json.dump(test_dataset, f)"
      ]
    },
    {
      "cell_type": "markdown",
      "metadata": {
        "id": "vAwklqQCgVi-"
      },
      "source": [
        "## Task 4: Fine-tuning `snowflake-arctic-embed-l`\n",
        "\n",
        "Now that we have a dataset, let's grab a `sentence-transformers` Embeddings model!\n",
        "\n",
        "We'll be using Snowflake's [`snowflake-arctic-embed-l`](https://huggingface.co/Snowflake/snowflake-arctic-embed-l) as a base embeddings model.\n",
        "\n",
        "It is a well performing embeddings model by itself, but there's a lot of very specific domain terms and vocabulary in our courpus - so lets fine-tune it and see what that can do for us!\n",
        "\n",
        ">> NOTE: Skip installing dependencies if you are running this notebook locally."
      ]
    },
    {
      "cell_type": "code",
      "execution_count": 24,
      "metadata": {
        "colab": {
          "base_uri": "https://localhost:8080/"
        },
        "id": "AXzVHP3v1Cno",
        "outputId": "0687823f-0fc7-4daf-ddaf-e38b3a9ee6bf"
      },
      "outputs": [
        {
          "name": "stdout",
          "output_type": "stream",
          "text": [
            "\u001b[2K   \u001b[90m━━━━━━━━━━━━━━━━━━━━━━━━━━━━━━━━━━━━━━━━\u001b[0m \u001b[32m345.7/345.7 kB\u001b[0m \u001b[31m6.8 MB/s\u001b[0m eta \u001b[36m0:00:00\u001b[0m\n",
            "\u001b[2K   \u001b[90m━━━━━━━━━━━━━━━━━━━━━━━━━━━━━━━━━━━━━━━━\u001b[0m \u001b[32m42.3/42.3 MB\u001b[0m \u001b[31m60.6 MB/s\u001b[0m eta \u001b[36m0:00:00\u001b[0m\n",
            "\u001b[?25h\u001b[31mERROR: pip's dependency resolver does not currently take into account all the packages that are installed. This behaviour is the source of the following dependency conflicts.\n",
            "cudf-cu12 25.2.1 requires pyarrow<20.0.0a0,>=14.0.0; platform_machine == \"x86_64\", but you have pyarrow 20.0.0 which is incompatible.\n",
            "pylibcudf-cu12 25.2.1 requires pyarrow<20.0.0a0,>=14.0.0; platform_machine == \"x86_64\", but you have pyarrow 20.0.0 which is incompatible.\u001b[0m\u001b[31m\n",
            "\u001b[0m"
          ]
        }
      ],
      "source": [
        "!pip install -qU sentence_transformers pyarrow"
      ]
    },
    {
      "cell_type": "code",
      "execution_count": 25,
      "metadata": {
        "colab": {
          "base_uri": "https://localhost:8080/",
          "height": 473,
          "referenced_widgets": [
            "151ee8edc1a149909297a0063b0cc91f",
            "ab8604852e9440088b7457492150af9a",
            "eeb370bc17984dfcac4247f16be1aa4a",
            "467c9c949f41498f93bbb27607f56682",
            "a976ce12fb8449fc9c11b7d2b37b9c44",
            "e52868ca1874497f896a90ab37161ddc",
            "d4cd39b944e840328ae8492e2e31229e",
            "120d82331c654470a55632f6f6028e30",
            "d6477794258a4be8a24b70322aae8e48",
            "19462b4c7a5b4d619221e1d5c58a3ef4",
            "06d4f3a6c37f46379470fc95fc1e056c",
            "b681c2db822b41f0be2bb59547e4d101",
            "68a2c0003cf149b1a3e9c4ea92097af5",
            "7230513c65d04ea1b55d7a46e892dfe0",
            "08a08e0df5714e5b9e10d8c64952d2c5",
            "3f0d9c53129c4025bed1a2b678c34fff",
            "69e208aa951044c5af88d932d12d096d",
            "d01562a2f6df41efa983542616ea84de",
            "1dbe6730909548aaa8dcd53878bd7107",
            "8caded6319214428bd39800c66b6019a",
            "7179258e3bea4e99a593dc621e0973f4",
            "e243e680ae244624be635a22efa586d5",
            "221cfd6334fb4653a4cd78315eae6149",
            "b6b56f05cd1b4d9ba702e11d908cf248",
            "e4f028562f944926971c1c73f9d6b28d",
            "1b7f37182b30433b8d53c550d99d469b",
            "346b401f241c48eb8be81de3595694d7",
            "f6ffc3d2cea94ca1a55c2ca40fd937fc",
            "0bb31d66fbf84183a6ed40cf2555557e",
            "75d8a9af78c34aeeaf8eb0e809c26259",
            "41c960b513f24dffb537ad422b13a7d1",
            "39d8a08068e54d3a99fac73c5172a054",
            "b5d30e4c6cbc4bd2aee5fcc4ef4cd15f",
            "19aa9a4214884fb4ac52552828a824f3",
            "ea26e32d8281491fb863d026e27e0a86",
            "6abf9281018b4a51a62381b627af46d9",
            "ca8337db3e804126a021480c73f0ac62",
            "41ca089e99f14ff1ad04f4cbb0ef6d98",
            "e4283e88007a4d6fbf80de0777258f21",
            "8ab177f5aff44c9b9ea1aa28d46d40ce",
            "2aace621495548e8bea8a9b2e819471c",
            "d1b5c39b9d8e485e84e1bcdf14b5bb1f",
            "72d66ac6ac4b489b89c00376855306ef",
            "ad94c0d08c2f4d0cbaec8d48cec76dc3",
            "d45b410889484b0785496efcc8f90739",
            "2f10414bcf1949d9a50fafb8da532529",
            "567e5efa43e74e258cece73bd011c218",
            "6791d04b6b984e0aa2795830f854fad1",
            "c0c31006f9c1493a99680cb463ce5e37",
            "f22c70c681a643ed961216ba4de79c6d",
            "282ca8fcc84a4a85b1f3d5b8bfb9afd8",
            "b206ee75dff24667887dcfabea6469bd",
            "0c148ee124bb40d48912daa8f726a476",
            "dcc9027dfc0c4916b9a372d04c851ec4",
            "df6d8fb9d4cb406a8626b29442822ded",
            "e949b5c846a34f4e93a0f55ff1e0d7fb",
            "1c2949775fef423790d4e2c7b54da8c2",
            "18c0ce074e3d48c68d01fad0816582c4",
            "3b69bac5f0154e29bf742f76ff284cfe",
            "142ae0dde47d4f398859b2ef1a1385c6",
            "d425b3c575664c678bd3c7d75f49465e",
            "d250f7e67df04e91afcf928e757421c4",
            "9ce241f7b4064a60bc3ca5b49f701dad",
            "f265fc762be24a74a4e72af0c91bacd0",
            "9036f2d7300343f1902546c4da392403",
            "8163bbe312684c9381cea37aedfd0c5f",
            "9ba30205eb054a71887a717d76060d01",
            "9d22f50dc5ba4202aee672f116de732f",
            "868b41fbeb444eebb44f3ca174fa2b0b",
            "8d336d600cf94677b54d4c18cc7ba434",
            "9d0cb68f8d8141fb96c9f1a73addb045",
            "d557e923111a4eae88856877dacec2c9",
            "99fe3a9ab83e4f9ebe15e39ee78b7672",
            "986e54ca118343c08748f23b30ea3e6b",
            "25a4aff1fcc8431eb32041bf9548f97a",
            "86548b7c10a0447c887fcc5d95e1c0e1",
            "9b0dad0f1d6c47eb9d32461855abeacb",
            "88ebd465a86146a2b2cd304a9124c4d7",
            "d01910b86a5f4adbb837547a70a383c9",
            "05e21799e4ac4d469c30cd35f1312af3",
            "76a84fe67e754e86949d827927bcd435",
            "094f2fb67e0e403eaf3ead80df8ab962",
            "bd66085b455540e18850e87e9d8f4516",
            "8313ed03e795409d942e391d35cfee9a",
            "27f68934d1f94abfbfe5984ba3761dfb",
            "87fa17d8d69448f1a41331de3a4d3618",
            "573c6b32ae4e4001bac54758d6787e36",
            "b2ac938227d240449c222f87e51f1805",
            "6641429a9b3947eb937d7863aa514ac4",
            "96706ffa0d5943a9a59cc1a47169228e",
            "aff249b92c5640458ed34e9dad9b687d",
            "47b7738a35424365be3205c536b46a90",
            "e0f49e3043f4417b8e24c7252b7d8e6b",
            "c6de49c4314a42ca845b54612b88da3d",
            "bebbe86dca624982bcf23d67a7e76d5a",
            "2c5d309609404e089741d55245f5f026",
            "2dbaf664b72e48b0adfb30cb4bd3e54e",
            "eaa2f297bb074846948d3cb62ee67842",
            "67cd389a655f4487801d89fcf90d2a3b",
            "decdf9f6b29547adb9f83ea146156bc2",
            "3db682bae6864a1bb143050244fd13c3",
            "a0ccd97385af428ba6cf32891d1c2e3c",
            "c347bef028724d30ab0801f33b171cc9",
            "4e07cde03abd48028687a33200920fdb",
            "002b87ad0fc34b019e0a6c62813c9597",
            "e67c9743ff15416ab7f994f09756e5cd",
            "94b93783d6464c10bb5ac1c16527bc5a",
            "4158f1dcddcc4a46b4bfd2c071b7f688",
            "d1727df15b5340dfaa79806685e11320",
            "b6c8590cf5ee44c7a5f0e6fa5d665286",
            "e81a86ce0b274eaeb57c4a7af58282ef",
            "4d02ec9e27e8450ab5e3d031be5fa647",
            "ae0bb6ab4f5340a3a38a603ec4e3244f",
            "7f548f3ac892420c8430b776961d8cf7",
            "f57da49186394c479c3b88453e62bd36",
            "90bbae3217a84c7dacc609fa2b35e6ea",
            "5e0f0fdb1a964cdf94e09880e6728025",
            "b13e2cc57924425eb165c579eeb8d291",
            "006d56b1a96749449855167d70f824c6",
            "95e2f5cd657a40d48a5a2b93a1b32b7d",
            "0d46c28f5fb34bf3b0f566172aee8d53"
          ]
        },
        "id": "G-PGsQB7Xo6V",
        "outputId": "3f5b19e6-fdef-41ab-c81e-996857df46bd"
      },
      "outputs": [
        {
          "name": "stderr",
          "output_type": "stream",
          "text": [
            "/usr/local/lib/python3.11/dist-packages/huggingface_hub/utils/_auth.py:94: UserWarning: \n",
            "The secret `HF_TOKEN` does not exist in your Colab secrets.\n",
            "To authenticate with the Hugging Face Hub, create a token in your settings tab (https://huggingface.co/settings/tokens), set it as secret in your Google Colab and restart your session.\n",
            "You will be able to reuse this secret in all of your notebooks.\n",
            "Please note that authentication is recommended but still optional to access public models or datasets.\n",
            "  warnings.warn(\n"
          ]
        },
        {
          "data": {
            "application/vnd.jupyter.widget-view+json": {
              "model_id": "151ee8edc1a149909297a0063b0cc91f",
              "version_major": 2,
              "version_minor": 0
            },
            "text/plain": [
              "modules.json:   0%|          | 0.00/349 [00:00<?, ?B/s]"
            ]
          },
          "metadata": {},
          "output_type": "display_data"
        },
        {
          "data": {
            "application/vnd.jupyter.widget-view+json": {
              "model_id": "b681c2db822b41f0be2bb59547e4d101",
              "version_major": 2,
              "version_minor": 0
            },
            "text/plain": [
              "config_sentence_transformers.json:   0%|          | 0.00/252 [00:00<?, ?B/s]"
            ]
          },
          "metadata": {},
          "output_type": "display_data"
        },
        {
          "data": {
            "application/vnd.jupyter.widget-view+json": {
              "model_id": "221cfd6334fb4653a4cd78315eae6149",
              "version_major": 2,
              "version_minor": 0
            },
            "text/plain": [
              "README.md:   0%|          | 0.00/85.4k [00:00<?, ?B/s]"
            ]
          },
          "metadata": {},
          "output_type": "display_data"
        },
        {
          "data": {
            "application/vnd.jupyter.widget-view+json": {
              "model_id": "19aa9a4214884fb4ac52552828a824f3",
              "version_major": 2,
              "version_minor": 0
            },
            "text/plain": [
              "sentence_bert_config.json:   0%|          | 0.00/107 [00:00<?, ?B/s]"
            ]
          },
          "metadata": {},
          "output_type": "display_data"
        },
        {
          "data": {
            "application/vnd.jupyter.widget-view+json": {
              "model_id": "d45b410889484b0785496efcc8f90739",
              "version_major": 2,
              "version_minor": 0
            },
            "text/plain": [
              "config.json:   0%|          | 0.00/704 [00:00<?, ?B/s]"
            ]
          },
          "metadata": {},
          "output_type": "display_data"
        },
        {
          "data": {
            "application/vnd.jupyter.widget-view+json": {
              "model_id": "e949b5c846a34f4e93a0f55ff1e0d7fb",
              "version_major": 2,
              "version_minor": 0
            },
            "text/plain": [
              "model.safetensors:   0%|          | 0.00/1.34G [00:00<?, ?B/s]"
            ]
          },
          "metadata": {},
          "output_type": "display_data"
        },
        {
          "data": {
            "application/vnd.jupyter.widget-view+json": {
              "model_id": "9ba30205eb054a71887a717d76060d01",
              "version_major": 2,
              "version_minor": 0
            },
            "text/plain": [
              "tokenizer_config.json:   0%|          | 0.00/1.38k [00:00<?, ?B/s]"
            ]
          },
          "metadata": {},
          "output_type": "display_data"
        },
        {
          "data": {
            "application/vnd.jupyter.widget-view+json": {
              "model_id": "88ebd465a86146a2b2cd304a9124c4d7",
              "version_major": 2,
              "version_minor": 0
            },
            "text/plain": [
              "vocab.txt:   0%|          | 0.00/232k [00:00<?, ?B/s]"
            ]
          },
          "metadata": {},
          "output_type": "display_data"
        },
        {
          "data": {
            "application/vnd.jupyter.widget-view+json": {
              "model_id": "6641429a9b3947eb937d7863aa514ac4",
              "version_major": 2,
              "version_minor": 0
            },
            "text/plain": [
              "tokenizer.json:   0%|          | 0.00/712k [00:00<?, ?B/s]"
            ]
          },
          "metadata": {},
          "output_type": "display_data"
        },
        {
          "data": {
            "application/vnd.jupyter.widget-view+json": {
              "model_id": "decdf9f6b29547adb9f83ea146156bc2",
              "version_major": 2,
              "version_minor": 0
            },
            "text/plain": [
              "special_tokens_map.json:   0%|          | 0.00/695 [00:00<?, ?B/s]"
            ]
          },
          "metadata": {},
          "output_type": "display_data"
        },
        {
          "data": {
            "application/vnd.jupyter.widget-view+json": {
              "model_id": "e81a86ce0b274eaeb57c4a7af58282ef",
              "version_major": 2,
              "version_minor": 0
            },
            "text/plain": [
              "config.json:   0%|          | 0.00/297 [00:00<?, ?B/s]"
            ]
          },
          "metadata": {},
          "output_type": "display_data"
        }
      ],
      "source": [
        "from sentence_transformers import SentenceTransformer\n",
        "\n",
        "model_id = \"Snowflake/snowflake-arctic-embed-l\"\n",
        "model = SentenceTransformer(model_id)"
      ]
    },
    {
      "cell_type": "markdown",
      "metadata": {
        "id": "4ztG07iB8CFO"
      },
      "source": [
        "We'll grab some necessary imports from `sentence_transformers` and `torch`.\n",
        "\n",
        "> NOTE: PyTorch (`torch`) is a popular machine learning library - while we don't go very deep into PyTorch it's an incredibly powerful and interesting library! Please read more about it [here](https://pytorch.org/tutorials/beginner/basics/intro.html)!"
      ]
    },
    {
      "cell_type": "code",
      "execution_count": 26,
      "metadata": {
        "id": "B-WbpuUWYFJr"
      },
      "outputs": [],
      "source": [
        "from torch.utils.data import DataLoader\n",
        "from torch.utils.data import Dataset\n",
        "from sentence_transformers import InputExample"
      ]
    },
    {
      "cell_type": "markdown",
      "metadata": {
        "id": "AJtPPlck8HBE"
      },
      "source": [
        "We're using a toy batch size here to reflect the limited number of examples we have.\n",
        "\n",
        "> NOTE: It is typical to use a much larger batch size (~64+), hardware permitting."
      ]
    },
    {
      "cell_type": "code",
      "execution_count": 27,
      "metadata": {
        "id": "8Lokhy6KYHAv"
      },
      "outputs": [],
      "source": [
        "BATCH_SIZE = 10"
      ]
    },
    {
      "cell_type": "markdown",
      "metadata": {
        "id": "b-6DT8hc8PmT"
      },
      "source": [
        "Let's move our dataset into the expected format for training."
      ]
    },
    {
      "cell_type": "code",
      "execution_count": 28,
      "metadata": {
        "id": "JJk37zQsYJ4P"
      },
      "outputs": [],
      "source": [
        "corpus = train_dataset['corpus']\n",
        "queries = train_dataset['questions']\n",
        "relevant_docs = train_dataset['relevant_contexts']\n",
        "\n",
        "examples = []\n",
        "for query_id, query in queries.items():\n",
        "    doc_id = relevant_docs[query_id][0]\n",
        "    text = corpus[doc_id]\n",
        "    example = InputExample(texts=[query, text])\n",
        "    examples.append(example)"
      ]
    },
    {
      "cell_type": "markdown",
      "metadata": {
        "id": "OjFx7KHI8TL0"
      },
      "source": [
        "Now we can create a `torch` `DataLoader`!"
      ]
    },
    {
      "cell_type": "code",
      "execution_count": 29,
      "metadata": {
        "id": "tiizmeIqZ_-w"
      },
      "outputs": [],
      "source": [
        "loader = DataLoader(\n",
        "    examples, batch_size=BATCH_SIZE\n",
        ")"
      ]
    },
    {
      "cell_type": "markdown",
      "metadata": {
        "id": "_vA8rzlX8XbT"
      },
      "source": [
        "Next up, we'll prepare our loss function!\n",
        "\n",
        "Loss is an important part of training, fine-tuning, and more. If you want a deep dive on loss - you can check out our [event on loss!](https://www.youtube.com/watch?v=iB8FWR9aD5Q&t=8s).\n",
        "\n",
        "The core loss we're using today is called `MultipleNegativesRankingLoss` - you can find more information [here](https://github.com/UKPLab/sentence-transformers/blob/master/sentence_transformers/losses/MultipleNegativesRankingLoss.py).\n",
        "\n",
        "This is \"wrapped\" in `MatryoshkaLoss`, which you can read the implementation of [here](https://github.com/UKPLab/sentence-transformers/blob/master/sentence_transformers/losses/MatryoshkaLoss.py)."
      ]
    },
    {
      "cell_type": "code",
      "execution_count": 30,
      "metadata": {
        "id": "Uga4nnBqlVeh"
      },
      "outputs": [],
      "source": [
        "from sentence_transformers.losses import MatryoshkaLoss, MultipleNegativesRankingLoss\n",
        "\n",
        "matryoshka_dimensions = [768, 512, 256, 128, 64]\n",
        "inner_train_loss = MultipleNegativesRankingLoss(model)\n",
        "train_loss = MatryoshkaLoss(\n",
        "    model, inner_train_loss, matryoshka_dims=matryoshka_dimensions\n",
        ")"
      ]
    },
    {
      "cell_type": "markdown",
      "metadata": {
        "id": "aJG4fOm66PHI"
      },
      "source": [
        "##### 🏗️ Activity #2:\n",
        "\n",
        "Both of these losses sound \"cool\", but what are they - exactly - under the hood?\n",
        "\n",
        "Why are these losses specifically doing? Please write a short summary of each loss.\n",
        "\n",
        "> NOTE: This is a course focused on AI Engineering and the application of AI - looking for a hint? Try pasting the code (linked above) into ChatGPT/Claude to write the summary!\n",
        "\n",
        "##### ✅ Answer:\n",
        "\n",
        "_**What are they under the hood?**_\n",
        "+ **MultipleNegativesRankingLoss:**\n",
        "  + Purpose: Learn embeddings such that a query is closer to its correct document than to all other documents in the batch.\n",
        "  + How it works:\n",
        "    + Given a batch of (query, positive_doc) pairs, the other documents in the batch are treated as negatives for each query.\n",
        "    + It uses a softmax over cosine similarities, encouraging the query to be closer to its true doc than to any other.\n",
        "    + It’s efficient because it reuses other positives as negatives, removing the need to mine negative examples manually.\n",
        "+ **MatryoshkaLoss:**\n",
        "  + Purpose: Learn embeddings that work well at multiple levels of dimensionality — useful for flexibility and memory-constrained retrieval.\n",
        "  + How it works:\n",
        "    + Wraps another loss (like MNRL) and computes that loss at several reduced dimensions.\n",
        "    + This trains the model to retain useful information even when embeddings are truncated (e.g., from 768 → 128 dimensions).\n",
        "    + Named after Matryoshka dolls because smaller embeddings \"fit inside\" larger ones.\n",
        "\n",
        "_**Summary of what each one does:**_\n",
        "+ **MultipleNegativesRankingLoss:** Pulls the query and correct document close together — and pushes all other documents in the batch further away.\n",
        "  + Simple, powerful loss for contrastive learning.\n",
        "  + Optimized for Q&A or retrieval-style fine-tuning.\n",
        "  + Uses the batch itself as negative examples (saves time & compute).\n",
        "+ **MatryoshkaLoss:** Train one model that works well across multiple embedding sizes — so you can trade off performance vs. memory later without retraining.\n",
        "  + Trains embeddings to be robust even when you cut off dimensions.\n",
        "  + Useful when deploying on edge devices or needing fast indexing.\n",
        "\n",
        "In the preceding code cell the two loss algorithms are nested. So at each embedding dimension, the MultipleNegativesRankingLoss runs first, bringing the query and correct document closer while pushing away the others; then the MatryoshkaLoss runs, reducing the embedding dimensions. Then the loop repeats. In this way, the model is trained to produce high-quality embeddings even at reduced dimensions."
      ]
    },
    {
      "cell_type": "markdown",
      "metadata": {
        "id": "QKxRuXfH844c"
      },
      "source": [
        "Now we can set-up our evaluator.\n",
        "\n",
        "> NOTE: Due to the formatting of our dataset - this is all we have to do!"
      ]
    },
    {
      "cell_type": "code",
      "execution_count": 31,
      "metadata": {
        "id": "f0hAFwUyaHQG"
      },
      "outputs": [],
      "source": [
        "from sentence_transformers.evaluation import InformationRetrievalEvaluator\n",
        "\n",
        "corpus = val_dataset['corpus']\n",
        "queries = val_dataset['questions']\n",
        "relevant_docs = val_dataset['relevant_contexts']\n",
        "\n",
        "evaluator = InformationRetrievalEvaluator(queries, corpus, relevant_docs)"
      ]
    },
    {
      "cell_type": "markdown",
      "metadata": {
        "id": "MYfap_ct8-bU"
      },
      "source": [
        "We'll train this model for 5 epochs, though you could increase this number if we had a significant amount more data."
      ]
    },
    {
      "cell_type": "code",
      "execution_count": 32,
      "metadata": {
        "id": "svZG0pBHiQr6"
      },
      "outputs": [],
      "source": [
        "EPOCHS = 10"
      ]
    },
    {
      "cell_type": "markdown",
      "metadata": {
        "id": "wxitWoNX9DwW"
      },
      "source": [
        "It's training time!\n",
        "\n",
        "> NOTE: We're manually defining a warm-up period here - this is just to provide a smooth ramp into our training!"
      ]
    },
    {
      "cell_type": "code",
      "execution_count": 33,
      "metadata": {
        "colab": {
          "base_uri": "https://localhost:8080/",
          "height": 647
        },
        "id": "CyPd18oujq1t",
        "outputId": "980fdd65-4ce8-492c-e731-f7301bcdf86f"
      },
      "outputs": [
        {
          "data": {
            "application/javascript": "\n        window._wandbApiKey = new Promise((resolve, reject) => {\n            function loadScript(url) {\n            return new Promise(function(resolve, reject) {\n                let newScript = document.createElement(\"script\");\n                newScript.onerror = reject;\n                newScript.onload = resolve;\n                document.body.appendChild(newScript);\n                newScript.src = url;\n            });\n            }\n            loadScript(\"https://cdn.jsdelivr.net/npm/postmate/build/postmate.min.js\").then(() => {\n            const iframe = document.createElement('iframe')\n            iframe.style.cssText = \"width:0;height:0;border:none\"\n            document.body.appendChild(iframe)\n            const handshake = new Postmate({\n                container: iframe,\n                url: 'https://wandb.ai/authorize'\n            });\n            const timeout = setTimeout(() => reject(\"Couldn't auto authenticate\"), 5000)\n            handshake.then(function(child) {\n                child.on('authorize', data => {\n                    clearTimeout(timeout)\n                    resolve(data)\n                });\n            });\n            })\n        });\n    ",
            "text/plain": [
              "<IPython.core.display.Javascript object>"
            ]
          },
          "metadata": {},
          "output_type": "display_data"
        },
        {
          "name": "stderr",
          "output_type": "stream",
          "text": [
            "\u001b[34m\u001b[1mwandb\u001b[0m: Logging into wandb.ai. (Learn how to deploy a W&B server locally: https://wandb.me/wandb-server)\n",
            "\u001b[34m\u001b[1mwandb\u001b[0m: You can find your API key in your browser here: https://wandb.ai/authorize?ref=models\n",
            "wandb: Paste an API key from your profile and hit enter:"
          ]
        },
        {
          "name": "stdout",
          "output_type": "stream",
          "text": [
            " ··········\n"
          ]
        },
        {
          "name": "stderr",
          "output_type": "stream",
          "text": [
            "\u001b[34m\u001b[1mwandb\u001b[0m: \u001b[33mWARNING\u001b[0m If you're specifying your api key in code, ensure this code is not shared publicly.\n",
            "\u001b[34m\u001b[1mwandb\u001b[0m: \u001b[33mWARNING\u001b[0m Consider setting the WANDB_API_KEY environment variable, or running `wandb login` from the command line.\n",
            "\u001b[34m\u001b[1mwandb\u001b[0m: No netrc file found, creating one.\n",
            "\u001b[34m\u001b[1mwandb\u001b[0m: Appending key for api.wandb.ai to your netrc file: /root/.netrc\n",
            "\u001b[34m\u001b[1mwandb\u001b[0m: Currently logged in as: \u001b[33mtamark22\u001b[0m (\u001b[33mtamark22-tamark-designs\u001b[0m) to \u001b[32mhttps://api.wandb.ai\u001b[0m. Use \u001b[1m`wandb login --relogin`\u001b[0m to force relogin\n"
          ]
        },
        {
          "data": {
            "text/html": [
              "Tracking run with wandb version 0.19.10"
            ],
            "text/plain": [
              "<IPython.core.display.HTML object>"
            ]
          },
          "metadata": {},
          "output_type": "display_data"
        },
        {
          "data": {
            "text/html": [
              "Run data is saved locally in <code>/content/wandb/run-20250505_192945-1dspaqd6</code>"
            ],
            "text/plain": [
              "<IPython.core.display.HTML object>"
            ]
          },
          "metadata": {},
          "output_type": "display_data"
        },
        {
          "data": {
            "text/html": [
              "Syncing run <strong><a href='https://wandb.ai/tamark22-tamark-designs/AIE6%20-%20Session%2009/runs/1dspaqd6' target=\"_blank\">run-7c27755e</a></strong> to <a href='https://wandb.ai/tamark22-tamark-designs/AIE6%20-%20Session%2009' target=\"_blank\">Weights & Biases</a> (<a href='https://wandb.me/developer-guide' target=\"_blank\">docs</a>)<br>"
            ],
            "text/plain": [
              "<IPython.core.display.HTML object>"
            ]
          },
          "metadata": {},
          "output_type": "display_data"
        },
        {
          "data": {
            "text/html": [
              " View project at <a href='https://wandb.ai/tamark22-tamark-designs/AIE6%20-%20Session%2009' target=\"_blank\">https://wandb.ai/tamark22-tamark-designs/AIE6%20-%20Session%2009</a>"
            ],
            "text/plain": [
              "<IPython.core.display.HTML object>"
            ]
          },
          "metadata": {},
          "output_type": "display_data"
        },
        {
          "data": {
            "text/html": [
              " View run at <a href='https://wandb.ai/tamark22-tamark-designs/AIE6%20-%20Session%2009/runs/1dspaqd6' target=\"_blank\">https://wandb.ai/tamark22-tamark-designs/AIE6%20-%20Session%2009/runs/1dspaqd6</a>"
            ],
            "text/plain": [
              "<IPython.core.display.HTML object>"
            ]
          },
          "metadata": {},
          "output_type": "display_data"
        },
        {
          "data": {
            "text/html": [],
            "text/plain": [
              "<IPython.core.display.HTML object>"
            ]
          },
          "metadata": {},
          "output_type": "display_data"
        },
        {
          "data": {
            "text/html": [
              "<br>    <style><br>        .wandb-row {<br>            display: flex;<br>            flex-direction: row;<br>            flex-wrap: wrap;<br>            justify-content: flex-start;<br>            width: 100%;<br>        }<br>        .wandb-col {<br>            display: flex;<br>            flex-direction: column;<br>            flex-basis: 100%;<br>            flex: 1;<br>            padding: 10px;<br>        }<br>    </style><br><div class=\"wandb-row\"><div class=\"wandb-col\"><h3>Run history:</h3><br/><table class=\"wandb\"><tr><td>avg_questions_per_doc</td><td>▁</td></tr><tr><td>n_documents</td><td>▁</td></tr><tr><td>total_questions</td><td>▁</td></tr></table><br/></div><div class=\"wandb-col\"><h3>Run summary:</h3><br/><table class=\"wandb\"><tr><td>avg_questions_per_doc</td><td>7.4</td></tr><tr><td>n_documents</td><td>102</td></tr><tr><td>total_questions</td><td>37</td></tr></table><br/></div></div>"
            ],
            "text/plain": [
              "<IPython.core.display.HTML object>"
            ]
          },
          "metadata": {},
          "output_type": "display_data"
        },
        {
          "data": {
            "text/html": [
              " View run <strong style=\"color:#cdcd00\">run-7c27755e</strong> at: <a href='https://wandb.ai/tamark22-tamark-designs/AIE6%20-%20Session%2009/runs/1dspaqd6' target=\"_blank\">https://wandb.ai/tamark22-tamark-designs/AIE6%20-%20Session%2009/runs/1dspaqd6</a><br> View project at: <a href='https://wandb.ai/tamark22-tamark-designs/AIE6%20-%20Session%2009' target=\"_blank\">https://wandb.ai/tamark22-tamark-designs/AIE6%20-%20Session%2009</a><br>Synced 5 W&B file(s), 0 media file(s), 0 artifact file(s) and 0 other file(s)"
            ],
            "text/plain": [
              "<IPython.core.display.HTML object>"
            ]
          },
          "metadata": {},
          "output_type": "display_data"
        },
        {
          "data": {
            "text/html": [
              "Find logs at: <code>./wandb/run-20250505_192945-1dspaqd6/logs</code>"
            ],
            "text/plain": [
              "<IPython.core.display.HTML object>"
            ]
          },
          "metadata": {},
          "output_type": "display_data"
        }
      ],
      "source": [
        "import wandb\n",
        "import uuid\n",
        "import statistics\n",
        "\n",
        "# Start a new run\n",
        "wandb.init(\n",
        "    project=\"AIE6 - Session 09\",\n",
        "    name=f\"run-{str(uuid.uuid4())[:8]}\",\n",
        "    tags=[\"question-generation\", \"embedding\", \"fine-tuning\"],\n",
        "    notes=\"Synthetic question generation from product documents\"\n",
        ")\n",
        "\n",
        "# Example simulated stats after generating questions\n",
        "n_documents = len(training_documents)\n",
        "question_counts = [7, 6, 8, 7, 9]  # Replace with actual per-doc stats\n",
        "total_questions = sum(question_counts)\n",
        "avg_questions = statistics.mean(question_counts)\n",
        "\n",
        "# Log basic run-level metrics\n",
        "wandb.log({\n",
        "    \"n_documents\": n_documents,\n",
        "    \"total_questions\": total_questions,\n",
        "    \"avg_questions_per_doc\": avg_questions\n",
        "})\n",
        "\n",
        "# Optional: log histogram of question distribution\n",
        "wandb.log({\n",
        "    \"questions_distribution\": wandb.Histogram(question_counts)\n",
        "})\n",
        "\n",
        "# Optional: log list of sample questions (from earlier collection)\n",
        "# wandb.log({\"sample_questions\": wandb.Table(data=sample_q_list, columns=[\"question\"])})\n",
        "\n",
        "# Finish run (optional in notebooks)\n",
        "wandb.finish()\n"
      ]
    },
    {
      "cell_type": "markdown",
      "metadata": {
        "id": "qZ129sKWjq1u"
      },
      "source": [
        "> NOTE: You may not see direct improvement during the training cycles - this is absolutely expected. We will verify performance later in the notebook."
      ]
    },
    {
      "cell_type": "code",
      "execution_count": 34,
      "metadata": {
        "colab": {
          "base_uri": "https://localhost:8080/",
          "height": 677,
          "referenced_widgets": [
            "b0520121429e48aeaca07580d39124dd",
            "c14f637620294f9bbf8d95355383a335",
            "e63df2177fd24ac4a646efaac96ab673",
            "578d24597c4442f797dd34714214f332",
            "51a919dfa7b84396b0ced32d0d23b521",
            "608085f09220485d9e888b04dbc92eb4",
            "ab420f5293d54858879715fc254fdecb",
            "f0d3376693ad4602b5bedfd4bbf46080",
            "39d51bb1fd224b2a9000ad488d12dd0c",
            "2ec9a3b4e0d64f0aba5271e704e974d5",
            "a2eb3b1d088f4380af0ffb15f565d501"
          ]
        },
        "id": "aDhUHZY-iR09",
        "outputId": "07192614-2756-4547-e076-68aada04ff47"
      },
      "outputs": [
        {
          "name": "stderr",
          "output_type": "stream",
          "text": [
            "ERROR:asyncio:Task was destroyed but it is pending!\n",
            "task: <Task cancelling name='Task-1002' coro=<Event.wait() running at /usr/lib/python3.11/asyncio/locks.py:213> wait_for=<Future cancelled>>\n"
          ]
        },
        {
          "data": {
            "application/vnd.jupyter.widget-view+json": {
              "model_id": "b0520121429e48aeaca07580d39124dd",
              "version_major": 2,
              "version_minor": 0
            },
            "text/plain": [
              "Computing widget examples:   0%|          | 0/1 [00:00<?, ?example/s]"
            ]
          },
          "metadata": {},
          "output_type": "display_data"
        },
        {
          "name": "stderr",
          "output_type": "stream",
          "text": [
            "\u001b[34m\u001b[1mwandb\u001b[0m: \u001b[33mWARNING\u001b[0m The `run_name` is currently set to the same value as `TrainingArguments.output_dir`. If this was not intended, please specify a different run name by setting the `TrainingArguments.run_name` parameter.\n"
          ]
        },
        {
          "data": {
            "text/html": [
              "Changes to your `wandb` environment variables will be ignored because your `wandb` session has already started. For more information on how to modify your settings with `wandb.init()` arguments, please refer to <a href='https://wandb.me/wandb-init' target=\"_blank\">the W&B docs</a>."
            ],
            "text/plain": [
              "<IPython.core.display.HTML object>"
            ]
          },
          "metadata": {},
          "output_type": "display_data"
        },
        {
          "data": {
            "text/html": [
              "Tracking run with wandb version 0.19.10"
            ],
            "text/plain": [
              "<IPython.core.display.HTML object>"
            ]
          },
          "metadata": {},
          "output_type": "display_data"
        },
        {
          "data": {
            "text/html": [
              "Run data is saved locally in <code>/content/wandb/run-20250505_192949-wigf3pve</code>"
            ],
            "text/plain": [
              "<IPython.core.display.HTML object>"
            ]
          },
          "metadata": {},
          "output_type": "display_data"
        },
        {
          "data": {
            "text/html": [
              "Syncing run <strong><a href='https://wandb.ai/tamark22-tamark-designs/sentence-transformers/runs/wigf3pve' target=\"_blank\">checkpoints/model</a></strong> to <a href='https://wandb.ai/tamark22-tamark-designs/sentence-transformers' target=\"_blank\">Weights & Biases</a> (<a href='https://wandb.me/developer-guide' target=\"_blank\">docs</a>)<br>"
            ],
            "text/plain": [
              "<IPython.core.display.HTML object>"
            ]
          },
          "metadata": {},
          "output_type": "display_data"
        },
        {
          "data": {
            "text/html": [
              " View project at <a href='https://wandb.ai/tamark22-tamark-designs/sentence-transformers' target=\"_blank\">https://wandb.ai/tamark22-tamark-designs/sentence-transformers</a>"
            ],
            "text/plain": [
              "<IPython.core.display.HTML object>"
            ]
          },
          "metadata": {},
          "output_type": "display_data"
        },
        {
          "data": {
            "text/html": [
              " View run at <a href='https://wandb.ai/tamark22-tamark-designs/sentence-transformers/runs/wigf3pve' target=\"_blank\">https://wandb.ai/tamark22-tamark-designs/sentence-transformers/runs/wigf3pve</a>"
            ],
            "text/plain": [
              "<IPython.core.display.HTML object>"
            ]
          },
          "metadata": {},
          "output_type": "display_data"
        },
        {
          "data": {
            "text/html": [
              "\n",
              "    <div>\n",
              "      \n",
              "      <progress value='160' max='160' style='width:300px; height:20px; vertical-align: middle;'></progress>\n",
              "      [160/160 03:33, Epoch 10/10]\n",
              "    </div>\n",
              "    <table border=\"1\" class=\"dataframe\">\n",
              "  <thead>\n",
              " <tr style=\"text-align: left;\">\n",
              "      <th>Step</th>\n",
              "      <th>Training Loss</th>\n",
              "      <th>Validation Loss</th>\n",
              "      <th>Cosine Accuracy@1</th>\n",
              "      <th>Cosine Accuracy@3</th>\n",
              "      <th>Cosine Accuracy@5</th>\n",
              "      <th>Cosine Accuracy@10</th>\n",
              "      <th>Cosine Precision@1</th>\n",
              "      <th>Cosine Precision@3</th>\n",
              "      <th>Cosine Precision@5</th>\n",
              "      <th>Cosine Precision@10</th>\n",
              "      <th>Cosine Recall@1</th>\n",
              "      <th>Cosine Recall@3</th>\n",
              "      <th>Cosine Recall@5</th>\n",
              "      <th>Cosine Recall@10</th>\n",
              "      <th>Cosine Ndcg@10</th>\n",
              "      <th>Cosine Mrr@10</th>\n",
              "      <th>Cosine Map@100</th>\n",
              "    </tr>\n",
              "  </thead>\n",
              "  <tbody>\n",
              "    <tr>\n",
              "      <td>16</td>\n",
              "      <td>No log</td>\n",
              "      <td>No log</td>\n",
              "      <td>0.958333</td>\n",
              "      <td>1.000000</td>\n",
              "      <td>1.000000</td>\n",
              "      <td>1.000000</td>\n",
              "      <td>0.958333</td>\n",
              "      <td>0.333333</td>\n",
              "      <td>0.200000</td>\n",
              "      <td>0.100000</td>\n",
              "      <td>0.958333</td>\n",
              "      <td>1.000000</td>\n",
              "      <td>1.000000</td>\n",
              "      <td>1.000000</td>\n",
              "      <td>0.979167</td>\n",
              "      <td>0.972222</td>\n",
              "      <td>0.972222</td>\n",
              "    </tr>\n",
              "    <tr>\n",
              "      <td>32</td>\n",
              "      <td>No log</td>\n",
              "      <td>No log</td>\n",
              "      <td>0.916667</td>\n",
              "      <td>1.000000</td>\n",
              "      <td>1.000000</td>\n",
              "      <td>1.000000</td>\n",
              "      <td>0.916667</td>\n",
              "      <td>0.333333</td>\n",
              "      <td>0.200000</td>\n",
              "      <td>0.100000</td>\n",
              "      <td>0.916667</td>\n",
              "      <td>1.000000</td>\n",
              "      <td>1.000000</td>\n",
              "      <td>1.000000</td>\n",
              "      <td>0.969244</td>\n",
              "      <td>0.958333</td>\n",
              "      <td>0.958333</td>\n",
              "    </tr>\n",
              "    <tr>\n",
              "      <td>48</td>\n",
              "      <td>No log</td>\n",
              "      <td>No log</td>\n",
              "      <td>0.916667</td>\n",
              "      <td>1.000000</td>\n",
              "      <td>1.000000</td>\n",
              "      <td>1.000000</td>\n",
              "      <td>0.916667</td>\n",
              "      <td>0.333333</td>\n",
              "      <td>0.200000</td>\n",
              "      <td>0.100000</td>\n",
              "      <td>0.916667</td>\n",
              "      <td>1.000000</td>\n",
              "      <td>1.000000</td>\n",
              "      <td>1.000000</td>\n",
              "      <td>0.969244</td>\n",
              "      <td>0.958333</td>\n",
              "      <td>0.958333</td>\n",
              "    </tr>\n",
              "    <tr>\n",
              "      <td>50</td>\n",
              "      <td>No log</td>\n",
              "      <td>No log</td>\n",
              "      <td>0.916667</td>\n",
              "      <td>1.000000</td>\n",
              "      <td>1.000000</td>\n",
              "      <td>1.000000</td>\n",
              "      <td>0.916667</td>\n",
              "      <td>0.333333</td>\n",
              "      <td>0.200000</td>\n",
              "      <td>0.100000</td>\n",
              "      <td>0.916667</td>\n",
              "      <td>1.000000</td>\n",
              "      <td>1.000000</td>\n",
              "      <td>1.000000</td>\n",
              "      <td>0.969244</td>\n",
              "      <td>0.958333</td>\n",
              "      <td>0.958333</td>\n",
              "    </tr>\n",
              "    <tr>\n",
              "      <td>64</td>\n",
              "      <td>No log</td>\n",
              "      <td>No log</td>\n",
              "      <td>0.875000</td>\n",
              "      <td>1.000000</td>\n",
              "      <td>1.000000</td>\n",
              "      <td>1.000000</td>\n",
              "      <td>0.875000</td>\n",
              "      <td>0.333333</td>\n",
              "      <td>0.200000</td>\n",
              "      <td>0.100000</td>\n",
              "      <td>0.875000</td>\n",
              "      <td>1.000000</td>\n",
              "      <td>1.000000</td>\n",
              "      <td>1.000000</td>\n",
              "      <td>0.948411</td>\n",
              "      <td>0.930556</td>\n",
              "      <td>0.930556</td>\n",
              "    </tr>\n",
              "    <tr>\n",
              "      <td>80</td>\n",
              "      <td>No log</td>\n",
              "      <td>No log</td>\n",
              "      <td>0.875000</td>\n",
              "      <td>1.000000</td>\n",
              "      <td>1.000000</td>\n",
              "      <td>1.000000</td>\n",
              "      <td>0.875000</td>\n",
              "      <td>0.333333</td>\n",
              "      <td>0.200000</td>\n",
              "      <td>0.100000</td>\n",
              "      <td>0.875000</td>\n",
              "      <td>1.000000</td>\n",
              "      <td>1.000000</td>\n",
              "      <td>1.000000</td>\n",
              "      <td>0.948411</td>\n",
              "      <td>0.930556</td>\n",
              "      <td>0.930556</td>\n",
              "    </tr>\n",
              "    <tr>\n",
              "      <td>96</td>\n",
              "      <td>No log</td>\n",
              "      <td>No log</td>\n",
              "      <td>0.916667</td>\n",
              "      <td>1.000000</td>\n",
              "      <td>1.000000</td>\n",
              "      <td>1.000000</td>\n",
              "      <td>0.916667</td>\n",
              "      <td>0.333333</td>\n",
              "      <td>0.200000</td>\n",
              "      <td>0.100000</td>\n",
              "      <td>0.916667</td>\n",
              "      <td>1.000000</td>\n",
              "      <td>1.000000</td>\n",
              "      <td>1.000000</td>\n",
              "      <td>0.963789</td>\n",
              "      <td>0.951389</td>\n",
              "      <td>0.951389</td>\n",
              "    </tr>\n",
              "    <tr>\n",
              "      <td>100</td>\n",
              "      <td>No log</td>\n",
              "      <td>No log</td>\n",
              "      <td>0.916667</td>\n",
              "      <td>1.000000</td>\n",
              "      <td>1.000000</td>\n",
              "      <td>1.000000</td>\n",
              "      <td>0.916667</td>\n",
              "      <td>0.333333</td>\n",
              "      <td>0.200000</td>\n",
              "      <td>0.100000</td>\n",
              "      <td>0.916667</td>\n",
              "      <td>1.000000</td>\n",
              "      <td>1.000000</td>\n",
              "      <td>1.000000</td>\n",
              "      <td>0.969244</td>\n",
              "      <td>0.958333</td>\n",
              "      <td>0.958333</td>\n",
              "    </tr>\n",
              "    <tr>\n",
              "      <td>112</td>\n",
              "      <td>No log</td>\n",
              "      <td>No log</td>\n",
              "      <td>0.916667</td>\n",
              "      <td>1.000000</td>\n",
              "      <td>1.000000</td>\n",
              "      <td>1.000000</td>\n",
              "      <td>0.916667</td>\n",
              "      <td>0.333333</td>\n",
              "      <td>0.200000</td>\n",
              "      <td>0.100000</td>\n",
              "      <td>0.916667</td>\n",
              "      <td>1.000000</td>\n",
              "      <td>1.000000</td>\n",
              "      <td>1.000000</td>\n",
              "      <td>0.969244</td>\n",
              "      <td>0.958333</td>\n",
              "      <td>0.958333</td>\n",
              "    </tr>\n",
              "    <tr>\n",
              "      <td>128</td>\n",
              "      <td>No log</td>\n",
              "      <td>No log</td>\n",
              "      <td>0.916667</td>\n",
              "      <td>1.000000</td>\n",
              "      <td>1.000000</td>\n",
              "      <td>1.000000</td>\n",
              "      <td>0.916667</td>\n",
              "      <td>0.333333</td>\n",
              "      <td>0.200000</td>\n",
              "      <td>0.100000</td>\n",
              "      <td>0.916667</td>\n",
              "      <td>1.000000</td>\n",
              "      <td>1.000000</td>\n",
              "      <td>1.000000</td>\n",
              "      <td>0.969244</td>\n",
              "      <td>0.958333</td>\n",
              "      <td>0.958333</td>\n",
              "    </tr>\n",
              "    <tr>\n",
              "      <td>144</td>\n",
              "      <td>No log</td>\n",
              "      <td>No log</td>\n",
              "      <td>0.916667</td>\n",
              "      <td>1.000000</td>\n",
              "      <td>1.000000</td>\n",
              "      <td>1.000000</td>\n",
              "      <td>0.916667</td>\n",
              "      <td>0.333333</td>\n",
              "      <td>0.200000</td>\n",
              "      <td>0.100000</td>\n",
              "      <td>0.916667</td>\n",
              "      <td>1.000000</td>\n",
              "      <td>1.000000</td>\n",
              "      <td>1.000000</td>\n",
              "      <td>0.969244</td>\n",
              "      <td>0.958333</td>\n",
              "      <td>0.958333</td>\n",
              "    </tr>\n",
              "    <tr>\n",
              "      <td>150</td>\n",
              "      <td>No log</td>\n",
              "      <td>No log</td>\n",
              "      <td>0.916667</td>\n",
              "      <td>1.000000</td>\n",
              "      <td>1.000000</td>\n",
              "      <td>1.000000</td>\n",
              "      <td>0.916667</td>\n",
              "      <td>0.333333</td>\n",
              "      <td>0.200000</td>\n",
              "      <td>0.100000</td>\n",
              "      <td>0.916667</td>\n",
              "      <td>1.000000</td>\n",
              "      <td>1.000000</td>\n",
              "      <td>1.000000</td>\n",
              "      <td>0.969244</td>\n",
              "      <td>0.958333</td>\n",
              "      <td>0.958333</td>\n",
              "    </tr>\n",
              "    <tr>\n",
              "      <td>160</td>\n",
              "      <td>No log</td>\n",
              "      <td>No log</td>\n",
              "      <td>0.916667</td>\n",
              "      <td>1.000000</td>\n",
              "      <td>1.000000</td>\n",
              "      <td>1.000000</td>\n",
              "      <td>0.916667</td>\n",
              "      <td>0.333333</td>\n",
              "      <td>0.200000</td>\n",
              "      <td>0.100000</td>\n",
              "      <td>0.916667</td>\n",
              "      <td>1.000000</td>\n",
              "      <td>1.000000</td>\n",
              "      <td>1.000000</td>\n",
              "      <td>0.969244</td>\n",
              "      <td>0.958333</td>\n",
              "      <td>0.958333</td>\n",
              "    </tr>\n",
              "  </tbody>\n",
              "</table><p>"
            ],
            "text/plain": [
              "<IPython.core.display.HTML object>"
            ]
          },
          "metadata": {},
          "output_type": "display_data"
        }
      ],
      "source": [
        "warmup_steps = int(len(loader) * EPOCHS * 0.1)\n",
        "\n",
        "model.fit(\n",
        "    train_objectives=[(loader, train_loss)],\n",
        "    epochs=EPOCHS,\n",
        "    warmup_steps=warmup_steps,\n",
        "    output_path='finetuned_arctic_ft',\n",
        "    show_progress_bar=True,\n",
        "    evaluator=evaluator,\n",
        "    evaluation_steps=50\n",
        ")"
      ]
    },
    {
      "cell_type": "code",
      "execution_count": 38,
      "metadata": {
        "colab": {
          "base_uri": "https://localhost:8080/",
          "height": 17,
          "referenced_widgets": [
            "1577c7f4b63045ba8e7c12797d5e9bc7",
            "59a1885138214b2cae4d96b004f9fa1d",
            "eab48a9c4b714e6395ee51fa34694f67",
            "08332e1e2da140b284a6316dd010e265",
            "1d1745de1f0c464b81e8b5e19b68b131",
            "74772b57ceac49c0bbef0e3837463645",
            "4904bcc16516426199b32b1dba421866",
            "44a4e7d77ee941e0868a32a2fb42b56a",
            "800e4566728d495594af38cb811d4019",
            "b9f47d96a7b545e5ad8d35cf961cb816",
            "966f87111485431e81236b7d61718583",
            "5c5d9bb49615493c9f52405afff248f3",
            "c842904d222847b4887b30111a3b1061",
            "7008b6bbf3484b018ab83ca8e639bad9",
            "e55075bc3a28405ca21b9b9de25d45a7",
            "0dea33fefbea4df4bbca74efcba54539",
            "88fedf6ab87f4b2eb88cfbabf85042e5",
            "807744702b9044d890dc5b7cd6f50055",
            "2878408589674fc0b50def3eb69a7b91",
            "a9f116b3a19a4417bf5b7fdb17f6cca7"
          ]
        },
        "id": "b3iwclvyRD8L",
        "outputId": "3140cfcf-9580-429d-af14-6916ce5a30ac"
      },
      "outputs": [
        {
          "data": {
            "application/vnd.jupyter.widget-view+json": {
              "model_id": "1577c7f4b63045ba8e7c12797d5e9bc7",
              "version_major": 2,
              "version_minor": 0
            },
            "text/plain": [
              "VBox(children=(HTML(value='<center> <img\\nsrc=https://huggingface.co/front/assets/huggingface_logo-noborder.sv…"
            ]
          },
          "metadata": {},
          "output_type": "display_data"
        }
      ],
      "source": [
        "from huggingface_hub import notebook_login\n",
        "\n",
        "notebook_login()"
      ]
    },
    {
      "cell_type": "code",
      "execution_count": 36,
      "metadata": {
        "id": "_pn-Y6yjRoHk"
      },
      "outputs": [],
      "source": [
        "hf_username = \"mwalker22\""
      ]
    },
    {
      "cell_type": "code",
      "execution_count": 39,
      "metadata": {
        "colab": {
          "base_uri": "https://localhost:8080/",
          "height": 67,
          "referenced_widgets": [
            "b9804d7df4df42588840d4cd990d9219",
            "2006c75912664872bea481ac516c50a0",
            "2c86fe0788144acd9d50c5d7e4b8279a",
            "91fd5ae63fc640689648c1895d4247a7",
            "50ba2d0b29224ee0a6b078123fb536bd",
            "f2f929b30b8e4a298cdcac1d576f32ee",
            "63c7469f19f344c497031ec5693d2520",
            "a21c02b987bd47faa0260cea40be0010",
            "aee739ab80144513982b56540cac9ac5",
            "13fd104f5e324b3d9b905fad5fedc4fc",
            "fb08f4adcd7f4858a0e48d06010d0417"
          ]
        },
        "id": "Nqhf3zWa9AiJ",
        "outputId": "1475968b-736a-4994-f95d-260ba609e9ba"
      },
      "outputs": [
        {
          "data": {
            "application/vnd.jupyter.widget-view+json": {
              "model_id": "b9804d7df4df42588840d4cd990d9219",
              "version_major": 2,
              "version_minor": 0
            },
            "text/plain": [
              "model.safetensors:   0%|          | 0.00/1.34G [00:00<?, ?B/s]"
            ]
          },
          "metadata": {},
          "output_type": "display_data"
        },
        {
          "data": {
            "application/vnd.google.colaboratory.intrinsic+json": {
              "type": "string"
            },
            "text/plain": [
              "'https://huggingface.co/mwalker22/AIE6-S09-87aedf81-ffbc-41ed-b4b6-8473344cae65/commit/6c94d0606db73db3c5f1ed9dfafbb0c92b7d11c0'"
            ]
          },
          "execution_count": 39,
          "metadata": {},
          "output_type": "execute_result"
        }
      ],
      "source": [
        "import uuid\n",
        "\n",
        "model.push_to_hub(f\"{hf_username}/AIE6-S09-{uuid.uuid4()}\")"
      ]
    },
    {
      "cell_type": "markdown",
      "metadata": {
        "id": "6bo0zW5k9Poq"
      },
      "source": [
        "## Task 5: Evaluating our Retriever\n",
        "\n",
        "Now that we have fine-tuned our retriever - let's see if it's worthwhile!\n",
        "\n",
        "We'll start with some basic imports."
      ]
    },
    {
      "cell_type": "code",
      "execution_count": 40,
      "metadata": {
        "id": "Vq-2oqU0wHFr"
      },
      "outputs": [],
      "source": [
        "import pandas as pd\n",
        "\n",
        "from langchain_community.vectorstores import FAISS\n",
        "from langchain_openai.embeddings import OpenAIEmbeddings\n",
        "from langchain_core.documents import Document"
      ]
    },
    {
      "cell_type": "markdown",
      "metadata": {
        "id": "5jD0qrIh9X8f"
      },
      "source": [
        "Now we'll define a function that will help us evaluate our retrieval process.\n",
        "\n",
        "> NOTE: We're assuming 1 correct document in a \"hit\"."
      ]
    },
    {
      "cell_type": "code",
      "execution_count": 41,
      "metadata": {
        "id": "0713_3cowX4q"
      },
      "outputs": [],
      "source": [
        "def evaluate_openai(\n",
        "    dataset,\n",
        "    embed_model,\n",
        "    top_k=5,\n",
        "    verbose=False,\n",
        "):\n",
        "  corpus = dataset['corpus']\n",
        "  questions = dataset['questions']\n",
        "  relevant_docs = dataset['relevant_contexts']\n",
        "  documents = [Document(page_content=content, metadata={\"id\": doc_id}) for doc_id, content in corpus.items()]\n",
        "  vectorstore = FAISS.from_documents(documents, embed_model)\n",
        "\n",
        "  retriever = vectorstore.as_retriever(search_kwargs={\"k\": top_k})\n",
        "\n",
        "  eval_results = []\n",
        "  for id, question in tqdm.tqdm(questions.items()):\n",
        "    retrieved_nodes = retriever.invoke(question)\n",
        "    retrieved_ids = [node.metadata[\"id\"] for node in retrieved_nodes]\n",
        "    expected_id = relevant_docs[id][0]\n",
        "    is_hit = expected_id in retrieved_ids\n",
        "    eval_results.append({\"id\": id, \"question\": question, \"expected_id\": expected_id, \"is_hit\": is_hit})\n",
        "\n",
        "  return eval_results"
      ]
    },
    {
      "cell_type": "markdown",
      "metadata": {
        "id": "hOr49m4O9lxY"
      },
      "source": [
        "All that's left to do is evaluate, we'll evaluate our model against:\n",
        "\n",
        "1. OpenAI's closed source `text-embedding-3-small`\n",
        "2. The base non-fine-tuned version of `Snowflake/snowflake-arctic-embed-l`.\n",
        "\n",
        "Let's see how it stacks up!"
      ]
    },
    {
      "cell_type": "markdown",
      "metadata": {
        "id": "ijaeYpf593IW"
      },
      "source": [
        "### `text-embedding-3-small`"
      ]
    },
    {
      "cell_type": "code",
      "execution_count": 42,
      "metadata": {
        "colab": {
          "base_uri": "https://localhost:8080/"
        },
        "id": "kyY3PztaxnU3",
        "outputId": "f8f295cd-f020-45f4-fb68-dfa6a544d020"
      },
      "outputs": [
        {
          "name": "stderr",
          "output_type": "stream",
          "text": [
            "100%|██████████| 24/24 [00:15<00:00,  1.54it/s]\n"
          ]
        }
      ],
      "source": [
        "te3_openai = OpenAIEmbeddings(model=\"text-embedding-3-small\")\n",
        "te3_results = evaluate_openai(test_dataset, te3_openai)"
      ]
    },
    {
      "cell_type": "code",
      "execution_count": 43,
      "metadata": {
        "id": "kkyW90TCxx_i"
      },
      "outputs": [],
      "source": [
        "te3_results_df = pd.DataFrame(te3_results)"
      ]
    },
    {
      "cell_type": "code",
      "execution_count": 44,
      "metadata": {
        "colab": {
          "base_uri": "https://localhost:8080/"
        },
        "id": "MscVRdNCylJ-",
        "outputId": "5bfd20a0-a4af-4465-8dbc-6c83c7878d9a"
      },
      "outputs": [
        {
          "data": {
            "text/plain": [
              "np.float64(1.0)"
            ]
          },
          "execution_count": 44,
          "metadata": {},
          "output_type": "execute_result"
        }
      ],
      "source": [
        "te3_hit_rate = te3_results_df[\"is_hit\"].mean()\n",
        "te3_hit_rate"
      ]
    },
    {
      "cell_type": "markdown",
      "metadata": {
        "id": "4Ra-mh0L96dQ"
      },
      "source": [
        "### `Snowflake/snowflake-arctic-embed-l` (base)"
      ]
    },
    {
      "cell_type": "code",
      "execution_count": 45,
      "metadata": {
        "colab": {
          "base_uri": "https://localhost:8080/"
        },
        "id": "OEskxwvFypHe",
        "outputId": "508cfa0b-572b-4b4b-8a03-4e49d9621d09"
      },
      "outputs": [
        {
          "name": "stderr",
          "output_type": "stream",
          "text": [
            "100%|██████████| 24/24 [00:00<00:00, 50.05it/s]\n"
          ]
        }
      ],
      "source": [
        "from langchain_huggingface import HuggingFaceEmbeddings\n",
        "\n",
        "huggingface_embeddings = HuggingFaceEmbeddings(model_name=\"Snowflake/snowflake-arctic-embed-l\")\n",
        "arctic_embed_m_results = evaluate_openai(test_dataset, huggingface_embeddings)"
      ]
    },
    {
      "cell_type": "code",
      "execution_count": 46,
      "metadata": {
        "id": "KlKgiXTWzMTg"
      },
      "outputs": [],
      "source": [
        "arctic_embed_m_results_df = pd.DataFrame(arctic_embed_m_results)"
      ]
    },
    {
      "cell_type": "code",
      "execution_count": 47,
      "metadata": {
        "colab": {
          "base_uri": "https://localhost:8080/"
        },
        "id": "zV5vJWrJzOhc",
        "outputId": "be6762fb-f645-4667-d119-0ecb01ca8bb6"
      },
      "outputs": [
        {
          "data": {
            "text/plain": [
              "np.float64(0.7916666666666666)"
            ]
          },
          "execution_count": 47,
          "metadata": {},
          "output_type": "execute_result"
        }
      ],
      "source": [
        "arctic_embed_m_hit_rate = arctic_embed_m_results_df[\"is_hit\"].mean()\n",
        "arctic_embed_m_hit_rate"
      ]
    },
    {
      "cell_type": "markdown",
      "metadata": {
        "id": "lcR3-0s19_lu"
      },
      "source": [
        "### `Snowflake/snowflake-arctic-embed-l` (fine-tuned)"
      ]
    },
    {
      "cell_type": "code",
      "execution_count": 48,
      "metadata": {
        "colab": {
          "base_uri": "https://localhost:8080/"
        },
        "id": "Ilse1LduzP1i",
        "outputId": "908e17ee-612f-44fe-b9ed-17d55cd2841a"
      },
      "outputs": [
        {
          "name": "stderr",
          "output_type": "stream",
          "text": [
            "Some weights of BertModel were not initialized from the model checkpoint at finetuned_arctic_ft and are newly initialized: ['pooler.dense.bias', 'pooler.dense.weight']\n",
            "You should probably TRAIN this model on a down-stream task to be able to use it for predictions and inference.\n",
            "100%|██████████| 24/24 [00:00<00:00, 49.55it/s]\n"
          ]
        }
      ],
      "source": [
        "finetune_embeddings = HuggingFaceEmbeddings(model_name=\"finetuned_arctic_ft\")\n",
        "finetune_results = evaluate_openai(test_dataset, finetune_embeddings)"
      ]
    },
    {
      "cell_type": "code",
      "execution_count": 49,
      "metadata": {
        "id": "xxhZPqkNzZlh"
      },
      "outputs": [],
      "source": [
        "finetune_results_df = pd.DataFrame(finetune_results)"
      ]
    },
    {
      "cell_type": "code",
      "execution_count": 50,
      "metadata": {
        "colab": {
          "base_uri": "https://localhost:8080/"
        },
        "id": "4thAK2BXzaj6",
        "outputId": "26b3412f-83b1-483c-f0af-c7b9205beff5"
      },
      "outputs": [
        {
          "data": {
            "text/plain": [
              "np.float64(1.0)"
            ]
          },
          "execution_count": 50,
          "metadata": {},
          "output_type": "execute_result"
        }
      ],
      "source": [
        "finetune_hit_rate = finetune_results_df[\"is_hit\"].mean()\n",
        "finetune_hit_rate"
      ]
    },
    {
      "cell_type": "markdown",
      "metadata": {
        "id": "iegFM209mBk3"
      },
      "source": [
        "## Task 1: Vibe Checking the RAG Pipeline\n",
        "\n",
        "We're going to use our RAG pipeline to vibe check on some common phrases now that we've modified it!"
      ]
    },
    {
      "cell_type": "markdown",
      "metadata": {
        "id": "Xzg0AA5krgR4"
      },
      "source": [
        "### Creating New Chunks\n",
        "\n",
        "In order to try and evaluate our system more fairly, let's create new chunks that we will use to create our Vector Store."
      ]
    },
    {
      "cell_type": "code",
      "execution_count": 51,
      "metadata": {
        "id": "KwQ2_LqNr0Tw"
      },
      "outputs": [],
      "source": [
        "text_splitter = RecursiveCharacterTextSplitter(\n",
        "    chunk_size = 600,\n",
        "    chunk_overlap  = 50,\n",
        "    length_function = len\n",
        ")\n",
        "\n",
        "training_documents = text_splitter.split_documents(text_loader.load())"
      ]
    },
    {
      "cell_type": "markdown",
      "metadata": {
        "id": "gIdxahHXpP-c"
      },
      "source": [
        "### Base Chain\n",
        "\n",
        "We'll start by constructing our base chain, which will use the untrained retrieval model."
      ]
    },
    {
      "cell_type": "markdown",
      "metadata": {
        "id": "bOsxIXpNpWC2"
      },
      "source": [
        "#### R - Retrieval"
      ]
    },
    {
      "cell_type": "code",
      "execution_count": 52,
      "metadata": {
        "id": "azIGIKYfmNCT"
      },
      "outputs": [],
      "source": [
        "from langchain_community.vectorstores import FAISS\n",
        "\n",
        "base_vectorstore = FAISS.from_documents(training_documents, huggingface_embeddings)\n",
        "base_retriever = base_vectorstore.as_retriever(search_kwargs={\"k\": 6})"
      ]
    },
    {
      "cell_type": "markdown",
      "metadata": {
        "id": "l-1nVZ0KpX5N"
      },
      "source": [
        "#### A - Augmented"
      ]
    },
    {
      "cell_type": "code",
      "execution_count": 53,
      "metadata": {
        "id": "G10Fr-aKojeA"
      },
      "outputs": [],
      "source": [
        "from langchain_core.prompts import ChatPromptTemplate\n",
        "\n",
        "RAG_PROMPT = \"\"\"\\\n",
        "Given a provided context and a question, you must answer the question. If you do not know the answer, you must state that you do not know.\n",
        "\n",
        "Context:\n",
        "{context}\n",
        "\n",
        "Question:\n",
        "{question}\n",
        "\n",
        "Answer:\n",
        "\"\"\"\n",
        "\n",
        "rag_prompt_template = ChatPromptTemplate.from_template(RAG_PROMPT)"
      ]
    },
    {
      "cell_type": "markdown",
      "metadata": {
        "id": "Euq6RQEopZvD"
      },
      "source": [
        "#### G - Generation"
      ]
    },
    {
      "cell_type": "code",
      "execution_count": 54,
      "metadata": {
        "id": "5-mfbbrypMHG"
      },
      "outputs": [],
      "source": [
        "rag_llm =  ChatOpenAI(\n",
        "    model=\"gpt-4.1-nano\",\n",
        "    temperature=0\n",
        ")"
      ]
    },
    {
      "cell_type": "markdown",
      "metadata": {
        "id": "wQ2p4mnUpbYY"
      },
      "source": [
        "#### RAG - LCEL RAG Pipeline"
      ]
    },
    {
      "cell_type": "code",
      "execution_count": 55,
      "metadata": {
        "id": "ssuR-LaboyGq"
      },
      "outputs": [],
      "source": [
        "from operator import itemgetter\n",
        "from langchain_core.output_parsers import StrOutputParser\n",
        "from langchain_core.runnables import RunnablePassthrough, RunnableParallel\n",
        "\n",
        "base_rag_chain = (\n",
        "    {\"context\": itemgetter(\"question\") | base_retriever, \"question\": itemgetter(\"question\")}\n",
        "    | RunnablePassthrough.assign(context=itemgetter(\"context\"))\n",
        "    | {\"response\": rag_prompt_template | rag_llm | StrOutputParser(), \"context\": itemgetter(\"context\")}\n",
        ")"
      ]
    },
    {
      "cell_type": "code",
      "execution_count": 56,
      "metadata": {
        "colab": {
          "base_uri": "https://localhost:8080/",
          "height": 105
        },
        "id": "emm6WbB9pfKt",
        "outputId": "bb3114bd-cbee-47b6-cc3c-8649bbc4dccd"
      },
      "outputs": [
        {
          "data": {
            "application/vnd.google.colaboratory.intrinsic+json": {
              "type": "string"
            },
            "text/plain": [
              "'Based on the provided context, an \"agent\" in the context of AI refers to systems that can act on your behalf, such as travel agents or digital assistants. However, the term is highly vague and lacks a clear, universally accepted definition. Different people interpret \"agents\" differently—some see them as systems that go and act independently, while others think of them as LLMs with access to tools that can be used iteratively to solve problems. Despite the excitement around AI agents, their practical utility remains uncertain, partly due to issues like gullibility and the difficulty in distinguishing truth from fiction. Overall, \"agent\" is a loosely defined term that still lacks a precise, agreed-upon meaning in the AI community.'"
            ]
          },
          "execution_count": 56,
          "metadata": {},
          "output_type": "execute_result"
        }
      ],
      "source": [
        "base_rag_chain.invoke({\"question\" : \"What is an agent?\"})[\"response\"]"
      ]
    },
    {
      "cell_type": "code",
      "execution_count": 57,
      "metadata": {
        "colab": {
          "base_uri": "https://localhost:8080/",
          "height": 53
        },
        "id": "mUOrd0OBprAq",
        "outputId": "54227268-a218-4f11-bea4-763909b6d255"
      },
      "outputs": [
        {
          "data": {
            "application/vnd.google.colaboratory.intrinsic+json": {
              "type": "string"
            },
            "text/plain": [
              "'Several organizations have produced models that are better than GPT-3, including Anthropic, Mistral, Google, Meta, EleutherAI, Stability AI, TII in Abu Dhabi (Falcon), Microsoft Research, xAI, Replit, and Baidu.'"
            ]
          },
          "execution_count": 57,
          "metadata": {},
          "output_type": "execute_result"
        }
      ],
      "source": [
        "base_rag_chain.invoke({\"question\" : \"Who has produced better models than GPT-3?\"})[\"response\"]"
      ]
    },
    {
      "cell_type": "code",
      "execution_count": 58,
      "metadata": {
        "colab": {
          "base_uri": "https://localhost:8080/",
          "height": 35
        },
        "id": "OnfuFl59py7I",
        "outputId": "4b7724c2-54f5-427a-fdef-f91595fc76ca"
      },
      "outputs": [
        {
          "data": {
            "application/vnd.google.colaboratory.intrinsic+json": {
              "type": "string"
            },
            "text/plain": [
              "'The provided context does not specify a particular time of year that is considered the \"laziest\" for AI.'"
            ]
          },
          "execution_count": 58,
          "metadata": {},
          "output_type": "execute_result"
        }
      ],
      "source": [
        "base_rag_chain.invoke({\"question\" : \"What is the laziest time of the year for AI?\"})[\"response\"]"
      ]
    },
    {
      "cell_type": "code",
      "execution_count": 59,
      "metadata": {
        "colab": {
          "base_uri": "https://localhost:8080/",
          "height": 35
        },
        "id": "-NmqwHBDqTZ8",
        "outputId": "fb63265f-f789-4628-c24f-1f785af0d522"
      },
      "outputs": [
        {
          "data": {
            "application/vnd.google.colaboratory.intrinsic+json": {
              "type": "string"
            },
            "text/plain": [
              "'The provided context does not specify who Simon is or what the largest model he has run on his phone is. Therefore, I do not know the answer.'"
            ]
          },
          "execution_count": 59,
          "metadata": {},
          "output_type": "execute_result"
        }
      ],
      "source": [
        "base_rag_chain.invoke({\"question\" : \"What is the largest model that Simon has run on his phone?\"})[\"response\"]"
      ]
    },
    {
      "cell_type": "markdown",
      "metadata": {
        "id": "SqNS0UJAp3lC"
      },
      "source": [
        "### Fine-tuned Embedding Model\n",
        "\n",
        "Now let's rebuild our RAG chain with the Fine-tuned model - the only component we need to change is our `FAISS` vectorstore!"
      ]
    },
    {
      "cell_type": "code",
      "execution_count": 60,
      "metadata": {
        "id": "ihO7tP6mqATy"
      },
      "outputs": [],
      "source": [
        "finetune_vectorstore = FAISS.from_documents(training_documents, finetune_embeddings)\n",
        "finetune_retriever = finetune_vectorstore.as_retriever(search_kwargs={\"k\": 6})"
      ]
    },
    {
      "cell_type": "code",
      "execution_count": 61,
      "metadata": {
        "id": "1_cIFvWzqKGY"
      },
      "outputs": [],
      "source": [
        "finetune_rag_chain = (\n",
        "    {\"context\": itemgetter(\"question\") | finetune_retriever, \"question\": itemgetter(\"question\")}\n",
        "    | RunnablePassthrough.assign(context=itemgetter(\"context\"))\n",
        "    | {\"response\": rag_prompt_template | rag_llm | StrOutputParser(), \"context\": itemgetter(\"context\")}\n",
        ")"
      ]
    },
    {
      "cell_type": "code",
      "execution_count": 62,
      "metadata": {
        "colab": {
          "base_uri": "https://localhost:8080/",
          "height": 87
        },
        "id": "OJmRHJF2qNgj",
        "outputId": "1a06551b-7d48-4e62-fe99-3967ca6e6eb3"
      },
      "outputs": [
        {
          "data": {
            "application/vnd.google.colaboratory.intrinsic+json": {
              "type": "string"
            },
            "text/plain": [
              "'Based on the provided context, an \"agent\" in the context of AI refers to systems that are envisioned to act on behalf of users, such as personal assistants or autonomous entities. However, the term is highly vague and lacks a clear, universally accepted definition. The discussions highlight that many claims about AI agents are often ambiguous, and despite ongoing development and prototypes, fully functional and reliable AI agents are still \"coming soon.\" Additionally, skepticism exists regarding their utility, primarily because current AI systems, like LLMs, can believe false information and struggle to distinguish truth from fiction, which limits their effectiveness as autonomous agents.'"
            ]
          },
          "execution_count": 62,
          "metadata": {},
          "output_type": "execute_result"
        }
      ],
      "source": [
        "finetune_rag_chain.invoke({\"question\" : \"What is an Agent?\"})[\"response\"]"
      ]
    },
    {
      "cell_type": "code",
      "execution_count": 63,
      "metadata": {
        "colab": {
          "base_uri": "https://localhost:8080/",
          "height": 53
        },
        "id": "EnK-c2ugqPPh",
        "outputId": "dd807f19-a780-403f-be4f-6ea739be4592"
      },
      "outputs": [
        {
          "data": {
            "application/vnd.google.colaboratory.intrinsic+json": {
              "type": "string"
            },
            "text/plain": [
              "'According to the provided context, multiple organizations have produced models that are better than GPT-3. Specifically, the text mentions that \"we’ve now seen better-than-GPT-3 class models produced by Anthropic, Mistral, Google, Meta, EleutherAI, Stability AI, TII in Abu Dhabi (Falcon), Microsoft Research, xAI, Replit, Baidu and a bunch of other organizations.\"'"
            ]
          },
          "execution_count": 63,
          "metadata": {},
          "output_type": "execute_result"
        }
      ],
      "source": [
        "finetune_rag_chain.invoke({\"question\" : \"Who has produced better models than GPT-3?\"})[\"response\"]"
      ]
    },
    {
      "cell_type": "code",
      "execution_count": 64,
      "metadata": {
        "colab": {
          "base_uri": "https://localhost:8080/",
          "height": 53
        },
        "id": "83hssg1AWozc",
        "outputId": "66565931-23e7-437c-d80c-5de3c409262a"
      },
      "outputs": [
        {
          "data": {
            "application/vnd.google.colaboratory.intrinsic+json": {
              "type": "string"
            },
            "text/plain": [
              "'The provided context suggests that ChatGPT may get lazy in December, possibly because its hidden system prompt includes the current date and its training data shows that people provide less useful answers approaching the holidays. Therefore, the laziest time of the year for AI, according to the context, is December.'"
            ]
          },
          "execution_count": 64,
          "metadata": {},
          "output_type": "execute_result"
        }
      ],
      "source": [
        "finetune_rag_chain.invoke({\"question\" : \"What is the laziest time of the year for AI?\"})[\"response\"]"
      ]
    },
    {
      "cell_type": "code",
      "execution_count": 65,
      "metadata": {
        "colab": {
          "base_uri": "https://localhost:8080/",
          "height": 35
        },
        "id": "rsHmGeFbqRET",
        "outputId": "c0be1430-86b3-4437-a9cb-e5e086029469"
      },
      "outputs": [
        {
          "data": {
            "application/vnd.google.colaboratory.intrinsic+json": {
              "type": "string"
            },
            "text/plain": [
              "'The largest model that Simon has run on his phone is Mistral 7B.'"
            ]
          },
          "execution_count": 65,
          "metadata": {},
          "output_type": "execute_result"
        }
      ],
      "source": [
        "finetune_rag_chain.invoke({\"question\" : \"What is the largest model that Simon has run on his phone?\"})[\"response\"]"
      ]
    },
    {
      "cell_type": "markdown",
      "metadata": {
        "id": "jDgD8seY_I3W"
      },
      "source": [
        "#### ❓Question #2:\n",
        "\n",
        "Which LCEL RAG Chain do you think answered the questions better, and why?\n",
        "\n",
        "##### ✅ Answer:\n",
        "\n",
        "The fined tuned model answered the questions better:\n",
        "1. _What is an Agent:_ The fine-tuned model's response was more conversational and easier to understand.\n",
        "2. _Who has produced better models than GPT-3?_ This one was a wash between the two models.\n",
        "3. _What is the laziest time of the year for AI?_ Again, more conversational. It also included additional, valuable information.\n",
        "4. _What is the largest model that Simon has run on his phone?_ The fine-tuned model's response was factually correct. This inormation was not found by the original model."
      ]
    },
    {
      "cell_type": "markdown",
      "metadata": {
        "id": "WCbq1sZArIx4"
      },
      "source": [
        "## Task 2: RAGAS Evaluation\n",
        "\n",
        "It's great to have some idea of how our system is doing based on vibe-checks, but let's use RAGAS to provide more insight info. on how things are improving!\n",
        "\n",
        "> NOTE: Please recreate *exactly* the RAGAS process we used to evaluate RAG, baselining with the default retriever, and then comparing the new retriever. The includes the Synthetic Data Generation steps."
      ]
    },
    {
      "cell_type": "code",
      "execution_count": 66,
      "metadata": {
        "colab": {
          "base_uri": "https://localhost:8080/"
        },
        "id": "PZWpER_HxNH_",
        "outputId": "7de37ea0-d85b-4eb6-e25d-0bba989bcb4e"
      },
      "outputs": [
        {
          "name": "stdout",
          "output_type": "stream",
          "text": [
            "Collecting ragas\n",
            "  Downloading ragas-0.2.15-py3-none-any.whl.metadata (9.0 kB)\n",
            "Requirement already satisfied: datasets in /usr/local/lib/python3.11/dist-packages (3.5.1)\n",
            "Requirement already satisfied: numpy in /usr/local/lib/python3.11/dist-packages (from ragas) (2.0.2)\n",
            "Requirement already satisfied: tiktoken in /usr/local/lib/python3.11/dist-packages (from ragas) (0.9.0)\n",
            "Requirement already satisfied: langchain in /usr/local/lib/python3.11/dist-packages (from ragas) (0.3.25)\n",
            "Requirement already satisfied: langchain-core in /usr/local/lib/python3.11/dist-packages (from ragas) (0.3.58)\n",
            "Requirement already satisfied: langchain-community in /usr/local/lib/python3.11/dist-packages (from ragas) (0.3.23)\n",
            "Requirement already satisfied: langchain_openai in /usr/local/lib/python3.11/dist-packages (from ragas) (0.3.16)\n",
            "Requirement already satisfied: nest-asyncio in /usr/local/lib/python3.11/dist-packages (from ragas) (1.6.0)\n",
            "Collecting appdirs (from ragas)\n",
            "  Downloading appdirs-1.4.4-py2.py3-none-any.whl.metadata (9.0 kB)\n",
            "Requirement already satisfied: pydantic>=2 in /usr/local/lib/python3.11/dist-packages (from ragas) (2.11.4)\n",
            "Requirement already satisfied: openai>1 in /usr/local/lib/python3.11/dist-packages (from ragas) (1.76.2)\n",
            "Collecting diskcache>=5.6.3 (from ragas)\n",
            "  Downloading diskcache-5.6.3-py3-none-any.whl.metadata (20 kB)\n",
            "Requirement already satisfied: filelock in /usr/local/lib/python3.11/dist-packages (from datasets) (3.18.0)\n",
            "Requirement already satisfied: pyarrow>=15.0.0 in /usr/local/lib/python3.11/dist-packages (from datasets) (20.0.0)\n",
            "Requirement already satisfied: dill<0.3.9,>=0.3.0 in /usr/local/lib/python3.11/dist-packages (from datasets) (0.3.8)\n",
            "Requirement already satisfied: pandas in /usr/local/lib/python3.11/dist-packages (from datasets) (2.2.2)\n",
            "Requirement already satisfied: requests>=2.32.2 in /usr/local/lib/python3.11/dist-packages (from datasets) (2.32.3)\n",
            "Requirement already satisfied: tqdm>=4.66.3 in /usr/local/lib/python3.11/dist-packages (from datasets) (4.67.1)\n",
            "Requirement already satisfied: xxhash in /usr/local/lib/python3.11/dist-packages (from datasets) (3.5.0)\n",
            "Requirement already satisfied: multiprocess<0.70.17 in /usr/local/lib/python3.11/dist-packages (from datasets) (0.70.16)\n",
            "Requirement already satisfied: fsspec<=2025.3.0,>=2023.1.0 in /usr/local/lib/python3.11/dist-packages (from fsspec[http]<=2025.3.0,>=2023.1.0->datasets) (2025.3.0)\n",
            "Requirement already satisfied: aiohttp in /usr/local/lib/python3.11/dist-packages (from datasets) (3.11.15)\n",
            "Requirement already satisfied: huggingface-hub>=0.24.0 in /usr/local/lib/python3.11/dist-packages (from datasets) (0.30.2)\n",
            "Requirement already satisfied: packaging in /usr/local/lib/python3.11/dist-packages (from datasets) (24.2)\n",
            "Requirement already satisfied: pyyaml>=5.1 in /usr/local/lib/python3.11/dist-packages (from datasets) (6.0.2)\n",
            "Requirement already satisfied: aiohappyeyeballs>=2.3.0 in /usr/local/lib/python3.11/dist-packages (from aiohttp->datasets) (2.6.1)\n",
            "Requirement already satisfied: aiosignal>=1.1.2 in /usr/local/lib/python3.11/dist-packages (from aiohttp->datasets) (1.3.2)\n",
            "Requirement already satisfied: attrs>=17.3.0 in /usr/local/lib/python3.11/dist-packages (from aiohttp->datasets) (25.3.0)\n",
            "Requirement already satisfied: frozenlist>=1.1.1 in /usr/local/lib/python3.11/dist-packages (from aiohttp->datasets) (1.6.0)\n",
            "Requirement already satisfied: multidict<7.0,>=4.5 in /usr/local/lib/python3.11/dist-packages (from aiohttp->datasets) (6.4.3)\n",
            "Requirement already satisfied: propcache>=0.2.0 in /usr/local/lib/python3.11/dist-packages (from aiohttp->datasets) (0.3.1)\n",
            "Requirement already satisfied: yarl<2.0,>=1.17.0 in /usr/local/lib/python3.11/dist-packages (from aiohttp->datasets) (1.20.0)\n",
            "Requirement already satisfied: typing-extensions>=3.7.4.3 in /usr/local/lib/python3.11/dist-packages (from huggingface-hub>=0.24.0->datasets) (4.13.2)\n",
            "Requirement already satisfied: anyio<5,>=3.5.0 in /usr/local/lib/python3.11/dist-packages (from openai>1->ragas) (4.9.0)\n",
            "Requirement already satisfied: distro<2,>=1.7.0 in /usr/local/lib/python3.11/dist-packages (from openai>1->ragas) (1.9.0)\n",
            "Requirement already satisfied: httpx<1,>=0.23.0 in /usr/local/lib/python3.11/dist-packages (from openai>1->ragas) (0.28.1)\n",
            "Requirement already satisfied: jiter<1,>=0.4.0 in /usr/local/lib/python3.11/dist-packages (from openai>1->ragas) (0.9.0)\n",
            "Requirement already satisfied: sniffio in /usr/local/lib/python3.11/dist-packages (from openai>1->ragas) (1.3.1)\n",
            "Requirement already satisfied: annotated-types>=0.6.0 in /usr/local/lib/python3.11/dist-packages (from pydantic>=2->ragas) (0.7.0)\n",
            "Requirement already satisfied: pydantic-core==2.33.2 in /usr/local/lib/python3.11/dist-packages (from pydantic>=2->ragas) (2.33.2)\n",
            "Requirement already satisfied: typing-inspection>=0.4.0 in /usr/local/lib/python3.11/dist-packages (from pydantic>=2->ragas) (0.4.0)\n",
            "Requirement already satisfied: charset-normalizer<4,>=2 in /usr/local/lib/python3.11/dist-packages (from requests>=2.32.2->datasets) (3.4.1)\n",
            "Requirement already satisfied: idna<4,>=2.5 in /usr/local/lib/python3.11/dist-packages (from requests>=2.32.2->datasets) (3.10)\n",
            "Requirement already satisfied: urllib3<3,>=1.21.1 in /usr/local/lib/python3.11/dist-packages (from requests>=2.32.2->datasets) (2.4.0)\n",
            "Requirement already satisfied: certifi>=2017.4.17 in /usr/local/lib/python3.11/dist-packages (from requests>=2.32.2->datasets) (2025.4.26)\n",
            "Requirement already satisfied: langchain-text-splitters<1.0.0,>=0.3.8 in /usr/local/lib/python3.11/dist-packages (from langchain->ragas) (0.3.8)\n",
            "Requirement already satisfied: langsmith<0.4,>=0.1.17 in /usr/local/lib/python3.11/dist-packages (from langchain->ragas) (0.3.39)\n",
            "Requirement already satisfied: SQLAlchemy<3,>=1.4 in /usr/local/lib/python3.11/dist-packages (from langchain->ragas) (2.0.40)\n",
            "Requirement already satisfied: tenacity!=8.4.0,<10.0.0,>=8.1.0 in /usr/local/lib/python3.11/dist-packages (from langchain-core->ragas) (9.1.2)\n",
            "Requirement already satisfied: jsonpatch<2.0,>=1.33 in /usr/local/lib/python3.11/dist-packages (from langchain-core->ragas) (1.33)\n",
            "Requirement already satisfied: dataclasses-json<0.7,>=0.5.7 in /usr/local/lib/python3.11/dist-packages (from langchain-community->ragas) (0.6.7)\n",
            "Requirement already satisfied: pydantic-settings<3.0.0,>=2.4.0 in /usr/local/lib/python3.11/dist-packages (from langchain-community->ragas) (2.9.1)\n",
            "Requirement already satisfied: httpx-sse<1.0.0,>=0.4.0 in /usr/local/lib/python3.11/dist-packages (from langchain-community->ragas) (0.4.0)\n",
            "Requirement already satisfied: regex>=2022.1.18 in /usr/local/lib/python3.11/dist-packages (from tiktoken->ragas) (2024.11.6)\n",
            "Requirement already satisfied: python-dateutil>=2.8.2 in /usr/local/lib/python3.11/dist-packages (from pandas->datasets) (2.9.0.post0)\n",
            "Requirement already satisfied: pytz>=2020.1 in /usr/local/lib/python3.11/dist-packages (from pandas->datasets) (2025.2)\n",
            "Requirement already satisfied: tzdata>=2022.7 in /usr/local/lib/python3.11/dist-packages (from pandas->datasets) (2025.2)\n",
            "Requirement already satisfied: marshmallow<4.0.0,>=3.18.0 in /usr/local/lib/python3.11/dist-packages (from dataclasses-json<0.7,>=0.5.7->langchain-community->ragas) (3.26.1)\n",
            "Requirement already satisfied: typing-inspect<1,>=0.4.0 in /usr/local/lib/python3.11/dist-packages (from dataclasses-json<0.7,>=0.5.7->langchain-community->ragas) (0.9.0)\n",
            "Requirement already satisfied: httpcore==1.* in /usr/local/lib/python3.11/dist-packages (from httpx<1,>=0.23.0->openai>1->ragas) (1.0.9)\n",
            "Requirement already satisfied: h11>=0.16 in /usr/local/lib/python3.11/dist-packages (from httpcore==1.*->httpx<1,>=0.23.0->openai>1->ragas) (0.16.0)\n",
            "Requirement already satisfied: jsonpointer>=1.9 in /usr/local/lib/python3.11/dist-packages (from jsonpatch<2.0,>=1.33->langchain-core->ragas) (3.0.0)\n",
            "Requirement already satisfied: orjson<4.0.0,>=3.9.14 in /usr/local/lib/python3.11/dist-packages (from langsmith<0.4,>=0.1.17->langchain->ragas) (3.10.18)\n",
            "Requirement already satisfied: requests-toolbelt<2.0.0,>=1.0.0 in /usr/local/lib/python3.11/dist-packages (from langsmith<0.4,>=0.1.17->langchain->ragas) (1.0.0)\n",
            "Requirement already satisfied: zstandard<0.24.0,>=0.23.0 in /usr/local/lib/python3.11/dist-packages (from langsmith<0.4,>=0.1.17->langchain->ragas) (0.23.0)\n",
            "Requirement already satisfied: python-dotenv>=0.21.0 in /usr/local/lib/python3.11/dist-packages (from pydantic-settings<3.0.0,>=2.4.0->langchain-community->ragas) (1.1.0)\n",
            "Requirement already satisfied: six>=1.5 in /usr/local/lib/python3.11/dist-packages (from python-dateutil>=2.8.2->pandas->datasets) (1.17.0)\n",
            "Requirement already satisfied: greenlet>=1 in /usr/local/lib/python3.11/dist-packages (from SQLAlchemy<3,>=1.4->langchain->ragas) (3.2.1)\n",
            "Requirement already satisfied: mypy-extensions>=0.3.0 in /usr/local/lib/python3.11/dist-packages (from typing-inspect<1,>=0.4.0->dataclasses-json<0.7,>=0.5.7->langchain-community->ragas) (1.1.0)\n",
            "Downloading ragas-0.2.15-py3-none-any.whl (190 kB)\n",
            "\u001b[2K   \u001b[90m━━━━━━━━━━━━━━━━━━━━━━━━━━━━━━━━━━━━━━━━\u001b[0m \u001b[32m190.9/190.9 kB\u001b[0m \u001b[31m5.6 MB/s\u001b[0m eta \u001b[36m0:00:00\u001b[0m\n",
            "\u001b[?25hDownloading diskcache-5.6.3-py3-none-any.whl (45 kB)\n",
            "\u001b[2K   \u001b[90m━━━━━━━━━━━━━━━━━━━━━━━━━━━━━━━━━━━━━━━━\u001b[0m \u001b[32m45.5/45.5 kB\u001b[0m \u001b[31m5.5 MB/s\u001b[0m eta \u001b[36m0:00:00\u001b[0m\n",
            "\u001b[?25hDownloading appdirs-1.4.4-py2.py3-none-any.whl (9.6 kB)\n",
            "Installing collected packages: appdirs, diskcache, ragas\n",
            "Successfully installed appdirs-1.4.4 diskcache-5.6.3 ragas-0.2.15\n"
          ]
        }
      ],
      "source": [
        "!pip install ragas datasets"
      ]
    },
    {
      "cell_type": "code",
      "execution_count": 67,
      "metadata": {
        "colab": {
          "base_uri": "https://localhost:8080/",
          "height": 1000
        },
        "id": "efitLrL66XIt",
        "outputId": "651f6fc8-13c0-4b37-9cbd-96bda2be9271"
      },
      "outputs": [
        {
          "data": {
            "text/html": [],
            "text/plain": [
              "<IPython.core.display.HTML object>"
            ]
          },
          "metadata": {},
          "output_type": "display_data"
        },
        {
          "data": {
            "text/html": [
              "<br>    <style><br>        .wandb-row {<br>            display: flex;<br>            flex-direction: row;<br>            flex-wrap: wrap;<br>            justify-content: flex-start;<br>            width: 100%;<br>        }<br>        .wandb-col {<br>            display: flex;<br>            flex-direction: column;<br>            flex-basis: 100%;<br>            flex: 1;<br>            padding: 10px;<br>        }<br>    </style><br><div class=\"wandb-row\"><div class=\"wandb-col\"><h3>Run history:</h3><br/><table class=\"wandb\"><tr><td>eval/cosine_accuracy@1</td><td>▁▁▁</td></tr><tr><td>eval/cosine_accuracy@10</td><td>▁▁▁</td></tr><tr><td>eval/cosine_accuracy@3</td><td>▁▁▁</td></tr><tr><td>eval/cosine_accuracy@5</td><td>▁▁▁</td></tr><tr><td>eval/cosine_map@100</td><td>▁▁▁</td></tr><tr><td>eval/cosine_mrr@10</td><td>▁▁▁</td></tr><tr><td>eval/cosine_ndcg@10</td><td>▁▁▁</td></tr><tr><td>eval/cosine_precision@1</td><td>▁▁▁</td></tr><tr><td>eval/cosine_precision@10</td><td>▁▁▁</td></tr><tr><td>eval/cosine_precision@3</td><td>▁▁▁</td></tr><tr><td>eval/cosine_precision@5</td><td>▁▁▁</td></tr><tr><td>eval/cosine_recall@1</td><td>▁▁▁</td></tr><tr><td>eval/cosine_recall@10</td><td>▁▁▁</td></tr><tr><td>eval/cosine_recall@3</td><td>▁▁▁</td></tr><tr><td>eval/cosine_recall@5</td><td>▁▁▁</td></tr><tr><td>eval/runtime</td><td>█▃▁</td></tr><tr><td>eval/samples_per_second</td><td>▁▁▁</td></tr><tr><td>eval/steps_per_second</td><td>▁▁▁</td></tr><tr><td>train/epoch</td><td>▁▄▇█</td></tr><tr><td>train/global_step</td><td>▁▄▇█</td></tr></table><br/></div><div class=\"wandb-col\"><h3>Run summary:</h3><br/><table class=\"wandb\"><tr><td>eval/cosine_accuracy@1</td><td>0.91667</td></tr><tr><td>eval/cosine_accuracy@10</td><td>1</td></tr><tr><td>eval/cosine_accuracy@3</td><td>1</td></tr><tr><td>eval/cosine_accuracy@5</td><td>1</td></tr><tr><td>eval/cosine_map@100</td><td>0.95833</td></tr><tr><td>eval/cosine_mrr@10</td><td>0.95833</td></tr><tr><td>eval/cosine_ndcg@10</td><td>0.96924</td></tr><tr><td>eval/cosine_precision@1</td><td>0.91667</td></tr><tr><td>eval/cosine_precision@10</td><td>0.1</td></tr><tr><td>eval/cosine_precision@3</td><td>0.33333</td></tr><tr><td>eval/cosine_precision@5</td><td>0.2</td></tr><tr><td>eval/cosine_recall@1</td><td>0.91667</td></tr><tr><td>eval/cosine_recall@10</td><td>1</td></tr><tr><td>eval/cosine_recall@3</td><td>1</td></tr><tr><td>eval/cosine_recall@5</td><td>1</td></tr><tr><td>eval/runtime</td><td>0.6984</td></tr><tr><td>eval/samples_per_second</td><td>0</td></tr><tr><td>eval/steps_per_second</td><td>0</td></tr><tr><td>total_flos</td><td>0</td></tr><tr><td>train/epoch</td><td>10</td></tr><tr><td>train/global_step</td><td>160</td></tr><tr><td>train_loss</td><td>0.73061</td></tr><tr><td>train_runtime</td><td>216.7465</td></tr><tr><td>train_samples_per_second</td><td>7.197</td></tr><tr><td>train_steps_per_second</td><td>0.738</td></tr></table><br/></div></div>"
            ],
            "text/plain": [
              "<IPython.core.display.HTML object>"
            ]
          },
          "metadata": {},
          "output_type": "display_data"
        },
        {
          "data": {
            "text/html": [
              " View run <strong style=\"color:#cdcd00\">checkpoints/model</strong> at: <a href='https://wandb.ai/tamark22-tamark-designs/sentence-transformers/runs/wigf3pve' target=\"_blank\">https://wandb.ai/tamark22-tamark-designs/sentence-transformers/runs/wigf3pve</a><br> View project at: <a href='https://wandb.ai/tamark22-tamark-designs/sentence-transformers' target=\"_blank\">https://wandb.ai/tamark22-tamark-designs/sentence-transformers</a><br>Synced 5 W&B file(s), 0 media file(s), 0 artifact file(s) and 0 other file(s)"
            ],
            "text/plain": [
              "<IPython.core.display.HTML object>"
            ]
          },
          "metadata": {},
          "output_type": "display_data"
        },
        {
          "data": {
            "text/html": [
              "Find logs at: <code>./wandb/run-20250505_192949-wigf3pve/logs</code>"
            ],
            "text/plain": [
              "<IPython.core.display.HTML object>"
            ]
          },
          "metadata": {},
          "output_type": "display_data"
        }
      ],
      "source": [
        "wandb.finish()"
      ]
    },
    {
      "cell_type": "code",
      "execution_count": 68,
      "metadata": {
        "colab": {
          "base_uri": "https://localhost:8080/"
        },
        "id": "bgWGHXW0LCWP",
        "outputId": "40ab15f9-c9c4-46e3-bee2-e634f840e653"
      },
      "outputs": [
        {
          "name": "stdout",
          "output_type": "stream",
          "text": [
            "Name: ragas\n",
            "Version: 0.2.15\n",
            "Summary: \n",
            "Home-page: \n",
            "Author: \n",
            "Author-email: \n",
            "License: \n",
            "Location: /usr/local/lib/python3.11/dist-packages\n",
            "Requires: appdirs, datasets, diskcache, langchain, langchain-community, langchain-core, langchain_openai, nest-asyncio, numpy, openai, pydantic, tiktoken\n",
            "Required-by: \n"
          ]
        }
      ],
      "source": [
        "!pip show ragas\n"
      ]
    },
    {
      "cell_type": "code",
      "execution_count": 78,
      "metadata": {
        "colab": {
          "base_uri": "https://localhost:8080/",
          "height": 1000,
          "referenced_widgets": [
            "87f295331ed444ed9f535e1268ad9fd0",
            "35c35e1a18c642ff8db4e8b98d2dccc2",
            "1324fea371ca4a93971b61aec90761a6",
            "f1b043dad3504cbca3e452946939682c",
            "710c5fdab51e49c7b3d2004c0e4e40be",
            "a2cc43bacced4e1c90b2985cd907519b",
            "a3aa10a15737457b89722ea1c2a37d7b",
            "4065827a17e44ea1993d6fdbb00ed942",
            "c441a033126f4335ac3f2cae51778605",
            "a7fd9267187a416dbdba38c98032278c",
            "58aad7d383724112ab8f9ca902ac595e"
          ]
        },
        "id": "jq880DtHk9pX",
        "outputId": "33487656-4404-4eeb-f2ac-5af9c041c265"
      },
      "outputs": [
        {
          "data": {
            "text/html": [
              "Changes to your `wandb` environment variables will be ignored because your `wandb` session has already started. For more information on how to modify your settings with `wandb.init()` arguments, please refer to <a href='https://wandb.me/wandb-init' target=\"_blank\">the W&B docs</a>."
            ],
            "text/plain": [
              "<IPython.core.display.HTML object>"
            ]
          },
          "metadata": {},
          "output_type": "display_data"
        },
        {
          "data": {
            "text/html": [
              "Finishing previous runs because reinit is set to 'default'."
            ],
            "text/plain": [
              "<IPython.core.display.HTML object>"
            ]
          },
          "metadata": {},
          "output_type": "display_data"
        },
        {
          "data": {
            "text/html": [],
            "text/plain": [
              "<IPython.core.display.HTML object>"
            ]
          },
          "metadata": {},
          "output_type": "display_data"
        },
        {
          "data": {
            "text/html": [
              " View run <strong style=\"color:#cdcd00\">ragas-eval-run-49cf2d6d</strong> at: <a href='https://wandb.ai/tamark22-tamark-designs/AIE6%20-%20Session%2009/runs/dmfhz22y' target=\"_blank\">https://wandb.ai/tamark22-tamark-designs/AIE6%20-%20Session%2009/runs/dmfhz22y</a><br> View project at: <a href='https://wandb.ai/tamark22-tamark-designs/AIE6%20-%20Session%2009' target=\"_blank\">https://wandb.ai/tamark22-tamark-designs/AIE6%20-%20Session%2009</a><br>Synced 5 W&B file(s), 0 media file(s), 0 artifact file(s) and 0 other file(s)"
            ],
            "text/plain": [
              "<IPython.core.display.HTML object>"
            ]
          },
          "metadata": {},
          "output_type": "display_data"
        },
        {
          "data": {
            "text/html": [
              "Find logs at: <code>./wandb/run-20250505_205857-dmfhz22y/logs</code>"
            ],
            "text/plain": [
              "<IPython.core.display.HTML object>"
            ]
          },
          "metadata": {},
          "output_type": "display_data"
        },
        {
          "name": "stderr",
          "output_type": "stream",
          "text": [
            "ERROR:asyncio:Task was destroyed but it is pending!\n",
            "task: <Task cancelling name='Task-8964' coro=<Event.wait() running at /usr/lib/python3.11/asyncio/locks.py:213> wait_for=<Future cancelled>>\n"
          ]
        },
        {
          "data": {
            "text/html": [
              "Tracking run with wandb version 0.19.10"
            ],
            "text/plain": [
              "<IPython.core.display.HTML object>"
            ]
          },
          "metadata": {},
          "output_type": "display_data"
        },
        {
          "data": {
            "text/html": [
              "Run data is saved locally in <code>/content/wandb/run-20250505_215530-ifsrrxnp</code>"
            ],
            "text/plain": [
              "<IPython.core.display.HTML object>"
            ]
          },
          "metadata": {},
          "output_type": "display_data"
        },
        {
          "data": {
            "text/html": [
              "Syncing run <strong><a href='https://wandb.ai/tamark22-tamark-designs/AIE6%20-%20Session%2009/runs/ifsrrxnp' target=\"_blank\">ragas-eval-run-edcaaefb</a></strong> to <a href='https://wandb.ai/tamark22-tamark-designs/AIE6%20-%20Session%2009' target=\"_blank\">Weights & Biases</a> (<a href='https://wandb.me/developer-guide' target=\"_blank\">docs</a>)<br>"
            ],
            "text/plain": [
              "<IPython.core.display.HTML object>"
            ]
          },
          "metadata": {},
          "output_type": "display_data"
        },
        {
          "data": {
            "text/html": [
              " View project at <a href='https://wandb.ai/tamark22-tamark-designs/AIE6%20-%20Session%2009' target=\"_blank\">https://wandb.ai/tamark22-tamark-designs/AIE6%20-%20Session%2009</a>"
            ],
            "text/plain": [
              "<IPython.core.display.HTML object>"
            ]
          },
          "metadata": {},
          "output_type": "display_data"
        },
        {
          "data": {
            "text/html": [
              " View run at <a href='https://wandb.ai/tamark22-tamark-designs/AIE6%20-%20Session%2009/runs/ifsrrxnp' target=\"_blank\">https://wandb.ai/tamark22-tamark-designs/AIE6%20-%20Session%2009/runs/ifsrrxnp</a>"
            ],
            "text/plain": [
              "<IPython.core.display.HTML object>"
            ]
          },
          "metadata": {},
          "output_type": "display_data"
        },
        {
          "name": "stderr",
          "output_type": "stream",
          "text": [
            "Running RAG chain: 100%|██████████| 24/24 [00:22<00:00,  1.06it/s]\n"
          ]
        },
        {
          "data": {
            "application/vnd.jupyter.widget-view+json": {
              "model_id": "87f295331ed444ed9f535e1268ad9fd0",
              "version_major": 2,
              "version_minor": 0
            },
            "text/plain": [
              "Evaluating:   0%|          | 0/144 [00:00<?, ?it/s]"
            ]
          },
          "metadata": {},
          "output_type": "display_data"
        },
        {
          "name": "stderr",
          "output_type": "stream",
          "text": [
            "ERROR:ragas.executor:Exception raised in Job[5]: ValueError(reference is missing in the test sample. Please add reference to the test sample.)\n",
            "ERROR:ragas.executor:Exception raised in Job[11]: ValueError(reference is missing in the test sample. Please add reference to the test sample.)\n",
            "ERROR:ragas.executor:Exception raised in Job[17]: ValueError(reference is missing in the test sample. Please add reference to the test sample.)\n",
            "WARNING:ragas.metrics._context_recall:The LLM did not return a valid classification.\n",
            "WARNING:ragas.metrics._context_recall:The LLM did not return a valid classification.\n",
            "WARNING:ragas.metrics._context_recall:The LLM did not return a valid classification.\n",
            "WARNING:ragas.metrics._context_recall:The LLM did not return a valid classification.\n",
            "ERROR:ragas.executor:Exception raised in Job[23]: ValueError(reference is missing in the test sample. Please add reference to the test sample.)\n",
            "ERROR:ragas.executor:Exception raised in Job[29]: ValueError(reference is missing in the test sample. Please add reference to the test sample.)\n",
            "WARNING:ragas.metrics._context_recall:The LLM did not return a valid classification.\n",
            "WARNING:ragas.metrics._context_recall:The LLM did not return a valid classification.\n",
            "ERROR:ragas.executor:Exception raised in Job[35]: ValueError(reference is missing in the test sample. Please add reference to the test sample.)\n",
            "WARNING:ragas.metrics._context_recall:The LLM did not return a valid classification.\n",
            "ERROR:ragas.executor:Exception raised in Job[41]: ValueError(reference is missing in the test sample. Please add reference to the test sample.)\n",
            "WARNING:ragas.metrics._context_recall:The LLM did not return a valid classification.\n",
            "ERROR:ragas.executor:Exception raised in Job[47]: ValueError(reference is missing in the test sample. Please add reference to the test sample.)\n",
            "WARNING:ragas.metrics._context_recall:The LLM did not return a valid classification.\n",
            "ERROR:ragas.executor:Exception raised in Job[53]: ValueError(reference is missing in the test sample. Please add reference to the test sample.)\n",
            "WARNING:ragas.metrics._context_recall:The LLM did not return a valid classification.\n",
            "ERROR:ragas.executor:Exception raised in Job[59]: ValueError(reference is missing in the test sample. Please add reference to the test sample.)\n",
            "WARNING:ragas.metrics._context_recall:The LLM did not return a valid classification.\n",
            "ERROR:ragas.executor:Exception raised in Job[65]: ValueError(reference is missing in the test sample. Please add reference to the test sample.)\n",
            "ERROR:ragas.executor:Exception raised in Job[71]: ValueError(reference is missing in the test sample. Please add reference to the test sample.)\n",
            "WARNING:ragas.metrics._context_recall:The LLM did not return a valid classification.\n",
            "WARNING:ragas.metrics._context_recall:The LLM did not return a valid classification.\n",
            "ERROR:ragas.executor:Exception raised in Job[77]: ValueError(reference is missing in the test sample. Please add reference to the test sample.)\n",
            "ERROR:ragas.executor:Exception raised in Job[83]: ValueError(reference is missing in the test sample. Please add reference to the test sample.)\n",
            "WARNING:ragas.metrics._context_recall:The LLM did not return a valid classification.\n",
            "WARNING:ragas.metrics._context_recall:The LLM did not return a valid classification.\n",
            "ERROR:ragas.executor:Exception raised in Job[89]: ValueError(reference is missing in the test sample. Please add reference to the test sample.)\n",
            "ERROR:ragas.executor:Exception raised in Job[95]: ValueError(reference is missing in the test sample. Please add reference to the test sample.)\n",
            "WARNING:ragas.metrics._context_recall:The LLM did not return a valid classification.\n",
            "WARNING:ragas.metrics._context_recall:The LLM did not return a valid classification.\n",
            "ERROR:ragas.executor:Exception raised in Job[101]: ValueError(reference is missing in the test sample. Please add reference to the test sample.)\n",
            "WARNING:ragas.metrics._context_recall:The LLM did not return a valid classification.\n",
            "ERROR:ragas.executor:Exception raised in Job[107]: ValueError(reference is missing in the test sample. Please add reference to the test sample.)\n",
            "WARNING:ragas.metrics._context_recall:The LLM did not return a valid classification.\n",
            "ERROR:ragas.executor:Exception raised in Job[113]: ValueError(reference is missing in the test sample. Please add reference to the test sample.)\n",
            "WARNING:ragas.metrics._context_recall:The LLM did not return a valid classification.\n",
            "ERROR:ragas.executor:Exception raised in Job[119]: ValueError(reference is missing in the test sample. Please add reference to the test sample.)\n",
            "WARNING:ragas.metrics._context_recall:The LLM did not return a valid classification.\n",
            "ERROR:ragas.executor:Exception raised in Job[125]: ValueError(reference is missing in the test sample. Please add reference to the test sample.)\n",
            "WARNING:ragas.metrics._context_recall:The LLM did not return a valid classification.\n",
            "ERROR:ragas.executor:Exception raised in Job[131]: ValueError(reference is missing in the test sample. Please add reference to the test sample.)\n",
            "WARNING:ragas.metrics._context_recall:The LLM did not return a valid classification.\n",
            "ERROR:ragas.executor:Exception raised in Job[137]: ValueError(reference is missing in the test sample. Please add reference to the test sample.)\n",
            "WARNING:ragas.metrics._context_recall:The LLM did not return a valid classification.\n",
            "ERROR:ragas.executor:Exception raised in Job[143]: ValueError(reference is missing in the test sample. Please add reference to the test sample.)\n"
          ]
        },
        {
          "data": {
            "text/html": [],
            "text/plain": [
              "<IPython.core.display.HTML object>"
            ]
          },
          "metadata": {},
          "output_type": "display_data"
        },
        {
          "data": {
            "text/html": [
              "<br>    <style><br>        .wandb-row {<br>            display: flex;<br>            flex-direction: row;<br>            flex-wrap: wrap;<br>            justify-content: flex-start;<br>            width: 100%;<br>        }<br>        .wandb-col {<br>            display: flex;<br>            flex-direction: column;<br>            flex-basis: 100%;<br>            flex: 1;<br>            padding: 10px;<br>        }<br>    </style><br><div class=\"wandb-row\"><div class=\"wandb-col\"><h3>Run history:</h3><br/><table class=\"wandb\"><tr><td>answer_length</td><td>▄▃▁▁▂▃▃▁▃▁▄▂▃▄▁▁▃▇▇▇█▆▂▂</td></tr><tr><td>context_count</td><td>▁▁▁▁▁▁▁▁▁▁▁▁▁▁▁▁▁▁▁▁▁▁▁▁</td></tr><tr><td>question_length</td><td>▃▅▂▂▂▂▄▄▅▄▆▁▂▅▄▄▄▃█▆▆▅▄▄</td></tr></table><br/></div><div class=\"wandb-col\"><h3>Run summary:</h3><br/><table class=\"wandb\"><tr><td>answer_length</td><td>127</td></tr><tr><td>context_count</td><td>6</td></tr><tr><td>question_length</td><td>83</td></tr></table><br/></div></div>"
            ],
            "text/plain": [
              "<IPython.core.display.HTML object>"
            ]
          },
          "metadata": {},
          "output_type": "display_data"
        },
        {
          "data": {
            "text/html": [
              " View run <strong style=\"color:#cdcd00\">ragas-eval-run-edcaaefb</strong> at: <a href='https://wandb.ai/tamark22-tamark-designs/AIE6%20-%20Session%2009/runs/ifsrrxnp' target=\"_blank\">https://wandb.ai/tamark22-tamark-designs/AIE6%20-%20Session%2009/runs/ifsrrxnp</a><br> View project at: <a href='https://wandb.ai/tamark22-tamark-designs/AIE6%20-%20Session%2009' target=\"_blank\">https://wandb.ai/tamark22-tamark-designs/AIE6%20-%20Session%2009</a><br>Synced 5 W&B file(s), 0 media file(s), 0 artifact file(s) and 0 other file(s)"
            ],
            "text/plain": [
              "<IPython.core.display.HTML object>"
            ]
          },
          "metadata": {},
          "output_type": "display_data"
        },
        {
          "data": {
            "text/html": [
              "Find logs at: <code>./wandb/run-20250505_215530-ifsrrxnp/logs</code>"
            ],
            "text/plain": [
              "<IPython.core.display.HTML object>"
            ]
          },
          "metadata": {},
          "output_type": "display_data"
        },
        {
          "name": "stderr",
          "output_type": "stream",
          "text": [
            "ERROR:asyncio:Task was destroyed but it is pending!\n",
            "task: <Task cancelling name='Task-11088' coro=<Event.wait() running at /usr/lib/python3.11/asyncio/locks.py:213> wait_for=<Future cancelled>>\n"
          ]
        },
        {
          "data": {
            "text/plain": [
              "{'context_recall': nan, 'faithfulness': 0.8225, 'factual_correctness(mode=f1)': 0.0946, 'answer_relevancy': 0.7626, 'context_entity_recall': 0.0000, 'noise_sensitivity(mode=relevant)': nan}"
            ]
          },
          "execution_count": 78,
          "metadata": {},
          "output_type": "execute_result"
        }
      ],
      "source": [
        "### YOUR CODE HERE\n",
        "\"\"\"\n",
        "***** This first section prepares the dataset that ragas will need to perform its evaluation. *****\n",
        "\"\"\"\n",
        "import wandb\n",
        "\n",
        "# Step 1: Init wandb run\n",
        "wandb.init(\n",
        "    project=\"AIE6 - Session 09\",\n",
        "    name=f\"ragas-eval-run-{str(uuid.uuid4())[:8]}\",\n",
        "    tags=[\"fine-tuned\", \"embedding\", \"RAGAS\"],\n",
        "    notes=\"Generating responses and context using finetuned RAG chain for RAGAS evaluation\"\n",
        ")\n",
        "\n",
        "# Step 2: Build records\n",
        "ragas_records = []\n",
        "\n",
        "for idx, row in tqdm.tqdm(finetune_results_df.iterrows(), total=len(finetune_results_df), desc=\"Running RAG chain\"):\n",
        "    question = row[\"question\"]\n",
        "    expected_id = row[\"expected_id\"]\n",
        "    ground_truth = training_corpus.get(expected_id, \"\")\n",
        "    try:\n",
        "        result = finetune_rag_chain.invoke({\"question\": question})\n",
        "        answer = result.get(\"response\", \"\")\n",
        "        contexts = result.get(\"context\", [])\n",
        "\n",
        "        # Extract raw strings if context is a list of Documents\n",
        "        if contexts and hasattr(contexts[0], \"page_content\"):\n",
        "            contexts = [c.page_content for c in contexts]\n",
        "\n",
        "        ragas_records.append({\n",
        "            \"question\": question,\n",
        "            \"answer\": answer,\n",
        "            \"ground_truth\": ground_truth,\n",
        "            \"contexts\": contexts\n",
        "        })\n",
        "\n",
        "        # Optional: log to wandb (e.g., length of context, etc.)\n",
        "        wandb.log({\n",
        "            \"question_length\": len(question),\n",
        "            \"answer_length\": len(answer),\n",
        "            \"context_count\": len(contexts)\n",
        "        })\n",
        "\n",
        "    except Exception as e:\n",
        "        print(f\"[{idx}] Failed for question: {question[:40]}... — {e}\")\n",
        "        wandb.log({\"error_count\": 1})\n",
        "\n",
        "# Step 3: Convert to DataFrame and Evaluation Dataset\n",
        "ragas_df = pd.DataFrame(ragas_records)\n",
        "\n",
        "from datasets import Dataset\n",
        "evaluation_dataset = Dataset.from_pandas(ragas_df)\n",
        "\n",
        "\"\"\"\n",
        "***** This final section will run the RAGAS evaluation: *****\n",
        "\"\"\"\n",
        "from ragas import evaluate, RunConfig\n",
        "from ragas.metrics import (\n",
        "    LLMContextRecall,\n",
        "    Faithfulness,\n",
        "    FactualCorrectness,\n",
        "    ResponseRelevancy,\n",
        "    ContextEntityRecall,\n",
        "    NoiseSensitivity\n",
        ")\n",
        "from ragas.llms import LangchainLLMWrapper\n",
        "from langchain.chat_models import ChatOpenAI\n",
        "\n",
        "# Step 1: Wrap the evaluator LLM\n",
        "evaluator_llm = LangchainLLMWrapper(ChatOpenAI(model=\"gpt-4o-mini\"))\n",
        "\n",
        "# Step 2: Run RAGAS evaluation\n",
        "custom_run_config = RunConfig(timeout=360)\n",
        "\n",
        "result = evaluate(\n",
        "    dataset=evaluation_dataset,\n",
        "    metrics=[\n",
        "        LLMContextRecall(),\n",
        "        Faithfulness(),\n",
        "        FactualCorrectness(),\n",
        "        ResponseRelevancy(),\n",
        "        ContextEntityRecall(),\n",
        "        NoiseSensitivity()\n",
        "    ],\n",
        "    llm=evaluator_llm,\n",
        "    run_config=custom_run_config\n",
        ")\n",
        "\n",
        "# Step 3: Log final RAGAS scores to wandb\n",
        "for metric, value in result._scores_dict.items():\n",
        "    wandb.log({f\"RAGAS_{metric}\": value})\n",
        "\n",
        "# Optionally end the run if you're done logging\n",
        "wandb.finish()\n",
        "\n",
        "# Step 4: Show results\n",
        "result\n",
        "\n"
      ]
    },
    {
      "cell_type": "markdown",
      "metadata": {
        "id": "723iMwXF3h1X"
      },
      "source": [
        "## Comparison Runs\n",
        "I have added the two code cells below which will:\n",
        "1. Run the same RAGA evaluation against the base model\n",
        "2. Logs the results of both runs to WandB for comparison"
      ]
    },
    {
      "cell_type": "code",
      "execution_count": 79,
      "metadata": {
        "colab": {
          "base_uri": "https://localhost:8080/",
          "height": 1000,
          "referenced_widgets": [
            "a8cb440529b849d9a53689d7dcabd3f3",
            "d5aec45a001544dd97ec942495516e75",
            "c8a8395992274bbe8b28b045bba98fc5",
            "51d839ca609b4876842ffcd6053e2a45",
            "bfff40e38668457fbdff929060303ef6",
            "839fde279490460a8d7e86bd88d29949",
            "cfb72121062f4c9fa00a33f1866775cb",
            "086e0e257da24e8cbc452cb1b73b32f7",
            "32ede78b1ed14968a16c4c7c088ee4ca",
            "972b5b4e01bd47ea831ee849808d5eb6",
            "35ecc273ea034eb783a32cd4a3fb9782"
          ]
        },
        "id": "krgEBkhT3g11",
        "outputId": "cbf38e57-64c6-458b-aadd-61539ac71cf0"
      },
      "outputs": [
        {
          "name": "stderr",
          "output_type": "stream",
          "text": [
            "Running base RAG chain: 100%|██████████| 24/24 [00:26<00:00,  1.09s/it]\n"
          ]
        },
        {
          "data": {
            "application/vnd.jupyter.widget-view+json": {
              "model_id": "a8cb440529b849d9a53689d7dcabd3f3",
              "version_major": 2,
              "version_minor": 0
            },
            "text/plain": [
              "Evaluating:   0%|          | 0/144 [00:00<?, ?it/s]"
            ]
          },
          "metadata": {},
          "output_type": "display_data"
        },
        {
          "name": "stderr",
          "output_type": "stream",
          "text": [
            "ERROR:ragas.executor:Exception raised in Job[5]: ValueError(reference is missing in the test sample. Please add reference to the test sample.)\n",
            "ERROR:ragas.executor:Exception raised in Job[11]: ValueError(reference is missing in the test sample. Please add reference to the test sample.)\n",
            "ERROR:ragas.executor:Exception raised in Job[17]: ValueError(reference is missing in the test sample. Please add reference to the test sample.)\n",
            "WARNING:ragas.metrics._context_recall:The LLM did not return a valid classification.\n",
            "WARNING:ragas.metrics._context_recall:The LLM did not return a valid classification.\n",
            "WARNING:ragas.metrics._context_recall:The LLM did not return a valid classification.\n",
            "WARNING:ragas.metrics._context_recall:The LLM did not return a valid classification.\n",
            "ERROR:ragas.executor:Exception raised in Job[23]: ValueError(reference is missing in the test sample. Please add reference to the test sample.)\n",
            "ERROR:ragas.executor:Exception raised in Job[29]: ValueError(reference is missing in the test sample. Please add reference to the test sample.)\n",
            "WARNING:ragas.metrics._context_recall:The LLM did not return a valid classification.\n",
            "WARNING:ragas.metrics._context_recall:The LLM did not return a valid classification.\n",
            "ERROR:ragas.executor:Exception raised in Job[35]: ValueError(reference is missing in the test sample. Please add reference to the test sample.)\n",
            "WARNING:ragas.metrics._context_recall:The LLM did not return a valid classification.\n",
            "ERROR:ragas.executor:Exception raised in Job[41]: ValueError(reference is missing in the test sample. Please add reference to the test sample.)\n",
            "WARNING:ragas.metrics._context_recall:The LLM did not return a valid classification.\n",
            "ERROR:ragas.executor:Exception raised in Job[47]: ValueError(reference is missing in the test sample. Please add reference to the test sample.)\n",
            "WARNING:ragas.metrics._context_recall:The LLM did not return a valid classification.\n",
            "ERROR:ragas.executor:Exception raised in Job[53]: ValueError(reference is missing in the test sample. Please add reference to the test sample.)\n",
            "WARNING:ragas.metrics._context_recall:The LLM did not return a valid classification.\n",
            "ERROR:ragas.executor:Exception raised in Job[59]: ValueError(reference is missing in the test sample. Please add reference to the test sample.)\n",
            "WARNING:ragas.metrics._context_recall:The LLM did not return a valid classification.\n",
            "ERROR:ragas.executor:Exception raised in Job[65]: ValueError(reference is missing in the test sample. Please add reference to the test sample.)\n",
            "WARNING:ragas.metrics._context_recall:The LLM did not return a valid classification.\n",
            "ERROR:ragas.executor:Exception raised in Job[71]: ValueError(reference is missing in the test sample. Please add reference to the test sample.)\n",
            "WARNING:ragas.metrics._context_recall:The LLM did not return a valid classification.\n",
            "ERROR:ragas.executor:Exception raised in Job[77]: ValueError(reference is missing in the test sample. Please add reference to the test sample.)\n",
            "WARNING:ragas.metrics._context_recall:The LLM did not return a valid classification.\n",
            "ERROR:ragas.executor:Exception raised in Job[83]: ValueError(reference is missing in the test sample. Please add reference to the test sample.)\n",
            "WARNING:ragas.metrics._context_recall:The LLM did not return a valid classification.\n",
            "ERROR:ragas.executor:Exception raised in Job[89]: ValueError(reference is missing in the test sample. Please add reference to the test sample.)\n",
            "WARNING:ragas.metrics._context_recall:The LLM did not return a valid classification.\n",
            "ERROR:ragas.executor:Exception raised in Job[95]: ValueError(reference is missing in the test sample. Please add reference to the test sample.)\n",
            "WARNING:ragas.metrics._context_recall:The LLM did not return a valid classification.\n",
            "ERROR:ragas.executor:Exception raised in Job[101]: ValueError(reference is missing in the test sample. Please add reference to the test sample.)\n",
            "ERROR:ragas.executor:Exception raised in Job[107]: ValueError(reference is missing in the test sample. Please add reference to the test sample.)\n",
            "WARNING:ragas.metrics._context_recall:The LLM did not return a valid classification.\n",
            "WARNING:ragas.metrics._context_recall:The LLM did not return a valid classification.\n",
            "ERROR:ragas.executor:Exception raised in Job[113]: ValueError(reference is missing in the test sample. Please add reference to the test sample.)\n",
            "ERROR:ragas.executor:Exception raised in Job[119]: ValueError(reference is missing in the test sample. Please add reference to the test sample.)\n",
            "WARNING:ragas.metrics._context_recall:The LLM did not return a valid classification.\n",
            "WARNING:ragas.metrics._context_recall:The LLM did not return a valid classification.\n",
            "ERROR:ragas.executor:Exception raised in Job[125]: ValueError(reference is missing in the test sample. Please add reference to the test sample.)\n",
            "WARNING:ragas.metrics._context_recall:The LLM did not return a valid classification.\n",
            "ERROR:ragas.executor:Exception raised in Job[131]: ValueError(reference is missing in the test sample. Please add reference to the test sample.)\n",
            "WARNING:ragas.metrics._context_recall:The LLM did not return a valid classification.\n",
            "ERROR:ragas.executor:Exception raised in Job[137]: ValueError(reference is missing in the test sample. Please add reference to the test sample.)\n",
            "WARNING:ragas.metrics._context_recall:The LLM did not return a valid classification.\n",
            "ERROR:ragas.executor:Exception raised in Job[143]: ValueError(reference is missing in the test sample. Please add reference to the test sample.)\n"
          ]
        },
        {
          "data": {
            "text/html": [
              "Changes to your `wandb` environment variables will be ignored because your `wandb` session has already started. For more information on how to modify your settings with `wandb.init()` arguments, please refer to <a href='https://wandb.me/wandb-init' target=\"_blank\">the W&B docs</a>."
            ],
            "text/plain": [
              "<IPython.core.display.HTML object>"
            ]
          },
          "metadata": {},
          "output_type": "display_data"
        },
        {
          "data": {
            "text/html": [
              "Tracking run with wandb version 0.19.10"
            ],
            "text/plain": [
              "<IPython.core.display.HTML object>"
            ]
          },
          "metadata": {},
          "output_type": "display_data"
        },
        {
          "data": {
            "text/html": [
              "Run data is saved locally in <code>/content/wandb/run-20250505_220116-yisrozg3</code>"
            ],
            "text/plain": [
              "<IPython.core.display.HTML object>"
            ]
          },
          "metadata": {},
          "output_type": "display_data"
        },
        {
          "data": {
            "text/html": [
              "Syncing run <strong><a href='https://wandb.ai/tamark22-tamark-designs/AIE6%20-%20Session%2009/runs/yisrozg3' target=\"_blank\">ragas-eval-run-47cb4a32</a></strong> to <a href='https://wandb.ai/tamark22-tamark-designs/AIE6%20-%20Session%2009' target=\"_blank\">Weights & Biases</a> (<a href='https://wandb.me/developer-guide' target=\"_blank\">docs</a>)<br>"
            ],
            "text/plain": [
              "<IPython.core.display.HTML object>"
            ]
          },
          "metadata": {},
          "output_type": "display_data"
        },
        {
          "data": {
            "text/html": [
              " View project at <a href='https://wandb.ai/tamark22-tamark-designs/AIE6%20-%20Session%2009' target=\"_blank\">https://wandb.ai/tamark22-tamark-designs/AIE6%20-%20Session%2009</a>"
            ],
            "text/plain": [
              "<IPython.core.display.HTML object>"
            ]
          },
          "metadata": {},
          "output_type": "display_data"
        },
        {
          "data": {
            "text/html": [
              " View run at <a href='https://wandb.ai/tamark22-tamark-designs/AIE6%20-%20Session%2009/runs/yisrozg3' target=\"_blank\">https://wandb.ai/tamark22-tamark-designs/AIE6%20-%20Session%2009/runs/yisrozg3</a>"
            ],
            "text/plain": [
              "<IPython.core.display.HTML object>"
            ]
          },
          "metadata": {},
          "output_type": "display_data"
        },
        {
          "data": {
            "text/plain": [
              "{'context_recall': nan, 'faithfulness': 0.7375, 'factual_correctness(mode=f1)': 0.1029, 'answer_relevancy': 0.5978, 'context_entity_recall': 0.0000, 'noise_sensitivity(mode=relevant)': nan}"
            ]
          },
          "execution_count": 79,
          "metadata": {},
          "output_type": "execute_result"
        }
      ],
      "source": [
        "# === RAGAS Evaluation: Baseline Embedding Model ===\n",
        "\n",
        "from langchain_huggingface import HuggingFaceEmbeddings\n",
        "from langchain.vectorstores import FAISS\n",
        "from sentence_transformers import SentenceTransformer\n",
        "from datasets import Dataset as HFDataset\n",
        "from langchain.schema import Document\n",
        "\n",
        "# Step 1: Build the base embedding model + retriever\n",
        "base_embeddings = HuggingFaceEmbeddings(model_name=\"all-MiniLM-L6-v2\")\n",
        "base_vectorstore = FAISS.from_documents(training_documents, base_embeddings)\n",
        "base_retriever = base_vectorstore.as_retriever(search_kwargs={\"k\": 6})\n",
        "\n",
        "# Step 2: Build base RAG chain\n",
        "base_rag_chain = (\n",
        "    {\"context\": itemgetter(\"question\") | base_retriever, \"question\": itemgetter(\"question\")}\n",
        "    | RunnablePassthrough.assign(context=itemgetter(\"context\"))\n",
        "    | {\"response\": rag_prompt_template | rag_llm | StrOutputParser(), \"context\": itemgetter(\"context\")}\n",
        ")\n",
        "\n",
        "# Step 3: Run inference and prepare RAGAS records\n",
        "base_ragas_records = []\n",
        "for idx, row in tqdm.tqdm(finetune_results_df.iterrows(), total=len(finetune_results_df), desc=\"Running base RAG chain\"):\n",
        "    question = row.question\n",
        "    expected_id = row.expected_id\n",
        "    ground_truth = training_corpus.get(expected_id, \"\")\n",
        "\n",
        "    try:\n",
        "        rag_response = base_rag_chain.invoke({\"question\": question})\n",
        "        answer = rag_response.get(\"response\", \"\")\n",
        "        contexts = rag_response.get(\"context\", [])\n",
        "\n",
        "        # Convert Document objects (or other structures) to plain strings\n",
        "        if isinstance(contexts, list):\n",
        "            contexts = [c.page_content if hasattr(c, \"page_content\") else str(c) for c in contexts]\n",
        "        else:\n",
        "            contexts = [str(contexts)]\n",
        "\n",
        "        base_ragas_records.append({\n",
        "            \"question\": question,\n",
        "            \"answer\": answer,\n",
        "            \"contexts\": contexts,\n",
        "            \"ground_truth\": ground_truth\n",
        "        })\n",
        "    except Exception as e:\n",
        "        print(f\"⚠️ Skipped due to error: {e}\")\n",
        "\n",
        "# Step 4: Create HF Dataset\n",
        "base_ragas_df = pd.DataFrame(base_ragas_records)\n",
        "base_evaluation_dataset = HFDataset.from_pandas(base_ragas_df)\n",
        "\n",
        "# Step 5: Run evaluation\n",
        "base_result = evaluate(\n",
        "    dataset=base_evaluation_dataset,\n",
        "    metrics=[\n",
        "        LLMContextRecall(),\n",
        "        Faithfulness(),\n",
        "        FactualCorrectness(),\n",
        "        ResponseRelevancy(),\n",
        "        ContextEntityRecall(),\n",
        "        NoiseSensitivity()\n",
        "    ],\n",
        "    llm=evaluator_llm,\n",
        "    run_config=custom_run_config\n",
        ")\n",
        "\n",
        "# Step 6: Print metric comparison\n",
        "wandb.init(\n",
        "    project=\"AIE6 - Session 09\",\n",
        "    name=f\"ragas-eval-run-{str(uuid.uuid4())[:8]}\",\n",
        "    tags=[\"base-not-tuned\", \"embedding\", \"RAGAS\"],\n",
        "    notes=\"Generating responses and context using base model RAG chain for RAGAS evaluation\"\n",
        ")\n",
        "\n",
        "for metric, value in base_result._scores_dict.items():\n",
        "    wandb.log({f\"RAGAS_{metric}\": value})\n",
        "\n",
        "base_result\n"
      ]
    },
    {
      "cell_type": "markdown",
      "metadata": {
        "id": "oL2VvNr_pGrd"
      },
      "source": [
        "## Comparison Results:\n",
        "![AIE6-S09-RAGAS-v2.png](data:image/png;base64,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)"
      ]
    }
  ],
  "metadata": {
    "accelerator": "GPU",
    "colab": {
      "gpuType": "T4",
      "machine_shape": "hm",
      "provenance": []
    },
    "kernelspec": {
      "display_name": "Python 3",
      "name": "python3"
    },
    "language_info": {
      "codemirror_mode": {
        "name": "ipython",
        "version": 3
      },
      "file_extension": ".py",
      "mimetype": "text/x-python",
      "name": "python",
      "nbconvert_exporter": "python",
      "pygments_lexer": "ipython3",
      "version": "3.13.1"
    },
    "widgets": {
      "application/vnd.jupyter.widget-state+json": {
        "002b87ad0fc34b019e0a6c62813c9597": {
          "model_module": "@jupyter-widgets/base",
          "model_module_version": "1.2.0",
          "model_name": "LayoutModel",
          "state": {
            "_model_module": "@jupyter-widgets/base",
            "_model_module_version": "1.2.0",
            "_model_name": "LayoutModel",
            "_view_count": null,
            "_view_module": "@jupyter-widgets/base",
            "_view_module_version": "1.2.0",
            "_view_name": "LayoutView",
            "align_content": null,
            "align_items": null,
            "align_self": null,
            "border": null,
            "bottom": null,
            "display": null,
            "flex": null,
            "flex_flow": null,
            "grid_area": null,
            "grid_auto_columns": null,
            "grid_auto_flow": null,
            "grid_auto_rows": null,
            "grid_column": null,
            "grid_gap": null,
            "grid_row": null,
            "grid_template_areas": null,
            "grid_template_columns": null,
            "grid_template_rows": null,
            "height": null,
            "justify_content": null,
            "justify_items": null,
            "left": null,
            "margin": null,
            "max_height": null,
            "max_width": null,
            "min_height": null,
            "min_width": null,
            "object_fit": null,
            "object_position": null,
            "order": null,
            "overflow": null,
            "overflow_x": null,
            "overflow_y": null,
            "padding": null,
            "right": null,
            "top": null,
            "visibility": null,
            "width": null
          }
        },
        "006d56b1a96749449855167d70f824c6": {
          "model_module": "@jupyter-widgets/controls",
          "model_module_version": "1.5.0",
          "model_name": "ProgressStyleModel",
          "state": {
            "_model_module": "@jupyter-widgets/controls",
            "_model_module_version": "1.5.0",
            "_model_name": "ProgressStyleModel",
            "_view_count": null,
            "_view_module": "@jupyter-widgets/base",
            "_view_module_version": "1.2.0",
            "_view_name": "StyleView",
            "bar_color": null,
            "description_width": ""
          }
        },
        "05e21799e4ac4d469c30cd35f1312af3": {
          "model_module": "@jupyter-widgets/controls",
          "model_module_version": "1.5.0",
          "model_name": "FloatProgressModel",
          "state": {
            "_dom_classes": [],
            "_model_module": "@jupyter-widgets/controls",
            "_model_module_version": "1.5.0",
            "_model_name": "FloatProgressModel",
            "_view_count": null,
            "_view_module": "@jupyter-widgets/controls",
            "_view_module_version": "1.5.0",
            "_view_name": "ProgressView",
            "bar_style": "success",
            "description": "",
            "description_tooltip": null,
            "layout": "IPY_MODEL_27f68934d1f94abfbfe5984ba3761dfb",
            "max": 231508,
            "min": 0,
            "orientation": "horizontal",
            "style": "IPY_MODEL_87fa17d8d69448f1a41331de3a4d3618",
            "value": 231508
          }
        },
        "06d4f3a6c37f46379470fc95fc1e056c": {
          "model_module": "@jupyter-widgets/controls",
          "model_module_version": "1.5.0",
          "model_name": "DescriptionStyleModel",
          "state": {
            "_model_module": "@jupyter-widgets/controls",
            "_model_module_version": "1.5.0",
            "_model_name": "DescriptionStyleModel",
            "_view_count": null,
            "_view_module": "@jupyter-widgets/base",
            "_view_module_version": "1.2.0",
            "_view_name": "StyleView",
            "description_width": ""
          }
        },
        "08332e1e2da140b284a6316dd010e265": {
          "model_module": "@jupyter-widgets/controls",
          "model_module_version": "1.5.0",
          "model_name": "CheckboxModel",
          "state": {
            "_dom_classes": [],
            "_model_module": "@jupyter-widgets/controls",
            "_model_module_version": "1.5.0",
            "_model_name": "CheckboxModel",
            "_view_count": null,
            "_view_module": "@jupyter-widgets/controls",
            "_view_module_version": "1.5.0",
            "_view_name": "CheckboxView",
            "description": "Add token as git credential?",
            "description_tooltip": null,
            "disabled": false,
            "indent": true,
            "layout": "IPY_MODEL_5c5d9bb49615493c9f52405afff248f3",
            "style": "IPY_MODEL_c842904d222847b4887b30111a3b1061",
            "value": true
          }
        },
        "086e0e257da24e8cbc452cb1b73b32f7": {
          "model_module": "@jupyter-widgets/base",
          "model_module_version": "1.2.0",
          "model_name": "LayoutModel",
          "state": {
            "_model_module": "@jupyter-widgets/base",
            "_model_module_version": "1.2.0",
            "_model_name": "LayoutModel",
            "_view_count": null,
            "_view_module": "@jupyter-widgets/base",
            "_view_module_version": "1.2.0",
            "_view_name": "LayoutView",
            "align_content": null,
            "align_items": null,
            "align_self": null,
            "border": null,
            "bottom": null,
            "display": null,
            "flex": null,
            "flex_flow": null,
            "grid_area": null,
            "grid_auto_columns": null,
            "grid_auto_flow": null,
            "grid_auto_rows": null,
            "grid_column": null,
            "grid_gap": null,
            "grid_row": null,
            "grid_template_areas": null,
            "grid_template_columns": null,
            "grid_template_rows": null,
            "height": null,
            "justify_content": null,
            "justify_items": null,
            "left": null,
            "margin": null,
            "max_height": null,
            "max_width": null,
            "min_height": null,
            "min_width": null,
            "object_fit": null,
            "object_position": null,
            "order": null,
            "overflow": null,
            "overflow_x": null,
            "overflow_y": null,
            "padding": null,
            "right": null,
            "top": null,
            "visibility": null,
            "width": null
          }
        },
        "08a08e0df5714e5b9e10d8c64952d2c5": {
          "model_module": "@jupyter-widgets/controls",
          "model_module_version": "1.5.0",
          "model_name": "HTMLModel",
          "state": {
            "_dom_classes": [],
            "_model_module": "@jupyter-widgets/controls",
            "_model_module_version": "1.5.0",
            "_model_name": "HTMLModel",
            "_view_count": null,
            "_view_module": "@jupyter-widgets/controls",
            "_view_module_version": "1.5.0",
            "_view_name": "HTMLView",
            "description": "",
            "description_tooltip": null,
            "layout": "IPY_MODEL_7179258e3bea4e99a593dc621e0973f4",
            "placeholder": "​",
            "style": "IPY_MODEL_e243e680ae244624be635a22efa586d5",
            "value": " 252/252 [00:00&lt;00:00, 30.1kB/s]"
          }
        },
        "094f2fb67e0e403eaf3ead80df8ab962": {
          "model_module": "@jupyter-widgets/base",
          "model_module_version": "1.2.0",
          "model_name": "LayoutModel",
          "state": {
            "_model_module": "@jupyter-widgets/base",
            "_model_module_version": "1.2.0",
            "_model_name": "LayoutModel",
            "_view_count": null,
            "_view_module": "@jupyter-widgets/base",
            "_view_module_version": "1.2.0",
            "_view_name": "LayoutView",
            "align_content": null,
            "align_items": null,
            "align_self": null,
            "border": null,
            "bottom": null,
            "display": null,
            "flex": null,
            "flex_flow": null,
            "grid_area": null,
            "grid_auto_columns": null,
            "grid_auto_flow": null,
            "grid_auto_rows": null,
            "grid_column": null,
            "grid_gap": null,
            "grid_row": null,
            "grid_template_areas": null,
            "grid_template_columns": null,
            "grid_template_rows": null,
            "height": null,
            "justify_content": null,
            "justify_items": null,
            "left": null,
            "margin": null,
            "max_height": null,
            "max_width": null,
            "min_height": null,
            "min_width": null,
            "object_fit": null,
            "object_position": null,
            "order": null,
            "overflow": null,
            "overflow_x": null,
            "overflow_y": null,
            "padding": null,
            "right": null,
            "top": null,
            "visibility": null,
            "width": null
          }
        },
        "0bb31d66fbf84183a6ed40cf2555557e": {
          "model_module": "@jupyter-widgets/controls",
          "model_module_version": "1.5.0",
          "model_name": "DescriptionStyleModel",
          "state": {
            "_model_module": "@jupyter-widgets/controls",
            "_model_module_version": "1.5.0",
            "_model_name": "DescriptionStyleModel",
            "_view_count": null,
            "_view_module": "@jupyter-widgets/base",
            "_view_module_version": "1.2.0",
            "_view_name": "StyleView",
            "description_width": ""
          }
        },
        "0c148ee124bb40d48912daa8f726a476": {
          "model_module": "@jupyter-widgets/controls",
          "model_module_version": "1.5.0",
          "model_name": "ProgressStyleModel",
          "state": {
            "_model_module": "@jupyter-widgets/controls",
            "_model_module_version": "1.5.0",
            "_model_name": "ProgressStyleModel",
            "_view_count": null,
            "_view_module": "@jupyter-widgets/base",
            "_view_module_version": "1.2.0",
            "_view_name": "StyleView",
            "bar_color": null,
            "description_width": ""
          }
        },
        "0d46c28f5fb34bf3b0f566172aee8d53": {
          "model_module": "@jupyter-widgets/controls",
          "model_module_version": "1.5.0",
          "model_name": "DescriptionStyleModel",
          "state": {
            "_model_module": "@jupyter-widgets/controls",
            "_model_module_version": "1.5.0",
            "_model_name": "DescriptionStyleModel",
            "_view_count": null,
            "_view_module": "@jupyter-widgets/base",
            "_view_module_version": "1.2.0",
            "_view_name": "StyleView",
            "description_width": ""
          }
        },
        "0dea33fefbea4df4bbca74efcba54539": {
          "model_module": "@jupyter-widgets/base",
          "model_module_version": "1.2.0",
          "model_name": "LayoutModel",
          "state": {
            "_model_module": "@jupyter-widgets/base",
            "_model_module_version": "1.2.0",
            "_model_name": "LayoutModel",
            "_view_count": null,
            "_view_module": "@jupyter-widgets/base",
            "_view_module_version": "1.2.0",
            "_view_name": "LayoutView",
            "align_content": null,
            "align_items": null,
            "align_self": null,
            "border": null,
            "bottom": null,
            "display": null,
            "flex": null,
            "flex_flow": null,
            "grid_area": null,
            "grid_auto_columns": null,
            "grid_auto_flow": null,
            "grid_auto_rows": null,
            "grid_column": null,
            "grid_gap": null,
            "grid_row": null,
            "grid_template_areas": null,
            "grid_template_columns": null,
            "grid_template_rows": null,
            "height": null,
            "justify_content": null,
            "justify_items": null,
            "left": null,
            "margin": null,
            "max_height": null,
            "max_width": null,
            "min_height": null,
            "min_width": null,
            "object_fit": null,
            "object_position": null,
            "order": null,
            "overflow": null,
            "overflow_x": null,
            "overflow_y": null,
            "padding": null,
            "right": null,
            "top": null,
            "visibility": null,
            "width": null
          }
        },
        "120d82331c654470a55632f6f6028e30": {
          "model_module": "@jupyter-widgets/base",
          "model_module_version": "1.2.0",
          "model_name": "LayoutModel",
          "state": {
            "_model_module": "@jupyter-widgets/base",
            "_model_module_version": "1.2.0",
            "_model_name": "LayoutModel",
            "_view_count": null,
            "_view_module": "@jupyter-widgets/base",
            "_view_module_version": "1.2.0",
            "_view_name": "LayoutView",
            "align_content": null,
            "align_items": null,
            "align_self": null,
            "border": null,
            "bottom": null,
            "display": null,
            "flex": null,
            "flex_flow": null,
            "grid_area": null,
            "grid_auto_columns": null,
            "grid_auto_flow": null,
            "grid_auto_rows": null,
            "grid_column": null,
            "grid_gap": null,
            "grid_row": null,
            "grid_template_areas": null,
            "grid_template_columns": null,
            "grid_template_rows": null,
            "height": null,
            "justify_content": null,
            "justify_items": null,
            "left": null,
            "margin": null,
            "max_height": null,
            "max_width": null,
            "min_height": null,
            "min_width": null,
            "object_fit": null,
            "object_position": null,
            "order": null,
            "overflow": null,
            "overflow_x": null,
            "overflow_y": null,
            "padding": null,
            "right": null,
            "top": null,
            "visibility": null,
            "width": null
          }
        },
        "1324fea371ca4a93971b61aec90761a6": {
          "model_module": "@jupyter-widgets/controls",
          "model_module_version": "1.5.0",
          "model_name": "FloatProgressModel",
          "state": {
            "_dom_classes": [],
            "_model_module": "@jupyter-widgets/controls",
            "_model_module_version": "1.5.0",
            "_model_name": "FloatProgressModel",
            "_view_count": null,
            "_view_module": "@jupyter-widgets/controls",
            "_view_module_version": "1.5.0",
            "_view_name": "ProgressView",
            "bar_style": "success",
            "description": "",
            "description_tooltip": null,
            "layout": "IPY_MODEL_4065827a17e44ea1993d6fdbb00ed942",
            "max": 144,
            "min": 0,
            "orientation": "horizontal",
            "style": "IPY_MODEL_c441a033126f4335ac3f2cae51778605",
            "value": 144
          }
        },
        "13fd104f5e324b3d9b905fad5fedc4fc": {
          "model_module": "@jupyter-widgets/base",
          "model_module_version": "1.2.0",
          "model_name": "LayoutModel",
          "state": {
            "_model_module": "@jupyter-widgets/base",
            "_model_module_version": "1.2.0",
            "_model_name": "LayoutModel",
            "_view_count": null,
            "_view_module": "@jupyter-widgets/base",
            "_view_module_version": "1.2.0",
            "_view_name": "LayoutView",
            "align_content": null,
            "align_items": null,
            "align_self": null,
            "border": null,
            "bottom": null,
            "display": null,
            "flex": null,
            "flex_flow": null,
            "grid_area": null,
            "grid_auto_columns": null,
            "grid_auto_flow": null,
            "grid_auto_rows": null,
            "grid_column": null,
            "grid_gap": null,
            "grid_row": null,
            "grid_template_areas": null,
            "grid_template_columns": null,
            "grid_template_rows": null,
            "height": null,
            "justify_content": null,
            "justify_items": null,
            "left": null,
            "margin": null,
            "max_height": null,
            "max_width": null,
            "min_height": null,
            "min_width": null,
            "object_fit": null,
            "object_position": null,
            "order": null,
            "overflow": null,
            "overflow_x": null,
            "overflow_y": null,
            "padding": null,
            "right": null,
            "top": null,
            "visibility": null,
            "width": null
          }
        },
        "142ae0dde47d4f398859b2ef1a1385c6": {
          "model_module": "@jupyter-widgets/base",
          "model_module_version": "1.2.0",
          "model_name": "LayoutModel",
          "state": {
            "_model_module": "@jupyter-widgets/base",
            "_model_module_version": "1.2.0",
            "_model_name": "LayoutModel",
            "_view_count": null,
            "_view_module": "@jupyter-widgets/base",
            "_view_module_version": "1.2.0",
            "_view_name": "LayoutView",
            "align_content": null,
            "align_items": null,
            "align_self": null,
            "border": null,
            "bottom": null,
            "display": null,
            "flex": null,
            "flex_flow": null,
            "grid_area": null,
            "grid_auto_columns": null,
            "grid_auto_flow": null,
            "grid_auto_rows": null,
            "grid_column": null,
            "grid_gap": null,
            "grid_row": null,
            "grid_template_areas": null,
            "grid_template_columns": null,
            "grid_template_rows": null,
            "height": null,
            "justify_content": null,
            "justify_items": null,
            "left": null,
            "margin": null,
            "max_height": null,
            "max_width": null,
            "min_height": null,
            "min_width": null,
            "object_fit": null,
            "object_position": null,
            "order": null,
            "overflow": null,
            "overflow_x": null,
            "overflow_y": null,
            "padding": null,
            "right": null,
            "top": null,
            "visibility": null,
            "width": null
          }
        },
        "151ee8edc1a149909297a0063b0cc91f": {
          "model_module": "@jupyter-widgets/controls",
          "model_module_version": "1.5.0",
          "model_name": "HBoxModel",
          "state": {
            "_dom_classes": [],
            "_model_module": "@jupyter-widgets/controls",
            "_model_module_version": "1.5.0",
            "_model_name": "HBoxModel",
            "_view_count": null,
            "_view_module": "@jupyter-widgets/controls",
            "_view_module_version": "1.5.0",
            "_view_name": "HBoxView",
            "box_style": "",
            "children": [
              "IPY_MODEL_ab8604852e9440088b7457492150af9a",
              "IPY_MODEL_eeb370bc17984dfcac4247f16be1aa4a",
              "IPY_MODEL_467c9c949f41498f93bbb27607f56682"
            ],
            "layout": "IPY_MODEL_a976ce12fb8449fc9c11b7d2b37b9c44"
          }
        },
        "1577c7f4b63045ba8e7c12797d5e9bc7": {
          "model_module": "@jupyter-widgets/controls",
          "model_module_version": "1.5.0",
          "model_name": "VBoxModel",
          "state": {
            "_dom_classes": [],
            "_model_module": "@jupyter-widgets/controls",
            "_model_module_version": "1.5.0",
            "_model_name": "VBoxModel",
            "_view_count": null,
            "_view_module": "@jupyter-widgets/controls",
            "_view_module_version": "1.5.0",
            "_view_name": "VBoxView",
            "box_style": "",
            "children": [],
            "layout": "IPY_MODEL_4904bcc16516426199b32b1dba421866"
          }
        },
        "18c0ce074e3d48c68d01fad0816582c4": {
          "model_module": "@jupyter-widgets/controls",
          "model_module_version": "1.5.0",
          "model_name": "FloatProgressModel",
          "state": {
            "_dom_classes": [],
            "_model_module": "@jupyter-widgets/controls",
            "_model_module_version": "1.5.0",
            "_model_name": "FloatProgressModel",
            "_view_count": null,
            "_view_module": "@jupyter-widgets/controls",
            "_view_module_version": "1.5.0",
            "_view_name": "ProgressView",
            "bar_style": "success",
            "description": "",
            "description_tooltip": null,
            "layout": "IPY_MODEL_9ce241f7b4064a60bc3ca5b49f701dad",
            "max": 1336413848,
            "min": 0,
            "orientation": "horizontal",
            "style": "IPY_MODEL_f265fc762be24a74a4e72af0c91bacd0",
            "value": 1336413848
          }
        },
        "19462b4c7a5b4d619221e1d5c58a3ef4": {
          "model_module": "@jupyter-widgets/base",
          "model_module_version": "1.2.0",
          "model_name": "LayoutModel",
          "state": {
            "_model_module": "@jupyter-widgets/base",
            "_model_module_version": "1.2.0",
            "_model_name": "LayoutModel",
            "_view_count": null,
            "_view_module": "@jupyter-widgets/base",
            "_view_module_version": "1.2.0",
            "_view_name": "LayoutView",
            "align_content": null,
            "align_items": null,
            "align_self": null,
            "border": null,
            "bottom": null,
            "display": null,
            "flex": null,
            "flex_flow": null,
            "grid_area": null,
            "grid_auto_columns": null,
            "grid_auto_flow": null,
            "grid_auto_rows": null,
            "grid_column": null,
            "grid_gap": null,
            "grid_row": null,
            "grid_template_areas": null,
            "grid_template_columns": null,
            "grid_template_rows": null,
            "height": null,
            "justify_content": null,
            "justify_items": null,
            "left": null,
            "margin": null,
            "max_height": null,
            "max_width": null,
            "min_height": null,
            "min_width": null,
            "object_fit": null,
            "object_position": null,
            "order": null,
            "overflow": null,
            "overflow_x": null,
            "overflow_y": null,
            "padding": null,
            "right": null,
            "top": null,
            "visibility": null,
            "width": null
          }
        },
        "19aa9a4214884fb4ac52552828a824f3": {
          "model_module": "@jupyter-widgets/controls",
          "model_module_version": "1.5.0",
          "model_name": "HBoxModel",
          "state": {
            "_dom_classes": [],
            "_model_module": "@jupyter-widgets/controls",
            "_model_module_version": "1.5.0",
            "_model_name": "HBoxModel",
            "_view_count": null,
            "_view_module": "@jupyter-widgets/controls",
            "_view_module_version": "1.5.0",
            "_view_name": "HBoxView",
            "box_style": "",
            "children": [
              "IPY_MODEL_ea26e32d8281491fb863d026e27e0a86",
              "IPY_MODEL_6abf9281018b4a51a62381b627af46d9",
              "IPY_MODEL_ca8337db3e804126a021480c73f0ac62"
            ],
            "layout": "IPY_MODEL_41ca089e99f14ff1ad04f4cbb0ef6d98"
          }
        },
        "1b7f37182b30433b8d53c550d99d469b": {
          "model_module": "@jupyter-widgets/controls",
          "model_module_version": "1.5.0",
          "model_name": "HTMLModel",
          "state": {
            "_dom_classes": [],
            "_model_module": "@jupyter-widgets/controls",
            "_model_module_version": "1.5.0",
            "_model_name": "HTMLModel",
            "_view_count": null,
            "_view_module": "@jupyter-widgets/controls",
            "_view_module_version": "1.5.0",
            "_view_name": "HTMLView",
            "description": "",
            "description_tooltip": null,
            "layout": "IPY_MODEL_39d8a08068e54d3a99fac73c5172a054",
            "placeholder": "​",
            "style": "IPY_MODEL_b5d30e4c6cbc4bd2aee5fcc4ef4cd15f",
            "value": " 85.4k/85.4k [00:00&lt;00:00, 488kB/s]"
          }
        },
        "1c2949775fef423790d4e2c7b54da8c2": {
          "model_module": "@jupyter-widgets/controls",
          "model_module_version": "1.5.0",
          "model_name": "HTMLModel",
          "state": {
            "_dom_classes": [],
            "_model_module": "@jupyter-widgets/controls",
            "_model_module_version": "1.5.0",
            "_model_name": "HTMLModel",
            "_view_count": null,
            "_view_module": "@jupyter-widgets/controls",
            "_view_module_version": "1.5.0",
            "_view_name": "HTMLView",
            "description": "",
            "description_tooltip": null,
            "layout": "IPY_MODEL_d425b3c575664c678bd3c7d75f49465e",
            "placeholder": "​",
            "style": "IPY_MODEL_d250f7e67df04e91afcf928e757421c4",
            "value": "model.safetensors: 100%"
          }
        },
        "1d1745de1f0c464b81e8b5e19b68b131": {
          "model_module": "@jupyter-widgets/controls",
          "model_module_version": "1.5.0",
          "model_name": "ButtonModel",
          "state": {
            "_dom_classes": [],
            "_model_module": "@jupyter-widgets/controls",
            "_model_module_version": "1.5.0",
            "_model_name": "ButtonModel",
            "_view_count": null,
            "_view_module": "@jupyter-widgets/controls",
            "_view_module_version": "1.5.0",
            "_view_name": "ButtonView",
            "button_style": "",
            "description": "Login",
            "disabled": false,
            "icon": "",
            "layout": "IPY_MODEL_7008b6bbf3484b018ab83ca8e639bad9",
            "style": "IPY_MODEL_e55075bc3a28405ca21b9b9de25d45a7",
            "tooltip": ""
          }
        },
        "1dbe6730909548aaa8dcd53878bd7107": {
          "model_module": "@jupyter-widgets/base",
          "model_module_version": "1.2.0",
          "model_name": "LayoutModel",
          "state": {
            "_model_module": "@jupyter-widgets/base",
            "_model_module_version": "1.2.0",
            "_model_name": "LayoutModel",
            "_view_count": null,
            "_view_module": "@jupyter-widgets/base",
            "_view_module_version": "1.2.0",
            "_view_name": "LayoutView",
            "align_content": null,
            "align_items": null,
            "align_self": null,
            "border": null,
            "bottom": null,
            "display": null,
            "flex": null,
            "flex_flow": null,
            "grid_area": null,
            "grid_auto_columns": null,
            "grid_auto_flow": null,
            "grid_auto_rows": null,
            "grid_column": null,
            "grid_gap": null,
            "grid_row": null,
            "grid_template_areas": null,
            "grid_template_columns": null,
            "grid_template_rows": null,
            "height": null,
            "justify_content": null,
            "justify_items": null,
            "left": null,
            "margin": null,
            "max_height": null,
            "max_width": null,
            "min_height": null,
            "min_width": null,
            "object_fit": null,
            "object_position": null,
            "order": null,
            "overflow": null,
            "overflow_x": null,
            "overflow_y": null,
            "padding": null,
            "right": null,
            "top": null,
            "visibility": null,
            "width": null
          }
        },
        "2006c75912664872bea481ac516c50a0": {
          "model_module": "@jupyter-widgets/controls",
          "model_module_version": "1.5.0",
          "model_name": "HTMLModel",
          "state": {
            "_dom_classes": [],
            "_model_module": "@jupyter-widgets/controls",
            "_model_module_version": "1.5.0",
            "_model_name": "HTMLModel",
            "_view_count": null,
            "_view_module": "@jupyter-widgets/controls",
            "_view_module_version": "1.5.0",
            "_view_name": "HTMLView",
            "description": "",
            "description_tooltip": null,
            "layout": "IPY_MODEL_f2f929b30b8e4a298cdcac1d576f32ee",
            "placeholder": "​",
            "style": "IPY_MODEL_63c7469f19f344c497031ec5693d2520",
            "value": "model.safetensors: 100%"
          }
        },
        "221cfd6334fb4653a4cd78315eae6149": {
          "model_module": "@jupyter-widgets/controls",
          "model_module_version": "1.5.0",
          "model_name": "HBoxModel",
          "state": {
            "_dom_classes": [],
            "_model_module": "@jupyter-widgets/controls",
            "_model_module_version": "1.5.0",
            "_model_name": "HBoxModel",
            "_view_count": null,
            "_view_module": "@jupyter-widgets/controls",
            "_view_module_version": "1.5.0",
            "_view_name": "HBoxView",
            "box_style": "",
            "children": [
              "IPY_MODEL_b6b56f05cd1b4d9ba702e11d908cf248",
              "IPY_MODEL_e4f028562f944926971c1c73f9d6b28d",
              "IPY_MODEL_1b7f37182b30433b8d53c550d99d469b"
            ],
            "layout": "IPY_MODEL_346b401f241c48eb8be81de3595694d7"
          }
        },
        "25a4aff1fcc8431eb32041bf9548f97a": {
          "model_module": "@jupyter-widgets/controls",
          "model_module_version": "1.5.0",
          "model_name": "ProgressStyleModel",
          "state": {
            "_model_module": "@jupyter-widgets/controls",
            "_model_module_version": "1.5.0",
            "_model_name": "ProgressStyleModel",
            "_view_count": null,
            "_view_module": "@jupyter-widgets/base",
            "_view_module_version": "1.2.0",
            "_view_name": "StyleView",
            "bar_color": null,
            "description_width": ""
          }
        },
        "27f68934d1f94abfbfe5984ba3761dfb": {
          "model_module": "@jupyter-widgets/base",
          "model_module_version": "1.2.0",
          "model_name": "LayoutModel",
          "state": {
            "_model_module": "@jupyter-widgets/base",
            "_model_module_version": "1.2.0",
            "_model_name": "LayoutModel",
            "_view_count": null,
            "_view_module": "@jupyter-widgets/base",
            "_view_module_version": "1.2.0",
            "_view_name": "LayoutView",
            "align_content": null,
            "align_items": null,
            "align_self": null,
            "border": null,
            "bottom": null,
            "display": null,
            "flex": null,
            "flex_flow": null,
            "grid_area": null,
            "grid_auto_columns": null,
            "grid_auto_flow": null,
            "grid_auto_rows": null,
            "grid_column": null,
            "grid_gap": null,
            "grid_row": null,
            "grid_template_areas": null,
            "grid_template_columns": null,
            "grid_template_rows": null,
            "height": null,
            "justify_content": null,
            "justify_items": null,
            "left": null,
            "margin": null,
            "max_height": null,
            "max_width": null,
            "min_height": null,
            "min_width": null,
            "object_fit": null,
            "object_position": null,
            "order": null,
            "overflow": null,
            "overflow_x": null,
            "overflow_y": null,
            "padding": null,
            "right": null,
            "top": null,
            "visibility": null,
            "width": null
          }
        },
        "282ca8fcc84a4a85b1f3d5b8bfb9afd8": {
          "model_module": "@jupyter-widgets/controls",
          "model_module_version": "1.5.0",
          "model_name": "DescriptionStyleModel",
          "state": {
            "_model_module": "@jupyter-widgets/controls",
            "_model_module_version": "1.5.0",
            "_model_name": "DescriptionStyleModel",
            "_view_count": null,
            "_view_module": "@jupyter-widgets/base",
            "_view_module_version": "1.2.0",
            "_view_name": "StyleView",
            "description_width": ""
          }
        },
        "2878408589674fc0b50def3eb69a7b91": {
          "model_module": "@jupyter-widgets/base",
          "model_module_version": "1.2.0",
          "model_name": "LayoutModel",
          "state": {
            "_model_module": "@jupyter-widgets/base",
            "_model_module_version": "1.2.0",
            "_model_name": "LayoutModel",
            "_view_count": null,
            "_view_module": "@jupyter-widgets/base",
            "_view_module_version": "1.2.0",
            "_view_name": "LayoutView",
            "align_content": null,
            "align_items": null,
            "align_self": null,
            "border": null,
            "bottom": null,
            "display": null,
            "flex": null,
            "flex_flow": null,
            "grid_area": null,
            "grid_auto_columns": null,
            "grid_auto_flow": null,
            "grid_auto_rows": null,
            "grid_column": null,
            "grid_gap": null,
            "grid_row": null,
            "grid_template_areas": null,
            "grid_template_columns": null,
            "grid_template_rows": null,
            "height": null,
            "justify_content": null,
            "justify_items": null,
            "left": null,
            "margin": null,
            "max_height": null,
            "max_width": null,
            "min_height": null,
            "min_width": null,
            "object_fit": null,
            "object_position": null,
            "order": null,
            "overflow": null,
            "overflow_x": null,
            "overflow_y": null,
            "padding": null,
            "right": null,
            "top": null,
            "visibility": null,
            "width": null
          }
        },
        "2aace621495548e8bea8a9b2e819471c": {
          "model_module": "@jupyter-widgets/base",
          "model_module_version": "1.2.0",
          "model_name": "LayoutModel",
          "state": {
            "_model_module": "@jupyter-widgets/base",
            "_model_module_version": "1.2.0",
            "_model_name": "LayoutModel",
            "_view_count": null,
            "_view_module": "@jupyter-widgets/base",
            "_view_module_version": "1.2.0",
            "_view_name": "LayoutView",
            "align_content": null,
            "align_items": null,
            "align_self": null,
            "border": null,
            "bottom": null,
            "display": null,
            "flex": null,
            "flex_flow": null,
            "grid_area": null,
            "grid_auto_columns": null,
            "grid_auto_flow": null,
            "grid_auto_rows": null,
            "grid_column": null,
            "grid_gap": null,
            "grid_row": null,
            "grid_template_areas": null,
            "grid_template_columns": null,
            "grid_template_rows": null,
            "height": null,
            "justify_content": null,
            "justify_items": null,
            "left": null,
            "margin": null,
            "max_height": null,
            "max_width": null,
            "min_height": null,
            "min_width": null,
            "object_fit": null,
            "object_position": null,
            "order": null,
            "overflow": null,
            "overflow_x": null,
            "overflow_y": null,
            "padding": null,
            "right": null,
            "top": null,
            "visibility": null,
            "width": null
          }
        },
        "2c5d309609404e089741d55245f5f026": {
          "model_module": "@jupyter-widgets/base",
          "model_module_version": "1.2.0",
          "model_name": "LayoutModel",
          "state": {
            "_model_module": "@jupyter-widgets/base",
            "_model_module_version": "1.2.0",
            "_model_name": "LayoutModel",
            "_view_count": null,
            "_view_module": "@jupyter-widgets/base",
            "_view_module_version": "1.2.0",
            "_view_name": "LayoutView",
            "align_content": null,
            "align_items": null,
            "align_self": null,
            "border": null,
            "bottom": null,
            "display": null,
            "flex": null,
            "flex_flow": null,
            "grid_area": null,
            "grid_auto_columns": null,
            "grid_auto_flow": null,
            "grid_auto_rows": null,
            "grid_column": null,
            "grid_gap": null,
            "grid_row": null,
            "grid_template_areas": null,
            "grid_template_columns": null,
            "grid_template_rows": null,
            "height": null,
            "justify_content": null,
            "justify_items": null,
            "left": null,
            "margin": null,
            "max_height": null,
            "max_width": null,
            "min_height": null,
            "min_width": null,
            "object_fit": null,
            "object_position": null,
            "order": null,
            "overflow": null,
            "overflow_x": null,
            "overflow_y": null,
            "padding": null,
            "right": null,
            "top": null,
            "visibility": null,
            "width": null
          }
        },
        "2c86fe0788144acd9d50c5d7e4b8279a": {
          "model_module": "@jupyter-widgets/controls",
          "model_module_version": "1.5.0",
          "model_name": "FloatProgressModel",
          "state": {
            "_dom_classes": [],
            "_model_module": "@jupyter-widgets/controls",
            "_model_module_version": "1.5.0",
            "_model_name": "FloatProgressModel",
            "_view_count": null,
            "_view_module": "@jupyter-widgets/controls",
            "_view_module_version": "1.5.0",
            "_view_name": "ProgressView",
            "bar_style": "success",
            "description": "",
            "description_tooltip": null,
            "layout": "IPY_MODEL_a21c02b987bd47faa0260cea40be0010",
            "max": 1336413848,
            "min": 0,
            "orientation": "horizontal",
            "style": "IPY_MODEL_aee739ab80144513982b56540cac9ac5",
            "value": 1336413848
          }
        },
        "2dbaf664b72e48b0adfb30cb4bd3e54e": {
          "model_module": "@jupyter-widgets/controls",
          "model_module_version": "1.5.0",
          "model_name": "ProgressStyleModel",
          "state": {
            "_model_module": "@jupyter-widgets/controls",
            "_model_module_version": "1.5.0",
            "_model_name": "ProgressStyleModel",
            "_view_count": null,
            "_view_module": "@jupyter-widgets/base",
            "_view_module_version": "1.2.0",
            "_view_name": "StyleView",
            "bar_color": null,
            "description_width": ""
          }
        },
        "2ec9a3b4e0d64f0aba5271e704e974d5": {
          "model_module": "@jupyter-widgets/base",
          "model_module_version": "1.2.0",
          "model_name": "LayoutModel",
          "state": {
            "_model_module": "@jupyter-widgets/base",
            "_model_module_version": "1.2.0",
            "_model_name": "LayoutModel",
            "_view_count": null,
            "_view_module": "@jupyter-widgets/base",
            "_view_module_version": "1.2.0",
            "_view_name": "LayoutView",
            "align_content": null,
            "align_items": null,
            "align_self": null,
            "border": null,
            "bottom": null,
            "display": null,
            "flex": null,
            "flex_flow": null,
            "grid_area": null,
            "grid_auto_columns": null,
            "grid_auto_flow": null,
            "grid_auto_rows": null,
            "grid_column": null,
            "grid_gap": null,
            "grid_row": null,
            "grid_template_areas": null,
            "grid_template_columns": null,
            "grid_template_rows": null,
            "height": null,
            "justify_content": null,
            "justify_items": null,
            "left": null,
            "margin": null,
            "max_height": null,
            "max_width": null,
            "min_height": null,
            "min_width": null,
            "object_fit": null,
            "object_position": null,
            "order": null,
            "overflow": null,
            "overflow_x": null,
            "overflow_y": null,
            "padding": null,
            "right": null,
            "top": null,
            "visibility": null,
            "width": null
          }
        },
        "2f10414bcf1949d9a50fafb8da532529": {
          "model_module": "@jupyter-widgets/controls",
          "model_module_version": "1.5.0",
          "model_name": "HTMLModel",
          "state": {
            "_dom_classes": [],
            "_model_module": "@jupyter-widgets/controls",
            "_model_module_version": "1.5.0",
            "_model_name": "HTMLModel",
            "_view_count": null,
            "_view_module": "@jupyter-widgets/controls",
            "_view_module_version": "1.5.0",
            "_view_name": "HTMLView",
            "description": "",
            "description_tooltip": null,
            "layout": "IPY_MODEL_f22c70c681a643ed961216ba4de79c6d",
            "placeholder": "​",
            "style": "IPY_MODEL_282ca8fcc84a4a85b1f3d5b8bfb9afd8",
            "value": "config.json: 100%"
          }
        },
        "32ede78b1ed14968a16c4c7c088ee4ca": {
          "model_module": "@jupyter-widgets/controls",
          "model_module_version": "1.5.0",
          "model_name": "ProgressStyleModel",
          "state": {
            "_model_module": "@jupyter-widgets/controls",
            "_model_module_version": "1.5.0",
            "_model_name": "ProgressStyleModel",
            "_view_count": null,
            "_view_module": "@jupyter-widgets/base",
            "_view_module_version": "1.2.0",
            "_view_name": "StyleView",
            "bar_color": null,
            "description_width": ""
          }
        },
        "346b401f241c48eb8be81de3595694d7": {
          "model_module": "@jupyter-widgets/base",
          "model_module_version": "1.2.0",
          "model_name": "LayoutModel",
          "state": {
            "_model_module": "@jupyter-widgets/base",
            "_model_module_version": "1.2.0",
            "_model_name": "LayoutModel",
            "_view_count": null,
            "_view_module": "@jupyter-widgets/base",
            "_view_module_version": "1.2.0",
            "_view_name": "LayoutView",
            "align_content": null,
            "align_items": null,
            "align_self": null,
            "border": null,
            "bottom": null,
            "display": null,
            "flex": null,
            "flex_flow": null,
            "grid_area": null,
            "grid_auto_columns": null,
            "grid_auto_flow": null,
            "grid_auto_rows": null,
            "grid_column": null,
            "grid_gap": null,
            "grid_row": null,
            "grid_template_areas": null,
            "grid_template_columns": null,
            "grid_template_rows": null,
            "height": null,
            "justify_content": null,
            "justify_items": null,
            "left": null,
            "margin": null,
            "max_height": null,
            "max_width": null,
            "min_height": null,
            "min_width": null,
            "object_fit": null,
            "object_position": null,
            "order": null,
            "overflow": null,
            "overflow_x": null,
            "overflow_y": null,
            "padding": null,
            "right": null,
            "top": null,
            "visibility": null,
            "width": null
          }
        },
        "35c35e1a18c642ff8db4e8b98d2dccc2": {
          "model_module": "@jupyter-widgets/controls",
          "model_module_version": "1.5.0",
          "model_name": "HTMLModel",
          "state": {
            "_dom_classes": [],
            "_model_module": "@jupyter-widgets/controls",
            "_model_module_version": "1.5.0",
            "_model_name": "HTMLModel",
            "_view_count": null,
            "_view_module": "@jupyter-widgets/controls",
            "_view_module_version": "1.5.0",
            "_view_name": "HTMLView",
            "description": "",
            "description_tooltip": null,
            "layout": "IPY_MODEL_a2cc43bacced4e1c90b2985cd907519b",
            "placeholder": "​",
            "style": "IPY_MODEL_a3aa10a15737457b89722ea1c2a37d7b",
            "value": "Evaluating: 100%"
          }
        },
        "35ecc273ea034eb783a32cd4a3fb9782": {
          "model_module": "@jupyter-widgets/controls",
          "model_module_version": "1.5.0",
          "model_name": "DescriptionStyleModel",
          "state": {
            "_model_module": "@jupyter-widgets/controls",
            "_model_module_version": "1.5.0",
            "_model_name": "DescriptionStyleModel",
            "_view_count": null,
            "_view_module": "@jupyter-widgets/base",
            "_view_module_version": "1.2.0",
            "_view_name": "StyleView",
            "description_width": ""
          }
        },
        "39d51bb1fd224b2a9000ad488d12dd0c": {
          "model_module": "@jupyter-widgets/controls",
          "model_module_version": "1.5.0",
          "model_name": "ProgressStyleModel",
          "state": {
            "_model_module": "@jupyter-widgets/controls",
            "_model_module_version": "1.5.0",
            "_model_name": "ProgressStyleModel",
            "_view_count": null,
            "_view_module": "@jupyter-widgets/base",
            "_view_module_version": "1.2.0",
            "_view_name": "StyleView",
            "bar_color": null,
            "description_width": ""
          }
        },
        "39d8a08068e54d3a99fac73c5172a054": {
          "model_module": "@jupyter-widgets/base",
          "model_module_version": "1.2.0",
          "model_name": "LayoutModel",
          "state": {
            "_model_module": "@jupyter-widgets/base",
            "_model_module_version": "1.2.0",
            "_model_name": "LayoutModel",
            "_view_count": null,
            "_view_module": "@jupyter-widgets/base",
            "_view_module_version": "1.2.0",
            "_view_name": "LayoutView",
            "align_content": null,
            "align_items": null,
            "align_self": null,
            "border": null,
            "bottom": null,
            "display": null,
            "flex": null,
            "flex_flow": null,
            "grid_area": null,
            "grid_auto_columns": null,
            "grid_auto_flow": null,
            "grid_auto_rows": null,
            "grid_column": null,
            "grid_gap": null,
            "grid_row": null,
            "grid_template_areas": null,
            "grid_template_columns": null,
            "grid_template_rows": null,
            "height": null,
            "justify_content": null,
            "justify_items": null,
            "left": null,
            "margin": null,
            "max_height": null,
            "max_width": null,
            "min_height": null,
            "min_width": null,
            "object_fit": null,
            "object_position": null,
            "order": null,
            "overflow": null,
            "overflow_x": null,
            "overflow_y": null,
            "padding": null,
            "right": null,
            "top": null,
            "visibility": null,
            "width": null
          }
        },
        "3b69bac5f0154e29bf742f76ff284cfe": {
          "model_module": "@jupyter-widgets/controls",
          "model_module_version": "1.5.0",
          "model_name": "HTMLModel",
          "state": {
            "_dom_classes": [],
            "_model_module": "@jupyter-widgets/controls",
            "_model_module_version": "1.5.0",
            "_model_name": "HTMLModel",
            "_view_count": null,
            "_view_module": "@jupyter-widgets/controls",
            "_view_module_version": "1.5.0",
            "_view_name": "HTMLView",
            "description": "",
            "description_tooltip": null,
            "layout": "IPY_MODEL_9036f2d7300343f1902546c4da392403",
            "placeholder": "​",
            "style": "IPY_MODEL_8163bbe312684c9381cea37aedfd0c5f",
            "value": " 1.34G/1.34G [00:03&lt;00:00, 413MB/s]"
          }
        },
        "3db682bae6864a1bb143050244fd13c3": {
          "model_module": "@jupyter-widgets/controls",
          "model_module_version": "1.5.0",
          "model_name": "HTMLModel",
          "state": {
            "_dom_classes": [],
            "_model_module": "@jupyter-widgets/controls",
            "_model_module_version": "1.5.0",
            "_model_name": "HTMLModel",
            "_view_count": null,
            "_view_module": "@jupyter-widgets/controls",
            "_view_module_version": "1.5.0",
            "_view_name": "HTMLView",
            "description": "",
            "description_tooltip": null,
            "layout": "IPY_MODEL_002b87ad0fc34b019e0a6c62813c9597",
            "placeholder": "​",
            "style": "IPY_MODEL_e67c9743ff15416ab7f994f09756e5cd",
            "value": "special_tokens_map.json: 100%"
          }
        },
        "3f0d9c53129c4025bed1a2b678c34fff": {
          "model_module": "@jupyter-widgets/base",
          "model_module_version": "1.2.0",
          "model_name": "LayoutModel",
          "state": {
            "_model_module": "@jupyter-widgets/base",
            "_model_module_version": "1.2.0",
            "_model_name": "LayoutModel",
            "_view_count": null,
            "_view_module": "@jupyter-widgets/base",
            "_view_module_version": "1.2.0",
            "_view_name": "LayoutView",
            "align_content": null,
            "align_items": null,
            "align_self": null,
            "border": null,
            "bottom": null,
            "display": null,
            "flex": null,
            "flex_flow": null,
            "grid_area": null,
            "grid_auto_columns": null,
            "grid_auto_flow": null,
            "grid_auto_rows": null,
            "grid_column": null,
            "grid_gap": null,
            "grid_row": null,
            "grid_template_areas": null,
            "grid_template_columns": null,
            "grid_template_rows": null,
            "height": null,
            "justify_content": null,
            "justify_items": null,
            "left": null,
            "margin": null,
            "max_height": null,
            "max_width": null,
            "min_height": null,
            "min_width": null,
            "object_fit": null,
            "object_position": null,
            "order": null,
            "overflow": null,
            "overflow_x": null,
            "overflow_y": null,
            "padding": null,
            "right": null,
            "top": null,
            "visibility": null,
            "width": null
          }
        },
        "4065827a17e44ea1993d6fdbb00ed942": {
          "model_module": "@jupyter-widgets/base",
          "model_module_version": "1.2.0",
          "model_name": "LayoutModel",
          "state": {
            "_model_module": "@jupyter-widgets/base",
            "_model_module_version": "1.2.0",
            "_model_name": "LayoutModel",
            "_view_count": null,
            "_view_module": "@jupyter-widgets/base",
            "_view_module_version": "1.2.0",
            "_view_name": "LayoutView",
            "align_content": null,
            "align_items": null,
            "align_self": null,
            "border": null,
            "bottom": null,
            "display": null,
            "flex": null,
            "flex_flow": null,
            "grid_area": null,
            "grid_auto_columns": null,
            "grid_auto_flow": null,
            "grid_auto_rows": null,
            "grid_column": null,
            "grid_gap": null,
            "grid_row": null,
            "grid_template_areas": null,
            "grid_template_columns": null,
            "grid_template_rows": null,
            "height": null,
            "justify_content": null,
            "justify_items": null,
            "left": null,
            "margin": null,
            "max_height": null,
            "max_width": null,
            "min_height": null,
            "min_width": null,
            "object_fit": null,
            "object_position": null,
            "order": null,
            "overflow": null,
            "overflow_x": null,
            "overflow_y": null,
            "padding": null,
            "right": null,
            "top": null,
            "visibility": null,
            "width": null
          }
        },
        "4158f1dcddcc4a46b4bfd2c071b7f688": {
          "model_module": "@jupyter-widgets/controls",
          "model_module_version": "1.5.0",
          "model_name": "ProgressStyleModel",
          "state": {
            "_model_module": "@jupyter-widgets/controls",
            "_model_module_version": "1.5.0",
            "_model_name": "ProgressStyleModel",
            "_view_count": null,
            "_view_module": "@jupyter-widgets/base",
            "_view_module_version": "1.2.0",
            "_view_name": "StyleView",
            "bar_color": null,
            "description_width": ""
          }
        },
        "41c960b513f24dffb537ad422b13a7d1": {
          "model_module": "@jupyter-widgets/controls",
          "model_module_version": "1.5.0",
          "model_name": "ProgressStyleModel",
          "state": {
            "_model_module": "@jupyter-widgets/controls",
            "_model_module_version": "1.5.0",
            "_model_name": "ProgressStyleModel",
            "_view_count": null,
            "_view_module": "@jupyter-widgets/base",
            "_view_module_version": "1.2.0",
            "_view_name": "StyleView",
            "bar_color": null,
            "description_width": ""
          }
        },
        "41ca089e99f14ff1ad04f4cbb0ef6d98": {
          "model_module": "@jupyter-widgets/base",
          "model_module_version": "1.2.0",
          "model_name": "LayoutModel",
          "state": {
            "_model_module": "@jupyter-widgets/base",
            "_model_module_version": "1.2.0",
            "_model_name": "LayoutModel",
            "_view_count": null,
            "_view_module": "@jupyter-widgets/base",
            "_view_module_version": "1.2.0",
            "_view_name": "LayoutView",
            "align_content": null,
            "align_items": null,
            "align_self": null,
            "border": null,
            "bottom": null,
            "display": null,
            "flex": null,
            "flex_flow": null,
            "grid_area": null,
            "grid_auto_columns": null,
            "grid_auto_flow": null,
            "grid_auto_rows": null,
            "grid_column": null,
            "grid_gap": null,
            "grid_row": null,
            "grid_template_areas": null,
            "grid_template_columns": null,
            "grid_template_rows": null,
            "height": null,
            "justify_content": null,
            "justify_items": null,
            "left": null,
            "margin": null,
            "max_height": null,
            "max_width": null,
            "min_height": null,
            "min_width": null,
            "object_fit": null,
            "object_position": null,
            "order": null,
            "overflow": null,
            "overflow_x": null,
            "overflow_y": null,
            "padding": null,
            "right": null,
            "top": null,
            "visibility": null,
            "width": null
          }
        },
        "44a4e7d77ee941e0868a32a2fb42b56a": {
          "model_module": "@jupyter-widgets/base",
          "model_module_version": "1.2.0",
          "model_name": "LayoutModel",
          "state": {
            "_model_module": "@jupyter-widgets/base",
            "_model_module_version": "1.2.0",
            "_model_name": "LayoutModel",
            "_view_count": null,
            "_view_module": "@jupyter-widgets/base",
            "_view_module_version": "1.2.0",
            "_view_name": "LayoutView",
            "align_content": null,
            "align_items": null,
            "align_self": null,
            "border": null,
            "bottom": null,
            "display": null,
            "flex": null,
            "flex_flow": null,
            "grid_area": null,
            "grid_auto_columns": null,
            "grid_auto_flow": null,
            "grid_auto_rows": null,
            "grid_column": null,
            "grid_gap": null,
            "grid_row": null,
            "grid_template_areas": null,
            "grid_template_columns": null,
            "grid_template_rows": null,
            "height": null,
            "justify_content": null,
            "justify_items": null,
            "left": null,
            "margin": null,
            "max_height": null,
            "max_width": null,
            "min_height": null,
            "min_width": null,
            "object_fit": null,
            "object_position": null,
            "order": null,
            "overflow": null,
            "overflow_x": null,
            "overflow_y": null,
            "padding": null,
            "right": null,
            "top": null,
            "visibility": null,
            "width": null
          }
        },
        "467c9c949f41498f93bbb27607f56682": {
          "model_module": "@jupyter-widgets/controls",
          "model_module_version": "1.5.0",
          "model_name": "HTMLModel",
          "state": {
            "_dom_classes": [],
            "_model_module": "@jupyter-widgets/controls",
            "_model_module_version": "1.5.0",
            "_model_name": "HTMLModel",
            "_view_count": null,
            "_view_module": "@jupyter-widgets/controls",
            "_view_module_version": "1.5.0",
            "_view_name": "HTMLView",
            "description": "",
            "description_tooltip": null,
            "layout": "IPY_MODEL_19462b4c7a5b4d619221e1d5c58a3ef4",
            "placeholder": "​",
            "style": "IPY_MODEL_06d4f3a6c37f46379470fc95fc1e056c",
            "value": " 349/349 [00:00&lt;00:00, 43.3kB/s]"
          }
        },
        "47b7738a35424365be3205c536b46a90": {
          "model_module": "@jupyter-widgets/controls",
          "model_module_version": "1.5.0",
          "model_name": "HTMLModel",
          "state": {
            "_dom_classes": [],
            "_model_module": "@jupyter-widgets/controls",
            "_model_module_version": "1.5.0",
            "_model_name": "HTMLModel",
            "_view_count": null,
            "_view_module": "@jupyter-widgets/controls",
            "_view_module_version": "1.5.0",
            "_view_name": "HTMLView",
            "description": "",
            "description_tooltip": null,
            "layout": "IPY_MODEL_eaa2f297bb074846948d3cb62ee67842",
            "placeholder": "​",
            "style": "IPY_MODEL_67cd389a655f4487801d89fcf90d2a3b",
            "value": " 712k/712k [00:00&lt;00:00, 3.87MB/s]"
          }
        },
        "4904bcc16516426199b32b1dba421866": {
          "model_module": "@jupyter-widgets/base",
          "model_module_version": "1.2.0",
          "model_name": "LayoutModel",
          "state": {
            "_model_module": "@jupyter-widgets/base",
            "_model_module_version": "1.2.0",
            "_model_name": "LayoutModel",
            "_view_count": null,
            "_view_module": "@jupyter-widgets/base",
            "_view_module_version": "1.2.0",
            "_view_name": "LayoutView",
            "align_content": null,
            "align_items": "center",
            "align_self": null,
            "border": null,
            "bottom": null,
            "display": "flex",
            "flex": null,
            "flex_flow": "column",
            "grid_area": null,
            "grid_auto_columns": null,
            "grid_auto_flow": null,
            "grid_auto_rows": null,
            "grid_column": null,
            "grid_gap": null,
            "grid_row": null,
            "grid_template_areas": null,
            "grid_template_columns": null,
            "grid_template_rows": null,
            "height": null,
            "justify_content": null,
            "justify_items": null,
            "left": null,
            "margin": null,
            "max_height": null,
            "max_width": null,
            "min_height": null,
            "min_width": null,
            "object_fit": null,
            "object_position": null,
            "order": null,
            "overflow": null,
            "overflow_x": null,
            "overflow_y": null,
            "padding": null,
            "right": null,
            "top": null,
            "visibility": null,
            "width": "50%"
          }
        },
        "4d02ec9e27e8450ab5e3d031be5fa647": {
          "model_module": "@jupyter-widgets/controls",
          "model_module_version": "1.5.0",
          "model_name": "HTMLModel",
          "state": {
            "_dom_classes": [],
            "_model_module": "@jupyter-widgets/controls",
            "_model_module_version": "1.5.0",
            "_model_name": "HTMLModel",
            "_view_count": null,
            "_view_module": "@jupyter-widgets/controls",
            "_view_module_version": "1.5.0",
            "_view_name": "HTMLView",
            "description": "",
            "description_tooltip": null,
            "layout": "IPY_MODEL_90bbae3217a84c7dacc609fa2b35e6ea",
            "placeholder": "​",
            "style": "IPY_MODEL_5e0f0fdb1a964cdf94e09880e6728025",
            "value": "config.json: 100%"
          }
        },
        "4e07cde03abd48028687a33200920fdb": {
          "model_module": "@jupyter-widgets/base",
          "model_module_version": "1.2.0",
          "model_name": "LayoutModel",
          "state": {
            "_model_module": "@jupyter-widgets/base",
            "_model_module_version": "1.2.0",
            "_model_name": "LayoutModel",
            "_view_count": null,
            "_view_module": "@jupyter-widgets/base",
            "_view_module_version": "1.2.0",
            "_view_name": "LayoutView",
            "align_content": null,
            "align_items": null,
            "align_self": null,
            "border": null,
            "bottom": null,
            "display": null,
            "flex": null,
            "flex_flow": null,
            "grid_area": null,
            "grid_auto_columns": null,
            "grid_auto_flow": null,
            "grid_auto_rows": null,
            "grid_column": null,
            "grid_gap": null,
            "grid_row": null,
            "grid_template_areas": null,
            "grid_template_columns": null,
            "grid_template_rows": null,
            "height": null,
            "justify_content": null,
            "justify_items": null,
            "left": null,
            "margin": null,
            "max_height": null,
            "max_width": null,
            "min_height": null,
            "min_width": null,
            "object_fit": null,
            "object_position": null,
            "order": null,
            "overflow": null,
            "overflow_x": null,
            "overflow_y": null,
            "padding": null,
            "right": null,
            "top": null,
            "visibility": null,
            "width": null
          }
        },
        "50ba2d0b29224ee0a6b078123fb536bd": {
          "model_module": "@jupyter-widgets/base",
          "model_module_version": "1.2.0",
          "model_name": "LayoutModel",
          "state": {
            "_model_module": "@jupyter-widgets/base",
            "_model_module_version": "1.2.0",
            "_model_name": "LayoutModel",
            "_view_count": null,
            "_view_module": "@jupyter-widgets/base",
            "_view_module_version": "1.2.0",
            "_view_name": "LayoutView",
            "align_content": null,
            "align_items": null,
            "align_self": null,
            "border": null,
            "bottom": null,
            "display": null,
            "flex": null,
            "flex_flow": null,
            "grid_area": null,
            "grid_auto_columns": null,
            "grid_auto_flow": null,
            "grid_auto_rows": null,
            "grid_column": null,
            "grid_gap": null,
            "grid_row": null,
            "grid_template_areas": null,
            "grid_template_columns": null,
            "grid_template_rows": null,
            "height": null,
            "justify_content": null,
            "justify_items": null,
            "left": null,
            "margin": null,
            "max_height": null,
            "max_width": null,
            "min_height": null,
            "min_width": null,
            "object_fit": null,
            "object_position": null,
            "order": null,
            "overflow": null,
            "overflow_x": null,
            "overflow_y": null,
            "padding": null,
            "right": null,
            "top": null,
            "visibility": null,
            "width": null
          }
        },
        "51a919dfa7b84396b0ced32d0d23b521": {
          "model_module": "@jupyter-widgets/base",
          "model_module_version": "1.2.0",
          "model_name": "LayoutModel",
          "state": {
            "_model_module": "@jupyter-widgets/base",
            "_model_module_version": "1.2.0",
            "_model_name": "LayoutModel",
            "_view_count": null,
            "_view_module": "@jupyter-widgets/base",
            "_view_module_version": "1.2.0",
            "_view_name": "LayoutView",
            "align_content": null,
            "align_items": null,
            "align_self": null,
            "border": null,
            "bottom": null,
            "display": null,
            "flex": null,
            "flex_flow": null,
            "grid_area": null,
            "grid_auto_columns": null,
            "grid_auto_flow": null,
            "grid_auto_rows": null,
            "grid_column": null,
            "grid_gap": null,
            "grid_row": null,
            "grid_template_areas": null,
            "grid_template_columns": null,
            "grid_template_rows": null,
            "height": null,
            "justify_content": null,
            "justify_items": null,
            "left": null,
            "margin": null,
            "max_height": null,
            "max_width": null,
            "min_height": null,
            "min_width": null,
            "object_fit": null,
            "object_position": null,
            "order": null,
            "overflow": null,
            "overflow_x": null,
            "overflow_y": null,
            "padding": null,
            "right": null,
            "top": null,
            "visibility": "hidden",
            "width": null
          }
        },
        "51d839ca609b4876842ffcd6053e2a45": {
          "model_module": "@jupyter-widgets/controls",
          "model_module_version": "1.5.0",
          "model_name": "HTMLModel",
          "state": {
            "_dom_classes": [],
            "_model_module": "@jupyter-widgets/controls",
            "_model_module_version": "1.5.0",
            "_model_name": "HTMLModel",
            "_view_count": null,
            "_view_module": "@jupyter-widgets/controls",
            "_view_module_version": "1.5.0",
            "_view_name": "HTMLView",
            "description": "",
            "description_tooltip": null,
            "layout": "IPY_MODEL_972b5b4e01bd47ea831ee849808d5eb6",
            "placeholder": "​",
            "style": "IPY_MODEL_35ecc273ea034eb783a32cd4a3fb9782",
            "value": " 144/144 [00:50&lt;00:00,  1.29s/it]"
          }
        },
        "567e5efa43e74e258cece73bd011c218": {
          "model_module": "@jupyter-widgets/controls",
          "model_module_version": "1.5.0",
          "model_name": "FloatProgressModel",
          "state": {
            "_dom_classes": [],
            "_model_module": "@jupyter-widgets/controls",
            "_model_module_version": "1.5.0",
            "_model_name": "FloatProgressModel",
            "_view_count": null,
            "_view_module": "@jupyter-widgets/controls",
            "_view_module_version": "1.5.0",
            "_view_name": "ProgressView",
            "bar_style": "success",
            "description": "",
            "description_tooltip": null,
            "layout": "IPY_MODEL_b206ee75dff24667887dcfabea6469bd",
            "max": 704,
            "min": 0,
            "orientation": "horizontal",
            "style": "IPY_MODEL_0c148ee124bb40d48912daa8f726a476",
            "value": 704
          }
        },
        "573c6b32ae4e4001bac54758d6787e36": {
          "model_module": "@jupyter-widgets/base",
          "model_module_version": "1.2.0",
          "model_name": "LayoutModel",
          "state": {
            "_model_module": "@jupyter-widgets/base",
            "_model_module_version": "1.2.0",
            "_model_name": "LayoutModel",
            "_view_count": null,
            "_view_module": "@jupyter-widgets/base",
            "_view_module_version": "1.2.0",
            "_view_name": "LayoutView",
            "align_content": null,
            "align_items": null,
            "align_self": null,
            "border": null,
            "bottom": null,
            "display": null,
            "flex": null,
            "flex_flow": null,
            "grid_area": null,
            "grid_auto_columns": null,
            "grid_auto_flow": null,
            "grid_auto_rows": null,
            "grid_column": null,
            "grid_gap": null,
            "grid_row": null,
            "grid_template_areas": null,
            "grid_template_columns": null,
            "grid_template_rows": null,
            "height": null,
            "justify_content": null,
            "justify_items": null,
            "left": null,
            "margin": null,
            "max_height": null,
            "max_width": null,
            "min_height": null,
            "min_width": null,
            "object_fit": null,
            "object_position": null,
            "order": null,
            "overflow": null,
            "overflow_x": null,
            "overflow_y": null,
            "padding": null,
            "right": null,
            "top": null,
            "visibility": null,
            "width": null
          }
        },
        "578d24597c4442f797dd34714214f332": {
          "model_module": "@jupyter-widgets/controls",
          "model_module_version": "1.5.0",
          "model_name": "HTMLModel",
          "state": {
            "_dom_classes": [],
            "_model_module": "@jupyter-widgets/controls",
            "_model_module_version": "1.5.0",
            "_model_name": "HTMLModel",
            "_view_count": null,
            "_view_module": "@jupyter-widgets/controls",
            "_view_module_version": "1.5.0",
            "_view_name": "HTMLView",
            "description": "",
            "description_tooltip": null,
            "layout": "IPY_MODEL_2ec9a3b4e0d64f0aba5271e704e974d5",
            "placeholder": "​",
            "style": "IPY_MODEL_a2eb3b1d088f4380af0ffb15f565d501",
            "value": " 0/1 [00:00&lt;?, ?example/s]"
          }
        },
        "58aad7d383724112ab8f9ca902ac595e": {
          "model_module": "@jupyter-widgets/controls",
          "model_module_version": "1.5.0",
          "model_name": "DescriptionStyleModel",
          "state": {
            "_model_module": "@jupyter-widgets/controls",
            "_model_module_version": "1.5.0",
            "_model_name": "DescriptionStyleModel",
            "_view_count": null,
            "_view_module": "@jupyter-widgets/base",
            "_view_module_version": "1.2.0",
            "_view_name": "StyleView",
            "description_width": ""
          }
        },
        "59a1885138214b2cae4d96b004f9fa1d": {
          "model_module": "@jupyter-widgets/controls",
          "model_module_version": "1.5.0",
          "model_name": "HTMLModel",
          "state": {
            "_dom_classes": [],
            "_model_module": "@jupyter-widgets/controls",
            "_model_module_version": "1.5.0",
            "_model_name": "HTMLModel",
            "_view_count": null,
            "_view_module": "@jupyter-widgets/controls",
            "_view_module_version": "1.5.0",
            "_view_name": "HTMLView",
            "description": "",
            "description_tooltip": null,
            "layout": "IPY_MODEL_44a4e7d77ee941e0868a32a2fb42b56a",
            "placeholder": "​",
            "style": "IPY_MODEL_800e4566728d495594af38cb811d4019",
            "value": "<center> <img\nsrc=https://huggingface.co/front/assets/huggingface_logo-noborder.svg\nalt='Hugging Face'> <br> Copy a token from <a\nhref=\"https://huggingface.co/settings/tokens\" target=\"_blank\">your Hugging Face\ntokens page</a> and paste it below. <br> Immediately click login after copying\nyour token or it might be stored in plain text in this notebook file. </center>"
          }
        },
        "5c5d9bb49615493c9f52405afff248f3": {
          "model_module": "@jupyter-widgets/base",
          "model_module_version": "1.2.0",
          "model_name": "LayoutModel",
          "state": {
            "_model_module": "@jupyter-widgets/base",
            "_model_module_version": "1.2.0",
            "_model_name": "LayoutModel",
            "_view_count": null,
            "_view_module": "@jupyter-widgets/base",
            "_view_module_version": "1.2.0",
            "_view_name": "LayoutView",
            "align_content": null,
            "align_items": null,
            "align_self": null,
            "border": null,
            "bottom": null,
            "display": null,
            "flex": null,
            "flex_flow": null,
            "grid_area": null,
            "grid_auto_columns": null,
            "grid_auto_flow": null,
            "grid_auto_rows": null,
            "grid_column": null,
            "grid_gap": null,
            "grid_row": null,
            "grid_template_areas": null,
            "grid_template_columns": null,
            "grid_template_rows": null,
            "height": null,
            "justify_content": null,
            "justify_items": null,
            "left": null,
            "margin": null,
            "max_height": null,
            "max_width": null,
            "min_height": null,
            "min_width": null,
            "object_fit": null,
            "object_position": null,
            "order": null,
            "overflow": null,
            "overflow_x": null,
            "overflow_y": null,
            "padding": null,
            "right": null,
            "top": null,
            "visibility": null,
            "width": null
          }
        },
        "5e0f0fdb1a964cdf94e09880e6728025": {
          "model_module": "@jupyter-widgets/controls",
          "model_module_version": "1.5.0",
          "model_name": "DescriptionStyleModel",
          "state": {
            "_model_module": "@jupyter-widgets/controls",
            "_model_module_version": "1.5.0",
            "_model_name": "DescriptionStyleModel",
            "_view_count": null,
            "_view_module": "@jupyter-widgets/base",
            "_view_module_version": "1.2.0",
            "_view_name": "StyleView",
            "description_width": ""
          }
        },
        "608085f09220485d9e888b04dbc92eb4": {
          "model_module": "@jupyter-widgets/base",
          "model_module_version": "1.2.0",
          "model_name": "LayoutModel",
          "state": {
            "_model_module": "@jupyter-widgets/base",
            "_model_module_version": "1.2.0",
            "_model_name": "LayoutModel",
            "_view_count": null,
            "_view_module": "@jupyter-widgets/base",
            "_view_module_version": "1.2.0",
            "_view_name": "LayoutView",
            "align_content": null,
            "align_items": null,
            "align_self": null,
            "border": null,
            "bottom": null,
            "display": null,
            "flex": null,
            "flex_flow": null,
            "grid_area": null,
            "grid_auto_columns": null,
            "grid_auto_flow": null,
            "grid_auto_rows": null,
            "grid_column": null,
            "grid_gap": null,
            "grid_row": null,
            "grid_template_areas": null,
            "grid_template_columns": null,
            "grid_template_rows": null,
            "height": null,
            "justify_content": null,
            "justify_items": null,
            "left": null,
            "margin": null,
            "max_height": null,
            "max_width": null,
            "min_height": null,
            "min_width": null,
            "object_fit": null,
            "object_position": null,
            "order": null,
            "overflow": null,
            "overflow_x": null,
            "overflow_y": null,
            "padding": null,
            "right": null,
            "top": null,
            "visibility": null,
            "width": null
          }
        },
        "63c7469f19f344c497031ec5693d2520": {
          "model_module": "@jupyter-widgets/controls",
          "model_module_version": "1.5.0",
          "model_name": "DescriptionStyleModel",
          "state": {
            "_model_module": "@jupyter-widgets/controls",
            "_model_module_version": "1.5.0",
            "_model_name": "DescriptionStyleModel",
            "_view_count": null,
            "_view_module": "@jupyter-widgets/base",
            "_view_module_version": "1.2.0",
            "_view_name": "StyleView",
            "description_width": ""
          }
        },
        "6641429a9b3947eb937d7863aa514ac4": {
          "model_module": "@jupyter-widgets/controls",
          "model_module_version": "1.5.0",
          "model_name": "HBoxModel",
          "state": {
            "_dom_classes": [],
            "_model_module": "@jupyter-widgets/controls",
            "_model_module_version": "1.5.0",
            "_model_name": "HBoxModel",
            "_view_count": null,
            "_view_module": "@jupyter-widgets/controls",
            "_view_module_version": "1.5.0",
            "_view_name": "HBoxView",
            "box_style": "",
            "children": [
              "IPY_MODEL_96706ffa0d5943a9a59cc1a47169228e",
              "IPY_MODEL_aff249b92c5640458ed34e9dad9b687d",
              "IPY_MODEL_47b7738a35424365be3205c536b46a90"
            ],
            "layout": "IPY_MODEL_e0f49e3043f4417b8e24c7252b7d8e6b"
          }
        },
        "6791d04b6b984e0aa2795830f854fad1": {
          "model_module": "@jupyter-widgets/controls",
          "model_module_version": "1.5.0",
          "model_name": "HTMLModel",
          "state": {
            "_dom_classes": [],
            "_model_module": "@jupyter-widgets/controls",
            "_model_module_version": "1.5.0",
            "_model_name": "HTMLModel",
            "_view_count": null,
            "_view_module": "@jupyter-widgets/controls",
            "_view_module_version": "1.5.0",
            "_view_name": "HTMLView",
            "description": "",
            "description_tooltip": null,
            "layout": "IPY_MODEL_dcc9027dfc0c4916b9a372d04c851ec4",
            "placeholder": "​",
            "style": "IPY_MODEL_df6d8fb9d4cb406a8626b29442822ded",
            "value": " 704/704 [00:00&lt;00:00, 74.9kB/s]"
          }
        },
        "67cd389a655f4487801d89fcf90d2a3b": {
          "model_module": "@jupyter-widgets/controls",
          "model_module_version": "1.5.0",
          "model_name": "DescriptionStyleModel",
          "state": {
            "_model_module": "@jupyter-widgets/controls",
            "_model_module_version": "1.5.0",
            "_model_name": "DescriptionStyleModel",
            "_view_count": null,
            "_view_module": "@jupyter-widgets/base",
            "_view_module_version": "1.2.0",
            "_view_name": "StyleView",
            "description_width": ""
          }
        },
        "68a2c0003cf149b1a3e9c4ea92097af5": {
          "model_module": "@jupyter-widgets/controls",
          "model_module_version": "1.5.0",
          "model_name": "HTMLModel",
          "state": {
            "_dom_classes": [],
            "_model_module": "@jupyter-widgets/controls",
            "_model_module_version": "1.5.0",
            "_model_name": "HTMLModel",
            "_view_count": null,
            "_view_module": "@jupyter-widgets/controls",
            "_view_module_version": "1.5.0",
            "_view_name": "HTMLView",
            "description": "",
            "description_tooltip": null,
            "layout": "IPY_MODEL_69e208aa951044c5af88d932d12d096d",
            "placeholder": "​",
            "style": "IPY_MODEL_d01562a2f6df41efa983542616ea84de",
            "value": "config_sentence_transformers.json: 100%"
          }
        },
        "69e208aa951044c5af88d932d12d096d": {
          "model_module": "@jupyter-widgets/base",
          "model_module_version": "1.2.0",
          "model_name": "LayoutModel",
          "state": {
            "_model_module": "@jupyter-widgets/base",
            "_model_module_version": "1.2.0",
            "_model_name": "LayoutModel",
            "_view_count": null,
            "_view_module": "@jupyter-widgets/base",
            "_view_module_version": "1.2.0",
            "_view_name": "LayoutView",
            "align_content": null,
            "align_items": null,
            "align_self": null,
            "border": null,
            "bottom": null,
            "display": null,
            "flex": null,
            "flex_flow": null,
            "grid_area": null,
            "grid_auto_columns": null,
            "grid_auto_flow": null,
            "grid_auto_rows": null,
            "grid_column": null,
            "grid_gap": null,
            "grid_row": null,
            "grid_template_areas": null,
            "grid_template_columns": null,
            "grid_template_rows": null,
            "height": null,
            "justify_content": null,
            "justify_items": null,
            "left": null,
            "margin": null,
            "max_height": null,
            "max_width": null,
            "min_height": null,
            "min_width": null,
            "object_fit": null,
            "object_position": null,
            "order": null,
            "overflow": null,
            "overflow_x": null,
            "overflow_y": null,
            "padding": null,
            "right": null,
            "top": null,
            "visibility": null,
            "width": null
          }
        },
        "6abf9281018b4a51a62381b627af46d9": {
          "model_module": "@jupyter-widgets/controls",
          "model_module_version": "1.5.0",
          "model_name": "FloatProgressModel",
          "state": {
            "_dom_classes": [],
            "_model_module": "@jupyter-widgets/controls",
            "_model_module_version": "1.5.0",
            "_model_name": "FloatProgressModel",
            "_view_count": null,
            "_view_module": "@jupyter-widgets/controls",
            "_view_module_version": "1.5.0",
            "_view_name": "ProgressView",
            "bar_style": "success",
            "description": "",
            "description_tooltip": null,
            "layout": "IPY_MODEL_2aace621495548e8bea8a9b2e819471c",
            "max": 107,
            "min": 0,
            "orientation": "horizontal",
            "style": "IPY_MODEL_d1b5c39b9d8e485e84e1bcdf14b5bb1f",
            "value": 107
          }
        },
        "7008b6bbf3484b018ab83ca8e639bad9": {
          "model_module": "@jupyter-widgets/base",
          "model_module_version": "1.2.0",
          "model_name": "LayoutModel",
          "state": {
            "_model_module": "@jupyter-widgets/base",
            "_model_module_version": "1.2.0",
            "_model_name": "LayoutModel",
            "_view_count": null,
            "_view_module": "@jupyter-widgets/base",
            "_view_module_version": "1.2.0",
            "_view_name": "LayoutView",
            "align_content": null,
            "align_items": null,
            "align_self": null,
            "border": null,
            "bottom": null,
            "display": null,
            "flex": null,
            "flex_flow": null,
            "grid_area": null,
            "grid_auto_columns": null,
            "grid_auto_flow": null,
            "grid_auto_rows": null,
            "grid_column": null,
            "grid_gap": null,
            "grid_row": null,
            "grid_template_areas": null,
            "grid_template_columns": null,
            "grid_template_rows": null,
            "height": null,
            "justify_content": null,
            "justify_items": null,
            "left": null,
            "margin": null,
            "max_height": null,
            "max_width": null,
            "min_height": null,
            "min_width": null,
            "object_fit": null,
            "object_position": null,
            "order": null,
            "overflow": null,
            "overflow_x": null,
            "overflow_y": null,
            "padding": null,
            "right": null,
            "top": null,
            "visibility": null,
            "width": null
          }
        },
        "710c5fdab51e49c7b3d2004c0e4e40be": {
          "model_module": "@jupyter-widgets/base",
          "model_module_version": "1.2.0",
          "model_name": "LayoutModel",
          "state": {
            "_model_module": "@jupyter-widgets/base",
            "_model_module_version": "1.2.0",
            "_model_name": "LayoutModel",
            "_view_count": null,
            "_view_module": "@jupyter-widgets/base",
            "_view_module_version": "1.2.0",
            "_view_name": "LayoutView",
            "align_content": null,
            "align_items": null,
            "align_self": null,
            "border": null,
            "bottom": null,
            "display": null,
            "flex": null,
            "flex_flow": null,
            "grid_area": null,
            "grid_auto_columns": null,
            "grid_auto_flow": null,
            "grid_auto_rows": null,
            "grid_column": null,
            "grid_gap": null,
            "grid_row": null,
            "grid_template_areas": null,
            "grid_template_columns": null,
            "grid_template_rows": null,
            "height": null,
            "justify_content": null,
            "justify_items": null,
            "left": null,
            "margin": null,
            "max_height": null,
            "max_width": null,
            "min_height": null,
            "min_width": null,
            "object_fit": null,
            "object_position": null,
            "order": null,
            "overflow": null,
            "overflow_x": null,
            "overflow_y": null,
            "padding": null,
            "right": null,
            "top": null,
            "visibility": null,
            "width": null
          }
        },
        "7179258e3bea4e99a593dc621e0973f4": {
          "model_module": "@jupyter-widgets/base",
          "model_module_version": "1.2.0",
          "model_name": "LayoutModel",
          "state": {
            "_model_module": "@jupyter-widgets/base",
            "_model_module_version": "1.2.0",
            "_model_name": "LayoutModel",
            "_view_count": null,
            "_view_module": "@jupyter-widgets/base",
            "_view_module_version": "1.2.0",
            "_view_name": "LayoutView",
            "align_content": null,
            "align_items": null,
            "align_self": null,
            "border": null,
            "bottom": null,
            "display": null,
            "flex": null,
            "flex_flow": null,
            "grid_area": null,
            "grid_auto_columns": null,
            "grid_auto_flow": null,
            "grid_auto_rows": null,
            "grid_column": null,
            "grid_gap": null,
            "grid_row": null,
            "grid_template_areas": null,
            "grid_template_columns": null,
            "grid_template_rows": null,
            "height": null,
            "justify_content": null,
            "justify_items": null,
            "left": null,
            "margin": null,
            "max_height": null,
            "max_width": null,
            "min_height": null,
            "min_width": null,
            "object_fit": null,
            "object_position": null,
            "order": null,
            "overflow": null,
            "overflow_x": null,
            "overflow_y": null,
            "padding": null,
            "right": null,
            "top": null,
            "visibility": null,
            "width": null
          }
        },
        "7230513c65d04ea1b55d7a46e892dfe0": {
          "model_module": "@jupyter-widgets/controls",
          "model_module_version": "1.5.0",
          "model_name": "FloatProgressModel",
          "state": {
            "_dom_classes": [],
            "_model_module": "@jupyter-widgets/controls",
            "_model_module_version": "1.5.0",
            "_model_name": "FloatProgressModel",
            "_view_count": null,
            "_view_module": "@jupyter-widgets/controls",
            "_view_module_version": "1.5.0",
            "_view_name": "ProgressView",
            "bar_style": "success",
            "description": "",
            "description_tooltip": null,
            "layout": "IPY_MODEL_1dbe6730909548aaa8dcd53878bd7107",
            "max": 252,
            "min": 0,
            "orientation": "horizontal",
            "style": "IPY_MODEL_8caded6319214428bd39800c66b6019a",
            "value": 252
          }
        },
        "72d66ac6ac4b489b89c00376855306ef": {
          "model_module": "@jupyter-widgets/base",
          "model_module_version": "1.2.0",
          "model_name": "LayoutModel",
          "state": {
            "_model_module": "@jupyter-widgets/base",
            "_model_module_version": "1.2.0",
            "_model_name": "LayoutModel",
            "_view_count": null,
            "_view_module": "@jupyter-widgets/base",
            "_view_module_version": "1.2.0",
            "_view_name": "LayoutView",
            "align_content": null,
            "align_items": null,
            "align_self": null,
            "border": null,
            "bottom": null,
            "display": null,
            "flex": null,
            "flex_flow": null,
            "grid_area": null,
            "grid_auto_columns": null,
            "grid_auto_flow": null,
            "grid_auto_rows": null,
            "grid_column": null,
            "grid_gap": null,
            "grid_row": null,
            "grid_template_areas": null,
            "grid_template_columns": null,
            "grid_template_rows": null,
            "height": null,
            "justify_content": null,
            "justify_items": null,
            "left": null,
            "margin": null,
            "max_height": null,
            "max_width": null,
            "min_height": null,
            "min_width": null,
            "object_fit": null,
            "object_position": null,
            "order": null,
            "overflow": null,
            "overflow_x": null,
            "overflow_y": null,
            "padding": null,
            "right": null,
            "top": null,
            "visibility": null,
            "width": null
          }
        },
        "74772b57ceac49c0bbef0e3837463645": {
          "model_module": "@jupyter-widgets/controls",
          "model_module_version": "1.5.0",
          "model_name": "HTMLModel",
          "state": {
            "_dom_classes": [],
            "_model_module": "@jupyter-widgets/controls",
            "_model_module_version": "1.5.0",
            "_model_name": "HTMLModel",
            "_view_count": null,
            "_view_module": "@jupyter-widgets/controls",
            "_view_module_version": "1.5.0",
            "_view_name": "HTMLView",
            "description": "",
            "description_tooltip": null,
            "layout": "IPY_MODEL_0dea33fefbea4df4bbca74efcba54539",
            "placeholder": "​",
            "style": "IPY_MODEL_88fedf6ab87f4b2eb88cfbabf85042e5",
            "value": "\n<b>Pro Tip:</b> If you don't already have one, you can create a dedicated\n'notebooks' token with 'write' access, that you can then easily reuse for all\nnotebooks. </center>"
          }
        },
        "75d8a9af78c34aeeaf8eb0e809c26259": {
          "model_module": "@jupyter-widgets/base",
          "model_module_version": "1.2.0",
          "model_name": "LayoutModel",
          "state": {
            "_model_module": "@jupyter-widgets/base",
            "_model_module_version": "1.2.0",
            "_model_name": "LayoutModel",
            "_view_count": null,
            "_view_module": "@jupyter-widgets/base",
            "_view_module_version": "1.2.0",
            "_view_name": "LayoutView",
            "align_content": null,
            "align_items": null,
            "align_self": null,
            "border": null,
            "bottom": null,
            "display": null,
            "flex": null,
            "flex_flow": null,
            "grid_area": null,
            "grid_auto_columns": null,
            "grid_auto_flow": null,
            "grid_auto_rows": null,
            "grid_column": null,
            "grid_gap": null,
            "grid_row": null,
            "grid_template_areas": null,
            "grid_template_columns": null,
            "grid_template_rows": null,
            "height": null,
            "justify_content": null,
            "justify_items": null,
            "left": null,
            "margin": null,
            "max_height": null,
            "max_width": null,
            "min_height": null,
            "min_width": null,
            "object_fit": null,
            "object_position": null,
            "order": null,
            "overflow": null,
            "overflow_x": null,
            "overflow_y": null,
            "padding": null,
            "right": null,
            "top": null,
            "visibility": null,
            "width": null
          }
        },
        "76a84fe67e754e86949d827927bcd435": {
          "model_module": "@jupyter-widgets/controls",
          "model_module_version": "1.5.0",
          "model_name": "HTMLModel",
          "state": {
            "_dom_classes": [],
            "_model_module": "@jupyter-widgets/controls",
            "_model_module_version": "1.5.0",
            "_model_name": "HTMLModel",
            "_view_count": null,
            "_view_module": "@jupyter-widgets/controls",
            "_view_module_version": "1.5.0",
            "_view_name": "HTMLView",
            "description": "",
            "description_tooltip": null,
            "layout": "IPY_MODEL_573c6b32ae4e4001bac54758d6787e36",
            "placeholder": "​",
            "style": "IPY_MODEL_b2ac938227d240449c222f87e51f1805",
            "value": " 232k/232k [00:00&lt;00:00, 651kB/s]"
          }
        },
        "7f548f3ac892420c8430b776961d8cf7": {
          "model_module": "@jupyter-widgets/controls",
          "model_module_version": "1.5.0",
          "model_name": "HTMLModel",
          "state": {
            "_dom_classes": [],
            "_model_module": "@jupyter-widgets/controls",
            "_model_module_version": "1.5.0",
            "_model_name": "HTMLModel",
            "_view_count": null,
            "_view_module": "@jupyter-widgets/controls",
            "_view_module_version": "1.5.0",
            "_view_name": "HTMLView",
            "description": "",
            "description_tooltip": null,
            "layout": "IPY_MODEL_95e2f5cd657a40d48a5a2b93a1b32b7d",
            "placeholder": "​",
            "style": "IPY_MODEL_0d46c28f5fb34bf3b0f566172aee8d53",
            "value": " 297/297 [00:00&lt;00:00, 38.9kB/s]"
          }
        },
        "800e4566728d495594af38cb811d4019": {
          "model_module": "@jupyter-widgets/controls",
          "model_module_version": "1.5.0",
          "model_name": "DescriptionStyleModel",
          "state": {
            "_model_module": "@jupyter-widgets/controls",
            "_model_module_version": "1.5.0",
            "_model_name": "DescriptionStyleModel",
            "_view_count": null,
            "_view_module": "@jupyter-widgets/base",
            "_view_module_version": "1.2.0",
            "_view_name": "StyleView",
            "description_width": ""
          }
        },
        "807744702b9044d890dc5b7cd6f50055": {
          "model_module": "@jupyter-widgets/controls",
          "model_module_version": "1.5.0",
          "model_name": "LabelModel",
          "state": {
            "_dom_classes": [],
            "_model_module": "@jupyter-widgets/controls",
            "_model_module_version": "1.5.0",
            "_model_name": "LabelModel",
            "_view_count": null,
            "_view_module": "@jupyter-widgets/controls",
            "_view_module_version": "1.5.0",
            "_view_name": "LabelView",
            "description": "",
            "description_tooltip": null,
            "layout": "IPY_MODEL_2878408589674fc0b50def3eb69a7b91",
            "placeholder": "​",
            "style": "IPY_MODEL_a9f116b3a19a4417bf5b7fdb17f6cca7",
            "value": "Connecting..."
          }
        },
        "8163bbe312684c9381cea37aedfd0c5f": {
          "model_module": "@jupyter-widgets/controls",
          "model_module_version": "1.5.0",
          "model_name": "DescriptionStyleModel",
          "state": {
            "_model_module": "@jupyter-widgets/controls",
            "_model_module_version": "1.5.0",
            "_model_name": "DescriptionStyleModel",
            "_view_count": null,
            "_view_module": "@jupyter-widgets/base",
            "_view_module_version": "1.2.0",
            "_view_name": "StyleView",
            "description_width": ""
          }
        },
        "8313ed03e795409d942e391d35cfee9a": {
          "model_module": "@jupyter-widgets/controls",
          "model_module_version": "1.5.0",
          "model_name": "DescriptionStyleModel",
          "state": {
            "_model_module": "@jupyter-widgets/controls",
            "_model_module_version": "1.5.0",
            "_model_name": "DescriptionStyleModel",
            "_view_count": null,
            "_view_module": "@jupyter-widgets/base",
            "_view_module_version": "1.2.0",
            "_view_name": "StyleView",
            "description_width": ""
          }
        },
        "839fde279490460a8d7e86bd88d29949": {
          "model_module": "@jupyter-widgets/base",
          "model_module_version": "1.2.0",
          "model_name": "LayoutModel",
          "state": {
            "_model_module": "@jupyter-widgets/base",
            "_model_module_version": "1.2.0",
            "_model_name": "LayoutModel",
            "_view_count": null,
            "_view_module": "@jupyter-widgets/base",
            "_view_module_version": "1.2.0",
            "_view_name": "LayoutView",
            "align_content": null,
            "align_items": null,
            "align_self": null,
            "border": null,
            "bottom": null,
            "display": null,
            "flex": null,
            "flex_flow": null,
            "grid_area": null,
            "grid_auto_columns": null,
            "grid_auto_flow": null,
            "grid_auto_rows": null,
            "grid_column": null,
            "grid_gap": null,
            "grid_row": null,
            "grid_template_areas": null,
            "grid_template_columns": null,
            "grid_template_rows": null,
            "height": null,
            "justify_content": null,
            "justify_items": null,
            "left": null,
            "margin": null,
            "max_height": null,
            "max_width": null,
            "min_height": null,
            "min_width": null,
            "object_fit": null,
            "object_position": null,
            "order": null,
            "overflow": null,
            "overflow_x": null,
            "overflow_y": null,
            "padding": null,
            "right": null,
            "top": null,
            "visibility": null,
            "width": null
          }
        },
        "86548b7c10a0447c887fcc5d95e1c0e1": {
          "model_module": "@jupyter-widgets/base",
          "model_module_version": "1.2.0",
          "model_name": "LayoutModel",
          "state": {
            "_model_module": "@jupyter-widgets/base",
            "_model_module_version": "1.2.0",
            "_model_name": "LayoutModel",
            "_view_count": null,
            "_view_module": "@jupyter-widgets/base",
            "_view_module_version": "1.2.0",
            "_view_name": "LayoutView",
            "align_content": null,
            "align_items": null,
            "align_self": null,
            "border": null,
            "bottom": null,
            "display": null,
            "flex": null,
            "flex_flow": null,
            "grid_area": null,
            "grid_auto_columns": null,
            "grid_auto_flow": null,
            "grid_auto_rows": null,
            "grid_column": null,
            "grid_gap": null,
            "grid_row": null,
            "grid_template_areas": null,
            "grid_template_columns": null,
            "grid_template_rows": null,
            "height": null,
            "justify_content": null,
            "justify_items": null,
            "left": null,
            "margin": null,
            "max_height": null,
            "max_width": null,
            "min_height": null,
            "min_width": null,
            "object_fit": null,
            "object_position": null,
            "order": null,
            "overflow": null,
            "overflow_x": null,
            "overflow_y": null,
            "padding": null,
            "right": null,
            "top": null,
            "visibility": null,
            "width": null
          }
        },
        "868b41fbeb444eebb44f3ca174fa2b0b": {
          "model_module": "@jupyter-widgets/controls",
          "model_module_version": "1.5.0",
          "model_name": "FloatProgressModel",
          "state": {
            "_dom_classes": [],
            "_model_module": "@jupyter-widgets/controls",
            "_model_module_version": "1.5.0",
            "_model_name": "FloatProgressModel",
            "_view_count": null,
            "_view_module": "@jupyter-widgets/controls",
            "_view_module_version": "1.5.0",
            "_view_name": "ProgressView",
            "bar_style": "success",
            "description": "",
            "description_tooltip": null,
            "layout": "IPY_MODEL_986e54ca118343c08748f23b30ea3e6b",
            "max": 1381,
            "min": 0,
            "orientation": "horizontal",
            "style": "IPY_MODEL_25a4aff1fcc8431eb32041bf9548f97a",
            "value": 1381
          }
        },
        "87f295331ed444ed9f535e1268ad9fd0": {
          "model_module": "@jupyter-widgets/controls",
          "model_module_version": "1.5.0",
          "model_name": "HBoxModel",
          "state": {
            "_dom_classes": [],
            "_model_module": "@jupyter-widgets/controls",
            "_model_module_version": "1.5.0",
            "_model_name": "HBoxModel",
            "_view_count": null,
            "_view_module": "@jupyter-widgets/controls",
            "_view_module_version": "1.5.0",
            "_view_name": "HBoxView",
            "box_style": "",
            "children": [
              "IPY_MODEL_35c35e1a18c642ff8db4e8b98d2dccc2",
              "IPY_MODEL_1324fea371ca4a93971b61aec90761a6",
              "IPY_MODEL_f1b043dad3504cbca3e452946939682c"
            ],
            "layout": "IPY_MODEL_710c5fdab51e49c7b3d2004c0e4e40be"
          }
        },
        "87fa17d8d69448f1a41331de3a4d3618": {
          "model_module": "@jupyter-widgets/controls",
          "model_module_version": "1.5.0",
          "model_name": "ProgressStyleModel",
          "state": {
            "_model_module": "@jupyter-widgets/controls",
            "_model_module_version": "1.5.0",
            "_model_name": "ProgressStyleModel",
            "_view_count": null,
            "_view_module": "@jupyter-widgets/base",
            "_view_module_version": "1.2.0",
            "_view_name": "StyleView",
            "bar_color": null,
            "description_width": ""
          }
        },
        "88ebd465a86146a2b2cd304a9124c4d7": {
          "model_module": "@jupyter-widgets/controls",
          "model_module_version": "1.5.0",
          "model_name": "HBoxModel",
          "state": {
            "_dom_classes": [],
            "_model_module": "@jupyter-widgets/controls",
            "_model_module_version": "1.5.0",
            "_model_name": "HBoxModel",
            "_view_count": null,
            "_view_module": "@jupyter-widgets/controls",
            "_view_module_version": "1.5.0",
            "_view_name": "HBoxView",
            "box_style": "",
            "children": [
              "IPY_MODEL_d01910b86a5f4adbb837547a70a383c9",
              "IPY_MODEL_05e21799e4ac4d469c30cd35f1312af3",
              "IPY_MODEL_76a84fe67e754e86949d827927bcd435"
            ],
            "layout": "IPY_MODEL_094f2fb67e0e403eaf3ead80df8ab962"
          }
        },
        "88fedf6ab87f4b2eb88cfbabf85042e5": {
          "model_module": "@jupyter-widgets/controls",
          "model_module_version": "1.5.0",
          "model_name": "DescriptionStyleModel",
          "state": {
            "_model_module": "@jupyter-widgets/controls",
            "_model_module_version": "1.5.0",
            "_model_name": "DescriptionStyleModel",
            "_view_count": null,
            "_view_module": "@jupyter-widgets/base",
            "_view_module_version": "1.2.0",
            "_view_name": "StyleView",
            "description_width": ""
          }
        },
        "8ab177f5aff44c9b9ea1aa28d46d40ce": {
          "model_module": "@jupyter-widgets/controls",
          "model_module_version": "1.5.0",
          "model_name": "DescriptionStyleModel",
          "state": {
            "_model_module": "@jupyter-widgets/controls",
            "_model_module_version": "1.5.0",
            "_model_name": "DescriptionStyleModel",
            "_view_count": null,
            "_view_module": "@jupyter-widgets/base",
            "_view_module_version": "1.2.0",
            "_view_name": "StyleView",
            "description_width": ""
          }
        },
        "8caded6319214428bd39800c66b6019a": {
          "model_module": "@jupyter-widgets/controls",
          "model_module_version": "1.5.0",
          "model_name": "ProgressStyleModel",
          "state": {
            "_model_module": "@jupyter-widgets/controls",
            "_model_module_version": "1.5.0",
            "_model_name": "ProgressStyleModel",
            "_view_count": null,
            "_view_module": "@jupyter-widgets/base",
            "_view_module_version": "1.2.0",
            "_view_name": "StyleView",
            "bar_color": null,
            "description_width": ""
          }
        },
        "8d336d600cf94677b54d4c18cc7ba434": {
          "model_module": "@jupyter-widgets/controls",
          "model_module_version": "1.5.0",
          "model_name": "HTMLModel",
          "state": {
            "_dom_classes": [],
            "_model_module": "@jupyter-widgets/controls",
            "_model_module_version": "1.5.0",
            "_model_name": "HTMLModel",
            "_view_count": null,
            "_view_module": "@jupyter-widgets/controls",
            "_view_module_version": "1.5.0",
            "_view_name": "HTMLView",
            "description": "",
            "description_tooltip": null,
            "layout": "IPY_MODEL_86548b7c10a0447c887fcc5d95e1c0e1",
            "placeholder": "​",
            "style": "IPY_MODEL_9b0dad0f1d6c47eb9d32461855abeacb",
            "value": " 1.38k/1.38k [00:00&lt;00:00, 159kB/s]"
          }
        },
        "9036f2d7300343f1902546c4da392403": {
          "model_module": "@jupyter-widgets/base",
          "model_module_version": "1.2.0",
          "model_name": "LayoutModel",
          "state": {
            "_model_module": "@jupyter-widgets/base",
            "_model_module_version": "1.2.0",
            "_model_name": "LayoutModel",
            "_view_count": null,
            "_view_module": "@jupyter-widgets/base",
            "_view_module_version": "1.2.0",
            "_view_name": "LayoutView",
            "align_content": null,
            "align_items": null,
            "align_self": null,
            "border": null,
            "bottom": null,
            "display": null,
            "flex": null,
            "flex_flow": null,
            "grid_area": null,
            "grid_auto_columns": null,
            "grid_auto_flow": null,
            "grid_auto_rows": null,
            "grid_column": null,
            "grid_gap": null,
            "grid_row": null,
            "grid_template_areas": null,
            "grid_template_columns": null,
            "grid_template_rows": null,
            "height": null,
            "justify_content": null,
            "justify_items": null,
            "left": null,
            "margin": null,
            "max_height": null,
            "max_width": null,
            "min_height": null,
            "min_width": null,
            "object_fit": null,
            "object_position": null,
            "order": null,
            "overflow": null,
            "overflow_x": null,
            "overflow_y": null,
            "padding": null,
            "right": null,
            "top": null,
            "visibility": null,
            "width": null
          }
        },
        "90bbae3217a84c7dacc609fa2b35e6ea": {
          "model_module": "@jupyter-widgets/base",
          "model_module_version": "1.2.0",
          "model_name": "LayoutModel",
          "state": {
            "_model_module": "@jupyter-widgets/base",
            "_model_module_version": "1.2.0",
            "_model_name": "LayoutModel",
            "_view_count": null,
            "_view_module": "@jupyter-widgets/base",
            "_view_module_version": "1.2.0",
            "_view_name": "LayoutView",
            "align_content": null,
            "align_items": null,
            "align_self": null,
            "border": null,
            "bottom": null,
            "display": null,
            "flex": null,
            "flex_flow": null,
            "grid_area": null,
            "grid_auto_columns": null,
            "grid_auto_flow": null,
            "grid_auto_rows": null,
            "grid_column": null,
            "grid_gap": null,
            "grid_row": null,
            "grid_template_areas": null,
            "grid_template_columns": null,
            "grid_template_rows": null,
            "height": null,
            "justify_content": null,
            "justify_items": null,
            "left": null,
            "margin": null,
            "max_height": null,
            "max_width": null,
            "min_height": null,
            "min_width": null,
            "object_fit": null,
            "object_position": null,
            "order": null,
            "overflow": null,
            "overflow_x": null,
            "overflow_y": null,
            "padding": null,
            "right": null,
            "top": null,
            "visibility": null,
            "width": null
          }
        },
        "91fd5ae63fc640689648c1895d4247a7": {
          "model_module": "@jupyter-widgets/controls",
          "model_module_version": "1.5.0",
          "model_name": "HTMLModel",
          "state": {
            "_dom_classes": [],
            "_model_module": "@jupyter-widgets/controls",
            "_model_module_version": "1.5.0",
            "_model_name": "HTMLModel",
            "_view_count": null,
            "_view_module": "@jupyter-widgets/controls",
            "_view_module_version": "1.5.0",
            "_view_name": "HTMLView",
            "description": "",
            "description_tooltip": null,
            "layout": "IPY_MODEL_13fd104f5e324b3d9b905fad5fedc4fc",
            "placeholder": "​",
            "style": "IPY_MODEL_fb08f4adcd7f4858a0e48d06010d0417",
            "value": " 1.34G/1.34G [01:01&lt;00:00, 25.3MB/s]"
          }
        },
        "94b93783d6464c10bb5ac1c16527bc5a": {
          "model_module": "@jupyter-widgets/base",
          "model_module_version": "1.2.0",
          "model_name": "LayoutModel",
          "state": {
            "_model_module": "@jupyter-widgets/base",
            "_model_module_version": "1.2.0",
            "_model_name": "LayoutModel",
            "_view_count": null,
            "_view_module": "@jupyter-widgets/base",
            "_view_module_version": "1.2.0",
            "_view_name": "LayoutView",
            "align_content": null,
            "align_items": null,
            "align_self": null,
            "border": null,
            "bottom": null,
            "display": null,
            "flex": null,
            "flex_flow": null,
            "grid_area": null,
            "grid_auto_columns": null,
            "grid_auto_flow": null,
            "grid_auto_rows": null,
            "grid_column": null,
            "grid_gap": null,
            "grid_row": null,
            "grid_template_areas": null,
            "grid_template_columns": null,
            "grid_template_rows": null,
            "height": null,
            "justify_content": null,
            "justify_items": null,
            "left": null,
            "margin": null,
            "max_height": null,
            "max_width": null,
            "min_height": null,
            "min_width": null,
            "object_fit": null,
            "object_position": null,
            "order": null,
            "overflow": null,
            "overflow_x": null,
            "overflow_y": null,
            "padding": null,
            "right": null,
            "top": null,
            "visibility": null,
            "width": null
          }
        },
        "95e2f5cd657a40d48a5a2b93a1b32b7d": {
          "model_module": "@jupyter-widgets/base",
          "model_module_version": "1.2.0",
          "model_name": "LayoutModel",
          "state": {
            "_model_module": "@jupyter-widgets/base",
            "_model_module_version": "1.2.0",
            "_model_name": "LayoutModel",
            "_view_count": null,
            "_view_module": "@jupyter-widgets/base",
            "_view_module_version": "1.2.0",
            "_view_name": "LayoutView",
            "align_content": null,
            "align_items": null,
            "align_self": null,
            "border": null,
            "bottom": null,
            "display": null,
            "flex": null,
            "flex_flow": null,
            "grid_area": null,
            "grid_auto_columns": null,
            "grid_auto_flow": null,
            "grid_auto_rows": null,
            "grid_column": null,
            "grid_gap": null,
            "grid_row": null,
            "grid_template_areas": null,
            "grid_template_columns": null,
            "grid_template_rows": null,
            "height": null,
            "justify_content": null,
            "justify_items": null,
            "left": null,
            "margin": null,
            "max_height": null,
            "max_width": null,
            "min_height": null,
            "min_width": null,
            "object_fit": null,
            "object_position": null,
            "order": null,
            "overflow": null,
            "overflow_x": null,
            "overflow_y": null,
            "padding": null,
            "right": null,
            "top": null,
            "visibility": null,
            "width": null
          }
        },
        "966f87111485431e81236b7d61718583": {
          "model_module": "@jupyter-widgets/controls",
          "model_module_version": "1.5.0",
          "model_name": "DescriptionStyleModel",
          "state": {
            "_model_module": "@jupyter-widgets/controls",
            "_model_module_version": "1.5.0",
            "_model_name": "DescriptionStyleModel",
            "_view_count": null,
            "_view_module": "@jupyter-widgets/base",
            "_view_module_version": "1.2.0",
            "_view_name": "StyleView",
            "description_width": ""
          }
        },
        "96706ffa0d5943a9a59cc1a47169228e": {
          "model_module": "@jupyter-widgets/controls",
          "model_module_version": "1.5.0",
          "model_name": "HTMLModel",
          "state": {
            "_dom_classes": [],
            "_model_module": "@jupyter-widgets/controls",
            "_model_module_version": "1.5.0",
            "_model_name": "HTMLModel",
            "_view_count": null,
            "_view_module": "@jupyter-widgets/controls",
            "_view_module_version": "1.5.0",
            "_view_name": "HTMLView",
            "description": "",
            "description_tooltip": null,
            "layout": "IPY_MODEL_c6de49c4314a42ca845b54612b88da3d",
            "placeholder": "​",
            "style": "IPY_MODEL_bebbe86dca624982bcf23d67a7e76d5a",
            "value": "tokenizer.json: 100%"
          }
        },
        "972b5b4e01bd47ea831ee849808d5eb6": {
          "model_module": "@jupyter-widgets/base",
          "model_module_version": "1.2.0",
          "model_name": "LayoutModel",
          "state": {
            "_model_module": "@jupyter-widgets/base",
            "_model_module_version": "1.2.0",
            "_model_name": "LayoutModel",
            "_view_count": null,
            "_view_module": "@jupyter-widgets/base",
            "_view_module_version": "1.2.0",
            "_view_name": "LayoutView",
            "align_content": null,
            "align_items": null,
            "align_self": null,
            "border": null,
            "bottom": null,
            "display": null,
            "flex": null,
            "flex_flow": null,
            "grid_area": null,
            "grid_auto_columns": null,
            "grid_auto_flow": null,
            "grid_auto_rows": null,
            "grid_column": null,
            "grid_gap": null,
            "grid_row": null,
            "grid_template_areas": null,
            "grid_template_columns": null,
            "grid_template_rows": null,
            "height": null,
            "justify_content": null,
            "justify_items": null,
            "left": null,
            "margin": null,
            "max_height": null,
            "max_width": null,
            "min_height": null,
            "min_width": null,
            "object_fit": null,
            "object_position": null,
            "order": null,
            "overflow": null,
            "overflow_x": null,
            "overflow_y": null,
            "padding": null,
            "right": null,
            "top": null,
            "visibility": null,
            "width": null
          }
        },
        "986e54ca118343c08748f23b30ea3e6b": {
          "model_module": "@jupyter-widgets/base",
          "model_module_version": "1.2.0",
          "model_name": "LayoutModel",
          "state": {
            "_model_module": "@jupyter-widgets/base",
            "_model_module_version": "1.2.0",
            "_model_name": "LayoutModel",
            "_view_count": null,
            "_view_module": "@jupyter-widgets/base",
            "_view_module_version": "1.2.0",
            "_view_name": "LayoutView",
            "align_content": null,
            "align_items": null,
            "align_self": null,
            "border": null,
            "bottom": null,
            "display": null,
            "flex": null,
            "flex_flow": null,
            "grid_area": null,
            "grid_auto_columns": null,
            "grid_auto_flow": null,
            "grid_auto_rows": null,
            "grid_column": null,
            "grid_gap": null,
            "grid_row": null,
            "grid_template_areas": null,
            "grid_template_columns": null,
            "grid_template_rows": null,
            "height": null,
            "justify_content": null,
            "justify_items": null,
            "left": null,
            "margin": null,
            "max_height": null,
            "max_width": null,
            "min_height": null,
            "min_width": null,
            "object_fit": null,
            "object_position": null,
            "order": null,
            "overflow": null,
            "overflow_x": null,
            "overflow_y": null,
            "padding": null,
            "right": null,
            "top": null,
            "visibility": null,
            "width": null
          }
        },
        "99fe3a9ab83e4f9ebe15e39ee78b7672": {
          "model_module": "@jupyter-widgets/controls",
          "model_module_version": "1.5.0",
          "model_name": "DescriptionStyleModel",
          "state": {
            "_model_module": "@jupyter-widgets/controls",
            "_model_module_version": "1.5.0",
            "_model_name": "DescriptionStyleModel",
            "_view_count": null,
            "_view_module": "@jupyter-widgets/base",
            "_view_module_version": "1.2.0",
            "_view_name": "StyleView",
            "description_width": ""
          }
        },
        "9b0dad0f1d6c47eb9d32461855abeacb": {
          "model_module": "@jupyter-widgets/controls",
          "model_module_version": "1.5.0",
          "model_name": "DescriptionStyleModel",
          "state": {
            "_model_module": "@jupyter-widgets/controls",
            "_model_module_version": "1.5.0",
            "_model_name": "DescriptionStyleModel",
            "_view_count": null,
            "_view_module": "@jupyter-widgets/base",
            "_view_module_version": "1.2.0",
            "_view_name": "StyleView",
            "description_width": ""
          }
        },
        "9ba30205eb054a71887a717d76060d01": {
          "model_module": "@jupyter-widgets/controls",
          "model_module_version": "1.5.0",
          "model_name": "HBoxModel",
          "state": {
            "_dom_classes": [],
            "_model_module": "@jupyter-widgets/controls",
            "_model_module_version": "1.5.0",
            "_model_name": "HBoxModel",
            "_view_count": null,
            "_view_module": "@jupyter-widgets/controls",
            "_view_module_version": "1.5.0",
            "_view_name": "HBoxView",
            "box_style": "",
            "children": [
              "IPY_MODEL_9d22f50dc5ba4202aee672f116de732f",
              "IPY_MODEL_868b41fbeb444eebb44f3ca174fa2b0b",
              "IPY_MODEL_8d336d600cf94677b54d4c18cc7ba434"
            ],
            "layout": "IPY_MODEL_9d0cb68f8d8141fb96c9f1a73addb045"
          }
        },
        "9ce241f7b4064a60bc3ca5b49f701dad": {
          "model_module": "@jupyter-widgets/base",
          "model_module_version": "1.2.0",
          "model_name": "LayoutModel",
          "state": {
            "_model_module": "@jupyter-widgets/base",
            "_model_module_version": "1.2.0",
            "_model_name": "LayoutModel",
            "_view_count": null,
            "_view_module": "@jupyter-widgets/base",
            "_view_module_version": "1.2.0",
            "_view_name": "LayoutView",
            "align_content": null,
            "align_items": null,
            "align_self": null,
            "border": null,
            "bottom": null,
            "display": null,
            "flex": null,
            "flex_flow": null,
            "grid_area": null,
            "grid_auto_columns": null,
            "grid_auto_flow": null,
            "grid_auto_rows": null,
            "grid_column": null,
            "grid_gap": null,
            "grid_row": null,
            "grid_template_areas": null,
            "grid_template_columns": null,
            "grid_template_rows": null,
            "height": null,
            "justify_content": null,
            "justify_items": null,
            "left": null,
            "margin": null,
            "max_height": null,
            "max_width": null,
            "min_height": null,
            "min_width": null,
            "object_fit": null,
            "object_position": null,
            "order": null,
            "overflow": null,
            "overflow_x": null,
            "overflow_y": null,
            "padding": null,
            "right": null,
            "top": null,
            "visibility": null,
            "width": null
          }
        },
        "9d0cb68f8d8141fb96c9f1a73addb045": {
          "model_module": "@jupyter-widgets/base",
          "model_module_version": "1.2.0",
          "model_name": "LayoutModel",
          "state": {
            "_model_module": "@jupyter-widgets/base",
            "_model_module_version": "1.2.0",
            "_model_name": "LayoutModel",
            "_view_count": null,
            "_view_module": "@jupyter-widgets/base",
            "_view_module_version": "1.2.0",
            "_view_name": "LayoutView",
            "align_content": null,
            "align_items": null,
            "align_self": null,
            "border": null,
            "bottom": null,
            "display": null,
            "flex": null,
            "flex_flow": null,
            "grid_area": null,
            "grid_auto_columns": null,
            "grid_auto_flow": null,
            "grid_auto_rows": null,
            "grid_column": null,
            "grid_gap": null,
            "grid_row": null,
            "grid_template_areas": null,
            "grid_template_columns": null,
            "grid_template_rows": null,
            "height": null,
            "justify_content": null,
            "justify_items": null,
            "left": null,
            "margin": null,
            "max_height": null,
            "max_width": null,
            "min_height": null,
            "min_width": null,
            "object_fit": null,
            "object_position": null,
            "order": null,
            "overflow": null,
            "overflow_x": null,
            "overflow_y": null,
            "padding": null,
            "right": null,
            "top": null,
            "visibility": null,
            "width": null
          }
        },
        "9d22f50dc5ba4202aee672f116de732f": {
          "model_module": "@jupyter-widgets/controls",
          "model_module_version": "1.5.0",
          "model_name": "HTMLModel",
          "state": {
            "_dom_classes": [],
            "_model_module": "@jupyter-widgets/controls",
            "_model_module_version": "1.5.0",
            "_model_name": "HTMLModel",
            "_view_count": null,
            "_view_module": "@jupyter-widgets/controls",
            "_view_module_version": "1.5.0",
            "_view_name": "HTMLView",
            "description": "",
            "description_tooltip": null,
            "layout": "IPY_MODEL_d557e923111a4eae88856877dacec2c9",
            "placeholder": "​",
            "style": "IPY_MODEL_99fe3a9ab83e4f9ebe15e39ee78b7672",
            "value": "tokenizer_config.json: 100%"
          }
        },
        "a0ccd97385af428ba6cf32891d1c2e3c": {
          "model_module": "@jupyter-widgets/controls",
          "model_module_version": "1.5.0",
          "model_name": "FloatProgressModel",
          "state": {
            "_dom_classes": [],
            "_model_module": "@jupyter-widgets/controls",
            "_model_module_version": "1.5.0",
            "_model_name": "FloatProgressModel",
            "_view_count": null,
            "_view_module": "@jupyter-widgets/controls",
            "_view_module_version": "1.5.0",
            "_view_name": "ProgressView",
            "bar_style": "success",
            "description": "",
            "description_tooltip": null,
            "layout": "IPY_MODEL_94b93783d6464c10bb5ac1c16527bc5a",
            "max": 695,
            "min": 0,
            "orientation": "horizontal",
            "style": "IPY_MODEL_4158f1dcddcc4a46b4bfd2c071b7f688",
            "value": 695
          }
        },
        "a21c02b987bd47faa0260cea40be0010": {
          "model_module": "@jupyter-widgets/base",
          "model_module_version": "1.2.0",
          "model_name": "LayoutModel",
          "state": {
            "_model_module": "@jupyter-widgets/base",
            "_model_module_version": "1.2.0",
            "_model_name": "LayoutModel",
            "_view_count": null,
            "_view_module": "@jupyter-widgets/base",
            "_view_module_version": "1.2.0",
            "_view_name": "LayoutView",
            "align_content": null,
            "align_items": null,
            "align_self": null,
            "border": null,
            "bottom": null,
            "display": null,
            "flex": null,
            "flex_flow": null,
            "grid_area": null,
            "grid_auto_columns": null,
            "grid_auto_flow": null,
            "grid_auto_rows": null,
            "grid_column": null,
            "grid_gap": null,
            "grid_row": null,
            "grid_template_areas": null,
            "grid_template_columns": null,
            "grid_template_rows": null,
            "height": null,
            "justify_content": null,
            "justify_items": null,
            "left": null,
            "margin": null,
            "max_height": null,
            "max_width": null,
            "min_height": null,
            "min_width": null,
            "object_fit": null,
            "object_position": null,
            "order": null,
            "overflow": null,
            "overflow_x": null,
            "overflow_y": null,
            "padding": null,
            "right": null,
            "top": null,
            "visibility": null,
            "width": null
          }
        },
        "a2cc43bacced4e1c90b2985cd907519b": {
          "model_module": "@jupyter-widgets/base",
          "model_module_version": "1.2.0",
          "model_name": "LayoutModel",
          "state": {
            "_model_module": "@jupyter-widgets/base",
            "_model_module_version": "1.2.0",
            "_model_name": "LayoutModel",
            "_view_count": null,
            "_view_module": "@jupyter-widgets/base",
            "_view_module_version": "1.2.0",
            "_view_name": "LayoutView",
            "align_content": null,
            "align_items": null,
            "align_self": null,
            "border": null,
            "bottom": null,
            "display": null,
            "flex": null,
            "flex_flow": null,
            "grid_area": null,
            "grid_auto_columns": null,
            "grid_auto_flow": null,
            "grid_auto_rows": null,
            "grid_column": null,
            "grid_gap": null,
            "grid_row": null,
            "grid_template_areas": null,
            "grid_template_columns": null,
            "grid_template_rows": null,
            "height": null,
            "justify_content": null,
            "justify_items": null,
            "left": null,
            "margin": null,
            "max_height": null,
            "max_width": null,
            "min_height": null,
            "min_width": null,
            "object_fit": null,
            "object_position": null,
            "order": null,
            "overflow": null,
            "overflow_x": null,
            "overflow_y": null,
            "padding": null,
            "right": null,
            "top": null,
            "visibility": null,
            "width": null
          }
        },
        "a2eb3b1d088f4380af0ffb15f565d501": {
          "model_module": "@jupyter-widgets/controls",
          "model_module_version": "1.5.0",
          "model_name": "DescriptionStyleModel",
          "state": {
            "_model_module": "@jupyter-widgets/controls",
            "_model_module_version": "1.5.0",
            "_model_name": "DescriptionStyleModel",
            "_view_count": null,
            "_view_module": "@jupyter-widgets/base",
            "_view_module_version": "1.2.0",
            "_view_name": "StyleView",
            "description_width": ""
          }
        },
        "a3aa10a15737457b89722ea1c2a37d7b": {
          "model_module": "@jupyter-widgets/controls",
          "model_module_version": "1.5.0",
          "model_name": "DescriptionStyleModel",
          "state": {
            "_model_module": "@jupyter-widgets/controls",
            "_model_module_version": "1.5.0",
            "_model_name": "DescriptionStyleModel",
            "_view_count": null,
            "_view_module": "@jupyter-widgets/base",
            "_view_module_version": "1.2.0",
            "_view_name": "StyleView",
            "description_width": ""
          }
        },
        "a7fd9267187a416dbdba38c98032278c": {
          "model_module": "@jupyter-widgets/base",
          "model_module_version": "1.2.0",
          "model_name": "LayoutModel",
          "state": {
            "_model_module": "@jupyter-widgets/base",
            "_model_module_version": "1.2.0",
            "_model_name": "LayoutModel",
            "_view_count": null,
            "_view_module": "@jupyter-widgets/base",
            "_view_module_version": "1.2.0",
            "_view_name": "LayoutView",
            "align_content": null,
            "align_items": null,
            "align_self": null,
            "border": null,
            "bottom": null,
            "display": null,
            "flex": null,
            "flex_flow": null,
            "grid_area": null,
            "grid_auto_columns": null,
            "grid_auto_flow": null,
            "grid_auto_rows": null,
            "grid_column": null,
            "grid_gap": null,
            "grid_row": null,
            "grid_template_areas": null,
            "grid_template_columns": null,
            "grid_template_rows": null,
            "height": null,
            "justify_content": null,
            "justify_items": null,
            "left": null,
            "margin": null,
            "max_height": null,
            "max_width": null,
            "min_height": null,
            "min_width": null,
            "object_fit": null,
            "object_position": null,
            "order": null,
            "overflow": null,
            "overflow_x": null,
            "overflow_y": null,
            "padding": null,
            "right": null,
            "top": null,
            "visibility": null,
            "width": null
          }
        },
        "a8cb440529b849d9a53689d7dcabd3f3": {
          "model_module": "@jupyter-widgets/controls",
          "model_module_version": "1.5.0",
          "model_name": "HBoxModel",
          "state": {
            "_dom_classes": [],
            "_model_module": "@jupyter-widgets/controls",
            "_model_module_version": "1.5.0",
            "_model_name": "HBoxModel",
            "_view_count": null,
            "_view_module": "@jupyter-widgets/controls",
            "_view_module_version": "1.5.0",
            "_view_name": "HBoxView",
            "box_style": "",
            "children": [
              "IPY_MODEL_d5aec45a001544dd97ec942495516e75",
              "IPY_MODEL_c8a8395992274bbe8b28b045bba98fc5",
              "IPY_MODEL_51d839ca609b4876842ffcd6053e2a45"
            ],
            "layout": "IPY_MODEL_bfff40e38668457fbdff929060303ef6"
          }
        },
        "a976ce12fb8449fc9c11b7d2b37b9c44": {
          "model_module": "@jupyter-widgets/base",
          "model_module_version": "1.2.0",
          "model_name": "LayoutModel",
          "state": {
            "_model_module": "@jupyter-widgets/base",
            "_model_module_version": "1.2.0",
            "_model_name": "LayoutModel",
            "_view_count": null,
            "_view_module": "@jupyter-widgets/base",
            "_view_module_version": "1.2.0",
            "_view_name": "LayoutView",
            "align_content": null,
            "align_items": null,
            "align_self": null,
            "border": null,
            "bottom": null,
            "display": null,
            "flex": null,
            "flex_flow": null,
            "grid_area": null,
            "grid_auto_columns": null,
            "grid_auto_flow": null,
            "grid_auto_rows": null,
            "grid_column": null,
            "grid_gap": null,
            "grid_row": null,
            "grid_template_areas": null,
            "grid_template_columns": null,
            "grid_template_rows": null,
            "height": null,
            "justify_content": null,
            "justify_items": null,
            "left": null,
            "margin": null,
            "max_height": null,
            "max_width": null,
            "min_height": null,
            "min_width": null,
            "object_fit": null,
            "object_position": null,
            "order": null,
            "overflow": null,
            "overflow_x": null,
            "overflow_y": null,
            "padding": null,
            "right": null,
            "top": null,
            "visibility": null,
            "width": null
          }
        },
        "a9f116b3a19a4417bf5b7fdb17f6cca7": {
          "model_module": "@jupyter-widgets/controls",
          "model_module_version": "1.5.0",
          "model_name": "DescriptionStyleModel",
          "state": {
            "_model_module": "@jupyter-widgets/controls",
            "_model_module_version": "1.5.0",
            "_model_name": "DescriptionStyleModel",
            "_view_count": null,
            "_view_module": "@jupyter-widgets/base",
            "_view_module_version": "1.2.0",
            "_view_name": "StyleView",
            "description_width": ""
          }
        },
        "ab420f5293d54858879715fc254fdecb": {
          "model_module": "@jupyter-widgets/controls",
          "model_module_version": "1.5.0",
          "model_name": "DescriptionStyleModel",
          "state": {
            "_model_module": "@jupyter-widgets/controls",
            "_model_module_version": "1.5.0",
            "_model_name": "DescriptionStyleModel",
            "_view_count": null,
            "_view_module": "@jupyter-widgets/base",
            "_view_module_version": "1.2.0",
            "_view_name": "StyleView",
            "description_width": ""
          }
        },
        "ab8604852e9440088b7457492150af9a": {
          "model_module": "@jupyter-widgets/controls",
          "model_module_version": "1.5.0",
          "model_name": "HTMLModel",
          "state": {
            "_dom_classes": [],
            "_model_module": "@jupyter-widgets/controls",
            "_model_module_version": "1.5.0",
            "_model_name": "HTMLModel",
            "_view_count": null,
            "_view_module": "@jupyter-widgets/controls",
            "_view_module_version": "1.5.0",
            "_view_name": "HTMLView",
            "description": "",
            "description_tooltip": null,
            "layout": "IPY_MODEL_e52868ca1874497f896a90ab37161ddc",
            "placeholder": "​",
            "style": "IPY_MODEL_d4cd39b944e840328ae8492e2e31229e",
            "value": "modules.json: 100%"
          }
        },
        "ad94c0d08c2f4d0cbaec8d48cec76dc3": {
          "model_module": "@jupyter-widgets/controls",
          "model_module_version": "1.5.0",
          "model_name": "DescriptionStyleModel",
          "state": {
            "_model_module": "@jupyter-widgets/controls",
            "_model_module_version": "1.5.0",
            "_model_name": "DescriptionStyleModel",
            "_view_count": null,
            "_view_module": "@jupyter-widgets/base",
            "_view_module_version": "1.2.0",
            "_view_name": "StyleView",
            "description_width": ""
          }
        },
        "ae0bb6ab4f5340a3a38a603ec4e3244f": {
          "model_module": "@jupyter-widgets/controls",
          "model_module_version": "1.5.0",
          "model_name": "FloatProgressModel",
          "state": {
            "_dom_classes": [],
            "_model_module": "@jupyter-widgets/controls",
            "_model_module_version": "1.5.0",
            "_model_name": "FloatProgressModel",
            "_view_count": null,
            "_view_module": "@jupyter-widgets/controls",
            "_view_module_version": "1.5.0",
            "_view_name": "ProgressView",
            "bar_style": "success",
            "description": "",
            "description_tooltip": null,
            "layout": "IPY_MODEL_b13e2cc57924425eb165c579eeb8d291",
            "max": 297,
            "min": 0,
            "orientation": "horizontal",
            "style": "IPY_MODEL_006d56b1a96749449855167d70f824c6",
            "value": 297
          }
        },
        "aee739ab80144513982b56540cac9ac5": {
          "model_module": "@jupyter-widgets/controls",
          "model_module_version": "1.5.0",
          "model_name": "ProgressStyleModel",
          "state": {
            "_model_module": "@jupyter-widgets/controls",
            "_model_module_version": "1.5.0",
            "_model_name": "ProgressStyleModel",
            "_view_count": null,
            "_view_module": "@jupyter-widgets/base",
            "_view_module_version": "1.2.0",
            "_view_name": "StyleView",
            "bar_color": null,
            "description_width": ""
          }
        },
        "aff249b92c5640458ed34e9dad9b687d": {
          "model_module": "@jupyter-widgets/controls",
          "model_module_version": "1.5.0",
          "model_name": "FloatProgressModel",
          "state": {
            "_dom_classes": [],
            "_model_module": "@jupyter-widgets/controls",
            "_model_module_version": "1.5.0",
            "_model_name": "FloatProgressModel",
            "_view_count": null,
            "_view_module": "@jupyter-widgets/controls",
            "_view_module_version": "1.5.0",
            "_view_name": "ProgressView",
            "bar_style": "success",
            "description": "",
            "description_tooltip": null,
            "layout": "IPY_MODEL_2c5d309609404e089741d55245f5f026",
            "max": 711649,
            "min": 0,
            "orientation": "horizontal",
            "style": "IPY_MODEL_2dbaf664b72e48b0adfb30cb4bd3e54e",
            "value": 711649
          }
        },
        "b0520121429e48aeaca07580d39124dd": {
          "model_module": "@jupyter-widgets/controls",
          "model_module_version": "1.5.0",
          "model_name": "HBoxModel",
          "state": {
            "_dom_classes": [],
            "_model_module": "@jupyter-widgets/controls",
            "_model_module_version": "1.5.0",
            "_model_name": "HBoxModel",
            "_view_count": null,
            "_view_module": "@jupyter-widgets/controls",
            "_view_module_version": "1.5.0",
            "_view_name": "HBoxView",
            "box_style": "",
            "children": [
              "IPY_MODEL_c14f637620294f9bbf8d95355383a335",
              "IPY_MODEL_e63df2177fd24ac4a646efaac96ab673",
              "IPY_MODEL_578d24597c4442f797dd34714214f332"
            ],
            "layout": "IPY_MODEL_51a919dfa7b84396b0ced32d0d23b521"
          }
        },
        "b13e2cc57924425eb165c579eeb8d291": {
          "model_module": "@jupyter-widgets/base",
          "model_module_version": "1.2.0",
          "model_name": "LayoutModel",
          "state": {
            "_model_module": "@jupyter-widgets/base",
            "_model_module_version": "1.2.0",
            "_model_name": "LayoutModel",
            "_view_count": null,
            "_view_module": "@jupyter-widgets/base",
            "_view_module_version": "1.2.0",
            "_view_name": "LayoutView",
            "align_content": null,
            "align_items": null,
            "align_self": null,
            "border": null,
            "bottom": null,
            "display": null,
            "flex": null,
            "flex_flow": null,
            "grid_area": null,
            "grid_auto_columns": null,
            "grid_auto_flow": null,
            "grid_auto_rows": null,
            "grid_column": null,
            "grid_gap": null,
            "grid_row": null,
            "grid_template_areas": null,
            "grid_template_columns": null,
            "grid_template_rows": null,
            "height": null,
            "justify_content": null,
            "justify_items": null,
            "left": null,
            "margin": null,
            "max_height": null,
            "max_width": null,
            "min_height": null,
            "min_width": null,
            "object_fit": null,
            "object_position": null,
            "order": null,
            "overflow": null,
            "overflow_x": null,
            "overflow_y": null,
            "padding": null,
            "right": null,
            "top": null,
            "visibility": null,
            "width": null
          }
        },
        "b206ee75dff24667887dcfabea6469bd": {
          "model_module": "@jupyter-widgets/base",
          "model_module_version": "1.2.0",
          "model_name": "LayoutModel",
          "state": {
            "_model_module": "@jupyter-widgets/base",
            "_model_module_version": "1.2.0",
            "_model_name": "LayoutModel",
            "_view_count": null,
            "_view_module": "@jupyter-widgets/base",
            "_view_module_version": "1.2.0",
            "_view_name": "LayoutView",
            "align_content": null,
            "align_items": null,
            "align_self": null,
            "border": null,
            "bottom": null,
            "display": null,
            "flex": null,
            "flex_flow": null,
            "grid_area": null,
            "grid_auto_columns": null,
            "grid_auto_flow": null,
            "grid_auto_rows": null,
            "grid_column": null,
            "grid_gap": null,
            "grid_row": null,
            "grid_template_areas": null,
            "grid_template_columns": null,
            "grid_template_rows": null,
            "height": null,
            "justify_content": null,
            "justify_items": null,
            "left": null,
            "margin": null,
            "max_height": null,
            "max_width": null,
            "min_height": null,
            "min_width": null,
            "object_fit": null,
            "object_position": null,
            "order": null,
            "overflow": null,
            "overflow_x": null,
            "overflow_y": null,
            "padding": null,
            "right": null,
            "top": null,
            "visibility": null,
            "width": null
          }
        },
        "b2ac938227d240449c222f87e51f1805": {
          "model_module": "@jupyter-widgets/controls",
          "model_module_version": "1.5.0",
          "model_name": "DescriptionStyleModel",
          "state": {
            "_model_module": "@jupyter-widgets/controls",
            "_model_module_version": "1.5.0",
            "_model_name": "DescriptionStyleModel",
            "_view_count": null,
            "_view_module": "@jupyter-widgets/base",
            "_view_module_version": "1.2.0",
            "_view_name": "StyleView",
            "description_width": ""
          }
        },
        "b5d30e4c6cbc4bd2aee5fcc4ef4cd15f": {
          "model_module": "@jupyter-widgets/controls",
          "model_module_version": "1.5.0",
          "model_name": "DescriptionStyleModel",
          "state": {
            "_model_module": "@jupyter-widgets/controls",
            "_model_module_version": "1.5.0",
            "_model_name": "DescriptionStyleModel",
            "_view_count": null,
            "_view_module": "@jupyter-widgets/base",
            "_view_module_version": "1.2.0",
            "_view_name": "StyleView",
            "description_width": ""
          }
        },
        "b681c2db822b41f0be2bb59547e4d101": {
          "model_module": "@jupyter-widgets/controls",
          "model_module_version": "1.5.0",
          "model_name": "HBoxModel",
          "state": {
            "_dom_classes": [],
            "_model_module": "@jupyter-widgets/controls",
            "_model_module_version": "1.5.0",
            "_model_name": "HBoxModel",
            "_view_count": null,
            "_view_module": "@jupyter-widgets/controls",
            "_view_module_version": "1.5.0",
            "_view_name": "HBoxView",
            "box_style": "",
            "children": [
              "IPY_MODEL_68a2c0003cf149b1a3e9c4ea92097af5",
              "IPY_MODEL_7230513c65d04ea1b55d7a46e892dfe0",
              "IPY_MODEL_08a08e0df5714e5b9e10d8c64952d2c5"
            ],
            "layout": "IPY_MODEL_3f0d9c53129c4025bed1a2b678c34fff"
          }
        },
        "b6b56f05cd1b4d9ba702e11d908cf248": {
          "model_module": "@jupyter-widgets/controls",
          "model_module_version": "1.5.0",
          "model_name": "HTMLModel",
          "state": {
            "_dom_classes": [],
            "_model_module": "@jupyter-widgets/controls",
            "_model_module_version": "1.5.0",
            "_model_name": "HTMLModel",
            "_view_count": null,
            "_view_module": "@jupyter-widgets/controls",
            "_view_module_version": "1.5.0",
            "_view_name": "HTMLView",
            "description": "",
            "description_tooltip": null,
            "layout": "IPY_MODEL_f6ffc3d2cea94ca1a55c2ca40fd937fc",
            "placeholder": "​",
            "style": "IPY_MODEL_0bb31d66fbf84183a6ed40cf2555557e",
            "value": "README.md: 100%"
          }
        },
        "b6c8590cf5ee44c7a5f0e6fa5d665286": {
          "model_module": "@jupyter-widgets/controls",
          "model_module_version": "1.5.0",
          "model_name": "DescriptionStyleModel",
          "state": {
            "_model_module": "@jupyter-widgets/controls",
            "_model_module_version": "1.5.0",
            "_model_name": "DescriptionStyleModel",
            "_view_count": null,
            "_view_module": "@jupyter-widgets/base",
            "_view_module_version": "1.2.0",
            "_view_name": "StyleView",
            "description_width": ""
          }
        },
        "b9804d7df4df42588840d4cd990d9219": {
          "model_module": "@jupyter-widgets/controls",
          "model_module_version": "1.5.0",
          "model_name": "HBoxModel",
          "state": {
            "_dom_classes": [],
            "_model_module": "@jupyter-widgets/controls",
            "_model_module_version": "1.5.0",
            "_model_name": "HBoxModel",
            "_view_count": null,
            "_view_module": "@jupyter-widgets/controls",
            "_view_module_version": "1.5.0",
            "_view_name": "HBoxView",
            "box_style": "",
            "children": [
              "IPY_MODEL_2006c75912664872bea481ac516c50a0",
              "IPY_MODEL_2c86fe0788144acd9d50c5d7e4b8279a",
              "IPY_MODEL_91fd5ae63fc640689648c1895d4247a7"
            ],
            "layout": "IPY_MODEL_50ba2d0b29224ee0a6b078123fb536bd"
          }
        },
        "b9f47d96a7b545e5ad8d35cf961cb816": {
          "model_module": "@jupyter-widgets/base",
          "model_module_version": "1.2.0",
          "model_name": "LayoutModel",
          "state": {
            "_model_module": "@jupyter-widgets/base",
            "_model_module_version": "1.2.0",
            "_model_name": "LayoutModel",
            "_view_count": null,
            "_view_module": "@jupyter-widgets/base",
            "_view_module_version": "1.2.0",
            "_view_name": "LayoutView",
            "align_content": null,
            "align_items": null,
            "align_self": null,
            "border": null,
            "bottom": null,
            "display": null,
            "flex": null,
            "flex_flow": null,
            "grid_area": null,
            "grid_auto_columns": null,
            "grid_auto_flow": null,
            "grid_auto_rows": null,
            "grid_column": null,
            "grid_gap": null,
            "grid_row": null,
            "grid_template_areas": null,
            "grid_template_columns": null,
            "grid_template_rows": null,
            "height": null,
            "justify_content": null,
            "justify_items": null,
            "left": null,
            "margin": null,
            "max_height": null,
            "max_width": null,
            "min_height": null,
            "min_width": null,
            "object_fit": null,
            "object_position": null,
            "order": null,
            "overflow": null,
            "overflow_x": null,
            "overflow_y": null,
            "padding": null,
            "right": null,
            "top": null,
            "visibility": null,
            "width": null
          }
        },
        "bd66085b455540e18850e87e9d8f4516": {
          "model_module": "@jupyter-widgets/base",
          "model_module_version": "1.2.0",
          "model_name": "LayoutModel",
          "state": {
            "_model_module": "@jupyter-widgets/base",
            "_model_module_version": "1.2.0",
            "_model_name": "LayoutModel",
            "_view_count": null,
            "_view_module": "@jupyter-widgets/base",
            "_view_module_version": "1.2.0",
            "_view_name": "LayoutView",
            "align_content": null,
            "align_items": null,
            "align_self": null,
            "border": null,
            "bottom": null,
            "display": null,
            "flex": null,
            "flex_flow": null,
            "grid_area": null,
            "grid_auto_columns": null,
            "grid_auto_flow": null,
            "grid_auto_rows": null,
            "grid_column": null,
            "grid_gap": null,
            "grid_row": null,
            "grid_template_areas": null,
            "grid_template_columns": null,
            "grid_template_rows": null,
            "height": null,
            "justify_content": null,
            "justify_items": null,
            "left": null,
            "margin": null,
            "max_height": null,
            "max_width": null,
            "min_height": null,
            "min_width": null,
            "object_fit": null,
            "object_position": null,
            "order": null,
            "overflow": null,
            "overflow_x": null,
            "overflow_y": null,
            "padding": null,
            "right": null,
            "top": null,
            "visibility": null,
            "width": null
          }
        },
        "bebbe86dca624982bcf23d67a7e76d5a": {
          "model_module": "@jupyter-widgets/controls",
          "model_module_version": "1.5.0",
          "model_name": "DescriptionStyleModel",
          "state": {
            "_model_module": "@jupyter-widgets/controls",
            "_model_module_version": "1.5.0",
            "_model_name": "DescriptionStyleModel",
            "_view_count": null,
            "_view_module": "@jupyter-widgets/base",
            "_view_module_version": "1.2.0",
            "_view_name": "StyleView",
            "description_width": ""
          }
        },
        "bfff40e38668457fbdff929060303ef6": {
          "model_module": "@jupyter-widgets/base",
          "model_module_version": "1.2.0",
          "model_name": "LayoutModel",
          "state": {
            "_model_module": "@jupyter-widgets/base",
            "_model_module_version": "1.2.0",
            "_model_name": "LayoutModel",
            "_view_count": null,
            "_view_module": "@jupyter-widgets/base",
            "_view_module_version": "1.2.0",
            "_view_name": "LayoutView",
            "align_content": null,
            "align_items": null,
            "align_self": null,
            "border": null,
            "bottom": null,
            "display": null,
            "flex": null,
            "flex_flow": null,
            "grid_area": null,
            "grid_auto_columns": null,
            "grid_auto_flow": null,
            "grid_auto_rows": null,
            "grid_column": null,
            "grid_gap": null,
            "grid_row": null,
            "grid_template_areas": null,
            "grid_template_columns": null,
            "grid_template_rows": null,
            "height": null,
            "justify_content": null,
            "justify_items": null,
            "left": null,
            "margin": null,
            "max_height": null,
            "max_width": null,
            "min_height": null,
            "min_width": null,
            "object_fit": null,
            "object_position": null,
            "order": null,
            "overflow": null,
            "overflow_x": null,
            "overflow_y": null,
            "padding": null,
            "right": null,
            "top": null,
            "visibility": null,
            "width": null
          }
        },
        "c0c31006f9c1493a99680cb463ce5e37": {
          "model_module": "@jupyter-widgets/base",
          "model_module_version": "1.2.0",
          "model_name": "LayoutModel",
          "state": {
            "_model_module": "@jupyter-widgets/base",
            "_model_module_version": "1.2.0",
            "_model_name": "LayoutModel",
            "_view_count": null,
            "_view_module": "@jupyter-widgets/base",
            "_view_module_version": "1.2.0",
            "_view_name": "LayoutView",
            "align_content": null,
            "align_items": null,
            "align_self": null,
            "border": null,
            "bottom": null,
            "display": null,
            "flex": null,
            "flex_flow": null,
            "grid_area": null,
            "grid_auto_columns": null,
            "grid_auto_flow": null,
            "grid_auto_rows": null,
            "grid_column": null,
            "grid_gap": null,
            "grid_row": null,
            "grid_template_areas": null,
            "grid_template_columns": null,
            "grid_template_rows": null,
            "height": null,
            "justify_content": null,
            "justify_items": null,
            "left": null,
            "margin": null,
            "max_height": null,
            "max_width": null,
            "min_height": null,
            "min_width": null,
            "object_fit": null,
            "object_position": null,
            "order": null,
            "overflow": null,
            "overflow_x": null,
            "overflow_y": null,
            "padding": null,
            "right": null,
            "top": null,
            "visibility": null,
            "width": null
          }
        },
        "c14f637620294f9bbf8d95355383a335": {
          "model_module": "@jupyter-widgets/controls",
          "model_module_version": "1.5.0",
          "model_name": "HTMLModel",
          "state": {
            "_dom_classes": [],
            "_model_module": "@jupyter-widgets/controls",
            "_model_module_version": "1.5.0",
            "_model_name": "HTMLModel",
            "_view_count": null,
            "_view_module": "@jupyter-widgets/controls",
            "_view_module_version": "1.5.0",
            "_view_name": "HTMLView",
            "description": "",
            "description_tooltip": null,
            "layout": "IPY_MODEL_608085f09220485d9e888b04dbc92eb4",
            "placeholder": "​",
            "style": "IPY_MODEL_ab420f5293d54858879715fc254fdecb",
            "value": "Computing widget examples:   0%"
          }
        },
        "c347bef028724d30ab0801f33b171cc9": {
          "model_module": "@jupyter-widgets/controls",
          "model_module_version": "1.5.0",
          "model_name": "HTMLModel",
          "state": {
            "_dom_classes": [],
            "_model_module": "@jupyter-widgets/controls",
            "_model_module_version": "1.5.0",
            "_model_name": "HTMLModel",
            "_view_count": null,
            "_view_module": "@jupyter-widgets/controls",
            "_view_module_version": "1.5.0",
            "_view_name": "HTMLView",
            "description": "",
            "description_tooltip": null,
            "layout": "IPY_MODEL_d1727df15b5340dfaa79806685e11320",
            "placeholder": "​",
            "style": "IPY_MODEL_b6c8590cf5ee44c7a5f0e6fa5d665286",
            "value": " 695/695 [00:00&lt;00:00, 82.1kB/s]"
          }
        },
        "c441a033126f4335ac3f2cae51778605": {
          "model_module": "@jupyter-widgets/controls",
          "model_module_version": "1.5.0",
          "model_name": "ProgressStyleModel",
          "state": {
            "_model_module": "@jupyter-widgets/controls",
            "_model_module_version": "1.5.0",
            "_model_name": "ProgressStyleModel",
            "_view_count": null,
            "_view_module": "@jupyter-widgets/base",
            "_view_module_version": "1.2.0",
            "_view_name": "StyleView",
            "bar_color": null,
            "description_width": ""
          }
        },
        "c6de49c4314a42ca845b54612b88da3d": {
          "model_module": "@jupyter-widgets/base",
          "model_module_version": "1.2.0",
          "model_name": "LayoutModel",
          "state": {
            "_model_module": "@jupyter-widgets/base",
            "_model_module_version": "1.2.0",
            "_model_name": "LayoutModel",
            "_view_count": null,
            "_view_module": "@jupyter-widgets/base",
            "_view_module_version": "1.2.0",
            "_view_name": "LayoutView",
            "align_content": null,
            "align_items": null,
            "align_self": null,
            "border": null,
            "bottom": null,
            "display": null,
            "flex": null,
            "flex_flow": null,
            "grid_area": null,
            "grid_auto_columns": null,
            "grid_auto_flow": null,
            "grid_auto_rows": null,
            "grid_column": null,
            "grid_gap": null,
            "grid_row": null,
            "grid_template_areas": null,
            "grid_template_columns": null,
            "grid_template_rows": null,
            "height": null,
            "justify_content": null,
            "justify_items": null,
            "left": null,
            "margin": null,
            "max_height": null,
            "max_width": null,
            "min_height": null,
            "min_width": null,
            "object_fit": null,
            "object_position": null,
            "order": null,
            "overflow": null,
            "overflow_x": null,
            "overflow_y": null,
            "padding": null,
            "right": null,
            "top": null,
            "visibility": null,
            "width": null
          }
        },
        "c842904d222847b4887b30111a3b1061": {
          "model_module": "@jupyter-widgets/controls",
          "model_module_version": "1.5.0",
          "model_name": "DescriptionStyleModel",
          "state": {
            "_model_module": "@jupyter-widgets/controls",
            "_model_module_version": "1.5.0",
            "_model_name": "DescriptionStyleModel",
            "_view_count": null,
            "_view_module": "@jupyter-widgets/base",
            "_view_module_version": "1.2.0",
            "_view_name": "StyleView",
            "description_width": ""
          }
        },
        "c8a8395992274bbe8b28b045bba98fc5": {
          "model_module": "@jupyter-widgets/controls",
          "model_module_version": "1.5.0",
          "model_name": "FloatProgressModel",
          "state": {
            "_dom_classes": [],
            "_model_module": "@jupyter-widgets/controls",
            "_model_module_version": "1.5.0",
            "_model_name": "FloatProgressModel",
            "_view_count": null,
            "_view_module": "@jupyter-widgets/controls",
            "_view_module_version": "1.5.0",
            "_view_name": "ProgressView",
            "bar_style": "success",
            "description": "",
            "description_tooltip": null,
            "layout": "IPY_MODEL_086e0e257da24e8cbc452cb1b73b32f7",
            "max": 144,
            "min": 0,
            "orientation": "horizontal",
            "style": "IPY_MODEL_32ede78b1ed14968a16c4c7c088ee4ca",
            "value": 144
          }
        },
        "ca8337db3e804126a021480c73f0ac62": {
          "model_module": "@jupyter-widgets/controls",
          "model_module_version": "1.5.0",
          "model_name": "HTMLModel",
          "state": {
            "_dom_classes": [],
            "_model_module": "@jupyter-widgets/controls",
            "_model_module_version": "1.5.0",
            "_model_name": "HTMLModel",
            "_view_count": null,
            "_view_module": "@jupyter-widgets/controls",
            "_view_module_version": "1.5.0",
            "_view_name": "HTMLView",
            "description": "",
            "description_tooltip": null,
            "layout": "IPY_MODEL_72d66ac6ac4b489b89c00376855306ef",
            "placeholder": "​",
            "style": "IPY_MODEL_ad94c0d08c2f4d0cbaec8d48cec76dc3",
            "value": " 107/107 [00:00&lt;00:00, 13.5kB/s]"
          }
        },
        "cfb72121062f4c9fa00a33f1866775cb": {
          "model_module": "@jupyter-widgets/controls",
          "model_module_version": "1.5.0",
          "model_name": "DescriptionStyleModel",
          "state": {
            "_model_module": "@jupyter-widgets/controls",
            "_model_module_version": "1.5.0",
            "_model_name": "DescriptionStyleModel",
            "_view_count": null,
            "_view_module": "@jupyter-widgets/base",
            "_view_module_version": "1.2.0",
            "_view_name": "StyleView",
            "description_width": ""
          }
        },
        "d01562a2f6df41efa983542616ea84de": {
          "model_module": "@jupyter-widgets/controls",
          "model_module_version": "1.5.0",
          "model_name": "DescriptionStyleModel",
          "state": {
            "_model_module": "@jupyter-widgets/controls",
            "_model_module_version": "1.5.0",
            "_model_name": "DescriptionStyleModel",
            "_view_count": null,
            "_view_module": "@jupyter-widgets/base",
            "_view_module_version": "1.2.0",
            "_view_name": "StyleView",
            "description_width": ""
          }
        },
        "d01910b86a5f4adbb837547a70a383c9": {
          "model_module": "@jupyter-widgets/controls",
          "model_module_version": "1.5.0",
          "model_name": "HTMLModel",
          "state": {
            "_dom_classes": [],
            "_model_module": "@jupyter-widgets/controls",
            "_model_module_version": "1.5.0",
            "_model_name": "HTMLModel",
            "_view_count": null,
            "_view_module": "@jupyter-widgets/controls",
            "_view_module_version": "1.5.0",
            "_view_name": "HTMLView",
            "description": "",
            "description_tooltip": null,
            "layout": "IPY_MODEL_bd66085b455540e18850e87e9d8f4516",
            "placeholder": "​",
            "style": "IPY_MODEL_8313ed03e795409d942e391d35cfee9a",
            "value": "vocab.txt: 100%"
          }
        },
        "d1727df15b5340dfaa79806685e11320": {
          "model_module": "@jupyter-widgets/base",
          "model_module_version": "1.2.0",
          "model_name": "LayoutModel",
          "state": {
            "_model_module": "@jupyter-widgets/base",
            "_model_module_version": "1.2.0",
            "_model_name": "LayoutModel",
            "_view_count": null,
            "_view_module": "@jupyter-widgets/base",
            "_view_module_version": "1.2.0",
            "_view_name": "LayoutView",
            "align_content": null,
            "align_items": null,
            "align_self": null,
            "border": null,
            "bottom": null,
            "display": null,
            "flex": null,
            "flex_flow": null,
            "grid_area": null,
            "grid_auto_columns": null,
            "grid_auto_flow": null,
            "grid_auto_rows": null,
            "grid_column": null,
            "grid_gap": null,
            "grid_row": null,
            "grid_template_areas": null,
            "grid_template_columns": null,
            "grid_template_rows": null,
            "height": null,
            "justify_content": null,
            "justify_items": null,
            "left": null,
            "margin": null,
            "max_height": null,
            "max_width": null,
            "min_height": null,
            "min_width": null,
            "object_fit": null,
            "object_position": null,
            "order": null,
            "overflow": null,
            "overflow_x": null,
            "overflow_y": null,
            "padding": null,
            "right": null,
            "top": null,
            "visibility": null,
            "width": null
          }
        },
        "d1b5c39b9d8e485e84e1bcdf14b5bb1f": {
          "model_module": "@jupyter-widgets/controls",
          "model_module_version": "1.5.0",
          "model_name": "ProgressStyleModel",
          "state": {
            "_model_module": "@jupyter-widgets/controls",
            "_model_module_version": "1.5.0",
            "_model_name": "ProgressStyleModel",
            "_view_count": null,
            "_view_module": "@jupyter-widgets/base",
            "_view_module_version": "1.2.0",
            "_view_name": "StyleView",
            "bar_color": null,
            "description_width": ""
          }
        },
        "d250f7e67df04e91afcf928e757421c4": {
          "model_module": "@jupyter-widgets/controls",
          "model_module_version": "1.5.0",
          "model_name": "DescriptionStyleModel",
          "state": {
            "_model_module": "@jupyter-widgets/controls",
            "_model_module_version": "1.5.0",
            "_model_name": "DescriptionStyleModel",
            "_view_count": null,
            "_view_module": "@jupyter-widgets/base",
            "_view_module_version": "1.2.0",
            "_view_name": "StyleView",
            "description_width": ""
          }
        },
        "d425b3c575664c678bd3c7d75f49465e": {
          "model_module": "@jupyter-widgets/base",
          "model_module_version": "1.2.0",
          "model_name": "LayoutModel",
          "state": {
            "_model_module": "@jupyter-widgets/base",
            "_model_module_version": "1.2.0",
            "_model_name": "LayoutModel",
            "_view_count": null,
            "_view_module": "@jupyter-widgets/base",
            "_view_module_version": "1.2.0",
            "_view_name": "LayoutView",
            "align_content": null,
            "align_items": null,
            "align_self": null,
            "border": null,
            "bottom": null,
            "display": null,
            "flex": null,
            "flex_flow": null,
            "grid_area": null,
            "grid_auto_columns": null,
            "grid_auto_flow": null,
            "grid_auto_rows": null,
            "grid_column": null,
            "grid_gap": null,
            "grid_row": null,
            "grid_template_areas": null,
            "grid_template_columns": null,
            "grid_template_rows": null,
            "height": null,
            "justify_content": null,
            "justify_items": null,
            "left": null,
            "margin": null,
            "max_height": null,
            "max_width": null,
            "min_height": null,
            "min_width": null,
            "object_fit": null,
            "object_position": null,
            "order": null,
            "overflow": null,
            "overflow_x": null,
            "overflow_y": null,
            "padding": null,
            "right": null,
            "top": null,
            "visibility": null,
            "width": null
          }
        },
        "d45b410889484b0785496efcc8f90739": {
          "model_module": "@jupyter-widgets/controls",
          "model_module_version": "1.5.0",
          "model_name": "HBoxModel",
          "state": {
            "_dom_classes": [],
            "_model_module": "@jupyter-widgets/controls",
            "_model_module_version": "1.5.0",
            "_model_name": "HBoxModel",
            "_view_count": null,
            "_view_module": "@jupyter-widgets/controls",
            "_view_module_version": "1.5.0",
            "_view_name": "HBoxView",
            "box_style": "",
            "children": [
              "IPY_MODEL_2f10414bcf1949d9a50fafb8da532529",
              "IPY_MODEL_567e5efa43e74e258cece73bd011c218",
              "IPY_MODEL_6791d04b6b984e0aa2795830f854fad1"
            ],
            "layout": "IPY_MODEL_c0c31006f9c1493a99680cb463ce5e37"
          }
        },
        "d4cd39b944e840328ae8492e2e31229e": {
          "model_module": "@jupyter-widgets/controls",
          "model_module_version": "1.5.0",
          "model_name": "DescriptionStyleModel",
          "state": {
            "_model_module": "@jupyter-widgets/controls",
            "_model_module_version": "1.5.0",
            "_model_name": "DescriptionStyleModel",
            "_view_count": null,
            "_view_module": "@jupyter-widgets/base",
            "_view_module_version": "1.2.0",
            "_view_name": "StyleView",
            "description_width": ""
          }
        },
        "d557e923111a4eae88856877dacec2c9": {
          "model_module": "@jupyter-widgets/base",
          "model_module_version": "1.2.0",
          "model_name": "LayoutModel",
          "state": {
            "_model_module": "@jupyter-widgets/base",
            "_model_module_version": "1.2.0",
            "_model_name": "LayoutModel",
            "_view_count": null,
            "_view_module": "@jupyter-widgets/base",
            "_view_module_version": "1.2.0",
            "_view_name": "LayoutView",
            "align_content": null,
            "align_items": null,
            "align_self": null,
            "border": null,
            "bottom": null,
            "display": null,
            "flex": null,
            "flex_flow": null,
            "grid_area": null,
            "grid_auto_columns": null,
            "grid_auto_flow": null,
            "grid_auto_rows": null,
            "grid_column": null,
            "grid_gap": null,
            "grid_row": null,
            "grid_template_areas": null,
            "grid_template_columns": null,
            "grid_template_rows": null,
            "height": null,
            "justify_content": null,
            "justify_items": null,
            "left": null,
            "margin": null,
            "max_height": null,
            "max_width": null,
            "min_height": null,
            "min_width": null,
            "object_fit": null,
            "object_position": null,
            "order": null,
            "overflow": null,
            "overflow_x": null,
            "overflow_y": null,
            "padding": null,
            "right": null,
            "top": null,
            "visibility": null,
            "width": null
          }
        },
        "d5aec45a001544dd97ec942495516e75": {
          "model_module": "@jupyter-widgets/controls",
          "model_module_version": "1.5.0",
          "model_name": "HTMLModel",
          "state": {
            "_dom_classes": [],
            "_model_module": "@jupyter-widgets/controls",
            "_model_module_version": "1.5.0",
            "_model_name": "HTMLModel",
            "_view_count": null,
            "_view_module": "@jupyter-widgets/controls",
            "_view_module_version": "1.5.0",
            "_view_name": "HTMLView",
            "description": "",
            "description_tooltip": null,
            "layout": "IPY_MODEL_839fde279490460a8d7e86bd88d29949",
            "placeholder": "​",
            "style": "IPY_MODEL_cfb72121062f4c9fa00a33f1866775cb",
            "value": "Evaluating: 100%"
          }
        },
        "d6477794258a4be8a24b70322aae8e48": {
          "model_module": "@jupyter-widgets/controls",
          "model_module_version": "1.5.0",
          "model_name": "ProgressStyleModel",
          "state": {
            "_model_module": "@jupyter-widgets/controls",
            "_model_module_version": "1.5.0",
            "_model_name": "ProgressStyleModel",
            "_view_count": null,
            "_view_module": "@jupyter-widgets/base",
            "_view_module_version": "1.2.0",
            "_view_name": "StyleView",
            "bar_color": null,
            "description_width": ""
          }
        },
        "dcc9027dfc0c4916b9a372d04c851ec4": {
          "model_module": "@jupyter-widgets/base",
          "model_module_version": "1.2.0",
          "model_name": "LayoutModel",
          "state": {
            "_model_module": "@jupyter-widgets/base",
            "_model_module_version": "1.2.0",
            "_model_name": "LayoutModel",
            "_view_count": null,
            "_view_module": "@jupyter-widgets/base",
            "_view_module_version": "1.2.0",
            "_view_name": "LayoutView",
            "align_content": null,
            "align_items": null,
            "align_self": null,
            "border": null,
            "bottom": null,
            "display": null,
            "flex": null,
            "flex_flow": null,
            "grid_area": null,
            "grid_auto_columns": null,
            "grid_auto_flow": null,
            "grid_auto_rows": null,
            "grid_column": null,
            "grid_gap": null,
            "grid_row": null,
            "grid_template_areas": null,
            "grid_template_columns": null,
            "grid_template_rows": null,
            "height": null,
            "justify_content": null,
            "justify_items": null,
            "left": null,
            "margin": null,
            "max_height": null,
            "max_width": null,
            "min_height": null,
            "min_width": null,
            "object_fit": null,
            "object_position": null,
            "order": null,
            "overflow": null,
            "overflow_x": null,
            "overflow_y": null,
            "padding": null,
            "right": null,
            "top": null,
            "visibility": null,
            "width": null
          }
        },
        "decdf9f6b29547adb9f83ea146156bc2": {
          "model_module": "@jupyter-widgets/controls",
          "model_module_version": "1.5.0",
          "model_name": "HBoxModel",
          "state": {
            "_dom_classes": [],
            "_model_module": "@jupyter-widgets/controls",
            "_model_module_version": "1.5.0",
            "_model_name": "HBoxModel",
            "_view_count": null,
            "_view_module": "@jupyter-widgets/controls",
            "_view_module_version": "1.5.0",
            "_view_name": "HBoxView",
            "box_style": "",
            "children": [
              "IPY_MODEL_3db682bae6864a1bb143050244fd13c3",
              "IPY_MODEL_a0ccd97385af428ba6cf32891d1c2e3c",
              "IPY_MODEL_c347bef028724d30ab0801f33b171cc9"
            ],
            "layout": "IPY_MODEL_4e07cde03abd48028687a33200920fdb"
          }
        },
        "df6d8fb9d4cb406a8626b29442822ded": {
          "model_module": "@jupyter-widgets/controls",
          "model_module_version": "1.5.0",
          "model_name": "DescriptionStyleModel",
          "state": {
            "_model_module": "@jupyter-widgets/controls",
            "_model_module_version": "1.5.0",
            "_model_name": "DescriptionStyleModel",
            "_view_count": null,
            "_view_module": "@jupyter-widgets/base",
            "_view_module_version": "1.2.0",
            "_view_name": "StyleView",
            "description_width": ""
          }
        },
        "e0f49e3043f4417b8e24c7252b7d8e6b": {
          "model_module": "@jupyter-widgets/base",
          "model_module_version": "1.2.0",
          "model_name": "LayoutModel",
          "state": {
            "_model_module": "@jupyter-widgets/base",
            "_model_module_version": "1.2.0",
            "_model_name": "LayoutModel",
            "_view_count": null,
            "_view_module": "@jupyter-widgets/base",
            "_view_module_version": "1.2.0",
            "_view_name": "LayoutView",
            "align_content": null,
            "align_items": null,
            "align_self": null,
            "border": null,
            "bottom": null,
            "display": null,
            "flex": null,
            "flex_flow": null,
            "grid_area": null,
            "grid_auto_columns": null,
            "grid_auto_flow": null,
            "grid_auto_rows": null,
            "grid_column": null,
            "grid_gap": null,
            "grid_row": null,
            "grid_template_areas": null,
            "grid_template_columns": null,
            "grid_template_rows": null,
            "height": null,
            "justify_content": null,
            "justify_items": null,
            "left": null,
            "margin": null,
            "max_height": null,
            "max_width": null,
            "min_height": null,
            "min_width": null,
            "object_fit": null,
            "object_position": null,
            "order": null,
            "overflow": null,
            "overflow_x": null,
            "overflow_y": null,
            "padding": null,
            "right": null,
            "top": null,
            "visibility": null,
            "width": null
          }
        },
        "e243e680ae244624be635a22efa586d5": {
          "model_module": "@jupyter-widgets/controls",
          "model_module_version": "1.5.0",
          "model_name": "DescriptionStyleModel",
          "state": {
            "_model_module": "@jupyter-widgets/controls",
            "_model_module_version": "1.5.0",
            "_model_name": "DescriptionStyleModel",
            "_view_count": null,
            "_view_module": "@jupyter-widgets/base",
            "_view_module_version": "1.2.0",
            "_view_name": "StyleView",
            "description_width": ""
          }
        },
        "e4283e88007a4d6fbf80de0777258f21": {
          "model_module": "@jupyter-widgets/base",
          "model_module_version": "1.2.0",
          "model_name": "LayoutModel",
          "state": {
            "_model_module": "@jupyter-widgets/base",
            "_model_module_version": "1.2.0",
            "_model_name": "LayoutModel",
            "_view_count": null,
            "_view_module": "@jupyter-widgets/base",
            "_view_module_version": "1.2.0",
            "_view_name": "LayoutView",
            "align_content": null,
            "align_items": null,
            "align_self": null,
            "border": null,
            "bottom": null,
            "display": null,
            "flex": null,
            "flex_flow": null,
            "grid_area": null,
            "grid_auto_columns": null,
            "grid_auto_flow": null,
            "grid_auto_rows": null,
            "grid_column": null,
            "grid_gap": null,
            "grid_row": null,
            "grid_template_areas": null,
            "grid_template_columns": null,
            "grid_template_rows": null,
            "height": null,
            "justify_content": null,
            "justify_items": null,
            "left": null,
            "margin": null,
            "max_height": null,
            "max_width": null,
            "min_height": null,
            "min_width": null,
            "object_fit": null,
            "object_position": null,
            "order": null,
            "overflow": null,
            "overflow_x": null,
            "overflow_y": null,
            "padding": null,
            "right": null,
            "top": null,
            "visibility": null,
            "width": null
          }
        },
        "e4f028562f944926971c1c73f9d6b28d": {
          "model_module": "@jupyter-widgets/controls",
          "model_module_version": "1.5.0",
          "model_name": "FloatProgressModel",
          "state": {
            "_dom_classes": [],
            "_model_module": "@jupyter-widgets/controls",
            "_model_module_version": "1.5.0",
            "_model_name": "FloatProgressModel",
            "_view_count": null,
            "_view_module": "@jupyter-widgets/controls",
            "_view_module_version": "1.5.0",
            "_view_name": "ProgressView",
            "bar_style": "success",
            "description": "",
            "description_tooltip": null,
            "layout": "IPY_MODEL_75d8a9af78c34aeeaf8eb0e809c26259",
            "max": 85438,
            "min": 0,
            "orientation": "horizontal",
            "style": "IPY_MODEL_41c960b513f24dffb537ad422b13a7d1",
            "value": 85438
          }
        },
        "e52868ca1874497f896a90ab37161ddc": {
          "model_module": "@jupyter-widgets/base",
          "model_module_version": "1.2.0",
          "model_name": "LayoutModel",
          "state": {
            "_model_module": "@jupyter-widgets/base",
            "_model_module_version": "1.2.0",
            "_model_name": "LayoutModel",
            "_view_count": null,
            "_view_module": "@jupyter-widgets/base",
            "_view_module_version": "1.2.0",
            "_view_name": "LayoutView",
            "align_content": null,
            "align_items": null,
            "align_self": null,
            "border": null,
            "bottom": null,
            "display": null,
            "flex": null,
            "flex_flow": null,
            "grid_area": null,
            "grid_auto_columns": null,
            "grid_auto_flow": null,
            "grid_auto_rows": null,
            "grid_column": null,
            "grid_gap": null,
            "grid_row": null,
            "grid_template_areas": null,
            "grid_template_columns": null,
            "grid_template_rows": null,
            "height": null,
            "justify_content": null,
            "justify_items": null,
            "left": null,
            "margin": null,
            "max_height": null,
            "max_width": null,
            "min_height": null,
            "min_width": null,
            "object_fit": null,
            "object_position": null,
            "order": null,
            "overflow": null,
            "overflow_x": null,
            "overflow_y": null,
            "padding": null,
            "right": null,
            "top": null,
            "visibility": null,
            "width": null
          }
        },
        "e55075bc3a28405ca21b9b9de25d45a7": {
          "model_module": "@jupyter-widgets/controls",
          "model_module_version": "1.5.0",
          "model_name": "ButtonStyleModel",
          "state": {
            "_model_module": "@jupyter-widgets/controls",
            "_model_module_version": "1.5.0",
            "_model_name": "ButtonStyleModel",
            "_view_count": null,
            "_view_module": "@jupyter-widgets/base",
            "_view_module_version": "1.2.0",
            "_view_name": "StyleView",
            "button_color": null,
            "font_weight": ""
          }
        },
        "e63df2177fd24ac4a646efaac96ab673": {
          "model_module": "@jupyter-widgets/controls",
          "model_module_version": "1.5.0",
          "model_name": "FloatProgressModel",
          "state": {
            "_dom_classes": [],
            "_model_module": "@jupyter-widgets/controls",
            "_model_module_version": "1.5.0",
            "_model_name": "FloatProgressModel",
            "_view_count": null,
            "_view_module": "@jupyter-widgets/controls",
            "_view_module_version": "1.5.0",
            "_view_name": "ProgressView",
            "bar_style": "",
            "description": "",
            "description_tooltip": null,
            "layout": "IPY_MODEL_f0d3376693ad4602b5bedfd4bbf46080",
            "max": 1,
            "min": 0,
            "orientation": "horizontal",
            "style": "IPY_MODEL_39d51bb1fd224b2a9000ad488d12dd0c",
            "value": 1
          }
        },
        "e67c9743ff15416ab7f994f09756e5cd": {
          "model_module": "@jupyter-widgets/controls",
          "model_module_version": "1.5.0",
          "model_name": "DescriptionStyleModel",
          "state": {
            "_model_module": "@jupyter-widgets/controls",
            "_model_module_version": "1.5.0",
            "_model_name": "DescriptionStyleModel",
            "_view_count": null,
            "_view_module": "@jupyter-widgets/base",
            "_view_module_version": "1.2.0",
            "_view_name": "StyleView",
            "description_width": ""
          }
        },
        "e81a86ce0b274eaeb57c4a7af58282ef": {
          "model_module": "@jupyter-widgets/controls",
          "model_module_version": "1.5.0",
          "model_name": "HBoxModel",
          "state": {
            "_dom_classes": [],
            "_model_module": "@jupyter-widgets/controls",
            "_model_module_version": "1.5.0",
            "_model_name": "HBoxModel",
            "_view_count": null,
            "_view_module": "@jupyter-widgets/controls",
            "_view_module_version": "1.5.0",
            "_view_name": "HBoxView",
            "box_style": "",
            "children": [
              "IPY_MODEL_4d02ec9e27e8450ab5e3d031be5fa647",
              "IPY_MODEL_ae0bb6ab4f5340a3a38a603ec4e3244f",
              "IPY_MODEL_7f548f3ac892420c8430b776961d8cf7"
            ],
            "layout": "IPY_MODEL_f57da49186394c479c3b88453e62bd36"
          }
        },
        "e949b5c846a34f4e93a0f55ff1e0d7fb": {
          "model_module": "@jupyter-widgets/controls",
          "model_module_version": "1.5.0",
          "model_name": "HBoxModel",
          "state": {
            "_dom_classes": [],
            "_model_module": "@jupyter-widgets/controls",
            "_model_module_version": "1.5.0",
            "_model_name": "HBoxModel",
            "_view_count": null,
            "_view_module": "@jupyter-widgets/controls",
            "_view_module_version": "1.5.0",
            "_view_name": "HBoxView",
            "box_style": "",
            "children": [
              "IPY_MODEL_1c2949775fef423790d4e2c7b54da8c2",
              "IPY_MODEL_18c0ce074e3d48c68d01fad0816582c4",
              "IPY_MODEL_3b69bac5f0154e29bf742f76ff284cfe"
            ],
            "layout": "IPY_MODEL_142ae0dde47d4f398859b2ef1a1385c6"
          }
        },
        "ea26e32d8281491fb863d026e27e0a86": {
          "model_module": "@jupyter-widgets/controls",
          "model_module_version": "1.5.0",
          "model_name": "HTMLModel",
          "state": {
            "_dom_classes": [],
            "_model_module": "@jupyter-widgets/controls",
            "_model_module_version": "1.5.0",
            "_model_name": "HTMLModel",
            "_view_count": null,
            "_view_module": "@jupyter-widgets/controls",
            "_view_module_version": "1.5.0",
            "_view_name": "HTMLView",
            "description": "",
            "description_tooltip": null,
            "layout": "IPY_MODEL_e4283e88007a4d6fbf80de0777258f21",
            "placeholder": "​",
            "style": "IPY_MODEL_8ab177f5aff44c9b9ea1aa28d46d40ce",
            "value": "sentence_bert_config.json: 100%"
          }
        },
        "eaa2f297bb074846948d3cb62ee67842": {
          "model_module": "@jupyter-widgets/base",
          "model_module_version": "1.2.0",
          "model_name": "LayoutModel",
          "state": {
            "_model_module": "@jupyter-widgets/base",
            "_model_module_version": "1.2.0",
            "_model_name": "LayoutModel",
            "_view_count": null,
            "_view_module": "@jupyter-widgets/base",
            "_view_module_version": "1.2.0",
            "_view_name": "LayoutView",
            "align_content": null,
            "align_items": null,
            "align_self": null,
            "border": null,
            "bottom": null,
            "display": null,
            "flex": null,
            "flex_flow": null,
            "grid_area": null,
            "grid_auto_columns": null,
            "grid_auto_flow": null,
            "grid_auto_rows": null,
            "grid_column": null,
            "grid_gap": null,
            "grid_row": null,
            "grid_template_areas": null,
            "grid_template_columns": null,
            "grid_template_rows": null,
            "height": null,
            "justify_content": null,
            "justify_items": null,
            "left": null,
            "margin": null,
            "max_height": null,
            "max_width": null,
            "min_height": null,
            "min_width": null,
            "object_fit": null,
            "object_position": null,
            "order": null,
            "overflow": null,
            "overflow_x": null,
            "overflow_y": null,
            "padding": null,
            "right": null,
            "top": null,
            "visibility": null,
            "width": null
          }
        },
        "eab48a9c4b714e6395ee51fa34694f67": {
          "model_module": "@jupyter-widgets/controls",
          "model_module_version": "1.5.0",
          "model_name": "PasswordModel",
          "state": {
            "_dom_classes": [],
            "_model_module": "@jupyter-widgets/controls",
            "_model_module_version": "1.5.0",
            "_model_name": "PasswordModel",
            "_view_count": null,
            "_view_module": "@jupyter-widgets/controls",
            "_view_module_version": "1.5.0",
            "_view_name": "PasswordView",
            "continuous_update": true,
            "description": "Token:",
            "description_tooltip": null,
            "disabled": false,
            "layout": "IPY_MODEL_b9f47d96a7b545e5ad8d35cf961cb816",
            "placeholder": "​",
            "style": "IPY_MODEL_966f87111485431e81236b7d61718583",
            "value": ""
          }
        },
        "eeb370bc17984dfcac4247f16be1aa4a": {
          "model_module": "@jupyter-widgets/controls",
          "model_module_version": "1.5.0",
          "model_name": "FloatProgressModel",
          "state": {
            "_dom_classes": [],
            "_model_module": "@jupyter-widgets/controls",
            "_model_module_version": "1.5.0",
            "_model_name": "FloatProgressModel",
            "_view_count": null,
            "_view_module": "@jupyter-widgets/controls",
            "_view_module_version": "1.5.0",
            "_view_name": "ProgressView",
            "bar_style": "success",
            "description": "",
            "description_tooltip": null,
            "layout": "IPY_MODEL_120d82331c654470a55632f6f6028e30",
            "max": 349,
            "min": 0,
            "orientation": "horizontal",
            "style": "IPY_MODEL_d6477794258a4be8a24b70322aae8e48",
            "value": 349
          }
        },
        "f0d3376693ad4602b5bedfd4bbf46080": {
          "model_module": "@jupyter-widgets/base",
          "model_module_version": "1.2.0",
          "model_name": "LayoutModel",
          "state": {
            "_model_module": "@jupyter-widgets/base",
            "_model_module_version": "1.2.0",
            "_model_name": "LayoutModel",
            "_view_count": null,
            "_view_module": "@jupyter-widgets/base",
            "_view_module_version": "1.2.0",
            "_view_name": "LayoutView",
            "align_content": null,
            "align_items": null,
            "align_self": null,
            "border": null,
            "bottom": null,
            "display": null,
            "flex": null,
            "flex_flow": null,
            "grid_area": null,
            "grid_auto_columns": null,
            "grid_auto_flow": null,
            "grid_auto_rows": null,
            "grid_column": null,
            "grid_gap": null,
            "grid_row": null,
            "grid_template_areas": null,
            "grid_template_columns": null,
            "grid_template_rows": null,
            "height": null,
            "justify_content": null,
            "justify_items": null,
            "left": null,
            "margin": null,
            "max_height": null,
            "max_width": null,
            "min_height": null,
            "min_width": null,
            "object_fit": null,
            "object_position": null,
            "order": null,
            "overflow": null,
            "overflow_x": null,
            "overflow_y": null,
            "padding": null,
            "right": null,
            "top": null,
            "visibility": null,
            "width": null
          }
        },
        "f1b043dad3504cbca3e452946939682c": {
          "model_module": "@jupyter-widgets/controls",
          "model_module_version": "1.5.0",
          "model_name": "HTMLModel",
          "state": {
            "_dom_classes": [],
            "_model_module": "@jupyter-widgets/controls",
            "_model_module_version": "1.5.0",
            "_model_name": "HTMLModel",
            "_view_count": null,
            "_view_module": "@jupyter-widgets/controls",
            "_view_module_version": "1.5.0",
            "_view_name": "HTMLView",
            "description": "",
            "description_tooltip": null,
            "layout": "IPY_MODEL_a7fd9267187a416dbdba38c98032278c",
            "placeholder": "​",
            "style": "IPY_MODEL_58aad7d383724112ab8f9ca902ac595e",
            "value": " 144/144 [00:56&lt;00:00,  2.25s/it]"
          }
        },
        "f22c70c681a643ed961216ba4de79c6d": {
          "model_module": "@jupyter-widgets/base",
          "model_module_version": "1.2.0",
          "model_name": "LayoutModel",
          "state": {
            "_model_module": "@jupyter-widgets/base",
            "_model_module_version": "1.2.0",
            "_model_name": "LayoutModel",
            "_view_count": null,
            "_view_module": "@jupyter-widgets/base",
            "_view_module_version": "1.2.0",
            "_view_name": "LayoutView",
            "align_content": null,
            "align_items": null,
            "align_self": null,
            "border": null,
            "bottom": null,
            "display": null,
            "flex": null,
            "flex_flow": null,
            "grid_area": null,
            "grid_auto_columns": null,
            "grid_auto_flow": null,
            "grid_auto_rows": null,
            "grid_column": null,
            "grid_gap": null,
            "grid_row": null,
            "grid_template_areas": null,
            "grid_template_columns": null,
            "grid_template_rows": null,
            "height": null,
            "justify_content": null,
            "justify_items": null,
            "left": null,
            "margin": null,
            "max_height": null,
            "max_width": null,
            "min_height": null,
            "min_width": null,
            "object_fit": null,
            "object_position": null,
            "order": null,
            "overflow": null,
            "overflow_x": null,
            "overflow_y": null,
            "padding": null,
            "right": null,
            "top": null,
            "visibility": null,
            "width": null
          }
        },
        "f265fc762be24a74a4e72af0c91bacd0": {
          "model_module": "@jupyter-widgets/controls",
          "model_module_version": "1.5.0",
          "model_name": "ProgressStyleModel",
          "state": {
            "_model_module": "@jupyter-widgets/controls",
            "_model_module_version": "1.5.0",
            "_model_name": "ProgressStyleModel",
            "_view_count": null,
            "_view_module": "@jupyter-widgets/base",
            "_view_module_version": "1.2.0",
            "_view_name": "StyleView",
            "bar_color": null,
            "description_width": ""
          }
        },
        "f2f929b30b8e4a298cdcac1d576f32ee": {
          "model_module": "@jupyter-widgets/base",
          "model_module_version": "1.2.0",
          "model_name": "LayoutModel",
          "state": {
            "_model_module": "@jupyter-widgets/base",
            "_model_module_version": "1.2.0",
            "_model_name": "LayoutModel",
            "_view_count": null,
            "_view_module": "@jupyter-widgets/base",
            "_view_module_version": "1.2.0",
            "_view_name": "LayoutView",
            "align_content": null,
            "align_items": null,
            "align_self": null,
            "border": null,
            "bottom": null,
            "display": null,
            "flex": null,
            "flex_flow": null,
            "grid_area": null,
            "grid_auto_columns": null,
            "grid_auto_flow": null,
            "grid_auto_rows": null,
            "grid_column": null,
            "grid_gap": null,
            "grid_row": null,
            "grid_template_areas": null,
            "grid_template_columns": null,
            "grid_template_rows": null,
            "height": null,
            "justify_content": null,
            "justify_items": null,
            "left": null,
            "margin": null,
            "max_height": null,
            "max_width": null,
            "min_height": null,
            "min_width": null,
            "object_fit": null,
            "object_position": null,
            "order": null,
            "overflow": null,
            "overflow_x": null,
            "overflow_y": null,
            "padding": null,
            "right": null,
            "top": null,
            "visibility": null,
            "width": null
          }
        },
        "f57da49186394c479c3b88453e62bd36": {
          "model_module": "@jupyter-widgets/base",
          "model_module_version": "1.2.0",
          "model_name": "LayoutModel",
          "state": {
            "_model_module": "@jupyter-widgets/base",
            "_model_module_version": "1.2.0",
            "_model_name": "LayoutModel",
            "_view_count": null,
            "_view_module": "@jupyter-widgets/base",
            "_view_module_version": "1.2.0",
            "_view_name": "LayoutView",
            "align_content": null,
            "align_items": null,
            "align_self": null,
            "border": null,
            "bottom": null,
            "display": null,
            "flex": null,
            "flex_flow": null,
            "grid_area": null,
            "grid_auto_columns": null,
            "grid_auto_flow": null,
            "grid_auto_rows": null,
            "grid_column": null,
            "grid_gap": null,
            "grid_row": null,
            "grid_template_areas": null,
            "grid_template_columns": null,
            "grid_template_rows": null,
            "height": null,
            "justify_content": null,
            "justify_items": null,
            "left": null,
            "margin": null,
            "max_height": null,
            "max_width": null,
            "min_height": null,
            "min_width": null,
            "object_fit": null,
            "object_position": null,
            "order": null,
            "overflow": null,
            "overflow_x": null,
            "overflow_y": null,
            "padding": null,
            "right": null,
            "top": null,
            "visibility": null,
            "width": null
          }
        },
        "f6ffc3d2cea94ca1a55c2ca40fd937fc": {
          "model_module": "@jupyter-widgets/base",
          "model_module_version": "1.2.0",
          "model_name": "LayoutModel",
          "state": {
            "_model_module": "@jupyter-widgets/base",
            "_model_module_version": "1.2.0",
            "_model_name": "LayoutModel",
            "_view_count": null,
            "_view_module": "@jupyter-widgets/base",
            "_view_module_version": "1.2.0",
            "_view_name": "LayoutView",
            "align_content": null,
            "align_items": null,
            "align_self": null,
            "border": null,
            "bottom": null,
            "display": null,
            "flex": null,
            "flex_flow": null,
            "grid_area": null,
            "grid_auto_columns": null,
            "grid_auto_flow": null,
            "grid_auto_rows": null,
            "grid_column": null,
            "grid_gap": null,
            "grid_row": null,
            "grid_template_areas": null,
            "grid_template_columns": null,
            "grid_template_rows": null,
            "height": null,
            "justify_content": null,
            "justify_items": null,
            "left": null,
            "margin": null,
            "max_height": null,
            "max_width": null,
            "min_height": null,
            "min_width": null,
            "object_fit": null,
            "object_position": null,
            "order": null,
            "overflow": null,
            "overflow_x": null,
            "overflow_y": null,
            "padding": null,
            "right": null,
            "top": null,
            "visibility": null,
            "width": null
          }
        },
        "fb08f4adcd7f4858a0e48d06010d0417": {
          "model_module": "@jupyter-widgets/controls",
          "model_module_version": "1.5.0",
          "model_name": "DescriptionStyleModel",
          "state": {
            "_model_module": "@jupyter-widgets/controls",
            "_model_module_version": "1.5.0",
            "_model_name": "DescriptionStyleModel",
            "_view_count": null,
            "_view_module": "@jupyter-widgets/base",
            "_view_module_version": "1.2.0",
            "_view_name": "StyleView",
            "description_width": ""
          }
        }
      }
    }
  },
  "nbformat": 4,
  "nbformat_minor": 0
}
